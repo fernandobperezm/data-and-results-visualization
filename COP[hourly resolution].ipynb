{
 "cells": [
  {
   "cell_type": "code",
   "execution_count": null,
   "metadata": {},
   "outputs": [],
   "source": [
    "import numpy as np\n",
    "import pandas as pd\n",
    "import seaborn as sns\n",
    "import matplotlib.pyplot as plt\n",
    "import os\n",
    "\n",
    "from math import cos, sin, exp, sqrt, pi, e\n",
    "from datetime import datetime\n",
    "from pandas import DataFrame\n",
    "\n",
    "mypalette = sns.color_palette(['#162f4d']) # https://www.hsluv.org/\n",
    "sns.set_palette(mypalette)"
   ]
  },
  {
   "cell_type": "markdown",
   "metadata": {},
   "source": [
    "## Read the dataset"
   ]
  },
  {
   "cell_type": "code",
   "execution_count": null,
   "metadata": {},
   "outputs": [],
   "source": [
    "Tamb_input_path = os.path.join(\".\", \"data\", \"Ospitaletto\", \"processed\", \"Tamb_input.xls\")\n",
    "Tamb_hourly_path = os.path.join(\".\", \"data\", \"Ospitaletto\", \"processed\", \"Tamb_hourly.xls\")"
   ]
  },
  {
   "cell_type": "code",
   "execution_count": null,
   "metadata": {},
   "outputs": [],
   "source": [
    "temp=pd.read_excel(Tamb_input_path ,squeeze=True)\n",
    "Treal=pd.read_excel(Tamb_hourly_path, squeeze=True)\n",
    "\n",
    "Tamb_fit=pd.Series(temp)\n",
    "Tamb=pd.Series(Treal)\n",
    "\n",
    "Tamb.plot()\n",
    "Tamb_fit.plot(color='red')\n",
    "print('Tamb_min:',Tamb_fit.min(),'Tamb_max',Tamb_fit.max())\n"
   ]
  },
  {
   "cell_type": "code",
   "execution_count": null,
   "metadata": {},
   "outputs": [],
   "source": [
    "date_rng = pd.date_range(start='1/1/2019 00:00:00', end='31/12/2019 00:00:00', freq='H')\n",
    "df = pd.DataFrame(date_rng, columns=['date'])\n",
    "\n",
    "df['Tamb_fit'] = Tamb_fit\n",
    "df['Tamb'] = Tamb\n",
    "\n",
    "\n",
    "df.head(12)\n",
    "#df[df.index.month==12]\n",
    "\n"
   ]
  },
  {
   "cell_type": "markdown",
   "metadata": {},
   "source": [
    "# Data manipulation-processing"
   ]
  },
  {
   "cell_type": "code",
   "execution_count": null,
   "metadata": {},
   "outputs": [],
   "source": [
    "Tamb_hourly=pd.DataFrame(df, columns = ['date','Tamb','Tamb_fit']) #Ambient temperature on an hourly resolutionT\n"
   ]
  },
  {
   "cell_type": "code",
   "execution_count": null,
   "metadata": {},
   "outputs": [],
   "source": [
    "Tamb_hourly['date'] =pd.to_datetime(Tamb_hourly['date'], infer_datetime_format=True) #Estoy asociando el index de tiempo a la columna Data-Ora\n",
    "Tamb_hourly=Tamb_hourly.set_index('date')"
   ]
  },
  {
   "cell_type": "code",
   "execution_count": null,
   "metadata": {},
   "outputs": [],
   "source": [
    "Tamb_hourly.head()"
   ]
  },
  {
   "cell_type": "code",
   "execution_count": null,
   "metadata": {},
   "outputs": [],
   "source": [
    "Tamb_hourly.info()"
   ]
  },
  {
   "cell_type": "code",
   "execution_count": null,
   "metadata": {},
   "outputs": [],
   "source": [
    "Tamb_hourly.index"
   ]
  },
  {
   "cell_type": "code",
   "execution_count": null,
   "metadata": {},
   "outputs": [],
   "source": [
    "# Tamb_hourly.reset_index(inplace=True)"
   ]
  },
  {
   "cell_type": "code",
   "execution_count": null,
   "metadata": {},
   "outputs": [],
   "source": [
    "Tamb_hourly['Month'] = Tamb_hourly.index.month\n"
   ]
  },
  {
   "cell_type": "code",
   "execution_count": null,
   "metadata": {},
   "outputs": [],
   "source": [
    "Tamb_hourly"
   ]
  },
  {
   "cell_type": "code",
   "execution_count": null,
   "metadata": {},
   "outputs": [],
   "source": [
    "Tmin_i = float(input(\"Enter min setpoint temperature: \"))\n",
    "Tmax_i = float(input(\"Enter max setpoint temperature: \"))"
   ]
  },
  {
   "cell_type": "code",
   "execution_count": null,
   "metadata": {},
   "outputs": [],
   "source": [
    "def climatic_curve(Tamb_h):\n",
    "    Tmin_o = 2.38 #minimum outdoor T threshold in which the space heating system turns on\n",
    "    Tmax_o = 7.25 #maximum outdoor T threshold in which the space heating system turns off\n",
    "\n",
    "    if Tamb_h <= Tmin_o:   \n",
    "        Tsh = Tmax_i\n",
    "    elif Tamb_h >= Tmax_o:\n",
    "        Tsh = Tmin_i\n",
    "    else:\n",
    "        m = (Tmax_i-Tmin_i)/(Tmin_o-Tmax_o)\n",
    "        b = -m*Tmin_o+Tmax_i\n",
    "        Tsh = m*Tamb_h+b\n",
    "    return Tsh\n",
    " "
   ]
  },
  {
   "cell_type": "code",
   "execution_count": null,
   "metadata": {},
   "outputs": [],
   "source": [
    "Tamb_hourly['Tsh'] = Tamb_hourly['Tamb'].apply(climatic_curve)\n",
    "#Tamb_hourly['Tsh'] = Tamb['Temp'].apply(lambda x: climatic_curve(x))\n",
    "Tamb_hourly"
   ]
  },
  {
   "cell_type": "code",
   "execution_count": null,
   "metadata": {
    "scrolled": true
   },
   "outputs": [],
   "source": [
    "Tdhw = float(input(\"Enter domestic hot water temperature: \"))\n",
    "\n",
    "Tamb_hourly[\"Tdhw\"] = Tdhw\n",
    "Tamb_hourly"
   ]
  },
  {
   "cell_type": "code",
   "execution_count": null,
   "metadata": {},
   "outputs": [],
   "source": [
    "Tamb_hourly.head(12)\n"
   ]
  },
  {
   "cell_type": "code",
   "execution_count": null,
   "metadata": {},
   "outputs": [],
   "source": [
    "november_data = Tamb_hourly[Tamb_hourly.index.month == 11 ]\n",
    "november_data[[\"Tsh\",\"Tdhw\"]].plot(figsize=(10,6), color=[\"#4e97a2\",'#82272e'])\n",
    "\n",
    "plt.legend(loc='center left', bbox_to_anchor=(1.0, 0.5))"
   ]
  },
  {
   "cell_type": "code",
   "execution_count": null,
   "metadata": {},
   "outputs": [],
   "source": [
    "Tamb_hourly[[\"Tsh\",\"Tdhw\"]].dtypes"
   ]
  },
  {
   "cell_type": "code",
   "execution_count": null,
   "metadata": {},
   "outputs": [],
   "source": [
    "def Tuser(col):\n",
    "    Tsh=col[\"Tsh\"]\n",
    "    Tdhw=col[\"Tdhw\"]\n",
    "    fecha=col.name\n",
    "    #Las proporciones dependen de la localización\n",
    "    if fecha.month==1:\n",
    "        resultado= 0.98*Tsh+0.02*Tdhw\n",
    "       \n",
    "    elif fecha.month==2:\n",
    "        resultado=0.96*Tsh+0.04*Tdhw\n",
    "    \n",
    "    elif fecha.month==3:\n",
    "        resultado=0.94*Tsh+0.06*Tdhw\n",
    "    \n",
    "    elif fecha.month==4:\n",
    "        resultado=0.90*Tsh+0.1*Tdhw\n",
    "    \n",
    "    elif fecha.month==5:\n",
    "        resultado=0.75*Tsh+0.25*Tdhw\n",
    "    \n",
    "    elif fecha.month==6:\n",
    "        resultado=0.25*Tsh+0.75*Tdhw\n",
    "    \n",
    "    elif fecha.month==7:\n",
    "        resultado=0*Tsh+1.0*Tdhw\n",
    "    \n",
    "    elif fecha.month==8:\n",
    "        resultado=0*Tsh+1.0*Tdhw\n",
    "    \n",
    "    elif fecha.month==9:\n",
    "        resultado=0.1*Tsh+0.9*Tdhw\n",
    "    \n",
    "    elif fecha.month==10:\n",
    "        resultado=0.80*Tsh+0.2*Tdhw\n",
    "    \n",
    "    elif fecha.month==11:\n",
    "        resultado=0.95*Tsh+0.05*Tdhw\n",
    "    \n",
    "    elif fecha.month==12:\n",
    "        resultado=0.97*Tsh+0.03*Tdhw\n",
    "        \n",
    "    return resultado"
   ]
  },
  {
   "cell_type": "code",
   "execution_count": null,
   "metadata": {},
   "outputs": [],
   "source": [
    "Tamb_hourly[\"Tuser\"] = Tamb_hourly.apply(lambda x: Tuser(x), axis=1)"
   ]
  },
  {
   "cell_type": "code",
   "execution_count": null,
   "metadata": {},
   "outputs": [],
   "source": [
    "Tamb_hourly[\"Tuser\"].plot(figsize=(10,6))"
   ]
  },
  {
   "cell_type": "code",
   "execution_count": null,
   "metadata": {},
   "outputs": [],
   "source": [
    "november_data = Tamb_hourly[Tamb_hourly.index.month == 11 ]\n",
    "november_data[\"Tuser\"].plot(figsize=(10,6))"
   ]
  },
  {
   "cell_type": "markdown",
   "metadata": {},
   "source": [
    "# Network temperature "
   ]
  },
  {
   "cell_type": "code",
   "execution_count": null,
   "metadata": {},
   "outputs": [],
   "source": [
    "zz=1               #Depth [m]\n",
    "alpha=0.06048      #Ground thermal diffusivity, Banks [m^2/day]\n",
    "alpha_sec=7e-7 #Ground thermal diffusivity, Banks [m^2/s]\n",
    "t_sec=365*24*3600\n",
    "d_shift_max = Tamb_hourly['Tamb_fit'].idxmax(axis=0)\n",
    "dd_max=(Tamb_hourly.index.get_loc(d_shift_max))/24\n",
    "\n",
    "Tg_und = Tamb.mean() #T_ave_fit #Undisturbed ground temperature\n",
    "DT_y= 11.23 #abs(DT_y_fit)\n",
    "\n"
   ]
  },
  {
   "cell_type": "code",
   "execution_count": null,
   "metadata": {},
   "outputs": [],
   "source": [
    "def ground_temperature_hour(t,zz):\n",
    "    #t is time in hours, but the calculation is done is seconds\n",
    "    T_banks= Tg_und+DT_y*exp(-zz*sqrt(pi/(alpha_sec*t_sec)))*cos(2*pi/t_sec*(t-dd_max*24)*3600-zz*sqrt(pi/(alpha_sec*t_sec)))\n",
    "    \n",
    "    return pd.Series(T_banks)"
   ]
  },
  {
   "cell_type": "code",
   "execution_count": null,
   "metadata": {},
   "outputs": [],
   "source": [
    "Tamb_hourly = Tamb_hourly.reset_index(drop=False)\n",
    "Tamb_hourly"
   ]
  },
  {
   "cell_type": "code",
   "execution_count": null,
   "metadata": {},
   "outputs": [],
   "source": [
    "Tamb_hourly.index"
   ]
  },
  {
   "cell_type": "code",
   "execution_count": null,
   "metadata": {},
   "outputs": [],
   "source": [
    "Tamb_hourly[\"Tground\"] = Tamb_hourly.apply(lambda fila: ground_temperature_hour(fila.name + 1,1), axis=1) # x + 1 because it starts on 0.\n",
    "Tamb_hourly"
   ]
  },
  {
   "cell_type": "code",
   "execution_count": null,
   "metadata": {},
   "outputs": [],
   "source": [
    "Tamb_hourly[[\"Tground\"]].plot()"
   ]
  },
  {
   "cell_type": "code",
   "execution_count": null,
   "metadata": {},
   "outputs": [],
   "source": [
    "depth_aquifer= float(input(\"\"\"Aquifer temperature depth:\n",
    "\"\"\"))"
   ]
  },
  {
   "cell_type": "code",
   "execution_count": null,
   "metadata": {},
   "outputs": [],
   "source": [
    "# fila.name because that's the index (numeric range from 0 to 8737)\n",
    "# fila.name + 1 because the range starts in 0 and the function assumes it begins with 1.\n",
    "Tamb_hourly[\"Taq\"] = Tamb_hourly.apply(lambda fila: ground_temperature_hour(fila.name + 1, depth_aquifer), axis=1)\n",
    "Tamb_hourly"
   ]
  },
  {
   "cell_type": "code",
   "execution_count": null,
   "metadata": {},
   "outputs": [],
   "source": [
    "Tamb_hourly[[\"Taq\"]].plot()"
   ]
  },
  {
   "cell_type": "code",
   "execution_count": null,
   "metadata": {},
   "outputs": [],
   "source": [
    "Tamb_hourly[[\"Taq\", \"Tground\"]].plot()"
   ]
  },
  {
   "cell_type": "code",
   "execution_count": null,
   "metadata": {},
   "outputs": [],
   "source": [
    "Tamb_hourly = Tamb_hourly.set_index(\"date\")\n",
    "Tamb_hourly"
   ]
  },
  {
   "cell_type": "markdown",
   "metadata": {
    "pycharm": {
     "name": "#%% md\n"
    }
   },
   "source": [
    "## Load Sources working hours\n",
    "\n",
    "The file must be a boolean matrix $W$ of $24 x 7$. The rows represent the hours in a day, and the columns represent the days in the week. For all $i \\in \\{0,...,23\\}$ and $j \\in \\{0,..., 6\\}$ we have that $w_{i,j} \\in \\{0, 1\\}$, where $w_{i,j} = 0$ means that the source doesn't produce energy at that hour $i$ on that day $j$. Similarly, $w_{i,j} = 1$ means that the source produces energy at that hour $i$ on that day $j$."
   ]
  },
  {
   "cell_type": "code",
   "execution_count": null,
   "metadata": {},
   "outputs": [],
   "source": [
    "s1_schedule_path = os.path.join(\".\", \"data\", \"private\", \"s1_source_fake_schedule.xlsx\")\n",
    "s1_schedule_path"
   ]
  },
  {
   "cell_type": "code",
   "execution_count": null,
   "metadata": {},
   "outputs": [],
   "source": [
    "s2_schedule_path = os.path.join(\".\", \"data\", \"private\", \"s2_source_fake_schedule.xlsx\")\n",
    "s2_schedule_path"
   ]
  },
  {
   "cell_type": "code",
   "execution_count": null,
   "metadata": {},
   "outputs": [],
   "source": [
    "# Time repr\n",
    "s1_schedule = pd.read_excel(s1_schedule_path, index_col=\"Time\")\n",
    "s1_schedule"
   ]
  },
  {
   "cell_type": "code",
   "execution_count": null,
   "metadata": {},
   "outputs": [],
   "source": [
    "s1_schedule = s1_schedule.to_numpy()\n",
    "s1_schedule"
   ]
  },
  {
   "cell_type": "code",
   "execution_count": null,
   "metadata": {},
   "outputs": [],
   "source": [
    "# Tuesdays are closed at 6 but open are 7\n",
    "s1_schedule[6,1], s1_schedule[7,1]"
   ]
  },
  {
   "cell_type": "code",
   "execution_count": null,
   "metadata": {},
   "outputs": [],
   "source": [
    "# Time repr\n",
    "s2_schedule = pd.read_excel(s2_schedule_path, index_col=\"Time\")\n",
    "s2_schedule"
   ]
  },
  {
   "cell_type": "code",
   "execution_count": null,
   "metadata": {},
   "outputs": [],
   "source": [
    "s2_schedule = s2_schedule.to_numpy()\n",
    "s2_schedule"
   ]
  },
  {
   "cell_type": "code",
   "execution_count": null,
   "metadata": {},
   "outputs": [],
   "source": [
    "# Tuesdays are open at 16 but closed are 17\n",
    "s2_schedule[15,1], s2_schedule[16,1]"
   ]
  },
  {
   "cell_type": "code",
   "execution_count": null,
   "metadata": {},
   "outputs": [],
   "source": [
    "Tamb_hourly"
   ]
  },
  {
   "cell_type": "markdown",
   "metadata": {},
   "source": [
    "## Calculate Sources Temperature based on Working Hours"
   ]
  },
  {
   "cell_type": "code",
   "execution_count": null,
   "metadata": {
    "pycharm": {
     "name": "#%%\n"
    }
   },
   "outputs": [],
   "source": [
    "def get_temp_by_working_hours(temp_src, datetime, schedule):\n",
    "    day_of_week = datetime.dayofweek\n",
    "    hour_of_day = datetime.hour\n",
    "    return temp_src * (schedule[hour_of_day, day_of_week])"
   ]
  },
  {
   "cell_type": "code",
   "execution_count": null,
   "metadata": {
    "scrolled": true
   },
   "outputs": [],
   "source": [
    "Ts1 = float(input(\"\"\"Temperature of source 1: \n",
    "\"\"\"))\n",
    "\n",
    "Ts2 = float(input(\"\"\"Temperature of source 2: \n",
    "\"\"\"))\n"
   ]
  },
  {
   "cell_type": "code",
   "execution_count": null,
   "metadata": {},
   "outputs": [],
   "source": [
    "Ts1 = Tamb_hourly.apply(lambda fila: get_temp_by_working_hours(Ts1, fila.name, s1_schedule), axis=1)\n",
    "Ts1.head(50)"
   ]
  },
  {
   "cell_type": "code",
   "execution_count": null,
   "metadata": {},
   "outputs": [],
   "source": [
    "Ts2 = Tamb_hourly.apply(lambda fila: get_temp_by_working_hours(Ts2, fila.name, s2_schedule), axis=1)\n",
    "Ts2.head(50)"
   ]
  },
  {
   "cell_type": "code",
   "execution_count": null,
   "metadata": {
    "collapsed": false,
    "jupyter": {
     "outputs_hidden": false
    },
    "pycharm": {
     "name": "#%%\n"
    }
   },
   "outputs": [],
   "source": [
    "Tamb_hourly[\"Ts1\"] = Ts1\n",
    "Tamb_hourly[\"Ts2\"] = Ts2\n",
    "\n",
    "Tamb_hourly"
   ]
  },
  {
   "cell_type": "code",
   "execution_count": null,
   "metadata": {
    "collapsed": false,
    "jupyter": {
     "outputs_hidden": false
    },
    "pycharm": {
     "name": "#%%\n"
    }
   },
   "outputs": [],
   "source": [
    "def calculate_tnet(temp_s1, temp_s2, temp_aq):\n",
    "    if temp_s1 == 0.0 and temp_s2 == 0.0:\n",
    "        return temp_aq\n",
    "    elif temp_s1 == 0.0:\n",
    "        return temp_s2\n",
    "    elif temp_s2 == 0.0:\n",
    "        return temp_s1\n",
    "    else:\n",
    "        return np.mean([temp_s1, temp_s2])"
   ]
  },
  {
   "cell_type": "code",
   "execution_count": null,
   "metadata": {
    "collapsed": false,
    "jupyter": {
     "outputs_hidden": false
    },
    "pycharm": {
     "name": "#%%\n"
    }
   },
   "outputs": [],
   "source": [
    "Tamb_hourly[\"Tnet\"] = Tamb_hourly.apply(lambda fila: calculate_tnet(fila[\"Ts1\"], fila[\"Ts2\"], fila[\"Taq\"]), axis=1)\n",
    "Tamb_hourly.head(50)"
   ]
  },
  {
   "cell_type": "markdown",
   "metadata": {},
   "source": [
    "# Coefficient of performance (COP)"
   ]
  },
  {
   "cell_type": "code",
   "execution_count": null,
   "metadata": {},
   "outputs": [],
   "source": [
    "DT_evap =float(input(\"\"\"Temperature difference among the supply and return pipes: \n",
    "#\"\"\"))\n",
    "\n",
    "DT_hx=2.5\n",
    "n_HP = 0.53\n",
    "Te_o =Tamb_hourly['Tnet']-DT_evap-DT_hx\n",
    "Tc_o =Tamb_hourly['Tuser']\n",
    "\n",
    "Tamb_hourly['COP']= 1-n_HP+n_HP*(Tc_o+273.15)/(Tc_o+DT_hx-Te_o)"
   ]
  },
  {
   "cell_type": "code",
   "execution_count": null,
   "metadata": {},
   "outputs": [],
   "source": [
    "Tamb_hourly[['COP']].plot(figsize=(10,6))\n",
    "#Tc_o.plot()"
   ]
  },
  {
   "cell_type": "code",
   "execution_count": null,
   "metadata": {},
   "outputs": [],
   "source": []
  }
 ],
 "metadata": {
  "kernelspec": {
   "display_name": "Python 3",
   "language": "python",
   "name": "python3"
  },
  "language_info": {
   "codemirror_mode": {
    "name": "ipython",
    "version": 3
   },
   "file_extension": ".py",
   "mimetype": "text/x-python",
   "name": "python",
   "nbconvert_exporter": "python",
   "pygments_lexer": "ipython3",
   "version": "3.8.1"
  }
 },
 "nbformat": 4,
 "nbformat_minor": 4
}
