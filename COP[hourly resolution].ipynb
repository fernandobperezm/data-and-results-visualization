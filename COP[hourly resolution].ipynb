{
 "cells": [
  {
   "cell_type": "code",
   "execution_count": 383,
   "metadata": {},
   "outputs": [],
   "source": [
    "import json\n",
    "import numpy as np\n",
    "import pandas as pd\n",
    "import os\n",
    "\n",
    "from math import cos, sin, exp, sqrt, pi, e\n",
    "\n",
    "from src.OspitalettoDataset import OspitalettoDataset\n",
    "from src.NOAA2010Dataset import NOAA2010Dataset\n",
    "from src.InsPireDataset import InsPireDataset"
   ]
  },
  {
   "cell_type": "markdown",
   "metadata": {},
   "source": [
    "## Constants to be used across the notebook"
   ]
  },
  {
   "cell_type": "code",
   "execution_count": 384,
   "metadata": {},
   "outputs": [
    {
     "data": {
      "text/plain": [
       "{'DT_evap': 8.0,\n",
       " 'Tdhw': 55.0,\n",
       " 'Tmax_i': 60.0,\n",
       " 'Tmin_i': 45.0,\n",
       " 'Ts1': 23.0,\n",
       " 'Ts2': 29.0,\n",
       " 'cap_source1': 20,\n",
       " 'cap_source2': 20,\n",
       " 'depth_aquifer': 30.0,\n",
       " 'n_buildings_MFH': 1600.0,\n",
       " 'n_buildings_SFH': 0.0,\n",
       " 's1_schedule': [[0, 0, 1, 1, 1, 1, 0],\n",
       "  [0, 0, 1, 1, 1, 1, 0],\n",
       "  [0, 0, 1, 1, 1, 1, 0],\n",
       "  [0, 0, 1, 1, 1, 1, 0],\n",
       "  [0, 0, 1, 1, 1, 1, 0],\n",
       "  [0, 0, 1, 1, 1, 1, 0],\n",
       "  [0, 0, 1, 1, 1, 1, 0],\n",
       "  [0, 1, 1, 1, 1, 1, 0],\n",
       "  [0, 1, 1, 1, 1, 1, 0],\n",
       "  [0, 1, 1, 1, 1, 1, 0],\n",
       "  [0, 1, 1, 1, 1, 1, 0],\n",
       "  [0, 1, 1, 1, 1, 1, 0],\n",
       "  [0, 1, 1, 1, 1, 1, 0],\n",
       "  [0, 1, 1, 1, 1, 1, 0],\n",
       "  [0, 1, 1, 1, 1, 1, 0],\n",
       "  [0, 1, 1, 1, 1, 1, 0],\n",
       "  [0, 1, 1, 1, 1, 0, 0],\n",
       "  [0, 1, 1, 1, 1, 0, 0],\n",
       "  [0, 1, 1, 1, 1, 0, 0],\n",
       "  [0, 1, 1, 1, 1, 0, 0],\n",
       "  [0, 1, 1, 1, 1, 0, 0],\n",
       "  [0, 1, 1, 1, 1, 0, 0],\n",
       "  [0, 1, 1, 1, 1, 0, 0],\n",
       "  [0, 1, 1, 1, 1, 0, 0]],\n",
       " 's2_schedule': [[1, 1, 0, 0, 1, 1, 0],\n",
       "  [1, 1, 0, 0, 1, 1, 0],\n",
       "  [1, 1, 0, 0, 1, 1, 0],\n",
       "  [1, 1, 0, 0, 1, 1, 0],\n",
       "  [1, 1, 0, 0, 1, 1, 0],\n",
       "  [1, 1, 0, 0, 1, 1, 0],\n",
       "  [1, 1, 0, 0, 1, 1, 0],\n",
       "  [1, 1, 0, 1, 1, 1, 0],\n",
       "  [1, 1, 0, 1, 1, 1, 0],\n",
       "  [1, 1, 0, 1, 1, 1, 0],\n",
       "  [1, 1, 0, 1, 1, 1, 0],\n",
       "  [1, 1, 0, 1, 1, 1, 0],\n",
       "  [1, 1, 0, 1, 1, 1, 0],\n",
       "  [1, 1, 0, 1, 1, 1, 0],\n",
       "  [1, 1, 0, 1, 1, 1, 0],\n",
       "  [1, 1, 0, 1, 1, 1, 0],\n",
       "  [1, 0, 0, 1, 1, 1, 0],\n",
       "  [1, 0, 0, 1, 1, 0, 0],\n",
       "  [1, 0, 0, 1, 1, 0, 0],\n",
       "  [1, 0, 0, 1, 1, 0, 0],\n",
       "  [1, 0, 0, 1, 1, 0, 0],\n",
       "  [1, 0, 0, 1, 1, 0, 0],\n",
       "  [1, 0, 0, 1, 1, 0, 0],\n",
       "  [1, 0, 0, 1, 1, 0, 0]]}"
      ]
     },
     "execution_count": 384,
     "metadata": {},
     "output_type": "execute_result"
    }
   ],
   "source": [
    "simulation_values_path = os.path.join(\".\", \"data\", \"simulation_values.json\")    \n",
    "with open(simulation_values_path, \"r\") as f:\n",
    "    simulation_values = json.load(f)\n",
    "    \n",
    "simulation_values"
   ]
  },
  {
   "cell_type": "code",
   "execution_count": 385,
   "metadata": {},
   "outputs": [
    {
     "name": "stdin",
     "output_type": "stream",
     "text": [
      "Press 1 if you want to reload previous simulation values 1\n"
     ]
    },
    {
     "name": "stdout",
     "output_type": "stream",
     "text": [
      "* Tmin_i=45.0\n",
      "* Tmax_i=60.0\n",
      "* Tdhw=55.0\n",
      "* Ts1=23.0\n",
      "* Ts2=29.0\n",
      "* DT_evap=8.0\n",
      "* n_buildings_SFH=0.0\n",
      "* n_buildings_MFH=1600.0\n",
      "* cap_source1=20\n",
      "* cap_source2=20\n",
      "\n"
     ]
    }
   ],
   "source": [
    "load_or_write_new = int(input(\"Press 1 if you want to reload previous simulation values\"))\n",
    "\n",
    "if load_or_write_new == 1:    \n",
    "    Tmin_i = simulation_values[\"Tmin_i\"]\n",
    "    Tmax_i = simulation_values[\"Tmax_i\"]\n",
    "\n",
    "    Tdhw = simulation_values[\"Tdhw\"]\n",
    "\n",
    "    Ts1 = simulation_values[\"Ts1\"]\n",
    "    Ts2 = simulation_values[\"Ts2\"]\n",
    "\n",
    "    DT_evap = simulation_values[\"DT_evap\"]\n",
    "    \n",
    "    n_buildings_SFH = simulation_values[\"n_buildings_SFH\"]\n",
    "    n_buildings_MFH = simulation_values[\"n_buildings_MFH\"]\n",
    "    \n",
    "    cap_source1= simulation_values['cap_source1']\n",
    "    cap_source2= simulation_values['cap_source2']\n",
    "    \n",
    "else:\n",
    "    # Min and Max temperatures to be received by the user.\n",
    "    # Values [40,...,60]\n",
    "    Tmin_i = float(input(\"Enter min setpoint temperature: \"))\n",
    "    Tmax_i = float(input(\"Enter max setpoint temperature: \"))\n",
    "\n",
    "    # Domestic hot water temperature.\n",
    "    # Values [45,...,55]\n",
    "    Tdhw = float(input(\"Enter domestic hot water temperature: \"))\n",
    "\n",
    "    # Our model supposes that the system has two different sources of heat.\n",
    "    # Values [20,...,30]\n",
    "    Ts1 = float(input(\"Temperature of source 1: \"))\n",
    "    Ts2 = float(input(\"Temperature of source 2: \"))\n",
    "\n",
    "    # difference in temperature between the supply (system->heat->house) and return (house -> heat -> system) pipes\n",
    "    # Values [1,...,10]\n",
    "    DT_evap = float(input(\"Temperature difference among the supply and return pipes: \"))\n",
    "    \n",
    "    # For the data visualization course, we will select 0 SFH & 1600 MFH buildings, which will cover an area of 1 km2\n",
    "    n_buildings_SFH =float(input(\"Enter the number of SFH buildings: #\"))\n",
    "    n_buildings_MFH=float(input(\"Enter the number of MFH buildings:#\"))\n",
    "    \n",
    "    cap_source1= int(input(\"Enter the thermal capacity of source 1 in MW:\"))\n",
    "    cap_source2= int(input(\"Enter the thermal capacity of source 2 in MW:\"))\n",
    "\n",
    "    \n",
    "print(f\"* {Tmin_i=}\\n\"\n",
    "      f\"* {Tmax_i=}\\n\"\n",
    "      f\"* {Tdhw=}\\n\"\n",
    "      f\"* {Ts1=}\\n\"\n",
    "      f\"* {Ts2=}\\n\"\n",
    "      f\"* {DT_evap=}\\n\"\n",
    "      f\"* {n_buildings_SFH=}\\n\"\n",
    "      f\"* {n_buildings_MFH=}\\n\"\n",
    "      f\"* {cap_source1=}\\n\"\n",
    "      f\"* {cap_source2=}\\n\"\n",
    "     )"
   ]
  },
  {
   "cell_type": "markdown",
   "metadata": {
    "pycharm": {
     "name": "#%% md\n"
    }
   },
   "source": [
    "# Load Sources working hours\n",
    "\n",
    "The file must be a boolean matrix $W$ of $24 x 7$. The rows represent the hours in a day, and the columns represent the days in the week. For all $i \\in \\{0,...,23\\}$ and $j \\in \\{0,..., 6\\}$ we have that $w_{i,j} \\in \\{0, 1\\}$, where $w_{i,j} = 0$ means that the source doesn't produce energy at that hour $i$ on that day $j$. Similarly, $w_{i,j} = 1$ means that the source produces energy at that hour $i$ on that day $j$."
   ]
  },
  {
   "cell_type": "code",
   "execution_count": 386,
   "metadata": {},
   "outputs": [
    {
     "name": "stdout",
     "output_type": "stream",
     "text": [
      "* s1_schedule_path='./data/private/s1_source_fake_schedule.xlsx'\n",
      "* s1_schedule=array([[0, 0, 1, 1, 1, 1, 0],\n",
      "       [0, 0, 1, 1, 1, 1, 0],\n",
      "       [0, 0, 1, 1, 1, 1, 0],\n",
      "       [0, 0, 1, 1, 1, 1, 0],\n",
      "       [0, 0, 1, 1, 1, 1, 0],\n",
      "       [0, 0, 1, 1, 1, 1, 0],\n",
      "       [0, 0, 1, 1, 1, 1, 0],\n",
      "       [0, 1, 1, 1, 1, 1, 0],\n",
      "       [0, 1, 1, 1, 1, 1, 0],\n",
      "       [0, 1, 1, 1, 1, 1, 0],\n",
      "       [0, 1, 1, 1, 1, 1, 0],\n",
      "       [0, 1, 1, 1, 1, 1, 0],\n",
      "       [0, 1, 1, 1, 1, 1, 0],\n",
      "       [0, 1, 1, 1, 1, 1, 0],\n",
      "       [0, 1, 1, 1, 1, 1, 0],\n",
      "       [0, 1, 1, 1, 1, 1, 0],\n",
      "       [0, 1, 1, 1, 1, 0, 0],\n",
      "       [0, 1, 1, 1, 1, 0, 0],\n",
      "       [0, 1, 1, 1, 1, 0, 0],\n",
      "       [0, 1, 1, 1, 1, 0, 0],\n",
      "       [0, 1, 1, 1, 1, 0, 0],\n",
      "       [0, 1, 1, 1, 1, 0, 0],\n",
      "       [0, 1, 1, 1, 1, 0, 0],\n",
      "       [0, 1, 1, 1, 1, 0, 0]])\n",
      "* s1_schedule[6,1]=0\n",
      "* s1_schedule[7,1]=1\n",
      "\n"
     ]
    }
   ],
   "source": [
    "s1_schedule_path = os.path.join(\".\", \"data\", \"private\", \"s1_source_fake_schedule.xlsx\")\n",
    "if load_or_write_new == 1:\n",
    "    s1_schedule = np.array(simulation_values[\"s1_schedule\"])\n",
    "else:    \n",
    "    s1_schedule = pd.read_excel(s1_schedule_path, index_col=\"Time\").to_numpy()\n",
    "\n",
    "print(f\"* {s1_schedule_path=}\\n\"\n",
    "      f\"* {s1_schedule=}\\n\"\n",
    "      f\"* {s1_schedule[6,1]=}\\n\" # Tuesdays are closed at 6 (equal to 0)\n",
    "      f\"* {s1_schedule[7,1]=}\\n\") # but open are 7 (equal to 1)"
   ]
  },
  {
   "cell_type": "code",
   "execution_count": 387,
   "metadata": {},
   "outputs": [
    {
     "name": "stdout",
     "output_type": "stream",
     "text": [
      "* s2_schedule_path='./data/private/s2_source_fake_schedule.xlsx'\n",
      "* s2_schedule=array([[1, 1, 0, 0, 1, 1, 0],\n",
      "       [1, 1, 0, 0, 1, 1, 0],\n",
      "       [1, 1, 0, 0, 1, 1, 0],\n",
      "       [1, 1, 0, 0, 1, 1, 0],\n",
      "       [1, 1, 0, 0, 1, 1, 0],\n",
      "       [1, 1, 0, 0, 1, 1, 0],\n",
      "       [1, 1, 0, 0, 1, 1, 0],\n",
      "       [1, 1, 0, 1, 1, 1, 0],\n",
      "       [1, 1, 0, 1, 1, 1, 0],\n",
      "       [1, 1, 0, 1, 1, 1, 0],\n",
      "       [1, 1, 0, 1, 1, 1, 0],\n",
      "       [1, 1, 0, 1, 1, 1, 0],\n",
      "       [1, 1, 0, 1, 1, 1, 0],\n",
      "       [1, 1, 0, 1, 1, 1, 0],\n",
      "       [1, 1, 0, 1, 1, 1, 0],\n",
      "       [1, 1, 0, 1, 1, 1, 0],\n",
      "       [1, 0, 0, 1, 1, 1, 0],\n",
      "       [1, 0, 0, 1, 1, 0, 0],\n",
      "       [1, 0, 0, 1, 1, 0, 0],\n",
      "       [1, 0, 0, 1, 1, 0, 0],\n",
      "       [1, 0, 0, 1, 1, 0, 0],\n",
      "       [1, 0, 0, 1, 1, 0, 0],\n",
      "       [1, 0, 0, 1, 1, 0, 0],\n",
      "       [1, 0, 0, 1, 1, 0, 0]])\n",
      "* s2_schedule[15,1]=1\n",
      "* s2_schedule[16,1]=0\n",
      "\n"
     ]
    }
   ],
   "source": [
    "s2_schedule_path = os.path.join(\".\", \"data\", \"private\", \"s2_source_fake_schedule.xlsx\")\n",
    "if load_or_write_new == 1:\n",
    "    s2_schedule = np.array(simulation_values[\"s2_schedule\"])\n",
    "else: \n",
    "    s2_schedule = pd.read_excel(s2_schedule_path, index_col=\"Time\").to_numpy()\n",
    "\n",
    "print(f\"* {s2_schedule_path=}\\n\"\n",
    "      f\"* {s2_schedule=}\\n\"\n",
    "      f\"* {s2_schedule[15,1]=}\\n\" # Tuesdays are closed at 15 (equal to 0)\n",
    "      f\"* {s2_schedule[16,1]=}\\n\") # but open are 16 (equal to 1)"
   ]
  },
  {
   "cell_type": "markdown",
   "metadata": {},
   "source": [
    "## Take note of the values for the current simulation"
   ]
  },
  {
   "cell_type": "code",
   "execution_count": 388,
   "metadata": {},
   "outputs": [
    {
     "data": {
      "text/plain": [
       "{'DT_evap': 8.0,\n",
       " 'Tdhw': 55.0,\n",
       " 'Tmax_i': 60.0,\n",
       " 'Tmin_i': 45.0,\n",
       " 'Ts1': 23.0,\n",
       " 'Ts2': 29.0,\n",
       " 'cap_source1': 20,\n",
       " 'cap_source2': 20,\n",
       " 'depth_aquifer': 30.0,\n",
       " 'n_buildings_MFH': 1600.0,\n",
       " 'n_buildings_SFH': 0.0,\n",
       " 's1_schedule': [[0, 0, 1, 1, 1, 1, 0],\n",
       "  [0, 0, 1, 1, 1, 1, 0],\n",
       "  [0, 0, 1, 1, 1, 1, 0],\n",
       "  [0, 0, 1, 1, 1, 1, 0],\n",
       "  [0, 0, 1, 1, 1, 1, 0],\n",
       "  [0, 0, 1, 1, 1, 1, 0],\n",
       "  [0, 0, 1, 1, 1, 1, 0],\n",
       "  [0, 1, 1, 1, 1, 1, 0],\n",
       "  [0, 1, 1, 1, 1, 1, 0],\n",
       "  [0, 1, 1, 1, 1, 1, 0],\n",
       "  [0, 1, 1, 1, 1, 1, 0],\n",
       "  [0, 1, 1, 1, 1, 1, 0],\n",
       "  [0, 1, 1, 1, 1, 1, 0],\n",
       "  [0, 1, 1, 1, 1, 1, 0],\n",
       "  [0, 1, 1, 1, 1, 1, 0],\n",
       "  [0, 1, 1, 1, 1, 1, 0],\n",
       "  [0, 1, 1, 1, 1, 0, 0],\n",
       "  [0, 1, 1, 1, 1, 0, 0],\n",
       "  [0, 1, 1, 1, 1, 0, 0],\n",
       "  [0, 1, 1, 1, 1, 0, 0],\n",
       "  [0, 1, 1, 1, 1, 0, 0],\n",
       "  [0, 1, 1, 1, 1, 0, 0],\n",
       "  [0, 1, 1, 1, 1, 0, 0],\n",
       "  [0, 1, 1, 1, 1, 0, 0]],\n",
       " 's2_schedule': [[1, 1, 0, 0, 1, 1, 0],\n",
       "  [1, 1, 0, 0, 1, 1, 0],\n",
       "  [1, 1, 0, 0, 1, 1, 0],\n",
       "  [1, 1, 0, 0, 1, 1, 0],\n",
       "  [1, 1, 0, 0, 1, 1, 0],\n",
       "  [1, 1, 0, 0, 1, 1, 0],\n",
       "  [1, 1, 0, 0, 1, 1, 0],\n",
       "  [1, 1, 0, 1, 1, 1, 0],\n",
       "  [1, 1, 0, 1, 1, 1, 0],\n",
       "  [1, 1, 0, 1, 1, 1, 0],\n",
       "  [1, 1, 0, 1, 1, 1, 0],\n",
       "  [1, 1, 0, 1, 1, 1, 0],\n",
       "  [1, 1, 0, 1, 1, 1, 0],\n",
       "  [1, 1, 0, 1, 1, 1, 0],\n",
       "  [1, 1, 0, 1, 1, 1, 0],\n",
       "  [1, 1, 0, 1, 1, 1, 0],\n",
       "  [1, 0, 0, 1, 1, 1, 0],\n",
       "  [1, 0, 0, 1, 1, 0, 0],\n",
       "  [1, 0, 0, 1, 1, 0, 0],\n",
       "  [1, 0, 0, 1, 1, 0, 0],\n",
       "  [1, 0, 0, 1, 1, 0, 0],\n",
       "  [1, 0, 0, 1, 1, 0, 0],\n",
       "  [1, 0, 0, 1, 1, 0, 0],\n",
       "  [1, 0, 0, 1, 1, 0, 0]]}"
      ]
     },
     "execution_count": 388,
     "metadata": {},
     "output_type": "execute_result"
    }
   ],
   "source": [
    "simulation_values[\"Tmin_i\"] = Tmin_i\n",
    "simulation_values[\"Tmax_i\"] = Tmax_i\n",
    "simulation_values[\"Tdhw\"] = Tdhw\n",
    "simulation_values[\"Ts1\"] = Ts1\n",
    "simulation_values[\"Ts2\"] = Ts2\n",
    "simulation_values[\"DT_evap\"] = DT_evap\n",
    "simulation_values[\"s1_schedule\"] = s1_schedule.tolist()\n",
    "simulation_values[\"s2_schedule\"] = s2_schedule.tolist()\n",
    "simulation_values[\"n_buildings_SFH\"] = n_buildings_SFH\n",
    "simulation_values[\"n_buildings_MFH\"] = n_buildings_MFH\n",
    "simulation_values['cap_source1']  = cap_source1\n",
    "simulation_values['cap_source2'] =  cap_source2\n",
    "\n",
    "simulation_values"
   ]
  },
  {
   "cell_type": "markdown",
   "metadata": {},
   "source": [
    "## Read the dataset"
   ]
  },
  {
   "cell_type": "code",
   "execution_count": 389,
   "metadata": {},
   "outputs": [
    {
     "data": {
      "text/plain": [
       "dict_keys(['ospitaletto', 'miami_florida', 'fresno_california', 'olympia_washington', 'rochester_newyork', 'london_uk', 'madrid_spain', 'rome_italy', 'stuttgart_germany'])"
      ]
     },
     "execution_count": 389,
     "metadata": {},
     "output_type": "execute_result"
    }
   ],
   "source": [
    "ospitaletto2019 = OspitalettoDataset()\n",
    "noaa2010Dataset = NOAA2010Dataset()\n",
    "insPireDataset = InsPireDataset()\n",
    "\n",
    "AVAILABLE_DATASETS = dict()\n",
    "AVAILABLE_DATASETS.update(ospitaletto2019.load_processed_data())\n",
    "AVAILABLE_DATASETS.update(noaa2010Dataset.load_processed_data())\n",
    "AVAILABLE_DATASETS.update(insPireDataset.load_processed_data())\n",
    "AVAILABLE_DATASETS.keys()"
   ]
  },
  {
   "cell_type": "code",
   "execution_count": 390,
   "metadata": {},
   "outputs": [
    {
     "data": {
      "text/plain": [
       "'fresno_california'"
      ]
     },
     "execution_count": 390,
     "metadata": {},
     "output_type": "execute_result"
    }
   ],
   "source": [
    "dataset_to_work = \"fresno_california\"\n",
    "dataset_to_work"
   ]
  },
  {
   "cell_type": "code",
   "execution_count": 391,
   "metadata": {},
   "outputs": [],
   "source": [
    "Tamb_hourly = AVAILABLE_DATASETS[dataset_to_work]"
   ]
  },
  {
   "cell_type": "markdown",
   "metadata": {},
   "source": [
    "## Functional unit composition\n",
    "\n",
    "The single-family houses (SFH) and multi-family houses (MFH) models have a fixed geometry for all the climates and periods of construction. It has been defined following the common characteristics for a European buildings. The SFH building model is composed of two storeys with a total of 100 m² of living area . The small-MFH correspond to a reference residential building that has two dwellings per floor, with a total floor area of 500 m2. (Inspire project, D2.1c(2014))\n",
    "\n",
    "A functional unit of 1 km2 of land composed by a residential area of 1600 buildings of the type small-MFH was selected. This reference area has been already investigated in previous publications for the scenario assessment of low-temperature DH networks, as a typical high-density urban zone.\n"
   ]
  },
  {
   "cell_type": "markdown",
   "metadata": {},
   "source": [
    "### Residential building typologies: SFH and MFH\n",
    "\n",
    "#### Single-Family units\n",
    "\n",
    "<img src=\"./images/SFH.png\">        \n",
    "\n",
    "\n",
    "\n"
   ]
  },
  {
   "cell_type": "markdown",
   "metadata": {},
   "source": [
    "#### Multi-Families units\n",
    "\n",
    "<img src=\"./images/MFH.png\">\n",
    "\n",
    "\n"
   ]
  },
  {
   "cell_type": "markdown",
   "metadata": {},
   "source": [
    "### District heating system diagram\n",
    "\n",
    "District heating (DH) is an energy service based on moving heat from available heat sources to immediate customers through a piping network. Nowadays, the fundamental idea of DH is to use LOCAL sources that would otherwise be WASTED in order to satisfy customers'needs (Werner, 2013). \n",
    "\n",
    "\n",
    "Traditional DH systems operate typically at temperatures far from the ambient temperature (80°C or higher) giving rise to high thermal losses and the need of costly piping insulation. Examples of traditional DH sources are cogeneration plants, industrial waste heat and incinerators, where heat is a by-product of other industrial processes (Cozzini, 2018).\n",
    "\n",
    "New concepts in the DH sector propose lowering the operating temperatures further to a level equivalent to the ambient temperature, with an average of 20°C. Advantages of a system of this kind, are the reduction in thermal losses in the distribution system, the direct exploitation of available waste heat sources (refrigeration units in shopping malls, supermarkets, datacenters) and ground sources (aquifer wells), and the possibility of providing not only heating but also cooling through the use of reversible heat pumps on the buildings substations, as presented in the Figure.\n",
    "\n",
    "<img src=\"./images/DHC_system.png\">"
   ]
  },
  {
   "cell_type": "markdown",
   "metadata": {},
   "source": [
    "### Space heating demand\n",
    "\n",
    "The methodology used in this project is a bottom-up approach for the calculation of the total heat demand for space heating (SH) and domestic hot water (DHW) utilization of a district located in 4 different climates across Europe, using data from the Inspire project. The data includes annual energy consumption for each building typology in kWh/m2-y, SFHs and MFHs correspond to reference buildings in each climatic zone built between 1945-1970, non-refurbished. In this particular case, the climatic zones and reference cities considered are:\n",
    "\n",
    "* Stuttgart, Germany for Continental climate\n",
    "* London, United Kingdom for Oceanic climate\n",
    "* Madrid, Spain for Southern-dry climate\n",
    "* Rome, Italy for Mediterranean climate\n",
    "\n",
    "This calculation is based on the number of SFH ($ |SFH| $) and MFH ($ |MFH| $) units. It also depends on the total heat needed by SFH ($ TOT_{SFH}$) and MFH ($ TOT_{MFH}$) units. The estimation of the total heated area for buildings within the functional unit ($ HD $) is:\n",
    "\n",
    "\\begin{align*}\n",
    "HD = |SFH| * 100 * TOT_{SFH} + |MFH| * 500 * TOT_{MFH}\n",
    "\\end{align*}\n",
    "\n",
    "It's important to stress that this calculation is done on a year basis."
   ]
  },
  {
   "cell_type": "code",
   "execution_count": 392,
   "metadata": {},
   "outputs": [],
   "source": [
    "Tamb_hourly[\"Heat_demand\"] = (n_buildings_SFH * 100 * Tamb_hourly[\"SFH_bldg_tot\"]) + (n_buildings_MFH * 500 * Tamb_hourly[\"MFH_bldg_tot\"])\n",
    "Tamb_hourly[\"SH_demand\"] = Tamb_hourly[\"Heat_demand\"] * Tamb_hourly[\"%SH_y\"]\n",
    "Tamb_hourly[\"DHW_demand\"] = Tamb_hourly[\"Heat_demand\"] * Tamb_hourly[\"%DHW_y\"] # Equivalently, we can change Tamb_hourly[\"%DHW_y\"] with (1 - Tamb_hourly[\"%SH_y\"])"
   ]
  },
  {
   "cell_type": "markdown",
   "metadata": {},
   "source": [
    "### Space heating distribution\n",
    "\n",
    "In order to analyse the performance of this particular DH system, it is fundamental not only the spatial distribution of the heat demand, but also the distribution over time. For this purpose, the space heating hourly profile for each location is retrieved with a time dependency according to the heating degree method, known as the \"Integration method\".\n",
    "\n",
    "This method accounts the amount (in degrees) and for how long (in hours) thermal heat is required to keep the indoor building temperature at a comfortable level, which will vary depending on different climates. The base temperature selected was set to 15 °C.\n",
    "\n",
    "More info on calculation method: https://www.degreedays.net/introduction"
   ]
  },
  {
   "cell_type": "code",
   "execution_count": 393,
   "metadata": {},
   "outputs": [],
   "source": [
    "def heating_degree(T_amb):\n",
    "    T_base = 15\n",
    "    return max(0, T_base - T_amb)"
   ]
  },
  {
   "cell_type": "code",
   "execution_count": 394,
   "metadata": {},
   "outputs": [],
   "source": [
    "Tamb_hourly[\"heating_degree_days\"] = Tamb_hourly.air_temp.apply(heating_degree)\n",
    "Tamb_hourly[\"space_heating_dist\"] = Tamb_hourly.heating_degree_days / max(sum(Tamb_hourly.heating_degree_days), 1)\n",
    "Tamb_hourly[\"SH_consumption\"] = Tamb_hourly[\"SH_demand\"] * Tamb_hourly[\"space_heating_dist\"]"
   ]
  },
  {
   "cell_type": "markdown",
   "metadata": {},
   "source": [
    "### Domestic hot water consumption"
   ]
  },
  {
   "cell_type": "markdown",
   "metadata": {},
   "source": [
    "Domestic hot water consumption is not weather influenced, and its variation is almost constant over the year. The hourly demand for hot water is estimated by the percentage of the total heat demand ($ HD_y $) is hot water $ DHW_y $. This data is also obtained from the INSPIRE database for different climatic zones. \n",
    "\n",
    "The total domestic hot water demand is evenly distributed over each day of the year, and then its hourly distribution is obtained by multiplying the daily needs by an hourly random profile. \n",
    "\n",
    "\\begin{align*}\n",
    "DHW_{d} = \\frac{HD_{y}*DHW_{\\%y}}{d}\n",
    "\\end{align*}\n",
    "\n",
    "The DHW consumption is calculated in an hourly fashion."
   ]
  },
  {
   "cell_type": "code",
   "execution_count": 395,
   "metadata": {},
   "outputs": [],
   "source": [
    "Tamb_hourly[\"DHW_consumption\"] = Tamb_hourly[\"DHW_demand\"] * Tamb_hourly[\"DHW_hourly_consumption_ratio\"] / 365"
   ]
  },
  {
   "cell_type": "markdown",
   "metadata": {},
   "source": [
    "### Total heat demand \n",
    "\n",
    "Thus, the aggregated heat demand corresponds to the sum of the thermal heat requirements for SH and DHW, according to the equation:\n",
    "\n",
    "\\begin{align*}\n",
    "HD_{TOT, h} = HD_{SH, h} + HD_{DHW, h}\n",
    "\\end{align*}\n",
    "\n"
   ]
  },
  {
   "cell_type": "code",
   "execution_count": 396,
   "metadata": {},
   "outputs": [],
   "source": [
    "Tamb_hourly[\"Total_consumption\"] = Tamb_hourly[\"DHW_consumption\"] + Tamb_hourly[\"SH_consumption\"]"
   ]
  },
  {
   "cell_type": "code",
   "execution_count": 397,
   "metadata": {},
   "outputs": [
    {
     "data": {
      "text/plain": [
       "(8759,)"
      ]
     },
     "execution_count": 397,
     "metadata": {},
     "output_type": "execute_result"
    }
   ],
   "source": [
    "Tamb_hourly[\"SH_consumption\"].shape"
   ]
  },
  {
   "cell_type": "markdown",
   "metadata": {},
   "source": [
    "## Temperature levels required for SH and DHW\n",
    "\n",
    "The space Heating is calculated using a climatic curve. The Hot Water temperature is constant across the year."
   ]
  },
  {
   "cell_type": "code",
   "execution_count": 398,
   "metadata": {},
   "outputs": [],
   "source": [
    "def climatic_curve(Tamb_h):\n",
    "    Tmin_o = 2.38 #minimum outdoor T threshold in which the space heating system turns on\n",
    "    Tmax_o = 7.25 #maximum outdoor T threshold in which the space heating system turns off\n",
    "\n",
    "    if Tamb_h <= Tmin_o:   \n",
    "        Tsh = Tmax_i\n",
    "    elif Tamb_h >= Tmax_o:\n",
    "        Tsh = Tmin_i\n",
    "    else:\n",
    "        m = (Tmax_i-Tmin_i)/(Tmin_o-Tmax_o)\n",
    "        b = -m*Tmin_o+Tmax_i\n",
    "        Tsh = m*Tamb_h+b\n",
    "    return Tsh\n",
    " "
   ]
  },
  {
   "cell_type": "code",
   "execution_count": 399,
   "metadata": {},
   "outputs": [],
   "source": [
    "Tamb_hourly['space_heating_temp'] = Tamb_hourly.air_temp.apply(climatic_curve)\n",
    "Tamb_hourly[\"hot_water_temp\"] = Tdhw"
   ]
  },
  {
   "cell_type": "markdown",
   "metadata": {},
   "source": [
    "## Calculate User Temperature\n",
    "\n",
    "This is the temperature that the users receive by the system. The temperature is based on their personal preferences, and the current season of the year."
   ]
  },
  {
   "cell_type": "code",
   "execution_count": 400,
   "metadata": {},
   "outputs": [],
   "source": [
    "sh_consumption_ratio = Tamb_hourly[\"SH_consumption\"] / Tamb_hourly[\"Total_consumption\"]\n",
    "dhw_consumption_ratio = Tamb_hourly[\"DHW_consumption\"] / Tamb_hourly[\"Total_consumption\"]"
   ]
  },
  {
   "cell_type": "code",
   "execution_count": 401,
   "metadata": {},
   "outputs": [],
   "source": [
    "#Tamb_hourly[\"user_temp_2\"] = Tamb_hourly.apply(Tuser, axis=1)\n",
    "Tamb_hourly[\"user_temp\"] = (sh_consumption_ratio * Tamb_hourly.space_heating_temp \n",
    "                            + dhw_consumption_ratio * Tamb_hourly.hot_water_temp)"
   ]
  },
  {
   "cell_type": "markdown",
   "metadata": {},
   "source": [
    "## Calculate Sources Temperature based on Working Hours"
   ]
  },
  {
   "cell_type": "code",
   "execution_count": 402,
   "metadata": {},
   "outputs": [],
   "source": [
    "dayofweeks = Tamb_hourly.index.dayofweek\n",
    "hours = Tamb_hourly.index.hour"
   ]
  },
  {
   "cell_type": "code",
   "execution_count": 403,
   "metadata": {},
   "outputs": [],
   "source": [
    "Tamb_hourly[\"source1_temp\"] = Ts1 * s1_schedule[hours, dayofweeks]\n",
    "Tamb_hourly[\"source2_temp\"] = Ts2 * s2_schedule[hours, dayofweeks]\n"
   ]
  },
  {
   "cell_type": "markdown",
   "metadata": {},
   "source": [
    "## Calculate Network temperature"
   ]
  },
  {
   "cell_type": "code",
   "execution_count": 404,
   "metadata": {
    "collapsed": false,
    "jupyter": {
     "outputs_hidden": false
    },
    "pycharm": {
     "name": "#%%\n"
    }
   },
   "outputs": [],
   "source": [
    "def calculate_tnet(temp_s1, temp_s2, temp_aq):\n",
    "    if temp_s1 == 0.0 and temp_s2 == 0.0:\n",
    "        return temp_aq\n",
    "    elif temp_s1 == 0.0:\n",
    "        return temp_s2\n",
    "    elif temp_s2 == 0.0:\n",
    "        return temp_s1\n",
    "    else:\n",
    "        return np.min([temp_s1, temp_s2])"
   ]
  },
  {
   "cell_type": "code",
   "execution_count": 405,
   "metadata": {
    "pycharm": {
     "name": "#%%\n"
    }
   },
   "outputs": [],
   "source": [
    "Tamb_hourly[\"net_temp\"] = Tamb_hourly.apply(lambda fila: calculate_tnet(fila.source1_temp, fila.source2_temp, fila.aquifer_temp), axis=1)"
   ]
  },
  {
   "cell_type": "markdown",
   "metadata": {},
   "source": [
    "# Coefficient of performance (COP)\n",
    "\n",
    "Heat pumps located at the users' substations are responsible for lifting the network temperature to a desired level for SH and DHW consumptions. The performance of the overall system was assessed according to the following coefficient of performance (COP) function:\n",
    "\n",
    "\\begin{align*}\n",
    "COP\\ = \\eta_{m} COP_{C} +1 - \\eta_{m}\n",
    "\\end{align*}\n",
    "\n",
    "\\begin{align*}\n",
    "COP_{C}= \\frac{T_{c}}{T{_c} - T_{e}} \n",
    "\\end{align*}\n",
    "\n",
    "\\begin{align*}\n",
    "T_{c}= T_{c,o} +  \\Delta T_{HEX} \n",
    "\\end{align*}\n",
    "\n",
    "\\begin{align*}\n",
    "T_{e}=  T_{e,o} -  \\Delta T_{HEX} \n",
    "\\end{align*}\n",
    "\n",
    "Where $COP_{C}$ corresponds to the Carnot COP which is a function of the condenser ($ T_{c}$) and evaporator ($T_{e}$) refrigerant temperatures respectively. These variables are estimated as the external fluid outlet temperatures, adjusted by a temperature drop ($\\Delta T_{HEX}$) at the heat pump condenser and evaporator.  "
   ]
  },
  {
   "cell_type": "code",
   "execution_count": 406,
   "metadata": {},
   "outputs": [],
   "source": [
    "DT_hx = 2.5\n",
    "n_HP = 0.53\n",
    "Te_o = Tamb_hourly.net_temp - DT_evap - DT_hx\n",
    "Tc_o = Tamb_hourly.user_temp\n",
    "\n",
    "Tamb_hourly['COP']= 1-n_HP + n_HP * (Tc_o + 273.15) / (Tc_o + DT_hx - Te_o)"
   ]
  },
  {
   "cell_type": "markdown",
   "metadata": {},
   "source": [
    "# Heat losses"
   ]
  },
  {
   "cell_type": "code",
   "execution_count": 407,
   "metadata": {},
   "outputs": [],
   "source": [
    "def heat_losses(T_net,T_gr, DT_evap):\n",
    "    U = 0.848  #Average heat loss of pre-insulated pipes along a network of 2km [MW/ K] \n",
    "    T_ret = T_net - DT_evap\n",
    "    HL_s = (T_net - T_gr) * U  # Heat losses supply pipe [MW]\n",
    "    HL_r = (T_ret - T_gr) * U  # Heat losses return pipe [MW]\n",
    "    \n",
    "    return pd.Series([HL_s, HL_r, HL_s + HL_r] , index=['E_loss_s','E_loss_r','E_loss_tot'])\n"
   ]
  },
  {
   "cell_type": "code",
   "execution_count": 408,
   "metadata": {},
   "outputs": [],
   "source": [
    "x = Tamb_hourly.apply(lambda fila: heat_losses(fila[\"net_temp\"], fila[\"ground_temp\"], DT_evap), axis=1, result_type='expand')"
   ]
  },
  {
   "cell_type": "code",
   "execution_count": 409,
   "metadata": {},
   "outputs": [],
   "source": [
    "Tamb_hourly['E_loss_s'] = x['E_loss_s']\n",
    "Tamb_hourly['E_loss_r'] = x['E_loss_r']\n",
    "Tamb_hourly['E_loss_tot'] = x['E_loss_tot']"
   ]
  },
  {
   "cell_type": "markdown",
   "metadata": {},
   "source": [
    "# Electricity consumption"
   ]
  },
  {
   "cell_type": "markdown",
   "metadata": {},
   "source": [
    "The hourly electricity consumption by climatic zone is estimated as a function of the total thermal demand and the coefficient of performance of the systems substations:\n",
    "\n",
    "\\begin{align*}\n",
    "E_{el} = \\frac{E_{th}}{COP}\n",
    "\\end{align*}"
   ]
  },
  {
   "cell_type": "code",
   "execution_count": 410,
   "metadata": {},
   "outputs": [
    {
     "data": {
      "text/html": [
       "<div>\n",
       "<style scoped>\n",
       "    .dataframe tbody tr th:only-of-type {\n",
       "        vertical-align: middle;\n",
       "    }\n",
       "\n",
       "    .dataframe tbody tr th {\n",
       "        vertical-align: top;\n",
       "    }\n",
       "\n",
       "    .dataframe thead th {\n",
       "        text-align: right;\n",
       "    }\n",
       "</style>\n",
       "<table border=\"1\" class=\"dataframe\">\n",
       "  <thead>\n",
       "    <tr style=\"text-align: right;\">\n",
       "      <th></th>\n",
       "      <th>air_temp</th>\n",
       "      <th>dayofyear</th>\n",
       "      <th>month</th>\n",
       "      <th>hourofyear</th>\n",
       "      <th>air_temp_fit</th>\n",
       "      <th>ground_temp</th>\n",
       "      <th>aquifer_temp</th>\n",
       "      <th>city_key</th>\n",
       "      <th>climate</th>\n",
       "      <th>DHW_cons</th>\n",
       "      <th>...</th>\n",
       "      <th>E_el</th>\n",
       "      <th>season</th>\n",
       "      <th>hour</th>\n",
       "      <th>dayofweek</th>\n",
       "      <th>source1_cap</th>\n",
       "      <th>source2_cap</th>\n",
       "      <th>heat_source1</th>\n",
       "      <th>heat_source2</th>\n",
       "      <th>heat_aquifer</th>\n",
       "      <th>date</th>\n",
       "    </tr>\n",
       "    <tr>\n",
       "      <th>timestamp</th>\n",
       "      <th></th>\n",
       "      <th></th>\n",
       "      <th></th>\n",
       "      <th></th>\n",
       "      <th></th>\n",
       "      <th></th>\n",
       "      <th></th>\n",
       "      <th></th>\n",
       "      <th></th>\n",
       "      <th></th>\n",
       "      <th></th>\n",
       "      <th></th>\n",
       "      <th></th>\n",
       "      <th></th>\n",
       "      <th></th>\n",
       "      <th></th>\n",
       "      <th></th>\n",
       "      <th></th>\n",
       "      <th></th>\n",
       "      <th></th>\n",
       "      <th></th>\n",
       "    </tr>\n",
       "  </thead>\n",
       "  <tbody>\n",
       "    <tr>\n",
       "      <th>2010-01-01 01:00:00</th>\n",
       "      <td>5.5</td>\n",
       "      <td>1</td>\n",
       "      <td>1</td>\n",
       "      <td>2</td>\n",
       "      <td>8.182589</td>\n",
       "      <td>12.474162</td>\n",
       "      <td>17.903901</td>\n",
       "      <td>fresno_california</td>\n",
       "      <td>Southern dry</td>\n",
       "      <td>21.8</td>\n",
       "      <td>...</td>\n",
       "      <td>7191.9</td>\n",
       "      <td>winter</td>\n",
       "      <td>1</td>\n",
       "      <td>4</td>\n",
       "      <td>20000</td>\n",
       "      <td>20000</td>\n",
       "      <td>20000.0</td>\n",
       "      <td>6704.815088</td>\n",
       "      <td>0.0</td>\n",
       "      <td>2010-01-01</td>\n",
       "    </tr>\n",
       "    <tr>\n",
       "      <th>2010-01-01 02:00:00</th>\n",
       "      <td>5.3</td>\n",
       "      <td>1</td>\n",
       "      <td>1</td>\n",
       "      <td>3</td>\n",
       "      <td>8.180475</td>\n",
       "      <td>12.471033</td>\n",
       "      <td>17.903901</td>\n",
       "      <td>fresno_california</td>\n",
       "      <td>Southern dry</td>\n",
       "      <td>21.8</td>\n",
       "      <td>...</td>\n",
       "      <td>7429.83</td>\n",
       "      <td>winter</td>\n",
       "      <td>2</td>\n",
       "      <td>4</td>\n",
       "      <td>20000</td>\n",
       "      <td>20000</td>\n",
       "      <td>20000.0</td>\n",
       "      <td>7176.600294</td>\n",
       "      <td>0.0</td>\n",
       "      <td>2010-01-01</td>\n",
       "    </tr>\n",
       "    <tr>\n",
       "      <th>2010-01-01 03:00:00</th>\n",
       "      <td>5.1</td>\n",
       "      <td>1</td>\n",
       "      <td>1</td>\n",
       "      <td>4</td>\n",
       "      <td>8.178367</td>\n",
       "      <td>12.467906</td>\n",
       "      <td>17.903901</td>\n",
       "      <td>fresno_california</td>\n",
       "      <td>Southern dry</td>\n",
       "      <td>21.8</td>\n",
       "      <td>...</td>\n",
       "      <td>7670.78</td>\n",
       "      <td>winter</td>\n",
       "      <td>3</td>\n",
       "      <td>4</td>\n",
       "      <td>20000</td>\n",
       "      <td>20000</td>\n",
       "      <td>20000.0</td>\n",
       "      <td>7645.351317</td>\n",
       "      <td>0.0</td>\n",
       "      <td>2010-01-01</td>\n",
       "    </tr>\n",
       "    <tr>\n",
       "      <th>2010-01-01 04:00:00</th>\n",
       "      <td>4.9</td>\n",
       "      <td>1</td>\n",
       "      <td>1</td>\n",
       "      <td>5</td>\n",
       "      <td>8.176264</td>\n",
       "      <td>12.464783</td>\n",
       "      <td>17.903901</td>\n",
       "      <td>fresno_california</td>\n",
       "      <td>Southern dry</td>\n",
       "      <td>21.8</td>\n",
       "      <td>...</td>\n",
       "      <td>7914.75</td>\n",
       "      <td>winter</td>\n",
       "      <td>4</td>\n",
       "      <td>4</td>\n",
       "      <td>20000</td>\n",
       "      <td>20000</td>\n",
       "      <td>20000.0</td>\n",
       "      <td>8111.095117</td>\n",
       "      <td>0.0</td>\n",
       "      <td>2010-01-01</td>\n",
       "    </tr>\n",
       "    <tr>\n",
       "      <th>2010-01-01 05:00:00</th>\n",
       "      <td>4.8</td>\n",
       "      <td>1</td>\n",
       "      <td>1</td>\n",
       "      <td>6</td>\n",
       "      <td>8.174166</td>\n",
       "      <td>12.461662</td>\n",
       "      <td>17.903901</td>\n",
       "      <td>fresno_california</td>\n",
       "      <td>Southern dry</td>\n",
       "      <td>21.8</td>\n",
       "      <td>...</td>\n",
       "      <td>8037.85</td>\n",
       "      <td>winter</td>\n",
       "      <td>5</td>\n",
       "      <td>4</td>\n",
       "      <td>20000</td>\n",
       "      <td>20000</td>\n",
       "      <td>20000.0</td>\n",
       "      <td>8342.848752</td>\n",
       "      <td>0.0</td>\n",
       "      <td>2010-01-01</td>\n",
       "    </tr>\n",
       "    <tr>\n",
       "      <th>...</th>\n",
       "      <td>...</td>\n",
       "      <td>...</td>\n",
       "      <td>...</td>\n",
       "      <td>...</td>\n",
       "      <td>...</td>\n",
       "      <td>...</td>\n",
       "      <td>...</td>\n",
       "      <td>...</td>\n",
       "      <td>...</td>\n",
       "      <td>...</td>\n",
       "      <td>...</td>\n",
       "      <td>...</td>\n",
       "      <td>...</td>\n",
       "      <td>...</td>\n",
       "      <td>...</td>\n",
       "      <td>...</td>\n",
       "      <td>...</td>\n",
       "      <td>...</td>\n",
       "      <td>...</td>\n",
       "      <td>...</td>\n",
       "      <td>...</td>\n",
       "    </tr>\n",
       "    <tr>\n",
       "      <th>2010-12-31 19:00:00</th>\n",
       "      <td>8.1</td>\n",
       "      <td>365</td>\n",
       "      <td>12</td>\n",
       "      <td>8756</td>\n",
       "      <td>8.193230</td>\n",
       "      <td>12.492995</td>\n",
       "      <td>17.903901</td>\n",
       "      <td>fresno_california</td>\n",
       "      <td>Southern dry</td>\n",
       "      <td>21.8</td>\n",
       "      <td>...</td>\n",
       "      <td>5227.62</td>\n",
       "      <td>winter</td>\n",
       "      <td>19</td>\n",
       "      <td>4</td>\n",
       "      <td>20000</td>\n",
       "      <td>20000</td>\n",
       "      <td>20000.0</td>\n",
       "      <td>1823.051839</td>\n",
       "      <td>0.0</td>\n",
       "      <td>2010-12-31</td>\n",
       "    </tr>\n",
       "    <tr>\n",
       "      <th>2010-12-31 20:00:00</th>\n",
       "      <td>7.4</td>\n",
       "      <td>365</td>\n",
       "      <td>12</td>\n",
       "      <td>8757</td>\n",
       "      <td>8.191092</td>\n",
       "      <td>12.489849</td>\n",
       "      <td>17.903901</td>\n",
       "      <td>fresno_california</td>\n",
       "      <td>Southern dry</td>\n",
       "      <td>21.8</td>\n",
       "      <td>...</td>\n",
       "      <td>5655.17</td>\n",
       "      <td>winter</td>\n",
       "      <td>20</td>\n",
       "      <td>4</td>\n",
       "      <td>20000</td>\n",
       "      <td>20000</td>\n",
       "      <td>20000.0</td>\n",
       "      <td>3697.737657</td>\n",
       "      <td>0.0</td>\n",
       "      <td>2010-12-31</td>\n",
       "    </tr>\n",
       "    <tr>\n",
       "      <th>2010-12-31 21:00:00</th>\n",
       "      <td>6.9</td>\n",
       "      <td>365</td>\n",
       "      <td>12</td>\n",
       "      <td>8758</td>\n",
       "      <td>8.188958</td>\n",
       "      <td>12.486706</td>\n",
       "      <td>17.903901</td>\n",
       "      <td>fresno_california</td>\n",
       "      <td>Southern dry</td>\n",
       "      <td>21.8</td>\n",
       "      <td>...</td>\n",
       "      <td>5646.13</td>\n",
       "      <td>winter</td>\n",
       "      <td>21</td>\n",
       "      <td>4</td>\n",
       "      <td>20000</td>\n",
       "      <td>20000</td>\n",
       "      <td>20000.0</td>\n",
       "      <td>3420.985034</td>\n",
       "      <td>0.0</td>\n",
       "      <td>2010-12-31</td>\n",
       "    </tr>\n",
       "    <tr>\n",
       "      <th>2010-12-31 22:00:00</th>\n",
       "      <td>6.4</td>\n",
       "      <td>365</td>\n",
       "      <td>12</td>\n",
       "      <td>8759</td>\n",
       "      <td>8.186830</td>\n",
       "      <td>12.483566</td>\n",
       "      <td>17.903901</td>\n",
       "      <td>fresno_california</td>\n",
       "      <td>Southern dry</td>\n",
       "      <td>21.8</td>\n",
       "      <td>...</td>\n",
       "      <td>6262.07</td>\n",
       "      <td>winter</td>\n",
       "      <td>22</td>\n",
       "      <td>4</td>\n",
       "      <td>20000</td>\n",
       "      <td>20000</td>\n",
       "      <td>20000.0</td>\n",
       "      <td>4882.840515</td>\n",
       "      <td>0.0</td>\n",
       "      <td>2010-12-31</td>\n",
       "    </tr>\n",
       "    <tr>\n",
       "      <th>2010-12-31 23:00:00</th>\n",
       "      <td>6.1</td>\n",
       "      <td>365</td>\n",
       "      <td>12</td>\n",
       "      <td>8760</td>\n",
       "      <td>8.184707</td>\n",
       "      <td>12.480428</td>\n",
       "      <td>17.903901</td>\n",
       "      <td>fresno_california</td>\n",
       "      <td>Southern dry</td>\n",
       "      <td>21.8</td>\n",
       "      <td>...</td>\n",
       "      <td>6496.65</td>\n",
       "      <td>winter</td>\n",
       "      <td>23</td>\n",
       "      <td>4</td>\n",
       "      <td>20000</td>\n",
       "      <td>20000</td>\n",
       "      <td>20000.0</td>\n",
       "      <td>5270.948843</td>\n",
       "      <td>0.0</td>\n",
       "      <td>2010-12-31</td>\n",
       "    </tr>\n",
       "  </tbody>\n",
       "</table>\n",
       "<p>8759 rows × 44 columns</p>\n",
       "</div>"
      ],
      "text/plain": [
       "                     air_temp  dayofyear  month  hourofyear  air_temp_fit  \\\n",
       "timestamp                                                                   \n",
       "2010-01-01 01:00:00       5.5          1      1           2      8.182589   \n",
       "2010-01-01 02:00:00       5.3          1      1           3      8.180475   \n",
       "2010-01-01 03:00:00       5.1          1      1           4      8.178367   \n",
       "2010-01-01 04:00:00       4.9          1      1           5      8.176264   \n",
       "2010-01-01 05:00:00       4.8          1      1           6      8.174166   \n",
       "...                       ...        ...    ...         ...           ...   \n",
       "2010-12-31 19:00:00       8.1        365     12        8756      8.193230   \n",
       "2010-12-31 20:00:00       7.4        365     12        8757      8.191092   \n",
       "2010-12-31 21:00:00       6.9        365     12        8758      8.188958   \n",
       "2010-12-31 22:00:00       6.4        365     12        8759      8.186830   \n",
       "2010-12-31 23:00:00       6.1        365     12        8760      8.184707   \n",
       "\n",
       "                     ground_temp  aquifer_temp           city_key  \\\n",
       "timestamp                                                           \n",
       "2010-01-01 01:00:00    12.474162     17.903901  fresno_california   \n",
       "2010-01-01 02:00:00    12.471033     17.903901  fresno_california   \n",
       "2010-01-01 03:00:00    12.467906     17.903901  fresno_california   \n",
       "2010-01-01 04:00:00    12.464783     17.903901  fresno_california   \n",
       "2010-01-01 05:00:00    12.461662     17.903901  fresno_california   \n",
       "...                          ...           ...                ...   \n",
       "2010-12-31 19:00:00    12.492995     17.903901  fresno_california   \n",
       "2010-12-31 20:00:00    12.489849     17.903901  fresno_california   \n",
       "2010-12-31 21:00:00    12.486706     17.903901  fresno_california   \n",
       "2010-12-31 22:00:00    12.483566     17.903901  fresno_california   \n",
       "2010-12-31 23:00:00    12.480428     17.903901  fresno_california   \n",
       "\n",
       "                          climate DHW_cons  ...     E_el  season hour  \\\n",
       "timestamp                                   ...                         \n",
       "2010-01-01 01:00:00  Southern dry     21.8  ...   7191.9  winter    1   \n",
       "2010-01-01 02:00:00  Southern dry     21.8  ...  7429.83  winter    2   \n",
       "2010-01-01 03:00:00  Southern dry     21.8  ...  7670.78  winter    3   \n",
       "2010-01-01 04:00:00  Southern dry     21.8  ...  7914.75  winter    4   \n",
       "2010-01-01 05:00:00  Southern dry     21.8  ...  8037.85  winter    5   \n",
       "...                           ...      ...  ...      ...     ...  ...   \n",
       "2010-12-31 19:00:00  Southern dry     21.8  ...  5227.62  winter   19   \n",
       "2010-12-31 20:00:00  Southern dry     21.8  ...  5655.17  winter   20   \n",
       "2010-12-31 21:00:00  Southern dry     21.8  ...  5646.13  winter   21   \n",
       "2010-12-31 22:00:00  Southern dry     21.8  ...  6262.07  winter   22   \n",
       "2010-12-31 23:00:00  Southern dry     21.8  ...  6496.65  winter   23   \n",
       "\n",
       "                    dayofweek source1_cap  source2_cap heat_source1  \\\n",
       "timestamp                                                             \n",
       "2010-01-01 01:00:00         4       20000        20000      20000.0   \n",
       "2010-01-01 02:00:00         4       20000        20000      20000.0   \n",
       "2010-01-01 03:00:00         4       20000        20000      20000.0   \n",
       "2010-01-01 04:00:00         4       20000        20000      20000.0   \n",
       "2010-01-01 05:00:00         4       20000        20000      20000.0   \n",
       "...                       ...         ...          ...          ...   \n",
       "2010-12-31 19:00:00         4       20000        20000      20000.0   \n",
       "2010-12-31 20:00:00         4       20000        20000      20000.0   \n",
       "2010-12-31 21:00:00         4       20000        20000      20000.0   \n",
       "2010-12-31 22:00:00         4       20000        20000      20000.0   \n",
       "2010-12-31 23:00:00         4       20000        20000      20000.0   \n",
       "\n",
       "                    heat_source2 heat_aquifer        date  \n",
       "timestamp                                                  \n",
       "2010-01-01 01:00:00  6704.815088          0.0  2010-01-01  \n",
       "2010-01-01 02:00:00  7176.600294          0.0  2010-01-01  \n",
       "2010-01-01 03:00:00  7645.351317          0.0  2010-01-01  \n",
       "2010-01-01 04:00:00  8111.095117          0.0  2010-01-01  \n",
       "2010-01-01 05:00:00  8342.848752          0.0  2010-01-01  \n",
       "...                          ...          ...         ...  \n",
       "2010-12-31 19:00:00  1823.051839          0.0  2010-12-31  \n",
       "2010-12-31 20:00:00  3697.737657          0.0  2010-12-31  \n",
       "2010-12-31 21:00:00  3420.985034          0.0  2010-12-31  \n",
       "2010-12-31 22:00:00  4882.840515          0.0  2010-12-31  \n",
       "2010-12-31 23:00:00  5270.948843          0.0  2010-12-31  \n",
       "\n",
       "[8759 rows x 44 columns]"
      ]
     },
     "execution_count": 410,
     "metadata": {},
     "output_type": "execute_result"
    }
   ],
   "source": [
    "Tamb_hourly['E_el']= Tamb_hourly['Total_consumption']/ Tamb_hourly['COP']\n",
    "Tamb_hourly"
   ]
  },
  {
   "cell_type": "markdown",
   "metadata": {},
   "source": [
    "# Thermal power provided by sources"
   ]
  },
  {
   "cell_type": "markdown",
   "metadata": {},
   "source": [
    "District heating systems have an opportunity to use heat supply from several sources at the same time. In order for this to happen, it is necessary a control system that allows many thermal plants to deliver heat at the same distribution system. In this case, the base load can be supplied by up to two sources of waste heat, with a maximum capacity and temperature levels determined by the user of this tool. A third source consisting in aquifer wells provides heat from a depth of about 30 m when the base load plants are not operating, as well as in peak load conditions. \n",
    "\n"
   ]
  },
  {
   "cell_type": "code",
   "execution_count": 411,
   "metadata": {},
   "outputs": [],
   "source": [
    "Tamb_hourly[\"source1_cap\"] = cap_source1 * 1000 * s1_schedule[hours, dayofweeks] # values in kW to match the thermal demand calculations\n",
    "Tamb_hourly[\"source2_cap\"] = cap_source2 * 1000 *  s2_schedule[hours, dayofweeks] # values in kW to match the thermal demand calculations\n"
   ]
  },
  {
   "cell_type": "code",
   "execution_count": 412,
   "metadata": {},
   "outputs": [],
   "source": [
    "def calculate_heatsupply(source1_cap, source2_cap, source1_temp, source2_temp,thermal_energy_from_sources):\n",
    "    if source1_cap == 0.0 and source2_cap == 0.0:\n",
    "        heat_source1 = 0.0\n",
    "        heat_source2= 0.0\n",
    "        heat_aquifer = thermal_energy_from_sources\n",
    "        return pd.Series([heat_source1, heat_source2, heat_aquifer] , index=['heat_source1','heat_source2','heat_aquifer'])    \n",
    "    elif source1_cap == 0.0:                    #Si la primera fuente no funciona, la otra cubre la demanda hasta su max capacidad\n",
    "        if thermal_energy_from_sources <=  source2_cap:\n",
    "            heat_source1 = 0.0\n",
    "            heat_source2 = thermal_energy_from_sources\n",
    "            heat_aquifer = 0.0\n",
    "        else:\n",
    "            heat_source1 = 0.0\n",
    "            heat_source2 = source2_cap\n",
    "            heat_aquifer = thermal_energy_from_sources - source2_cap\n",
    "        return pd.Series([heat_source1, heat_source2, heat_aquifer] , index=['heat_source1','heat_source2','heat_aquifer'])    \n",
    "    elif source2_cap == 0.0:                                 #Si la segunda fuente no funciona, la otra cubre la demanda hasta su max capacidad\n",
    "        if thermal_energy_from_sources <=  source1_cap:\n",
    "            heat_source1 = thermal_energy_from_sources\n",
    "            heat_source2 = 0.0\n",
    "            heat_aquifer = 0.0\n",
    "        else:\n",
    "            heat_source1 = source1_cap\n",
    "            heat_source2 = 0.0\n",
    "            heat_aquifer = thermal_energy_from_sources - source1_cap\n",
    "        return pd.Series([heat_source1, heat_source2, heat_aquifer] , index=['heat_source1','heat_source2','heat_aquifer'])    \n",
    "    else:                            #Si ambas plantas funcionan, opera la de mayor temperatura hasta su max capacidad, si no es suficiente, se activa la segunda planta\n",
    "        if source1_temp < source2_temp:\n",
    "            \n",
    "            if thermal_energy_from_sources <=  source1_cap:\n",
    "                heat_source1 = thermal_energy_from_sources\n",
    "                heat_source2 = 0.0\n",
    "                heat_aquifer = 0.0\n",
    "            else:\n",
    "                heat_source1 = source1_cap\n",
    "                heat_source2 = thermal_energy_from_sources - source1_cap\n",
    "                heat_aquifer = 0.0\n",
    "            \n",
    "            return pd.Series([heat_source1, heat_source2, heat_aquifer] , index=['heat_source1','heat_source2','heat_aquifer'])           \n",
    "        else: \n",
    "            if thermal_energy_from_sources <=  source2_cap:\n",
    "                heat_source1 = 0.0\n",
    "                heat_source2 = thermal_energy_from_sources\n",
    "                heat_aquifer = 0.0\n",
    "            else:\n",
    "                heat_source1 = thermal_energy_from_sources - source2_cap\n",
    "                heat_source2 = source2_cap\n",
    "                heat_aquifer = 0.0\n",
    "            return pd.Series([heat_source1, heat_source2, heat_aquifer] , index=['heat_source1','heat_source2','heat_aquifer'])"
   ]
  },
  {
   "cell_type": "code",
   "execution_count": 413,
   "metadata": {},
   "outputs": [],
   "source": [
    "y = Tamb_hourly.apply(lambda fila: calculate_heatsupply(fila.source1_cap,fila.source2_cap, fila.source1_temp, fila.source2_temp, fila.Total_consumption - fila.E_el), axis=1 , result_type='expand')\n",
    "Tamb_hourly[\"heat_source1\"] = y['heat_source1']\n",
    "Tamb_hourly[\"heat_source2\"] = y['heat_source2']\n",
    "Tamb_hourly[\"heat_aquifer\"] = y['heat_aquifer']"
   ]
  },
  {
   "cell_type": "markdown",
   "metadata": {
    "pycharm": {
     "name": "#%% md\n"
    }
   },
   "source": [
    "## Save CSV version of the dataset and simulation values"
   ]
  },
  {
   "cell_type": "code",
   "execution_count": 414,
   "metadata": {
    "collapsed": false,
    "jupyter": {
     "outputs_hidden": false
    },
    "pycharm": {
     "name": "#%%\n"
    }
   },
   "outputs": [],
   "source": [
    "AVAILABLE_DATASET_PATHS = {OspitalettoDataset.OSPITALETTO: ospitaletto2019.processed_dataset_path,\n",
    "                           NOAA2010Dataset.MIAMI_FL: noaa2010Dataset.processed_miami_fl_dataset_path, \n",
    "                           NOAA2010Dataset.FRESNO_CA: noaa2010Dataset.processed_fresno_ca_dataset_path, \n",
    "                           NOAA2010Dataset.OLYMPIA_WA: noaa2010Dataset.processed_olympia_wa_dataset_path,\n",
    "                           NOAA2010Dataset.ROCHESTER_NY: noaa2010Dataset.processed_rochester_ny_dataset_path,\n",
    "                           InsPireDataset.LONDON_UK: insPireDataset.processed_london_uk_dataset_path,\n",
    "                           InsPireDataset.MADRID_SPA: insPireDataset.processed_madrid_spa_dataset_path,\n",
    "                           InsPireDataset.ROME_IT: insPireDataset.processed_rome_it_dataset_path,\n",
    "                           InsPireDataset.STUTTGART_GER: insPireDataset.processed_stuttgart_ger_dataset_path,}\n",
    "\n",
    "Tamb_hourly.to_csv(path_or_buf=AVAILABLE_DATASET_PATHS[dataset_to_work])"
   ]
  },
  {
   "cell_type": "code",
   "execution_count": 415,
   "metadata": {},
   "outputs": [],
   "source": [
    "simulation_values_path = os.path.join(\".\", \"data\", \"simulation_values.json\")\n",
    "\n",
    "with open(simulation_values_path, \"w\") as f:\n",
    "    json.dump(simulation_values, f, sort_keys=True, indent=2)"
   ]
  },
  {
   "cell_type": "code",
   "execution_count": null,
   "metadata": {},
   "outputs": [],
   "source": []
  }
 ],
 "metadata": {
  "kernelspec": {
   "display_name": "Python 3",
   "language": "python",
   "name": "python3"
  },
  "language_info": {
   "codemirror_mode": {
    "name": "ipython",
    "version": 3
   },
   "file_extension": ".py",
   "mimetype": "text/x-python",
   "name": "python",
   "nbconvert_exporter": "python",
   "pygments_lexer": "ipython3",
   "version": "3.8.1"
  }
 },
 "nbformat": 4,
 "nbformat_minor": 4
}
