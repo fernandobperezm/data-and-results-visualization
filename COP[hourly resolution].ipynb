{
 "cells": [
  {
   "cell_type": "code",
   "execution_count": 478,
   "metadata": {},
   "outputs": [
    {
     "name": "stdout",
     "output_type": "stream",
     "text": [
      "Tamb_min: 4.103080157839738 Tamb_max 26.56602133917541\n"
     ]
    },
    {
     "data": {
      "image/png": "[encoded data removed]",
      "text/plain": [
       "<Figure size 432x288 with 1 Axes>"
      ]
     },
     "metadata": {
      "needs_background": "light"
     },
     "output_type": "display_data"
    }
   ],
   "source": [
    "import pandas as pd\n",
    "from pandas import DataFrame\n",
    "import seaborn as sns\n",
    "\n",
    "temp=pd.read_excel(\"Tamb_input.xls\" ,squeeze=True)\n",
    "Treal=pd.read_excel(\"Tamb_hourly.xls\", squeeze=True)\n",
    "\n",
    "Tamb_fit=pd.Series(temp)\n",
    "Tamb=pd.Series(Treal)\n",
    "\n",
    "mypalette = sns.color_palette(['#162f4d']) # https://www.hsluv.org/\n",
    "sns.set_palette(mypalette)\n",
    "\n",
    "\n",
    "Tamb.plot()\n",
    "Tamb_fit.plot(color='red')\n",
    "print('Tamb_min:',Tamb_fit.min(),'Tamb_max',Tamb_fit.max())\n"
   ]
  },
  {
   "cell_type": "code",
   "execution_count": 274,
   "metadata": {
    "jupyter": {
     "source_hidden": true
    }
   },
   "outputs": [
    {
     "data": {
      "text/html": [
       "<div>\n",
       "<style scoped>\n",
       "    .dataframe tbody tr th:only-of-type {\n",
       "        vertical-align: middle;\n",
       "    }\n",
       "\n",
       "    .dataframe tbody tr th {\n",
       "        vertical-align: top;\n",
       "    }\n",
       "\n",
       "    .dataframe thead th {\n",
       "        text-align: right;\n",
       "    }\n",
       "</style>\n",
       "<table border=\"1\" class=\"dataframe\">\n",
       "  <thead>\n",
       "    <tr style=\"text-align: right;\">\n",
       "      <th></th>\n",
       "      <th>date</th>\n",
       "      <th>Tamb_fit</th>\n",
       "      <th>Tamb</th>\n",
       "    </tr>\n",
       "  </thead>\n",
       "  <tbody>\n",
       "    <tr>\n",
       "      <th>0</th>\n",
       "      <td>2019-01-01 00:00:00</td>\n",
       "      <td>4.751630</td>\n",
       "      <td>9.100000</td>\n",
       "    </tr>\n",
       "    <tr>\n",
       "      <th>1</th>\n",
       "      <td>2019-01-01 01:00:00</td>\n",
       "      <td>4.748935</td>\n",
       "      <td>9.200000</td>\n",
       "    </tr>\n",
       "    <tr>\n",
       "      <th>2</th>\n",
       "      <td>2019-01-01 02:00:00</td>\n",
       "      <td>4.746245</td>\n",
       "      <td>9.166667</td>\n",
       "    </tr>\n",
       "    <tr>\n",
       "      <th>3</th>\n",
       "      <td>2019-01-01 03:00:00</td>\n",
       "      <td>4.743561</td>\n",
       "      <td>9.183333</td>\n",
       "    </tr>\n",
       "    <tr>\n",
       "      <th>4</th>\n",
       "      <td>2019-01-01 04:00:00</td>\n",
       "      <td>4.740882</td>\n",
       "      <td>8.916667</td>\n",
       "    </tr>\n",
       "    <tr>\n",
       "      <th>5</th>\n",
       "      <td>2019-01-01 05:00:00</td>\n",
       "      <td>4.738209</td>\n",
       "      <td>8.083333</td>\n",
       "    </tr>\n",
       "    <tr>\n",
       "      <th>6</th>\n",
       "      <td>2019-01-01 06:00:00</td>\n",
       "      <td>4.735541</td>\n",
       "      <td>7.766667</td>\n",
       "    </tr>\n",
       "    <tr>\n",
       "      <th>7</th>\n",
       "      <td>2019-01-01 07:00:00</td>\n",
       "      <td>4.732878</td>\n",
       "      <td>7.033333</td>\n",
       "    </tr>\n",
       "    <tr>\n",
       "      <th>8</th>\n",
       "      <td>2019-01-01 08:00:00</td>\n",
       "      <td>4.730221</td>\n",
       "      <td>6.316667</td>\n",
       "    </tr>\n",
       "    <tr>\n",
       "      <th>9</th>\n",
       "      <td>2019-01-01 09:00:00</td>\n",
       "      <td>4.727570</td>\n",
       "      <td>6.216667</td>\n",
       "    </tr>\n",
       "    <tr>\n",
       "      <th>10</th>\n",
       "      <td>2019-01-01 10:00:00</td>\n",
       "      <td>4.724924</td>\n",
       "      <td>6.700000</td>\n",
       "    </tr>\n",
       "    <tr>\n",
       "      <th>11</th>\n",
       "      <td>2019-01-01 11:00:00</td>\n",
       "      <td>4.722283</td>\n",
       "      <td>7.850000</td>\n",
       "    </tr>\n",
       "  </tbody>\n",
       "</table>\n",
       "</div>"
      ],
      "text/plain": [
       "                  date  Tamb_fit      Tamb\n",
       "0  2019-01-01 00:00:00  4.751630  9.100000\n",
       "1  2019-01-01 01:00:00  4.748935  9.200000\n",
       "2  2019-01-01 02:00:00  4.746245  9.166667\n",
       "3  2019-01-01 03:00:00  4.743561  9.183333\n",
       "4  2019-01-01 04:00:00  4.740882  8.916667\n",
       "5  2019-01-01 05:00:00  4.738209  8.083333\n",
       "6  2019-01-01 06:00:00  4.735541  7.766667\n",
       "7  2019-01-01 07:00:00  4.732878  7.033333\n",
       "8  2019-01-01 08:00:00  4.730221  6.316667\n",
       "9  2019-01-01 09:00:00  4.727570  6.216667\n",
       "10 2019-01-01 10:00:00  4.724924  6.700000\n",
       "11 2019-01-01 11:00:00  4.722283  7.850000"
      ]
     },
     "execution_count": 274,
     "metadata": {},
     "output_type": "execute_result"
    }
   ],
   "source": [
    "from datetime import datetime\n",
    "import numpy as np\n",
    "import matplotlib.pyplot as plt\n",
    "\n",
    "date_rng = pd.date_range(start='1/1/2019 00:00:00', end='31/12/2019 00:00:00', freq='H')\n",
    "df = pd.DataFrame(date_rng, columns=['date'])\n",
    "\n",
    "df['Tamb_fit'] = Tamb_fit\n",
    "df['Tamb'] = Tamb\n",
    "\n",
    "\n",
    "df.head(12)\n",
    "#df[df.index.month==12]\n",
    "\n"
   ]
  },
  {
   "cell_type": "markdown",
   "metadata": {},
   "source": [
    "# Data manipulation-processing"
   ]
  },
  {
   "cell_type": "code",
   "execution_count": 479,
   "metadata": {},
   "outputs": [],
   "source": [
    "Tamb_hourly=pd.DataFrame(df, columns = ['date','Tamb','Tamb_fit']) #Ambient temperature on an hourly resolutionT\n"
   ]
  },
  {
   "cell_type": "code",
   "execution_count": 480,
   "metadata": {},
   "outputs": [],
   "source": [
    "Tamb_hourly['date'] =pd.to_datetime(Tamb_hourly['date'], infer_datetime_format=True) #Estoy asociando el index de tiempo a la columna Data-Ora\n",
    "Tamb_hourly=Tamb_hourly.set_index('date')"
   ]
  },
  {
   "cell_type": "code",
   "execution_count": 481,
   "metadata": {},
   "outputs": [
    {
     "data": {
      "text/html": [
       "<div>\n",
       "<style scoped>\n",
       "    .dataframe tbody tr th:only-of-type {\n",
       "        vertical-align: middle;\n",
       "    }\n",
       "\n",
       "    .dataframe tbody tr th {\n",
       "        vertical-align: top;\n",
       "    }\n",
       "\n",
       "    .dataframe thead th {\n",
       "        text-align: right;\n",
       "    }\n",
       "</style>\n",
       "<table border=\"1\" class=\"dataframe\">\n",
       "  <thead>\n",
       "    <tr style=\"text-align: right;\">\n",
       "      <th></th>\n",
       "      <th>Tamb</th>\n",
       "      <th>Tamb_fit</th>\n",
       "    </tr>\n",
       "    <tr>\n",
       "      <th>date</th>\n",
       "      <th></th>\n",
       "      <th></th>\n",
       "    </tr>\n",
       "  </thead>\n",
       "  <tbody>\n",
       "    <tr>\n",
       "      <th>2019-01-01 00:00:00</th>\n",
       "      <td>9.100000</td>\n",
       "      <td>4.751630</td>\n",
       "    </tr>\n",
       "    <tr>\n",
       "      <th>2019-01-01 01:00:00</th>\n",
       "      <td>9.200000</td>\n",
       "      <td>4.748935</td>\n",
       "    </tr>\n",
       "    <tr>\n",
       "      <th>2019-01-01 02:00:00</th>\n",
       "      <td>9.166667</td>\n",
       "      <td>4.746245</td>\n",
       "    </tr>\n",
       "    <tr>\n",
       "      <th>2019-01-01 03:00:00</th>\n",
       "      <td>9.183333</td>\n",
       "      <td>4.743561</td>\n",
       "    </tr>\n",
       "    <tr>\n",
       "      <th>2019-01-01 04:00:00</th>\n",
       "      <td>8.916667</td>\n",
       "      <td>4.740882</td>\n",
       "    </tr>\n",
       "  </tbody>\n",
       "</table>\n",
       "</div>"
      ],
      "text/plain": [
       "                         Tamb  Tamb_fit\n",
       "date                                   \n",
       "2019-01-01 00:00:00  9.100000  4.751630\n",
       "2019-01-01 01:00:00  9.200000  4.748935\n",
       "2019-01-01 02:00:00  9.166667  4.746245\n",
       "2019-01-01 03:00:00  9.183333  4.743561\n",
       "2019-01-01 04:00:00  8.916667  4.740882"
      ]
     },
     "execution_count": 481,
     "metadata": {},
     "output_type": "execute_result"
    }
   ],
   "source": [
    "Tamb_hourly.head()"
   ]
  },
  {
   "cell_type": "code",
   "execution_count": 482,
   "metadata": {},
   "outputs": [
    {
     "name": "stdout",
     "output_type": "stream",
     "text": [
      "<class 'pandas.core.frame.DataFrame'>\n",
      "DatetimeIndex: 8737 entries, 2019-01-01 00:00:00 to 2019-12-31 00:00:00\n",
      "Data columns (total 2 columns):\n",
      "Tamb        8737 non-null float64\n",
      "Tamb_fit    8737 non-null float64\n",
      "dtypes: float64(2)\n",
      "memory usage: 204.8 KB\n"
     ]
    }
   ],
   "source": [
    "Tamb_hourly.info()"
   ]
  },
  {
   "cell_type": "code",
   "execution_count": 483,
   "metadata": {},
   "outputs": [
    {
     "data": {
      "text/plain": [
       "DatetimeIndex(['2019-01-01 00:00:00', '2019-01-01 01:00:00',\n",
       "               '2019-01-01 02:00:00', '2019-01-01 03:00:00',\n",
       "               '2019-01-01 04:00:00', '2019-01-01 05:00:00',\n",
       "               '2019-01-01 06:00:00', '2019-01-01 07:00:00',\n",
       "               '2019-01-01 08:00:00', '2019-01-01 09:00:00',\n",
       "               ...\n",
       "               '2019-12-30 15:00:00', '2019-12-30 16:00:00',\n",
       "               '2019-12-30 17:00:00', '2019-12-30 18:00:00',\n",
       "               '2019-12-30 19:00:00', '2019-12-30 20:00:00',\n",
       "               '2019-12-30 21:00:00', '2019-12-30 22:00:00',\n",
       "               '2019-12-30 23:00:00', '2019-12-31 00:00:00'],\n",
       "              dtype='datetime64[ns]', name='date', length=8737, freq=None)"
      ]
     },
     "execution_count": 483,
     "metadata": {},
     "output_type": "execute_result"
    }
   ],
   "source": [
    "Tamb_hourly.index"
   ]
  },
  {
   "cell_type": "code",
   "execution_count": 461,
   "metadata": {},
   "outputs": [],
   "source": [
    "Tamb_hourly.reset_index(inplace=True)"
   ]
  },
  {
   "cell_type": "code",
   "execution_count": 263,
   "metadata": {},
   "outputs": [],
   "source": [
    "Tamb_hourly['Month'] = Tamb_hourly.index.month\n"
   ]
  },
  {
   "cell_type": "code",
   "execution_count": 484,
   "metadata": {},
   "outputs": [
    {
     "data": {
      "text/html": [
       "<div>\n",
       "<style scoped>\n",
       "    .dataframe tbody tr th:only-of-type {\n",
       "        vertical-align: middle;\n",
       "    }\n",
       "\n",
       "    .dataframe tbody tr th {\n",
       "        vertical-align: top;\n",
       "    }\n",
       "\n",
       "    .dataframe thead th {\n",
       "        text-align: right;\n",
       "    }\n",
       "</style>\n",
       "<table border=\"1\" class=\"dataframe\">\n",
       "  <thead>\n",
       "    <tr style=\"text-align: right;\">\n",
       "      <th></th>\n",
       "      <th>Tamb</th>\n",
       "      <th>Tamb_fit</th>\n",
       "    </tr>\n",
       "    <tr>\n",
       "      <th>date</th>\n",
       "      <th></th>\n",
       "      <th></th>\n",
       "    </tr>\n",
       "  </thead>\n",
       "  <tbody>\n",
       "    <tr>\n",
       "      <th>2019-01-01 00:00:00</th>\n",
       "      <td>9.100000</td>\n",
       "      <td>4.751630</td>\n",
       "    </tr>\n",
       "    <tr>\n",
       "      <th>2019-01-01 01:00:00</th>\n",
       "      <td>9.200000</td>\n",
       "      <td>4.748935</td>\n",
       "    </tr>\n",
       "    <tr>\n",
       "      <th>2019-01-01 02:00:00</th>\n",
       "      <td>9.166667</td>\n",
       "      <td>4.746245</td>\n",
       "    </tr>\n",
       "    <tr>\n",
       "      <th>2019-01-01 03:00:00</th>\n",
       "      <td>9.183333</td>\n",
       "      <td>4.743561</td>\n",
       "    </tr>\n",
       "    <tr>\n",
       "      <th>2019-01-01 04:00:00</th>\n",
       "      <td>8.916667</td>\n",
       "      <td>4.740882</td>\n",
       "    </tr>\n",
       "    <tr>\n",
       "      <th>...</th>\n",
       "      <td>...</td>\n",
       "      <td>...</td>\n",
       "    </tr>\n",
       "    <tr>\n",
       "      <th>2019-12-30 20:00:00</th>\n",
       "      <td>0.733333</td>\n",
       "      <td>4.829299</td>\n",
       "    </tr>\n",
       "    <tr>\n",
       "      <th>2019-12-30 21:00:00</th>\n",
       "      <td>-0.100000</td>\n",
       "      <td>4.826452</td>\n",
       "    </tr>\n",
       "    <tr>\n",
       "      <th>2019-12-30 22:00:00</th>\n",
       "      <td>-0.250000</td>\n",
       "      <td>4.823610</td>\n",
       "    </tr>\n",
       "    <tr>\n",
       "      <th>2019-12-30 23:00:00</th>\n",
       "      <td>-0.983333</td>\n",
       "      <td>4.820774</td>\n",
       "    </tr>\n",
       "    <tr>\n",
       "      <th>2019-12-31 00:00:00</th>\n",
       "      <td>-0.800000</td>\n",
       "      <td>4.817943</td>\n",
       "    </tr>\n",
       "  </tbody>\n",
       "</table>\n",
       "<p>8737 rows × 2 columns</p>\n",
       "</div>"
      ],
      "text/plain": [
       "                         Tamb  Tamb_fit\n",
       "date                                   \n",
       "2019-01-01 00:00:00  9.100000  4.751630\n",
       "2019-01-01 01:00:00  9.200000  4.748935\n",
       "2019-01-01 02:00:00  9.166667  4.746245\n",
       "2019-01-01 03:00:00  9.183333  4.743561\n",
       "2019-01-01 04:00:00  8.916667  4.740882\n",
       "...                       ...       ...\n",
       "2019-12-30 20:00:00  0.733333  4.829299\n",
       "2019-12-30 21:00:00 -0.100000  4.826452\n",
       "2019-12-30 22:00:00 -0.250000  4.823610\n",
       "2019-12-30 23:00:00 -0.983333  4.820774\n",
       "2019-12-31 00:00:00 -0.800000  4.817943\n",
       "\n",
       "[8737 rows x 2 columns]"
      ]
     },
     "execution_count": 484,
     "metadata": {},
     "output_type": "execute_result"
    }
   ],
   "source": [
    "Tamb_hourly"
   ]
  },
  {
   "cell_type": "code",
   "execution_count": 485,
   "metadata": {},
   "outputs": [
    {
     "name": "stdin",
     "output_type": "stream",
     "text": [
      "Enter min setpoint temperature:  46.25\n",
      "Enter max setpoint temperature:  55\n"
     ]
    }
   ],
   "source": [
    "Tmin_i = float(input(\"Enter min setpoint temperature: \"))\n",
    "Tmax_i = float(input(\"Enter max setpoint temperature: \"))"
   ]
  },
  {
   "cell_type": "code",
   "execution_count": 486,
   "metadata": {},
   "outputs": [],
   "source": [
    "def climatic_curve(Tamb_h):\n",
    "    Tmin_o = 2.38 #minimum outdoor T threshold in which the space heating system turns on\n",
    "    Tmax_o = 7.25 #maximum outdoor T threshold in which the space heating system turns off\n",
    "\n",
    "    if Tamb_h <= Tmin_o:   \n",
    "        Tsh = Tmax_i\n",
    "    elif Tamb_h >= Tmax_o:\n",
    "        Tsh = Tmin_i\n",
    "    else:\n",
    "        m = (Tmax_i-Tmin_i)/(Tmin_o-Tmax_o)\n",
    "        b = -m*Tmin_o+Tmax_i\n",
    "        Tsh = m*Tamb_h+b\n",
    "    return Tsh\n",
    " "
   ]
  },
  {
   "cell_type": "code",
   "execution_count": 487,
   "metadata": {},
   "outputs": [],
   "source": [
    "Tamb_hourly['Tsh'] = Tamb_hourly['Tamb'].apply(lambda x: climatic_curve(x))\n",
    "#Tamb_hourly['Tsh'] = Tamb['Temp'].apply(lambda x: climatic_curve(x))\n"
   ]
  },
  {
   "cell_type": "code",
   "execution_count": 488,
   "metadata": {
    "scrolled": true
   },
   "outputs": [
    {
     "name": "stdin",
     "output_type": "stream",
     "text": [
      "Enter domestic hot water temperature:  55\n"
     ]
    }
   ],
   "source": [
    "Tdhw = float(input(\"Enter domestic hot water temperature: \"))\n",
    "\n",
    "Tamb_hourly[\"Tdhw\"] =Tdhw"
   ]
  },
  {
   "cell_type": "code",
   "execution_count": 489,
   "metadata": {},
   "outputs": [
    {
     "data": {
      "text/html": [
       "<div>\n",
       "<style scoped>\n",
       "    .dataframe tbody tr th:only-of-type {\n",
       "        vertical-align: middle;\n",
       "    }\n",
       "\n",
       "    .dataframe tbody tr th {\n",
       "        vertical-align: top;\n",
       "    }\n",
       "\n",
       "    .dataframe thead th {\n",
       "        text-align: right;\n",
       "    }\n",
       "</style>\n",
       "<table border=\"1\" class=\"dataframe\">\n",
       "  <thead>\n",
       "    <tr style=\"text-align: right;\">\n",
       "      <th></th>\n",
       "      <th>Tamb</th>\n",
       "      <th>Tamb_fit</th>\n",
       "      <th>Tsh</th>\n",
       "      <th>Tdhw</th>\n",
       "    </tr>\n",
       "    <tr>\n",
       "      <th>date</th>\n",
       "      <th></th>\n",
       "      <th></th>\n",
       "      <th></th>\n",
       "      <th></th>\n",
       "    </tr>\n",
       "  </thead>\n",
       "  <tbody>\n",
       "    <tr>\n",
       "      <th>2019-01-01 00:00:00</th>\n",
       "      <td>9.100000</td>\n",
       "      <td>4.751630</td>\n",
       "      <td>46.250000</td>\n",
       "      <td>55.0</td>\n",
       "    </tr>\n",
       "    <tr>\n",
       "      <th>2019-01-01 01:00:00</th>\n",
       "      <td>9.200000</td>\n",
       "      <td>4.748935</td>\n",
       "      <td>46.250000</td>\n",
       "      <td>55.0</td>\n",
       "    </tr>\n",
       "    <tr>\n",
       "      <th>2019-01-01 02:00:00</th>\n",
       "      <td>9.166667</td>\n",
       "      <td>4.746245</td>\n",
       "      <td>46.250000</td>\n",
       "      <td>55.0</td>\n",
       "    </tr>\n",
       "    <tr>\n",
       "      <th>2019-01-01 03:00:00</th>\n",
       "      <td>9.183333</td>\n",
       "      <td>4.743561</td>\n",
       "      <td>46.250000</td>\n",
       "      <td>55.0</td>\n",
       "    </tr>\n",
       "    <tr>\n",
       "      <th>2019-01-01 04:00:00</th>\n",
       "      <td>8.916667</td>\n",
       "      <td>4.740882</td>\n",
       "      <td>46.250000</td>\n",
       "      <td>55.0</td>\n",
       "    </tr>\n",
       "    <tr>\n",
       "      <th>2019-01-01 05:00:00</th>\n",
       "      <td>8.083333</td>\n",
       "      <td>4.738209</td>\n",
       "      <td>46.250000</td>\n",
       "      <td>55.0</td>\n",
       "    </tr>\n",
       "    <tr>\n",
       "      <th>2019-01-01 06:00:00</th>\n",
       "      <td>7.766667</td>\n",
       "      <td>4.735541</td>\n",
       "      <td>46.250000</td>\n",
       "      <td>55.0</td>\n",
       "    </tr>\n",
       "    <tr>\n",
       "      <th>2019-01-01 07:00:00</th>\n",
       "      <td>7.033333</td>\n",
       "      <td>4.732878</td>\n",
       "      <td>46.639288</td>\n",
       "      <td>55.0</td>\n",
       "    </tr>\n",
       "    <tr>\n",
       "      <th>2019-01-01 08:00:00</th>\n",
       "      <td>6.316667</td>\n",
       "      <td>4.730221</td>\n",
       "      <td>47.926934</td>\n",
       "      <td>55.0</td>\n",
       "    </tr>\n",
       "    <tr>\n",
       "      <th>2019-01-01 09:00:00</th>\n",
       "      <td>6.216667</td>\n",
       "      <td>4.727570</td>\n",
       "      <td>48.106605</td>\n",
       "      <td>55.0</td>\n",
       "    </tr>\n",
       "    <tr>\n",
       "      <th>2019-01-01 10:00:00</th>\n",
       "      <td>6.700000</td>\n",
       "      <td>4.724924</td>\n",
       "      <td>47.238193</td>\n",
       "      <td>55.0</td>\n",
       "    </tr>\n",
       "    <tr>\n",
       "      <th>2019-01-01 11:00:00</th>\n",
       "      <td>7.850000</td>\n",
       "      <td>4.722283</td>\n",
       "      <td>46.250000</td>\n",
       "      <td>55.0</td>\n",
       "    </tr>\n",
       "  </tbody>\n",
       "</table>\n",
       "</div>"
      ],
      "text/plain": [
       "                         Tamb  Tamb_fit        Tsh  Tdhw\n",
       "date                                                    \n",
       "2019-01-01 00:00:00  9.100000  4.751630  46.250000  55.0\n",
       "2019-01-01 01:00:00  9.200000  4.748935  46.250000  55.0\n",
       "2019-01-01 02:00:00  9.166667  4.746245  46.250000  55.0\n",
       "2019-01-01 03:00:00  9.183333  4.743561  46.250000  55.0\n",
       "2019-01-01 04:00:00  8.916667  4.740882  46.250000  55.0\n",
       "2019-01-01 05:00:00  8.083333  4.738209  46.250000  55.0\n",
       "2019-01-01 06:00:00  7.766667  4.735541  46.250000  55.0\n",
       "2019-01-01 07:00:00  7.033333  4.732878  46.639288  55.0\n",
       "2019-01-01 08:00:00  6.316667  4.730221  47.926934  55.0\n",
       "2019-01-01 09:00:00  6.216667  4.727570  48.106605  55.0\n",
       "2019-01-01 10:00:00  6.700000  4.724924  47.238193  55.0\n",
       "2019-01-01 11:00:00  7.850000  4.722283  46.250000  55.0"
      ]
     },
     "execution_count": 489,
     "metadata": {},
     "output_type": "execute_result"
    }
   ],
   "source": [
    "Tamb_hourly.head(12)\n"
   ]
  },
  {
   "cell_type": "code",
   "execution_count": 454,
   "metadata": {},
   "outputs": [],
   "source": [
    "Tamb_hourly=Tamb_hourly.set_index('date')"
   ]
  },
  {
   "cell_type": "code",
   "execution_count": 500,
   "metadata": {},
   "outputs": [
    {
     "data": {
      "text/plain": [
       "<matplotlib.legend.Legend at 0x1a31b37650>"
      ]
     },
     "execution_count": 500,
     "metadata": {},
     "output_type": "execute_result"
    },
    {
     "data": {
      "image/png": "[encoded data removed]",
      "text/plain": [
       "<Figure size 720x432 with 1 Axes>"
      ]
     },
     "metadata": {
      "needs_background": "light"
     },
     "output_type": "display_data"
    }
   ],
   "source": [
    "mes=Tamb_hourly[Tamb_hourly.index.month == 11 ]\n",
    "mes[[\"Tsh\",\"Tdhw\"]].plot(figsize=(10,6), color=[\"#4e97a2\",'#82272e'])\n",
    "plt.legend(loc='center left', bbox_to_anchor=(1.0, 0.5))"
   ]
  },
  {
   "cell_type": "code",
   "execution_count": 76,
   "metadata": {},
   "outputs": [
    {
     "data": {
      "text/plain": [
       "Tsh     float64\n",
       "Tdhw    float64\n",
       "dtype: object"
      ]
     },
     "execution_count": 76,
     "metadata": {},
     "output_type": "execute_result"
    }
   ],
   "source": [
    "Tamb_hourly[[\"Tsh\",\"Tdhw\"]].dtypes"
   ]
  },
  {
   "cell_type": "code",
   "execution_count": 496,
   "metadata": {},
   "outputs": [],
   "source": [
    "def Tuser(col):\n",
    "    Tsh=col[\"Tsh\"]\n",
    "    Tdhw=col[\"Tdhw\"]\n",
    "    fecha=col.name\n",
    "    #Las proporciones dependen de la localización\n",
    "    if fecha.month==1:\n",
    "        resultado= 0.98*Tsh+0.02*Tdhw\n",
    "       \n",
    "    elif fecha.month==2:\n",
    "        resultado=0.96*Tsh+0.04*Tdhw\n",
    "    \n",
    "    elif fecha.month==3:\n",
    "        resultado=0.94*Tsh+0.06*Tdhw\n",
    "    \n",
    "    elif fecha.month==4:\n",
    "        resultado=0.90*Tsh+0.1*Tdhw\n",
    "    \n",
    "    elif fecha.month==5:\n",
    "        resultado=0.75*Tsh+0.25*Tdhw\n",
    "    \n",
    "    elif fecha.month==6:\n",
    "        resultado=0.25*Tsh+0.75*Tdhw\n",
    "    \n",
    "    elif fecha.month==7:\n",
    "        resultado=0*Tsh+1.0*Tdhw\n",
    "    \n",
    "    elif fecha.month==8:\n",
    "        resultado=0*Tsh+1.0*Tdhw\n",
    "    \n",
    "    elif fecha.month==9:\n",
    "        resultado=0.1*Tsh+0.9*Tdhw\n",
    "    \n",
    "    elif fecha.month==10:\n",
    "        resultado=0.80*Tsh+0.2*Tdhw\n",
    "    \n",
    "    elif fecha.month==11:\n",
    "        resultado=0.95*Tsh+0.05*Tdhw\n",
    "    \n",
    "    elif fecha.month==12:\n",
    "        resultado=0.97*Tsh+0.03*Tdhw\n",
    "        \n",
    "    return resultado"
   ]
  },
  {
   "cell_type": "code",
   "execution_count": 497,
   "metadata": {},
   "outputs": [],
   "source": [
    "Tamb_hourly[\"Tuser\"] = Tamb_hourly.apply(lambda x: Tuser(x), axis=1)"
   ]
  },
  {
   "cell_type": "code",
   "execution_count": 498,
   "metadata": {},
   "outputs": [
    {
     "data": {
      "text/plain": [
       "<matplotlib.axes._subplots.AxesSubplot at 0x1a3175fd90>"
      ]
     },
     "execution_count": 498,
     "metadata": {},
     "output_type": "execute_result"
    },
    {
     "data": {
      "image/png": "[encoded data removed]",
      "text/plain": [
       "<Figure size 720x432 with 1 Axes>"
      ]
     },
     "metadata": {
      "needs_background": "light"
     },
     "output_type": "display_data"
    }
   ],
   "source": [
    "Tamb_hourly[\"Tuser\"].plot(figsize=(10,6))"
   ]
  },
  {
   "cell_type": "code",
   "execution_count": 501,
   "metadata": {},
   "outputs": [
    {
     "data": {
      "text/plain": [
       "<matplotlib.axes._subplots.AxesSubplot at 0x1a309a4490>"
      ]
     },
     "execution_count": 501,
     "metadata": {},
     "output_type": "execute_result"
    },
    {
     "data": {
      "image/png": "[encoded data removed]",
      "text/plain": [
       "<Figure size 720x432 with 1 Axes>"
      ]
     },
     "metadata": {
      "needs_background": "light"
     },
     "output_type": "display_data"
    }
   ],
   "source": [
    "mes[\"Tuser\"].plot(figsize=(10,6))"
   ]
  },
  {
   "cell_type": "markdown",
   "metadata": {},
   "source": [
    "# Network temperature "
   ]
  },
  {
   "cell_type": "code",
   "execution_count": 503,
   "metadata": {},
   "outputs": [],
   "source": [
    "from math import exp, cos, sqrt, pi\n",
    "\n",
    "zz=1               #Depth [m]\n",
    "alpha=0.06048      #Ground thermal diffusivity, Banks [m^2/day]\n",
    "alpha_sec=7e-7 #Ground thermal diffusivity, Banks [m^2/s]\n",
    "t_sec=365*24*3600\n",
    "d_shift_max = Tamb_hourly['Tamb_fit'].idxmax(axis=0)\n",
    "dd_max=(Tamb_hourly.index.get_loc(d_shift_max))/24\n",
    "\n",
    "Tg_und = Tamb.mean() #T_ave_fit #Undisturbed ground temperature\n",
    "DT_y= 11.23 #abs(DT_y_fit)\n",
    "\n"
   ]
  },
  {
   "cell_type": "code",
   "execution_count": 507,
   "metadata": {},
   "outputs": [],
   "source": [
    "def ground_temperature_hour(t,zz):\n",
    "    #t is time in hours, but the calculation is done is seconds\n",
    "    T_banks= Tg_und+DT_y*exp(-zz*sqrt(pi/(alpha_sec*t_sec)))*cos(2*pi/t_sec*(t-dd_max*24)*3600-zz*sqrt(pi/(alpha_sec*t_sec)))\n",
    "    \n",
    "    return  (pd.Series(T_banks))"
   ]
  },
  {
   "cell_type": "code",
   "execution_count": 508,
   "metadata": {},
   "outputs": [],
   "source": [
    "h=pd.Series(range(1, 8738))\n",
    "T_ground=h.apply(lambda x: ground_temperature_hour(x,1))\n",
    "\n",
    "df2 =pd.DataFrame(T_ground, columns=['Tground'])\n",
    "df2['Tground'] = T_ground"
   ]
  },
  {
   "cell_type": "code",
   "execution_count": 509,
   "metadata": {},
   "outputs": [
    {
     "data": {
      "text/plain": [
       "<matplotlib.axes._subplots.AxesSubplot at 0x1a321aa810>"
      ]
     },
     "execution_count": 509,
     "metadata": {},
     "output_type": "execute_result"
    },
    {
     "data": {
      "image/png": "[encoded data removed]",
      "text/plain": [
       "<Figure size 432x288 with 1 Axes>"
      ]
     },
     "metadata": {
      "needs_background": "light"
     },
     "output_type": "display_data"
    }
   ],
   "source": [
    "df2.plot()"
   ]
  },
  {
   "cell_type": "code",
   "execution_count": 516,
   "metadata": {},
   "outputs": [
    {
     "name": "stdin",
     "output_type": "stream",
     "text": [
      "Aquifer temperature depth:\n",
      " 30\n"
     ]
    }
   ],
   "source": [
    "depth_aquifer= float(input(\"\"\"Aquifer temperature depth:\n",
    "\"\"\"))"
   ]
  },
  {
   "cell_type": "code",
   "execution_count": 517,
   "metadata": {},
   "outputs": [],
   "source": [
    "Taq = h.apply(lambda x: ground_temperature_hour(x,depth_aquifer))"
   ]
  },
  {
   "cell_type": "code",
   "execution_count": 518,
   "metadata": {},
   "outputs": [
    {
     "data": {
      "text/plain": [
       "<matplotlib.axes._subplots.AxesSubplot at 0x1a3aa56250>"
      ]
     },
     "execution_count": 518,
     "metadata": {},
     "output_type": "execute_result"
    },
    {
     "data": {
      "image/png": "[encoded data removed]",
      "text/plain": [
       "<Figure size 432x288 with 1 Axes>"
      ]
     },
     "metadata": {
      "needs_background": "light"
     },
     "output_type": "display_data"
    }
   ],
   "source": [
    "Taq.plot()"
   ]
  },
  {
   "cell_type": "code",
   "execution_count": 519,
   "metadata": {},
   "outputs": [],
   "source": [
    "df2[\"Taq\"] = Taq"
   ]
  },
  {
   "cell_type": "code",
   "execution_count": 520,
   "metadata": {},
   "outputs": [
    {
     "data": {
      "text/plain": [
       "<matplotlib.axes._subplots.AxesSubplot at 0x1a391d2150>"
      ]
     },
     "execution_count": 520,
     "metadata": {},
     "output_type": "execute_result"
    },
    {
     "data": {
      "image/png": "[encoded data removed]",
      "text/plain": [
       "<Figure size 432x288 with 1 Axes>"
      ]
     },
     "metadata": {
      "needs_background": "light"
     },
     "output_type": "display_data"
    }
   ],
   "source": [
    "df2.plot()"
   ]
  },
  {
   "cell_type": "code",
   "execution_count": 521,
   "metadata": {
    "scrolled": true
   },
   "outputs": [
    {
     "name": "stdin",
     "output_type": "stream",
     "text": [
      "Temperature of source 1: \n",
      " 21\n",
      "Temperature of source 2: \n",
      " 21\n"
     ]
    }
   ],
   "source": [
    "Ts1 = float(input(\"\"\"Temperature of source 1: \n",
    "\"\"\"))\n",
    "\n",
    "Ts2 = float(input(\"\"\"Temperature of source 2: \n",
    "\"\"\"))\n"
   ]
  },
  {
   "cell_type": "code",
   "execution_count": 522,
   "metadata": {},
   "outputs": [],
   "source": [
    "df2['Ts1'] = Ts1\n",
    "\n",
    "if Ts2 !=0:\n",
    "    df2[\"Ts2\"] = Ts2\n",
    "    df2[\"Tnet\"]=  df2[[\"Ts1\", \"Ts2\"]].max(axis=1) #If s1 and s2 exists, Tnet is equal to the source of highest T\n",
    "else:\n",
    "    df2[\"Ts2\"] = Ts2 #If s2 does not exist, Tnet is equal to s1\n",
    "    df2[\"Tnet\"]=  Ts1\n",
    "\n",
    "if Ts1 == 0 and Ts2 == 0 :\n",
    "        df2[\"Tnet\"]= Taq #If neither s1 nor s2 exist\n"
   ]
  },
  {
   "cell_type": "code",
   "execution_count": 523,
   "metadata": {},
   "outputs": [
    {
     "data": {
      "text/html": [
       "<div>\n",
       "<style scoped>\n",
       "    .dataframe tbody tr th:only-of-type {\n",
       "        vertical-align: middle;\n",
       "    }\n",
       "\n",
       "    .dataframe tbody tr th {\n",
       "        vertical-align: top;\n",
       "    }\n",
       "\n",
       "    .dataframe thead th {\n",
       "        text-align: right;\n",
       "    }\n",
       "</style>\n",
       "<table border=\"1\" class=\"dataframe\">\n",
       "  <thead>\n",
       "    <tr style=\"text-align: right;\">\n",
       "      <th></th>\n",
       "      <th>Tground</th>\n",
       "      <th>Taq</th>\n",
       "      <th>Ts1</th>\n",
       "      <th>Ts2</th>\n",
       "      <th>Tnet</th>\n",
       "    </tr>\n",
       "  </thead>\n",
       "  <tbody>\n",
       "    <tr>\n",
       "      <th>0</th>\n",
       "      <td>9.562255</td>\n",
       "      <td>15.362232</td>\n",
       "      <td>21.0</td>\n",
       "      <td>21.0</td>\n",
       "      <td>21.0</td>\n",
       "    </tr>\n",
       "    <tr>\n",
       "      <th>1</th>\n",
       "      <td>9.558623</td>\n",
       "      <td>15.362232</td>\n",
       "      <td>21.0</td>\n",
       "      <td>21.0</td>\n",
       "      <td>21.0</td>\n",
       "    </tr>\n",
       "    <tr>\n",
       "      <th>2</th>\n",
       "      <td>9.554994</td>\n",
       "      <td>15.362232</td>\n",
       "      <td>21.0</td>\n",
       "      <td>21.0</td>\n",
       "      <td>21.0</td>\n",
       "    </tr>\n",
       "    <tr>\n",
       "      <th>3</th>\n",
       "      <td>9.551368</td>\n",
       "      <td>15.362232</td>\n",
       "      <td>21.0</td>\n",
       "      <td>21.0</td>\n",
       "      <td>21.0</td>\n",
       "    </tr>\n",
       "    <tr>\n",
       "      <th>4</th>\n",
       "      <td>9.547745</td>\n",
       "      <td>15.362233</td>\n",
       "      <td>21.0</td>\n",
       "      <td>21.0</td>\n",
       "      <td>21.0</td>\n",
       "    </tr>\n",
       "    <tr>\n",
       "      <th>...</th>\n",
       "      <td>...</td>\n",
       "      <td>...</td>\n",
       "      <td>...</td>\n",
       "      <td>...</td>\n",
       "      <td>...</td>\n",
       "    </tr>\n",
       "    <tr>\n",
       "      <th>8732</th>\n",
       "      <td>9.665159</td>\n",
       "      <td>15.362230</td>\n",
       "      <td>21.0</td>\n",
       "      <td>21.0</td>\n",
       "      <td>21.0</td>\n",
       "    </tr>\n",
       "    <tr>\n",
       "      <th>8733</th>\n",
       "      <td>9.661444</td>\n",
       "      <td>15.362230</td>\n",
       "      <td>21.0</td>\n",
       "      <td>21.0</td>\n",
       "      <td>21.0</td>\n",
       "    </tr>\n",
       "    <tr>\n",
       "      <th>8734</th>\n",
       "      <td>9.657732</td>\n",
       "      <td>15.362230</td>\n",
       "      <td>21.0</td>\n",
       "      <td>21.0</td>\n",
       "      <td>21.0</td>\n",
       "    </tr>\n",
       "    <tr>\n",
       "      <th>8735</th>\n",
       "      <td>9.654023</td>\n",
       "      <td>15.362230</td>\n",
       "      <td>21.0</td>\n",
       "      <td>21.0</td>\n",
       "      <td>21.0</td>\n",
       "    </tr>\n",
       "    <tr>\n",
       "      <th>8736</th>\n",
       "      <td>9.650317</td>\n",
       "      <td>15.362230</td>\n",
       "      <td>21.0</td>\n",
       "      <td>21.0</td>\n",
       "      <td>21.0</td>\n",
       "    </tr>\n",
       "  </tbody>\n",
       "</table>\n",
       "<p>8737 rows × 5 columns</p>\n",
       "</div>"
      ],
      "text/plain": [
       "       Tground        Taq   Ts1   Ts2  Tnet\n",
       "0     9.562255  15.362232  21.0  21.0  21.0\n",
       "1     9.558623  15.362232  21.0  21.0  21.0\n",
       "2     9.554994  15.362232  21.0  21.0  21.0\n",
       "3     9.551368  15.362232  21.0  21.0  21.0\n",
       "4     9.547745  15.362233  21.0  21.0  21.0\n",
       "...        ...        ...   ...   ...   ...\n",
       "8732  9.665159  15.362230  21.0  21.0  21.0\n",
       "8733  9.661444  15.362230  21.0  21.0  21.0\n",
       "8734  9.657732  15.362230  21.0  21.0  21.0\n",
       "8735  9.654023  15.362230  21.0  21.0  21.0\n",
       "8736  9.650317  15.362230  21.0  21.0  21.0\n",
       "\n",
       "[8737 rows x 5 columns]"
      ]
     },
     "execution_count": 523,
     "metadata": {},
     "output_type": "execute_result"
    }
   ],
   "source": [
    "df2"
   ]
  },
  {
   "cell_type": "markdown",
   "metadata": {},
   "source": [
    "# Coefficient of performance (COP)"
   ]
  },
  {
   "cell_type": "code",
   "execution_count": 525,
   "metadata": {},
   "outputs": [],
   "source": [
    "Tamb_hourly.reset_index(inplace=True)"
   ]
  },
  {
   "cell_type": "code",
   "execution_count": 527,
   "metadata": {},
   "outputs": [
    {
     "name": "stdin",
     "output_type": "stream",
     "text": [
      "Temperature difference among the supply and return pipes: \n",
      "# 5\n"
     ]
    }
   ],
   "source": [
    "DT_evap =float(input(\"\"\"Temperature difference among the supply and return pipes: \n",
    "#\"\"\"))\n",
    "\n",
    "DT_hx=2.5\n",
    "n_HP = 0.53\n",
    "Te_o =df2['Tnet']-DT_evap-DT_hx\n",
    "Tc_o =Tamb_hourly['Tuser']\n",
    "\n",
    "df2['COP']= 1-n_HP+n_HP*(Tc_o+273.15)/(Tc_o+DT_hx-Te_o)"
   ]
  },
  {
   "cell_type": "code",
   "execution_count": 528,
   "metadata": {},
   "outputs": [
    {
     "data": {
      "text/plain": [
       "<matplotlib.axes._subplots.AxesSubplot at 0x1a31563850>"
      ]
     },
     "execution_count": 528,
     "metadata": {},
     "output_type": "execute_result"
    },
    {
     "data": {
      "image/png": "[encoded data removed]",
      "text/plain": [
       "<Figure size 720x432 with 1 Axes>"
      ]
     },
     "metadata": {
      "needs_background": "light"
     },
     "output_type": "display_data"
    }
   ],
   "source": [
    "df2['COP'].plot(figsize=(10,6))\n",
    "#Tc_o.plot()"
   ]
  }
 ],
 "metadata": {
  "kernelspec": {
   "display_name": "Python 3",
   "language": "python",
   "name": "python3"
  },
  "language_info": {
   "codemirror_mode": {
    "name": "ipython",
    "version": 3
   },
   "file_extension": ".py",
   "mimetype": "text/x-python",
   "name": "python",
   "nbconvert_exporter": "python",
   "pygments_lexer": "ipython3",
   "version": "3.7.6"
  }
 },
 "nbformat": 4,
 "nbformat_minor": 4
}
