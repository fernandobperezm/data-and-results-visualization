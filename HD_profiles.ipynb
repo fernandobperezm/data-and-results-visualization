{
 "cells": [
  {
   "cell_type": "markdown",
   "metadata": {},
   "source": [
    "# Hourly heating demand for different climates"
   ]
  },
  {
   "cell_type": "markdown",
   "metadata": {},
   "source": [
    "## Heating degree days by climate conditions"
   ]
  },
  {
   "cell_type": "markdown",
   "metadata": {},
   "source": [
    "The amount (in degrees) and for how long (in hours) of thermal heat required to keep the indoor building temperature at a comfortable level will vary depending on different climates. The base temperature selected was set to 17 °C.\n",
    "\n",
    "The space heating hourly profile for each location is then retrieved with a time dependency according to the heating degree method, known as the \"Integration method\".\n",
    "\n",
    "More info on calculation method: https://www.degreedays.net/introduction"
   ]
  },
  {
   "cell_type": "code",
   "execution_count": 2,
   "metadata": {},
   "outputs": [],
   "source": [
    "import pandas as pd\n",
    "from pandas import DataFrame\n",
    "from statistics import *\n",
    "import matplotlib.pyplot as plt\n",
    "import numpy as np\n",
    "\n",
    "df_ST=pd.read_excel(\"Stuttgart.xls\", usecols=[\"T_amb\"],squeeze=True)\n",
    "df_LO=pd.read_excel(\"London.xls\", usecols=[\"T_amb\"], squeeze=True)\n",
    "df_MA=pd.read_excel(\"Madrid.xls\", usecols=[\"T_amb\"], squeeze=True)\n",
    "df_RO=pd.read_excel(\"Rome.xls\", usecols=[\"T_amb\"], squeeze=True)"
   ]
  },
  {
   "cell_type": "code",
   "execution_count": 8,
   "metadata": {},
   "outputs": [],
   "source": [
    "HDD=pd.DataFrame()"
   ]
  },
  {
   "cell_type": "code",
   "execution_count": 12,
   "metadata": {},
   "outputs": [],
   "source": [
    "HDD['Stuttgart_temp']=df_ST\n",
    "HDD['London_temp']=df_LO\n",
    "HDD['Madrid_temp']=df_MA\n",
    "HDD['Rome_temp']=df_RO"
   ]
  },
  {
   "cell_type": "code",
   "execution_count": 15,
   "metadata": {},
   "outputs": [
    {
     "data": {
      "text/html": [
       "<div>\n",
       "<style scoped>\n",
       "    .dataframe tbody tr th:only-of-type {\n",
       "        vertical-align: middle;\n",
       "    }\n",
       "\n",
       "    .dataframe tbody tr th {\n",
       "        vertical-align: top;\n",
       "    }\n",
       "\n",
       "    .dataframe thead th {\n",
       "        text-align: right;\n",
       "    }\n",
       "</style>\n",
       "<table border=\"1\" class=\"dataframe\">\n",
       "  <thead>\n",
       "    <tr style=\"text-align: right;\">\n",
       "      <th></th>\n",
       "      <th>Stuttgart_temp</th>\n",
       "      <th>London_temp</th>\n",
       "      <th>Madrid_temp</th>\n",
       "      <th>Rome_temp</th>\n",
       "    </tr>\n",
       "  </thead>\n",
       "  <tbody>\n",
       "    <tr>\n",
       "      <th>0</th>\n",
       "      <td>-1.60</td>\n",
       "      <td>4.60</td>\n",
       "      <td>4.10</td>\n",
       "      <td>7.00</td>\n",
       "    </tr>\n",
       "    <tr>\n",
       "      <th>1</th>\n",
       "      <td>3.65</td>\n",
       "      <td>7.00</td>\n",
       "      <td>7.25</td>\n",
       "      <td>9.50</td>\n",
       "    </tr>\n",
       "    <tr>\n",
       "      <th>2</th>\n",
       "      <td>8.75</td>\n",
       "      <td>9.35</td>\n",
       "      <td>10.45</td>\n",
       "      <td>11.70</td>\n",
       "    </tr>\n",
       "    <tr>\n",
       "      <th>3</th>\n",
       "      <td>8.45</td>\n",
       "      <td>9.20</td>\n",
       "      <td>10.40</td>\n",
       "      <td>11.15</td>\n",
       "    </tr>\n",
       "    <tr>\n",
       "      <th>4</th>\n",
       "      <td>8.25</td>\n",
       "      <td>9.05</td>\n",
       "      <td>10.25</td>\n",
       "      <td>10.75</td>\n",
       "    </tr>\n",
       "    <tr>\n",
       "      <th>5</th>\n",
       "      <td>8.15</td>\n",
       "      <td>8.95</td>\n",
       "      <td>10.15</td>\n",
       "      <td>10.45</td>\n",
       "    </tr>\n",
       "    <tr>\n",
       "      <th>6</th>\n",
       "      <td>8.05</td>\n",
       "      <td>8.90</td>\n",
       "      <td>10.05</td>\n",
       "      <td>10.25</td>\n",
       "    </tr>\n",
       "    <tr>\n",
       "      <th>7</th>\n",
       "      <td>7.95</td>\n",
       "      <td>8.85</td>\n",
       "      <td>9.95</td>\n",
       "      <td>10.10</td>\n",
       "    </tr>\n",
       "    <tr>\n",
       "      <th>8</th>\n",
       "      <td>7.85</td>\n",
       "      <td>8.80</td>\n",
       "      <td>9.85</td>\n",
       "      <td>10.05</td>\n",
       "    </tr>\n",
       "    <tr>\n",
       "      <th>9</th>\n",
       "      <td>7.90</td>\n",
       "      <td>8.95</td>\n",
       "      <td>9.80</td>\n",
       "      <td>10.80</td>\n",
       "    </tr>\n",
       "  </tbody>\n",
       "</table>\n",
       "</div>"
      ],
      "text/plain": [
       "   Stuttgart_temp  London_temp  Madrid_temp  Rome_temp\n",
       "0           -1.60         4.60         4.10       7.00\n",
       "1            3.65         7.00         7.25       9.50\n",
       "2            8.75         9.35        10.45      11.70\n",
       "3            8.45         9.20        10.40      11.15\n",
       "4            8.25         9.05        10.25      10.75\n",
       "5            8.15         8.95        10.15      10.45\n",
       "6            8.05         8.90        10.05      10.25\n",
       "7            7.95         8.85         9.95      10.10\n",
       "8            7.85         8.80         9.85      10.05\n",
       "9            7.90         8.95         9.80      10.80"
      ]
     },
     "execution_count": 15,
     "metadata": {},
     "output_type": "execute_result"
    }
   ],
   "source": [
    "HDD.head(10)"
   ]
  },
  {
   "cell_type": "code",
   "execution_count": 28,
   "metadata": {},
   "outputs": [],
   "source": [
    "def heating_degree_hours(T_amb):\n",
    "    T_base=17\n",
    "    if T_amb<T_base:\n",
    "        HDH=T_base-T_amb\n",
    "    else:\n",
    "        HDH=0\n",
    "    return pd.Series(HDH)"
   ]
  },
  {
   "cell_type": "code",
   "execution_count": 29,
   "metadata": {},
   "outputs": [],
   "source": [
    "HDD['HDD_Stuttgart']=HDD.apply(lambda fila: heating_degree_hours(fila['Stuttgart_temp']), axis=1)\n",
    "HDD['HDD_London']=HDD.apply(lambda fila: heating_degree_hours(fila['London_temp']), axis=1)\n",
    "HDD['HDD_Madrid']=HDD.apply(lambda fila: heating_degree_hours(fila['Madrid_temp']), axis=1)\n",
    "HDD['HDD_Rome']=HDD.apply(lambda fila: heating_degree_hours(fila['Rome_temp']), axis=1)"
   ]
  },
  {
   "cell_type": "code",
   "execution_count": 30,
   "metadata": {},
   "outputs": [
    {
     "data": {
      "text/html": [
       "<div>\n",
       "<style scoped>\n",
       "    .dataframe tbody tr th:only-of-type {\n",
       "        vertical-align: middle;\n",
       "    }\n",
       "\n",
       "    .dataframe tbody tr th {\n",
       "        vertical-align: top;\n",
       "    }\n",
       "\n",
       "    .dataframe thead th {\n",
       "        text-align: right;\n",
       "    }\n",
       "</style>\n",
       "<table border=\"1\" class=\"dataframe\">\n",
       "  <thead>\n",
       "    <tr style=\"text-align: right;\">\n",
       "      <th></th>\n",
       "      <th>Stuttgart_temp</th>\n",
       "      <th>London_temp</th>\n",
       "      <th>Madrid_temp</th>\n",
       "      <th>Rome_temp</th>\n",
       "      <th>HDD_Stuttgart</th>\n",
       "      <th>HDD_London</th>\n",
       "      <th>HDD_Madrid</th>\n",
       "      <th>HDD_Rome</th>\n",
       "    </tr>\n",
       "  </thead>\n",
       "  <tbody>\n",
       "    <tr>\n",
       "      <th>0</th>\n",
       "      <td>-1.60</td>\n",
       "      <td>4.60</td>\n",
       "      <td>4.10</td>\n",
       "      <td>7.00</td>\n",
       "      <td>18.60</td>\n",
       "      <td>12.40</td>\n",
       "      <td>12.90</td>\n",
       "      <td>10.00</td>\n",
       "    </tr>\n",
       "    <tr>\n",
       "      <th>1</th>\n",
       "      <td>3.65</td>\n",
       "      <td>7.00</td>\n",
       "      <td>7.25</td>\n",
       "      <td>9.50</td>\n",
       "      <td>13.35</td>\n",
       "      <td>10.00</td>\n",
       "      <td>9.75</td>\n",
       "      <td>7.50</td>\n",
       "    </tr>\n",
       "    <tr>\n",
       "      <th>2</th>\n",
       "      <td>8.75</td>\n",
       "      <td>9.35</td>\n",
       "      <td>10.45</td>\n",
       "      <td>11.70</td>\n",
       "      <td>8.25</td>\n",
       "      <td>7.65</td>\n",
       "      <td>6.55</td>\n",
       "      <td>5.30</td>\n",
       "    </tr>\n",
       "    <tr>\n",
       "      <th>3</th>\n",
       "      <td>8.45</td>\n",
       "      <td>9.20</td>\n",
       "      <td>10.40</td>\n",
       "      <td>11.15</td>\n",
       "      <td>8.55</td>\n",
       "      <td>7.80</td>\n",
       "      <td>6.60</td>\n",
       "      <td>5.85</td>\n",
       "    </tr>\n",
       "    <tr>\n",
       "      <th>4</th>\n",
       "      <td>8.25</td>\n",
       "      <td>9.05</td>\n",
       "      <td>10.25</td>\n",
       "      <td>10.75</td>\n",
       "      <td>8.75</td>\n",
       "      <td>7.95</td>\n",
       "      <td>6.75</td>\n",
       "      <td>6.25</td>\n",
       "    </tr>\n",
       "  </tbody>\n",
       "</table>\n",
       "</div>"
      ],
      "text/plain": [
       "   Stuttgart_temp  London_temp  Madrid_temp  Rome_temp  HDD_Stuttgart  \\\n",
       "0           -1.60         4.60         4.10       7.00          18.60   \n",
       "1            3.65         7.00         7.25       9.50          13.35   \n",
       "2            8.75         9.35        10.45      11.70           8.25   \n",
       "3            8.45         9.20        10.40      11.15           8.55   \n",
       "4            8.25         9.05        10.25      10.75           8.75   \n",
       "\n",
       "   HDD_London  HDD_Madrid  HDD_Rome  \n",
       "0       12.40       12.90     10.00  \n",
       "1       10.00        9.75      7.50  \n",
       "2        7.65        6.55      5.30  \n",
       "3        7.80        6.60      5.85  \n",
       "4        7.95        6.75      6.25  "
      ]
     },
     "execution_count": 30,
     "metadata": {},
     "output_type": "execute_result"
    }
   ],
   "source": [
    "HDD.head()"
   ]
  },
  {
   "cell_type": "code",
   "execution_count": 46,
   "metadata": {},
   "outputs": [],
   "source": [
    "x=sum(HDD['HDD_Stuttgart'])\n",
    "y=sum(HDD['HDD_London'])\n",
    "z=sum(HDD['HDD_Madrid'])\n",
    "w=sum(HDD['HDD_Rome'])"
   ]
  },
  {
   "cell_type": "code",
   "execution_count": 36,
   "metadata": {},
   "outputs": [],
   "source": [
    "def SH_curve(HDH, tot_degree_hours):\n",
    "    SH_prob_distr=HDH/tot_degree_hours\n",
    "    return pd.Series(SH_prob_distr)"
   ]
  },
  {
   "cell_type": "code",
   "execution_count": 47,
   "metadata": {},
   "outputs": [],
   "source": [
    "HDD['SH_distr_Stuttgart']=HDD.apply(lambda fila: SH_curve(fila['HDD_Stuttgart'], x ),axis=1)\n",
    "HDD['SH_distr_London']=HDD.apply(lambda fila: SH_curve(fila['HDD_London'], y ),axis=1)\n",
    "HDD['SH_distr_Madrid']=HDD.apply(lambda fila: SH_curve(fila['HDD_Madrid'], z ),axis=1)\n",
    "HDD['SH_distr_Rome']=HDD.apply(lambda fila: SH_curve(fila['HDD_Rome'], w ),axis=1)"
   ]
  },
  {
   "cell_type": "code",
   "execution_count": 56,
   "metadata": {},
   "outputs": [
    {
     "data": {
      "image/png": "[encoded data removed]",
      "text/plain": [
       "<Figure size 720x720 with 4 Axes>"
      ]
     },
     "metadata": {
      "needs_background": "light"
     },
     "output_type": "display_data"
    }
   ],
   "source": [
    "SH_distr_Stuttgart = HDD['SH_distr_Stuttgart']\n",
    "SH_distr_London = HDD['SH_distr_London']\n",
    "SH_distr_Madrid = HDD['SH_distr_Madrid']\n",
    "SH_distr_Rome = HDD['SH_distr_Rome']\n",
    "# if using a Jupyter notebook, include:\n",
    "%matplotlib inline\n",
    "\n",
    "# Data for plotting\n",
    "t = np.arange(0, 8761, 1)\n",
    "\n",
    "\n",
    "# Create a figure with 2 rows and 2 cols of subplots\n",
    "fig, ((ax1, ax2), (ax3, ax4)) = plt.subplots(2, 2, figsize=(10,10))\n",
    "\n",
    "\n",
    "# Stuttgart\n",
    "ax1.plot(t, SH_distr_Stuttgart, color='#4d4dff')\n",
    "ax1.set_title('Stuttgart')\n",
    "ax1.set_ylabel('Space heating hourly distribution')\n",
    "ax1.grid()\n",
    "\n",
    "# London\n",
    "ax2.plot(t, SH_distr_London, color='#8686ef')\n",
    "ax2.set_title('London')\n",
    "ax2.grid()\n",
    "\n",
    "\n",
    "# Madrid\n",
    "ax3.plot(t, SH_distr_Madrid, color='#ef8e49')\n",
    "ax3.set_title('Madrid')\n",
    "ax3.set_ylabel('Space heating hourly distribution')\n",
    "ax3.grid()\n",
    "\n",
    "\n",
    "# Rome\n",
    "ax4.plot(t, SH_distr_Rome, color= '#ca0c6e')\n",
    "ax4.set_title('Rome')\n",
    "ax4.grid()\n",
    "\n",
    "\n",
    "fig.tight_layout()\n",
    "plt.show()"
   ]
  },
  {
   "cell_type": "code",
   "execution_count": 64,
   "metadata": {},
   "outputs": [
    {
     "data": {
      "text/html": [
       "<div>\n",
       "<style scoped>\n",
       "    .dataframe tbody tr th:only-of-type {\n",
       "        vertical-align: middle;\n",
       "    }\n",
       "\n",
       "    .dataframe tbody tr th {\n",
       "        vertical-align: top;\n",
       "    }\n",
       "\n",
       "    .dataframe thead th {\n",
       "        text-align: right;\n",
       "    }\n",
       "</style>\n",
       "<table border=\"1\" class=\"dataframe\">\n",
       "  <thead>\n",
       "    <tr style=\"text-align: right;\">\n",
       "      <th></th>\n",
       "      <th>Stuttgart_temp</th>\n",
       "      <th>London_temp</th>\n",
       "      <th>Madrid_temp</th>\n",
       "      <th>Rome_temp</th>\n",
       "      <th>HDD_Stuttgart</th>\n",
       "      <th>HDD_London</th>\n",
       "      <th>HDD_Madrid</th>\n",
       "      <th>HDD_Rome</th>\n",
       "      <th>SH_distr_Stuttgart</th>\n",
       "      <th>SH_distr_London</th>\n",
       "      <th>SH_distr_Madrid</th>\n",
       "      <th>SH_distr_Rome</th>\n",
       "    </tr>\n",
       "  </thead>\n",
       "  <tbody>\n",
       "    <tr>\n",
       "      <th>0</th>\n",
       "      <td>-1.60</td>\n",
       "      <td>4.60</td>\n",
       "      <td>4.10</td>\n",
       "      <td>7.00</td>\n",
       "      <td>18.60</td>\n",
       "      <td>12.40</td>\n",
       "      <td>12.90</td>\n",
       "      <td>10.00</td>\n",
       "      <td>0.000268</td>\n",
       "      <td>0.000212</td>\n",
       "      <td>0.000289</td>\n",
       "      <td>0.000318</td>\n",
       "    </tr>\n",
       "    <tr>\n",
       "      <th>1</th>\n",
       "      <td>3.65</td>\n",
       "      <td>7.00</td>\n",
       "      <td>7.25</td>\n",
       "      <td>9.50</td>\n",
       "      <td>13.35</td>\n",
       "      <td>10.00</td>\n",
       "      <td>9.75</td>\n",
       "      <td>7.50</td>\n",
       "      <td>0.000193</td>\n",
       "      <td>0.000171</td>\n",
       "      <td>0.000218</td>\n",
       "      <td>0.000238</td>\n",
       "    </tr>\n",
       "    <tr>\n",
       "      <th>2</th>\n",
       "      <td>8.75</td>\n",
       "      <td>9.35</td>\n",
       "      <td>10.45</td>\n",
       "      <td>11.70</td>\n",
       "      <td>8.25</td>\n",
       "      <td>7.65</td>\n",
       "      <td>6.55</td>\n",
       "      <td>5.30</td>\n",
       "      <td>0.000119</td>\n",
       "      <td>0.000131</td>\n",
       "      <td>0.000147</td>\n",
       "      <td>0.000168</td>\n",
       "    </tr>\n",
       "    <tr>\n",
       "      <th>3</th>\n",
       "      <td>8.45</td>\n",
       "      <td>9.20</td>\n",
       "      <td>10.40</td>\n",
       "      <td>11.15</td>\n",
       "      <td>8.55</td>\n",
       "      <td>7.80</td>\n",
       "      <td>6.60</td>\n",
       "      <td>5.85</td>\n",
       "      <td>0.000123</td>\n",
       "      <td>0.000134</td>\n",
       "      <td>0.000148</td>\n",
       "      <td>0.000186</td>\n",
       "    </tr>\n",
       "    <tr>\n",
       "      <th>4</th>\n",
       "      <td>8.25</td>\n",
       "      <td>9.05</td>\n",
       "      <td>10.25</td>\n",
       "      <td>10.75</td>\n",
       "      <td>8.75</td>\n",
       "      <td>7.95</td>\n",
       "      <td>6.75</td>\n",
       "      <td>6.25</td>\n",
       "      <td>0.000126</td>\n",
       "      <td>0.000136</td>\n",
       "      <td>0.000151</td>\n",
       "      <td>0.000199</td>\n",
       "    </tr>\n",
       "    <tr>\n",
       "      <th>...</th>\n",
       "      <td>...</td>\n",
       "      <td>...</td>\n",
       "      <td>...</td>\n",
       "      <td>...</td>\n",
       "      <td>...</td>\n",
       "      <td>...</td>\n",
       "      <td>...</td>\n",
       "      <td>...</td>\n",
       "      <td>...</td>\n",
       "      <td>...</td>\n",
       "      <td>...</td>\n",
       "      <td>...</td>\n",
       "    </tr>\n",
       "    <tr>\n",
       "      <th>8756</th>\n",
       "      <td>-1.45</td>\n",
       "      <td>6.85</td>\n",
       "      <td>7.15</td>\n",
       "      <td>10.15</td>\n",
       "      <td>18.45</td>\n",
       "      <td>10.15</td>\n",
       "      <td>9.85</td>\n",
       "      <td>6.85</td>\n",
       "      <td>0.000266</td>\n",
       "      <td>0.000174</td>\n",
       "      <td>0.000221</td>\n",
       "      <td>0.000218</td>\n",
       "    </tr>\n",
       "    <tr>\n",
       "      <th>8757</th>\n",
       "      <td>-1.50</td>\n",
       "      <td>6.35</td>\n",
       "      <td>6.50</td>\n",
       "      <td>9.45</td>\n",
       "      <td>18.50</td>\n",
       "      <td>10.65</td>\n",
       "      <td>10.50</td>\n",
       "      <td>7.55</td>\n",
       "      <td>0.000267</td>\n",
       "      <td>0.000182</td>\n",
       "      <td>0.000235</td>\n",
       "      <td>0.000240</td>\n",
       "    </tr>\n",
       "    <tr>\n",
       "      <th>8758</th>\n",
       "      <td>-1.50</td>\n",
       "      <td>5.85</td>\n",
       "      <td>5.90</td>\n",
       "      <td>8.75</td>\n",
       "      <td>18.50</td>\n",
       "      <td>11.15</td>\n",
       "      <td>11.10</td>\n",
       "      <td>8.25</td>\n",
       "      <td>0.000267</td>\n",
       "      <td>0.000191</td>\n",
       "      <td>0.000249</td>\n",
       "      <td>0.000262</td>\n",
       "    </tr>\n",
       "    <tr>\n",
       "      <th>8759</th>\n",
       "      <td>-1.55</td>\n",
       "      <td>5.35</td>\n",
       "      <td>5.25</td>\n",
       "      <td>8.00</td>\n",
       "      <td>18.55</td>\n",
       "      <td>11.65</td>\n",
       "      <td>11.75</td>\n",
       "      <td>9.00</td>\n",
       "      <td>0.000268</td>\n",
       "      <td>0.000200</td>\n",
       "      <td>0.000263</td>\n",
       "      <td>0.000286</td>\n",
       "    </tr>\n",
       "    <tr>\n",
       "      <th>8760</th>\n",
       "      <td>-1.60</td>\n",
       "      <td>4.85</td>\n",
       "      <td>4.50</td>\n",
       "      <td>7.30</td>\n",
       "      <td>18.60</td>\n",
       "      <td>12.15</td>\n",
       "      <td>12.50</td>\n",
       "      <td>9.70</td>\n",
       "      <td>0.000268</td>\n",
       "      <td>0.000208</td>\n",
       "      <td>0.000280</td>\n",
       "      <td>0.000308</td>\n",
       "    </tr>\n",
       "  </tbody>\n",
       "</table>\n",
       "<p>8761 rows × 12 columns</p>\n",
       "</div>"
      ],
      "text/plain": [
       "      Stuttgart_temp  London_temp  Madrid_temp  Rome_temp  HDD_Stuttgart  \\\n",
       "0              -1.60         4.60         4.10       7.00          18.60   \n",
       "1               3.65         7.00         7.25       9.50          13.35   \n",
       "2               8.75         9.35        10.45      11.70           8.25   \n",
       "3               8.45         9.20        10.40      11.15           8.55   \n",
       "4               8.25         9.05        10.25      10.75           8.75   \n",
       "...              ...          ...          ...        ...            ...   \n",
       "8756           -1.45         6.85         7.15      10.15          18.45   \n",
       "8757           -1.50         6.35         6.50       9.45          18.50   \n",
       "8758           -1.50         5.85         5.90       8.75          18.50   \n",
       "8759           -1.55         5.35         5.25       8.00          18.55   \n",
       "8760           -1.60         4.85         4.50       7.30          18.60   \n",
       "\n",
       "      HDD_London  HDD_Madrid  HDD_Rome  SH_distr_Stuttgart  SH_distr_London  \\\n",
       "0          12.40       12.90     10.00            0.000268         0.000212   \n",
       "1          10.00        9.75      7.50            0.000193         0.000171   \n",
       "2           7.65        6.55      5.30            0.000119         0.000131   \n",
       "3           7.80        6.60      5.85            0.000123         0.000134   \n",
       "4           7.95        6.75      6.25            0.000126         0.000136   \n",
       "...          ...         ...       ...                 ...              ...   \n",
       "8756       10.15        9.85      6.85            0.000266         0.000174   \n",
       "8757       10.65       10.50      7.55            0.000267         0.000182   \n",
       "8758       11.15       11.10      8.25            0.000267         0.000191   \n",
       "8759       11.65       11.75      9.00            0.000268         0.000200   \n",
       "8760       12.15       12.50      9.70            0.000268         0.000208   \n",
       "\n",
       "      SH_distr_Madrid  SH_distr_Rome  \n",
       "0            0.000289       0.000318  \n",
       "1            0.000218       0.000238  \n",
       "2            0.000147       0.000168  \n",
       "3            0.000148       0.000186  \n",
       "4            0.000151       0.000199  \n",
       "...               ...            ...  \n",
       "8756         0.000221       0.000218  \n",
       "8757         0.000235       0.000240  \n",
       "8758         0.000249       0.000262  \n",
       "8759         0.000263       0.000286  \n",
       "8760         0.000280       0.000308  \n",
       "\n",
       "[8761 rows x 12 columns]"
      ]
     },
     "execution_count": 64,
     "metadata": {},
     "output_type": "execute_result"
    }
   ],
   "source": [
    "HDD"
   ]
  },
  {
   "cell_type": "markdown",
   "metadata": {},
   "source": [
    "# Space heating consumption"
   ]
  },
  {
   "cell_type": "markdown",
   "metadata": {},
   "source": [
    "The user determines the number of buildings (single family housing) supplied by a district heating network. Data from the Inspire project was used to estimate the annual energy consumption for each community in MWh. The single family houses correspond to reference buildings in each climatic zone built between 1945-1970, non-refurbished, with an average built area of 100 m2.\n",
    "\n",
    "The SFH model has a fixed geometry for all the climates and periods of construction. It has been defined following the common characteristics for a European SFH. The building model is composed of two storeys with a total of 100 m² of living area (Inspire project, D2.1c(2014))"
   ]
  },
  {
   "cell_type": "code",
   "execution_count": 107,
   "metadata": {},
   "outputs": [],
   "source": [
    "# Units in [kWh/m²y] \n",
    "SH_DHW = {\n",
    " 'SFH_ST': {\"SH\": 68.9, \"DHW\": 21.7, '%DHW':0.2395},\n",
    " 'SFH_LO': {\"SH\": 74.8, \"DHW\": 21.8, '%DHW':0.2257},\n",
    " 'SFH_MA': {\"SH\": 85.6, \"DHW\": 21.8, '%DHW':0.2030},\n",
    " 'SFH_RO': {\"SH\": 75.9, \"DHW\": 21.7, '%DHW':0.2223}\n",
    "}"
   ]
  },
  {
   "cell_type": "code",
   "execution_count": 108,
   "metadata": {},
   "outputs": [
    {
     "data": {
      "text/html": [
       "<div>\n",
       "<style scoped>\n",
       "    .dataframe tbody tr th:only-of-type {\n",
       "        vertical-align: middle;\n",
       "    }\n",
       "\n",
       "    .dataframe tbody tr th {\n",
       "        vertical-align: top;\n",
       "    }\n",
       "\n",
       "    .dataframe thead th {\n",
       "        text-align: right;\n",
       "    }\n",
       "</style>\n",
       "<table border=\"1\" class=\"dataframe\">\n",
       "  <thead>\n",
       "    <tr style=\"text-align: right;\">\n",
       "      <th></th>\n",
       "      <th>SFH_ST</th>\n",
       "      <th>SFH_LO</th>\n",
       "      <th>SFH_MA</th>\n",
       "      <th>SFH_RO</th>\n",
       "    </tr>\n",
       "  </thead>\n",
       "  <tbody>\n",
       "    <tr>\n",
       "      <th>SH</th>\n",
       "      <td>68.9000</td>\n",
       "      <td>74.8000</td>\n",
       "      <td>85.600</td>\n",
       "      <td>75.9000</td>\n",
       "    </tr>\n",
       "    <tr>\n",
       "      <th>DHW</th>\n",
       "      <td>21.7000</td>\n",
       "      <td>21.8000</td>\n",
       "      <td>21.800</td>\n",
       "      <td>21.7000</td>\n",
       "    </tr>\n",
       "    <tr>\n",
       "      <th>%DHW</th>\n",
       "      <td>0.2395</td>\n",
       "      <td>0.2257</td>\n",
       "      <td>0.203</td>\n",
       "      <td>0.2223</td>\n",
       "    </tr>\n",
       "  </tbody>\n",
       "</table>\n",
       "</div>"
      ],
      "text/plain": [
       "       SFH_ST   SFH_LO  SFH_MA   SFH_RO\n",
       "SH    68.9000  74.8000  85.600  75.9000\n",
       "DHW   21.7000  21.8000  21.800  21.7000\n",
       "%DHW   0.2395   0.2257   0.203   0.2223"
      ]
     },
     "execution_count": 108,
     "metadata": {},
     "output_type": "execute_result"
    }
   ],
   "source": [
    "SFH=pd.DataFrame(SH_DHW)\n",
    "SFH"
   ]
  },
  {
   "cell_type": "code",
   "execution_count": 84,
   "metadata": {},
   "outputs": [
    {
     "name": "stdin",
     "output_type": "stream",
     "text": [
      "Enter number of SFH buildings: \n",
      "# 10\n"
     ]
    }
   ],
   "source": [
    "n_buildings =float(input(\"\"\"Enter number of SFH buildings: \n",
    "#\"\"\"))"
   ]
  },
  {
   "cell_type": "code",
   "execution_count": 111,
   "metadata": {},
   "outputs": [
    {
     "data": {
      "text/plain": [
       "68.9"
      ]
     },
     "execution_count": 111,
     "metadata": {},
     "output_type": "execute_result"
    }
   ],
   "source": [
    "SFH['SFH_ST'].iloc[0]"
   ]
  },
  {
   "cell_type": "code",
   "execution_count": 115,
   "metadata": {},
   "outputs": [],
   "source": [
    "Stuttgart_SH=n_buildings*100*68.9\n",
    "London_SH=n_buildings*100*74.8\n",
    "Madrid_SH=n_buildings*100*85.6\n",
    "Rome_SH=n_buildings*100*75.9\n",
    "\n",
    "x= pd.Series([Stuttgart_SH, London_SH, Madrid_SH, Rome_SH], index= ['Stuttgart_SH','London_SH','Madrid_SH','Rome_SH'])\n"
   ]
  },
  {
   "cell_type": "code",
   "execution_count": 119,
   "metadata": {},
   "outputs": [
    {
     "data": {
      "text/plain": [
       "<matplotlib.axes._subplots.AxesSubplot at 0x116709410>"
      ]
     },
     "execution_count": 119,
     "metadata": {},
     "output_type": "execute_result"
    },
    {
     "data": {
      "image/png": "[encoded data removed]",
      "text/plain": [
       "<Figure size 432x288 with 1 Axes>"
      ]
     },
     "metadata": {
      "needs_background": "light"
     },
     "output_type": "display_data"
    }
   ],
   "source": [
    "x.plot(kind='bar')"
   ]
  },
  {
   "cell_type": "code",
   "execution_count": 121,
   "metadata": {},
   "outputs": [
    {
     "data": {
      "text/plain": [
       "68900.0"
      ]
     },
     "execution_count": 121,
     "metadata": {},
     "output_type": "execute_result"
    }
   ],
   "source": [
    "x[0]"
   ]
  },
  {
   "cell_type": "code",
   "execution_count": 122,
   "metadata": {},
   "outputs": [],
   "source": [
    "def get_SH_SFH_community(HD_total, SH_profile):\n",
    "   \n",
    "    return HD_total * SH_profile"
   ]
  },
  {
   "cell_type": "code",
   "execution_count": 123,
   "metadata": {},
   "outputs": [],
   "source": [
    "SH_Stuttgart = HDD.apply(lambda fila: get_SH_SFH_community(x[0], fila['SH_distr_Stuttgart']), axis=1)"
   ]
  },
  {
   "cell_type": "code",
   "execution_count": 125,
   "metadata": {},
   "outputs": [
    {
     "data": {
      "text/plain": [
       "<matplotlib.axes._subplots.AxesSubplot at 0x118757810>"
      ]
     },
     "execution_count": 125,
     "metadata": {},
     "output_type": "execute_result"
    },
    {
     "data": {
      "image/png": "[encoded data removed]",
      "text/plain": [
       "<Figure size 432x288 with 1 Axes>"
      ]
     },
     "metadata": {
      "needs_background": "light"
     },
     "output_type": "display_data"
    }
   ],
   "source": [
    "SH_Stuttgart.plot()"
   ]
  },
  {
   "cell_type": "code",
   "execution_count": 126,
   "metadata": {},
   "outputs": [
    {
     "data": {
      "text/plain": [
       "68900.00000000077"
      ]
     },
     "execution_count": 126,
     "metadata": {},
     "output_type": "execute_result"
    }
   ],
   "source": [
    "sum(SH_Stuttgart)"
   ]
  },
  {
   "cell_type": "code",
   "execution_count": null,
   "metadata": {},
   "outputs": [],
   "source": []
  }
 ],
 "metadata": {
  "kernelspec": {
   "display_name": "Python 3",
   "language": "python",
   "name": "python3"
  },
  "language_info": {
   "codemirror_mode": {
    "name": "ipython",
    "version": 3
   },
   "file_extension": ".py",
   "mimetype": "text/x-python",
   "name": "python",
   "nbconvert_exporter": "python",
   "pygments_lexer": "ipython3",
   "version": "3.7.6"
  }
 },
 "nbformat": 4,
 "nbformat_minor": 4
}
