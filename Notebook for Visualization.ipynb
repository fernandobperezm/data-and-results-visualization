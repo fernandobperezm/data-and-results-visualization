{
 "cells": [
  {
   "cell_type": "markdown",
   "metadata": {
    "slideshow": {
     "slide_type": "slide"
    }
   },
   "source": [
    "# Implementation of a low-temperature District Heating Network in different cities across Europe and the United States of America: a case study"
   ]
  },
  {
   "cell_type": "code",
   "execution_count": null,
   "metadata": {
    "jupyter": {
     "source_hidden": true
    },
    "slideshow": {
     "slide_type": "skip"
    }
   },
   "outputs": [],
   "source": [
    "import pandas as pd\n",
    "import numpy as np\n",
    "\n",
    "import os\n",
    "\n",
    "from bokeh.io import curdoc\n",
    "from bokeh.layouts import row, layout\n",
    "from bokeh.models import BasicTicker, BooleanFilter, CDSView, ColorBar, ColumnDataSource, FactorRange, GroupFilter, Legend, LinearColorMapper, LabelSet, PrintfTickFormatter, Span, LinearAxis, Range1d \n",
    "from bokeh.models import HoverTool\n",
    "from bokeh.palettes import Spectral6, Spectral11, Spectral5, Viridis256, Colorblind, Magma256, Turbo256\n",
    "from bokeh.plotting import figure, output_notebook, show\n",
    "from bokeh.transform import factor_cmap, factor_mark, transform\n",
    "from bokeh.themes import Theme\n",
    "from IPython.display import display, Math\n",
    "from scipy import optimize, stats\n",
    "from math import exp, cos, sqrt, pi, sin, sqrt\n",
    "from sklearn.metrics import mean_squared_error\n",
    "from typing import List\n",
    "\n",
    "from src.NOAA2010Dataset import NOAA2010Dataset\n",
    "from src.InsPireDataset import InsPireDataset\n",
    "\n",
    "output_notebook()"
   ]
  },
  {
   "cell_type": "markdown",
   "metadata": {
    "slideshow": {
     "slide_type": "slide"
    }
   },
   "source": [
    "## USA Data\n",
    "\n",
    "We acquired the data from the National Oceanic and Atmospheric Administration (NOAA). The data included information of different cities across the United States with respect to their latitude, longitude, stations, air temperature, humidity, and many more. We solely used the air temperature and selected four different cities, namely: \n",
    "\n",
    "- Miami: located in the state of Florida, South-East of the country.\n",
    "- Fresno: located in the state of Florida, South-West of the country.\n",
    "- Olympia: located in the state of Washington, North-West of the country.\n",
    "- Rochester: located in the state of New York, North-East of the country."
   ]
  },
  {
   "cell_type": "markdown",
   "metadata": {
    "slideshow": {
     "slide_type": "subslide"
    }
   },
   "source": [
    "Located on the map, they look like this:\n",
    "    \n",
    "<img src=\"./images/USA cities.png\">  "
   ]
  },
  {
   "cell_type": "markdown",
   "metadata": {
    "slideshow": {
     "slide_type": "slide"
    }
   },
   "source": [
    "## Europe Data\n",
    "\n",
    "We acquired the data from the InsPire project. We solely used the air temperature and selected four different cities, namely: \n",
    "\n",
    "- Rome: located in Italy.\n",
    "- Madrid: located in Spain.\n",
    "- Stuttgart: located in Germany.\n",
    "- London: located in the United Kingdom.\n",
    "\n",
    "    \n"
   ]
  },
  {
   "cell_type": "markdown",
   "metadata": {
    "slideshow": {
     "slide_type": "subslide"
    }
   },
   "source": [
    "Located on the map, they look like this:\n",
    "\n",
    "<img src=\"./images/Europe_cities.png\">  "
   ]
  },
  {
   "cell_type": "markdown",
   "metadata": {
    "slideshow": {
     "slide_type": "slide"
    }
   },
   "source": [
    "## Data Loading and Figure Properties"
   ]
  },
  {
   "cell_type": "code",
   "execution_count": null,
   "metadata": {
    "jupyter": {
     "source_hidden": true
    },
    "slideshow": {
     "slide_type": "fragment"
    }
   },
   "outputs": [],
   "source": [
    "noaa2010Dataset = NOAA2010Dataset()\n",
    "insPireDataset = InsPireDataset()\n",
    "\n",
    "AVAILABLE_DATASETS = dict()\n",
    "AVAILABLE_DATASETS.update(noaa2010Dataset.load_processed_data())\n",
    "AVAILABLE_DATASETS.update(insPireDataset.load_processed_data())\n",
    "AVAILABLE_DATASETS.keys()\n"
   ]
  },
  {
   "cell_type": "code",
   "execution_count": null,
   "metadata": {
    "jupyter": {
     "source_hidden": true
    },
    "slideshow": {
     "slide_type": "skip"
    }
   },
   "outputs": [],
   "source": [
    "miami = AVAILABLE_DATASETS[NOAA2010Dataset.MIAMI_FL].reset_index(drop=False)\n",
    "fresno = AVAILABLE_DATASETS[NOAA2010Dataset.FRESNO_CA].reset_index(drop=False)\n",
    "olympia = AVAILABLE_DATASETS[NOAA2010Dataset.OLYMPIA_WA].reset_index(drop=False)\n",
    "rochester = AVAILABLE_DATASETS[NOAA2010Dataset.ROCHESTER_NY].reset_index(drop=False)\n",
    "\n",
    "london = AVAILABLE_DATASETS[InsPireDataset.LONDON_UK].reset_index(drop=False)\n",
    "madrid = AVAILABLE_DATASETS[InsPireDataset.MADRID_SPA].reset_index(drop=False)\n",
    "rome = AVAILABLE_DATASETS[InsPireDataset.ROME_IT].reset_index(drop=False)\n",
    "stuttgart = AVAILABLE_DATASETS[InsPireDataset.STUTTGART_GER].reset_index(drop=False)"
   ]
  },
  {
   "cell_type": "code",
   "execution_count": null,
   "metadata": {
    "jupyter": {
     "source_hidden": true
    },
    "slideshow": {
     "slide_type": "skip"
    }
   },
   "outputs": [],
   "source": [
    "us_data = miami.append(other=fresno).append(other=olympia).append(other=rochester)\n",
    "us_source = ColumnDataSource(us_data)\n",
    "\n",
    "europe_data = london.append(other=madrid).append(other=rome).append(other=stuttgart)\n",
    "europe_source = ColumnDataSource(europe_data)"
   ]
  },
  {
   "cell_type": "code",
   "execution_count": null,
   "metadata": {
    "jupyter": {
     "source_hidden": true
    },
    "slideshow": {
     "slide_type": "skip"
    }
   },
   "outputs": [],
   "source": [
    "miami_view = CDSView(source=us_source, filters=[GroupFilter(column_name='city_key', group=NOAA2010Dataset.MIAMI_FL)])\n",
    "fresno_view = CDSView(source=us_source, filters=[GroupFilter(column_name='city_key', group=NOAA2010Dataset.FRESNO_CA)])\n",
    "olympia_view = CDSView(source=us_source, filters=[GroupFilter(column_name='city_key', group=NOAA2010Dataset.OLYMPIA_WA)])\n",
    "rochester_view = CDSView(source=us_source, filters=[GroupFilter(column_name='city_key', group=NOAA2010Dataset.ROCHESTER_NY)])\n",
    "\n",
    "miami_winter_view = CDSView(source=us_source, filters=[BooleanFilter((us_data.city_key == NOAA2010Dataset.MIAMI_FL) & (us_data.season == \"winter\"))])\n",
    "fresno_winter_view = CDSView(source=us_source, filters=[BooleanFilter((us_data.city_key == NOAA2010Dataset.FRESNO_CA) & (us_data.season == \"winter\"))])\n",
    "olympia_winter_view = CDSView(source=us_source, filters=[BooleanFilter((us_data.city_key == NOAA2010Dataset.OLYMPIA_WA) & (us_data.season == \"winter\"))])\n",
    "rochester_winter_view = CDSView(source=us_source, filters=[BooleanFilter((us_data.city_key == NOAA2010Dataset.ROCHESTER_NY) & (us_data.season == \"winter\"))])\n",
    "\n",
    "miami_spring_view = CDSView(source=us_source, filters=[BooleanFilter((us_data.city_key == NOAA2010Dataset.MIAMI_FL) & (us_data.season == \"spring\"))])\n",
    "fresno_spring_view = CDSView(source=us_source, filters=[BooleanFilter((us_data.city_key == NOAA2010Dataset.FRESNO_CA) & (us_data.season == \"spring\"))])\n",
    "olympia_spring_view = CDSView(source=us_source, filters=[BooleanFilter((us_data.city_key == NOAA2010Dataset.OLYMPIA_WA) & (us_data.season == \"spring\"))])\n",
    "rochester_spring_view = CDSView(source=us_source, filters=[BooleanFilter((us_data.city_key == NOAA2010Dataset.ROCHESTER_NY) & (us_data.season == \"spring\"))])\n",
    "\n",
    "miami_summer_view = CDSView(source=us_source, filters=[BooleanFilter((us_data.city_key == NOAA2010Dataset.MIAMI_FL) & (us_data.season == \"summer\"))])\n",
    "fresno_summer_view = CDSView(source=us_source, filters=[BooleanFilter((us_data.city_key == NOAA2010Dataset.FRESNO_CA) & (us_data.season == \"summer\"))])\n",
    "olympia_summer_view = CDSView(source=us_source, filters=[BooleanFilter((us_data.city_key == NOAA2010Dataset.OLYMPIA_WA) & (us_data.season == \"summer\"))])\n",
    "rochester_summer_view = CDSView(source=us_source, filters=[BooleanFilter((us_data.city_key == NOAA2010Dataset.ROCHESTER_NY) & (us_data.season == \"summer\"))])\n",
    "\n",
    "miami_fall_view = CDSView(source=us_source, filters=[BooleanFilter((us_data.city_key == NOAA2010Dataset.MIAMI_FL) & (us_data.season == \"fall\"))])\n",
    "fresno_fall_view = CDSView(source=us_source, filters=[BooleanFilter((us_data.city_key == NOAA2010Dataset.FRESNO_CA) & (us_data.season == \"fall\"))])\n",
    "olympia_fall_view = CDSView(source=us_source, filters=[BooleanFilter((us_data.city_key == NOAA2010Dataset.OLYMPIA_WA) & (us_data.season == \"fall\"))])\n",
    "rochester_fall_view = CDSView(source=us_source, filters=[BooleanFilter((us_data.city_key == NOAA2010Dataset.ROCHESTER_NY) & (us_data.season == \"fall\"))])\n",
    "\n",
    "london_view = CDSView(source=europe_source, filters=[GroupFilter(column_name='city_key', group=InsPireDataset.LONDON_UK)])\n",
    "madrid_view = CDSView(source=europe_source, filters=[GroupFilter(column_name='city_key', group=InsPireDataset.MADRID_SPA)])\n",
    "rome_view = CDSView(source=europe_source, filters=[GroupFilter(column_name='city_key', group=InsPireDataset.ROME_IT)])\n",
    "stuttgart_view = CDSView(source=europe_source, filters=[GroupFilter(column_name='city_key', group=InsPireDataset.STUTTGART_GER)])\n",
    "\n",
    "london_winter_view = CDSView(source=europe_source, filters=[BooleanFilter((europe_data.city_key == InsPireDataset.LONDON_UK) & (europe_data.season == \"winter\"))])\n",
    "madrid_winter_view = CDSView(source=europe_source, filters=[BooleanFilter((europe_data.city_key == InsPireDataset.MADRID_SPA) & (europe_data.season == \"winter\"))])\n",
    "rome_winter_view = CDSView(source=europe_source, filters=[BooleanFilter((europe_data.city_key == InsPireDataset.ROME_IT) & (europe_data.season == \"winter\"))])\n",
    "stuttgart_winter_view = CDSView(source=europe_source, filters=[BooleanFilter((europe_data.city_key == InsPireDataset.STUTTGART_GER) & (europe_data.season == \"winter\"))])\n",
    "\n",
    "london_spring_view = CDSView(source=europe_source, filters=[BooleanFilter((europe_data.city_key == InsPireDataset.LONDON_UK) & (europe_data.season == \"spring\"))])\n",
    "madrid_spring_view = CDSView(source=europe_source, filters=[BooleanFilter((europe_data.city_key == InsPireDataset.MADRID_SPA) & (europe_data.season == \"spring\"))])\n",
    "rome_spring_view = CDSView(source=europe_source, filters=[BooleanFilter((europe_data.city_key == InsPireDataset.ROME_IT) & (europe_data.season == \"spring\"))])\n",
    "stuttgart_spring_view = CDSView(source=europe_source, filters=[BooleanFilter((europe_data.city_key == InsPireDataset.STUTTGART_GER) & (europe_data.season == \"spring\"))])\n",
    "\n",
    "london_summer_view = CDSView(source=europe_source, filters=[BooleanFilter((europe_data.city_key == InsPireDataset.LONDON_UK) & (europe_data.season == \"summer\"))])\n",
    "madrid_summer_view = CDSView(source=europe_source, filters=[BooleanFilter((europe_data.city_key == InsPireDataset.MADRID_SPA) & (europe_data.season == \"summer\"))])\n",
    "rome_summer_view = CDSView(source=europe_source, filters=[BooleanFilter((europe_data.city_key == InsPireDataset.ROME_IT) & (europe_data.season == \"summer\"))])\n",
    "stuttgart_summer_view = CDSView(source=europe_source, filters=[BooleanFilter((europe_data.city_key == InsPireDataset.STUTTGART_GER) & (europe_data.season == \"summer\"))])\n",
    "\n",
    "london_fall_view = CDSView(source=europe_source, filters=[BooleanFilter((europe_data.city_key == InsPireDataset.LONDON_UK) & (europe_data.season == \"fall\"))])\n",
    "madrid_fall_view = CDSView(source=europe_source, filters=[BooleanFilter((europe_data.city_key == InsPireDataset.MADRID_SPA) & (europe_data.season == \"fall\"))])\n",
    "rome_fall_view = CDSView(source=europe_source, filters=[BooleanFilter((europe_data.city_key == InsPireDataset.ROME_IT) & (europe_data.season == \"fall\"))])\n",
    "stuttgart_fall_view = CDSView(source=europe_source, filters=[BooleanFilter((europe_data.city_key == InsPireDataset.STUTTGART_GER) & (europe_data.season == \"fall\"))])\n",
    "\n",
    "\n",
    "miami_2_weeks_winter_view = CDSView(source=us_source, filters=[BooleanFilter((us_data.city_key == NOAA2010Dataset.MIAMI_FL) & (us_data.timestamp >= \"2010-01-10\") & (us_data.timestamp <= \"2010-01-24\"))])\n",
    "fresno_2_weeks_winter_view = CDSView(source=us_source, filters=[BooleanFilter((us_data.city_key == NOAA2010Dataset.FRESNO_CA) & (us_data.timestamp >= \"2010-01-10\") & (us_data.timestamp <= \"2010-01-24\"))])\n",
    "olympia_2_weeks_winter_view = CDSView(source=us_source, filters=[BooleanFilter((us_data.city_key == NOAA2010Dataset.OLYMPIA_WA) & (us_data.timestamp >= \"2010-01-10\") & (us_data.timestamp <= \"2010-01-24\"))])\n",
    "rochester_2_weeks_winter_view = CDSView(source=us_source, filters=[BooleanFilter((us_data.city_key == NOAA2010Dataset.ROCHESTER_NY) & (us_data.timestamp >= \"2010-01-10\") & (us_data.timestamp <= \"2010-01-24\"))])\n",
    "\n",
    "miami_2_weeks_summer_view = CDSView(source=us_source, filters=[BooleanFilter((us_data.city_key == NOAA2010Dataset.MIAMI_FL) & (us_data.timestamp >= \"2010-07-15\") & (us_data.timestamp <= \"2010-07-29\"))])\n",
    "fresno_2_weeks_summer_view = CDSView(source=us_source, filters=[BooleanFilter((us_data.city_key == NOAA2010Dataset.FRESNO_CA) & (us_data.timestamp >= \"2010-07-15\") & (us_data.timestamp <= \"2010-07-29\"))])\n",
    "olympia_2_weeks_summer_view = CDSView(source=us_source, filters=[BooleanFilter((us_data.city_key == NOAA2010Dataset.OLYMPIA_WA) & (us_data.timestamp >= \"2010-07-15\") & (us_data.timestamp <= \"2010-07-29\"))])\n",
    "rochester_2_weeks_summer_view = CDSView(source=us_source, filters=[BooleanFilter((us_data.city_key == NOAA2010Dataset.ROCHESTER_NY) & (us_data.timestamp >= \"2010-07-15\") & (us_data.timestamp <= \"2010-07-29\"))])\n",
    "\n",
    "\n",
    "london_2_weeks_winter_view = CDSView(source=europe_source, filters=[BooleanFilter((europe_data.city_key == InsPireDataset.LONDON_UK) & (europe_data.timestamp >= \"2017-01-10\") & (europe_data.timestamp <= \"2017-01-24\"))])\n",
    "madrid_2_weeks_winter_view = CDSView(source=europe_source, filters=[BooleanFilter((europe_data.city_key == InsPireDataset.MADRID_SPA) & (europe_data.timestamp >= \"2017-01-10\") & (europe_data.timestamp <= \"2017-01-24\"))])\n",
    "rome_2_weeks_winter_view = CDSView(source=europe_source, filters=[BooleanFilter((europe_data.city_key == InsPireDataset.ROME_IT) & (europe_data.timestamp >= \"2017-01-10\") & (europe_data.timestamp <= \"2017-01-24\"))])\n",
    "stuttgart_2_weeks_winter_view = CDSView(source=europe_source, filters=[BooleanFilter((europe_data.city_key == InsPireDataset.STUTTGART_GER) & (europe_data.timestamp >= \"2017-01-10\") & (europe_data.timestamp <= \"2017-01-24\"))])\n",
    "\n",
    "london_2_weeks_summer_view = CDSView(source=europe_source, filters=[BooleanFilter((europe_data.city_key == InsPireDataset.LONDON_UK) & (europe_data.timestamp >= \"2017-07-15\") & (europe_data.timestamp <= \"2017-07-29\"))])\n",
    "madrid_2_weeks_summer_view = CDSView(source=europe_source, filters=[BooleanFilter((europe_data.city_key == InsPireDataset.MADRID_SPA) & (europe_data.timestamp >= \"2017-07-15\") & (europe_data.timestamp <= \"2017-07-29\"))])\n",
    "rome_2_weeks_summer_view = CDSView(source=europe_source, filters=[BooleanFilter((europe_data.city_key == InsPireDataset.ROME_IT) & (europe_data.timestamp >= \"2017-07-15\") & (europe_data.timestamp <= \"2017-07-29\"))])\n",
    "stuttgart_2_weeks_summer_view = CDSView(source=europe_source, filters=[BooleanFilter((europe_data.city_key == InsPireDataset.STUTTGART_GER) & (europe_data.timestamp >= \"2017-07-15\") & (europe_data.timestamp <= \"2017-07-29\"))])\n",
    "\n"
   ]
  },
  {
   "cell_type": "markdown",
   "metadata": {
    "slideshow": {
     "slide_type": "skip"
    }
   },
   "source": [
    "## Bokeh Properties"
   ]
  },
  {
   "cell_type": "code",
   "execution_count": null,
   "metadata": {
    "jupyter": {
     "source_hidden": true
    },
    "slideshow": {
     "slide_type": "skip"
    }
   },
   "outputs": [],
   "source": [
    "color_map = {\n",
    "    \"miami\": \"#2c53d2\", #navy\n",
    "    \"fresno\": \"#b30000\", #red\n",
    "    \"olympia\": \"#00b300\", #green\n",
    "    \"rochester\": \"#8296a5\", #gray\n",
    "    \n",
    "    \"london\": \"#2c53d2\",  #navy\n",
    "    \"madrid\": \"#b30000\", #red\n",
    "    \"rome\": \"#00b300\", #green\n",
    "    \"stuttgart\": \"#8296a5\", #gray\n",
    "    \n",
    "    \"winter\": '#2c53d2', #blue\n",
    "    \"spring\": '#00b300', #green\n",
    "    \"summer\": '#b30000', #red\n",
    "    \"fall\":  '#ef9331', #orange\n",
    "    \n",
    "    \"electricity\": 'gold',#'#fffec6', #yellow\n",
    "    \"source_water\": '#4a87b8', #blue\n",
    "    \"source1\": '#e4744f', #orange\n",
    "    \"source2\":  '#b5dba9', #green\n",
    "\n",
    "    \"RMSE\": \"gold\" , #yellow\n",
    "}"
   ]
  },
  {
   "cell_type": "code",
   "execution_count": null,
   "metadata": {
    "jupyter": {
     "source_hidden": true
    },
    "slideshow": {
     "slide_type": "skip"
    }
   },
   "outputs": [],
   "source": [
    "# The width on these plots is equivalent to ms in datetime, i.e., width = 1 === width = 1ms\n",
    "ONE_DAY_WIDTH = 1 * 24 * 60 * 60 * 1000"
   ]
  },
  {
   "cell_type": "code",
   "execution_count": null,
   "metadata": {
    "jupyter": {
     "source_hidden": true
    },
    "slideshow": {
     "slide_type": "skip"
    }
   },
   "outputs": [],
   "source": [
    "FIGURE_TOOLS = {\n",
    "    \"toolbar_location\": \"above\",\n",
    "    \"tools\": \"box_zoom,pan,undo,redo,reset,save,zoom_in,zoom_out\",\n",
    "    \"plot_width\": 700, \n",
    "    \"plot_height\": 400, \n",
    "}\n",
    "\n",
    "FULL_WIDTH_FIGURE_TOOLS = {\n",
    "    \"plot_width\": 1400, \n",
    "    \"plot_height\": 400,\n",
    "}\n",
    "\n",
    "FULL_HEIGHT_FIGURE_TOOLS = {\n",
    "    \"plot_width\": 700, \n",
    "    \"plot_height\": 800,\n",
    "}\n",
    "\n",
    "FULL_FIGURE_TOOLS = {\n",
    "    \"plot_width\": 1400, \n",
    "    \"plot_height\": 800,\n",
    "}\n",
    "\n",
    "print(FIGURE_TOOLS, FULL_WIDTH_FIGURE_TOOLS, FULL_HEIGHT_FIGURE_TOOLS,  FULL_FIGURE_TOOLS)"
   ]
  },
  {
   "cell_type": "code",
   "execution_count": null,
   "metadata": {
    "jupyter": {
     "source_hidden": true
    },
    "slideshow": {
     "slide_type": "skip"
    }
   },
   "outputs": [],
   "source": [
    "curdoc().theme = Theme(\"./bokeh_theme.json\")"
   ]
  },
  {
   "cell_type": "code",
   "execution_count": null,
   "metadata": {
    "jupyter": {
     "source_hidden": true
    },
    "slideshow": {
     "slide_type": "skip"
    }
   },
   "outputs": [],
   "source": [
    "def heatmap(colorbar, *args, **kwargs):\n",
    "    fig = figure(*args, **kwargs)\n",
    "    fig.grid.visible = False\n",
    "    fig.axis.axis_line_color = None\n",
    "    fig.axis.major_tick_line_color = None\n",
    "    fig.axis.major_label_standoff = 0\n",
    "    fig.xaxis.major_label_orientation = 1.0\n",
    "    fig.add_layout(color_bar, 'right')\n",
    "    \n",
    "    return fig"
   ]
  },
  {
   "cell_type": "markdown",
   "metadata": {
    "slideshow": {
     "slide_type": "slide"
    }
   },
   "source": [
    "## Air Temperature"
   ]
  },
  {
   "cell_type": "code",
   "execution_count": null,
   "metadata": {
    "slideshow": {
     "slide_type": "skip"
    }
   },
   "outputs": [],
   "source": [
    "date_hour_air_temp_hover_tool = HoverTool(tooltips=[('Date', '@date{%Y/%m/%d}'),\n",
    "                                                    (\"Hour\", \"@hour\"),\n",
    "                                                    ('Air Temperature', '@air_temp{%0.2f ºC}'),],\n",
    "                                          formatters={'@date': 'datetime',\n",
    "                                                      \"@hour\": \"numeral\",\n",
    "                                                      '@air_temp': 'printf',},)\n",
    "\n",
    "mapper = LinearColorMapper(palette=Spectral11, low=us_data[\"air_temp\"].min(), high=us_data[\"air_temp\"].max())\n",
    "color_bar = ColorBar(color_mapper=mapper)\n",
    "\n",
    "miami_air_temp_heatmap = heatmap(color_bar, title=\"Miami, FL - Air Temperature\", x_axis_label=\"Day in year\", y_axis_label=\"Hour of day\", x_axis_type=\"datetime\", **FIGURE_TOOLS)\n",
    "miami_air_temp_heatmap.add_tools(date_hour_air_temp_hover_tool)\n",
    "miami_air_temp_heatmap.rect(x=\"date\", y=\"hour\", width=ONE_DAY_WIDTH, height=1, source=us_source, view=miami_view, line_color=None, fill_color=transform('air_temp', mapper))\n",
    "\n",
    "fresno_air_temp_heatmap = heatmap(color_bar, title=\"Fresno, CA - Air Temperature \", x_axis_label=\"Day in year\", y_axis_label=\"Hour of day\", x_axis_type=\"datetime\", **FIGURE_TOOLS)\n",
    "fresno_air_temp_heatmap.add_tools(date_hour_air_temp_hover_tool)\n",
    "fresno_air_temp_heatmap.rect(x=\"date\", y=\"hour\", width=ONE_DAY_WIDTH, height=1, source=us_source, view=fresno_view, line_color=None, fill_color=transform('air_temp', mapper))\n",
    "\n",
    "olympia_air_temp_heatmap = heatmap(color_bar, title=\"Olympia, WA - Air Temperature\", x_axis_label=\"Day in year\", y_axis_label=\"Hour of day\", x_axis_type=\"datetime\", **FIGURE_TOOLS)\n",
    "olympia_air_temp_heatmap.add_tools(date_hour_air_temp_hover_tool)\n",
    "olympia_air_temp_heatmap.rect(x=\"date\", y=\"hour\", width=ONE_DAY_WIDTH, height=1, source=us_source, view=olympia_view, line_color=None, fill_color=transform('air_temp', mapper))\n",
    "\n",
    "rochester_air_temp_heatmap = heatmap(color_bar, title=\"Rochester, NY - Air Temperature \", x_axis_label=\"Day in year\", y_axis_label=\"Hour of day\", x_axis_type=\"datetime\", **FIGURE_TOOLS)\n",
    "rochester_air_temp_heatmap.add_tools(date_hour_air_temp_hover_tool)\n",
    "rochester_air_temp_heatmap.rect(x=\"date\", y=\"hour\", width=ONE_DAY_WIDTH, height=1, source=us_source, view=rochester_view, line_color=None, fill_color=transform('air_temp', mapper))\n",
    "\n",
    "\n"
   ]
  },
  {
   "cell_type": "code",
   "execution_count": null,
   "metadata": {
    "slideshow": {
     "slide_type": "skip"
    }
   },
   "outputs": [],
   "source": [
    "mapper = LinearColorMapper(palette=Spectral11, low=europe_data[\"air_temp\"].min(), high=europe_data[\"air_temp\"].max())\n",
    "color_bar = ColorBar(color_mapper=mapper, location=(0, 0))\n",
    "\n",
    "london_air_temp_heatmap = heatmap(color_bar, title=\"London, UK - Air Temperature\", x_axis_label=\"Day in year\", y_axis_label=\"Hour of day\", x_axis_type=\"datetime\", **FIGURE_TOOLS)\n",
    "london_air_temp_heatmap.add_tools(date_hour_air_temp_hover_tool)\n",
    "london_air_temp_heatmap.rect(x=\"date\", y=\"hour\", width=ONE_DAY_WIDTH, height=1, source=europe_source, view=london_view, line_color=None, fill_color=transform('air_temp', mapper))\n",
    "\n",
    "sttutgart_air_temp_heatmap = heatmap(color_bar, title=\"Stuttgart, Germany - Air Temperature\", x_axis_label=\"Day in year\", y_axis_label=\"Hour of day\", x_axis_type=\"datetime\", **FIGURE_TOOLS)\n",
    "sttutgart_air_temp_heatmap.add_tools(date_hour_air_temp_hover_tool)\n",
    "sttutgart_air_temp_heatmap.rect(x=\"date\", y=\"hour\", width=ONE_DAY_WIDTH, height=1, source=europe_source, view=stuttgart_view, line_color=None, fill_color=transform('air_temp', mapper))\n",
    "\n",
    "rome_air_temp_heatmap = heatmap(color_bar, title=\"Rome, Italy - Air Temperature\", x_axis_label=\"Day in year\", y_axis_label=\"Hour of day\", x_axis_type=\"datetime\", **FIGURE_TOOLS)\n",
    "rome_air_temp_heatmap.add_tools(date_hour_air_temp_hover_tool)\n",
    "rome_air_temp_heatmap.rect(x=\"date\", y=\"hour\", width=ONE_DAY_WIDTH, height=1, source=europe_source, view=rome_view, line_color=None, fill_color=transform('air_temp', mapper))\n",
    "\n",
    "madrid_air_temp_heatmap = heatmap(color_bar, title=\"Madrid, Spain - Air Temperature\", x_axis_label=\"Day in year\", y_axis_label=\"Hour of day\", x_axis_type=\"datetime\", **FIGURE_TOOLS)\n",
    "madrid_air_temp_heatmap.add_tools(date_hour_air_temp_hover_tool)\n",
    "madrid_air_temp_heatmap.rect(x=\"date\", y=\"hour\", width=ONE_DAY_WIDTH, height=1, source=europe_source, view=madrid_view, line_color=None, fill_color=transform('air_temp', mapper))\n"
   ]
  },
  {
   "cell_type": "markdown",
   "metadata": {
    "slideshow": {
     "slide_type": "subslide"
    }
   },
   "source": [
    "### USA"
   ]
  },
  {
   "cell_type": "code",
   "execution_count": null,
   "metadata": {
    "slideshow": {
     "slide_type": "-"
    }
   },
   "outputs": [],
   "source": [
    "show(layout([[rochester_air_temp_heatmap, olympia_air_temp_heatmap,],[fresno_air_temp_heatmap, miami_air_temp_heatmap],])) "
   ]
  },
  {
   "cell_type": "markdown",
   "metadata": {
    "slideshow": {
     "slide_type": "subslide"
    }
   },
   "source": [
    "### Europe"
   ]
  },
  {
   "cell_type": "code",
   "execution_count": null,
   "metadata": {},
   "outputs": [],
   "source": [
    "show(layout([[london_air_temp_heatmap, sttutgart_air_temp_heatmap],[rome_air_temp_heatmap, madrid_air_temp_heatmap],]))"
   ]
  },
  {
   "cell_type": "markdown",
   "metadata": {
    "slideshow": {
     "slide_type": "slide"
    }
   },
   "source": [
    "## Heat Demand\n"
   ]
  },
  {
   "cell_type": "code",
   "execution_count": null,
   "metadata": {
    "jupyter": {
     "source_hidden": true
    },
    "slideshow": {
     "slide_type": "skip"
    }
   },
   "outputs": [],
   "source": [
    "date_hour_total_consumption_hover_tool = HoverTool(tooltips=[('Date', '@date{%Y/%m/%d}'),\n",
    "                                                             (\"Hour\", \"@hour\"),\n",
    "                                                             ('Total Heat', '@Total_consumption{%0.2f kW}'),],\n",
    "                                                   formatters={'@date': 'datetime',\n",
    "                                                               \"@hour\": \"numeral\",\n",
    "                                                               '@Total_consumption': 'printf',},)"
   ]
  },
  {
   "cell_type": "code",
   "execution_count": null,
   "metadata": {
    "slideshow": {
     "slide_type": "skip"
    }
   },
   "outputs": [],
   "source": [
    "mapper = LinearColorMapper(palette=Spectral11, low=us_data[\"Total_consumption\"].min(), high=us_data[\"Total_consumption\"].max())\n",
    "color_bar = ColorBar(color_mapper=mapper, location=(0, 0))\n",
    "\n",
    "rochester_total_consumption_heatmap = heatmap(color_bar, \n",
    "                                              x_axis_label=\"Days\", \n",
    "                                              y_axis_label=\"Hour\", \n",
    "                                              x_axis_type=\"datetime\", \n",
    "                                              title=\"Rochester, NY - Heat Consumption over the year\", \n",
    "                                              **FIGURE_TOOLS)\n",
    "rochester_total_consumption_heatmap.rect(x=\"date\", y=\"hour\", width=ONE_DAY_WIDTH, height=1, source=us_source,view=rochester_view,line_color=None, fill_color=transform('Total_consumption', mapper))\n",
    "rochester_total_consumption_heatmap.add_tools(date_hour_total_consumption_hover_tool)\n",
    "\n",
    "olympia_total_consumption_heatmap = heatmap(color_bar, \n",
    "                                            x_axis_label=\"Days\", \n",
    "                                            y_axis_label=\"Hour\", \n",
    "                                            x_axis_type=\"datetime\", \n",
    "                                            title=\"Olympia, WA - Heat Consumption over the year\", \n",
    "                                            y_range=rochester_total_consumption_heatmap.y_range,\n",
    "                                            x_range=rochester_total_consumption_heatmap.x_range,\n",
    "                                            **FIGURE_TOOLS)\n",
    "olympia_total_consumption_heatmap.rect(x=\"date\", y=\"hour\", width=ONE_DAY_WIDTH, height=1, source=us_source,view=olympia_view,line_color=None, fill_color=transform('Total_consumption', mapper))\n",
    "olympia_total_consumption_heatmap.add_tools(date_hour_total_consumption_hover_tool)\n",
    "\n",
    "fresno_total_consumption_heatmap = heatmap(color_bar, \n",
    "                                           x_axis_label=\"Days\", \n",
    "                                           y_axis_label=\"Hour\", \n",
    "                                           x_axis_type=\"datetime\", \n",
    "                                           title=\"Fresno, CA - Heat Consumption over the year\",\n",
    "                                           y_range=rochester_total_consumption_heatmap.y_range,\n",
    "                                           x_range=rochester_total_consumption_heatmap.x_range, \n",
    "                                           **FIGURE_TOOLS)\n",
    "fresno_total_consumption_heatmap.rect(x=\"date\", y=\"hour\", width=ONE_DAY_WIDTH, height=1, source=us_source,view=fresno_view,line_color=None, fill_color=transform('Total_consumption', mapper))\n",
    "fresno_total_consumption_heatmap.add_tools(date_hour_total_consumption_hover_tool)\n",
    "\n",
    "miami_total_consumption_heatmap = heatmap(color_bar, \n",
    "                                          x_axis_label=\"Days\", \n",
    "                                          y_axis_label=\"Hour\", \n",
    "                                          x_axis_type=\"datetime\", \n",
    "                                          title=\"Miami, FL - Heat Consumption over the year\", \n",
    "                                          y_range=rochester_total_consumption_heatmap.y_range,\n",
    "                                          x_range=rochester_total_consumption_heatmap.x_range,\n",
    "                                          **FIGURE_TOOLS)\n",
    "miami_total_consumption_heatmap.rect(x=\"date\", y=\"hour\", width=ONE_DAY_WIDTH, height=1, source=us_source,view=miami_view,line_color=None, fill_color=transform('Total_consumption', mapper))\n",
    "miami_total_consumption_heatmap.add_tools(date_hour_total_consumption_hover_tool)\n",
    "\n"
   ]
  },
  {
   "cell_type": "code",
   "execution_count": null,
   "metadata": {
    "slideshow": {
     "slide_type": "skip"
    }
   },
   "outputs": [],
   "source": [
    "mapper = LinearColorMapper(palette=Spectral11, low=europe_data[\"Total_consumption\"].min(), high=europe_data[\"Total_consumption\"].max())\n",
    "color_bar = ColorBar(color_mapper=mapper, location=(0, 0))\n",
    "\n",
    "london_total_consumption_heatmap = figure(x_axis_label=\"Days\", \n",
    "                                          y_axis_label=\"Hour\", \n",
    "                                          x_axis_type=\"datetime\", \n",
    "                                          title=\"London, United Kingdom - Heat Consumption over the year\", \n",
    "                                          **FIGURE_TOOLS)\n",
    "london_total_consumption_heatmap.rect(x=\"date\", y=\"hour\", width=ONE_DAY_WIDTH, height=1, source=europe_source,view=london_view,line_color=None, fill_color=transform('Total_consumption', mapper))\n",
    "london_total_consumption_heatmap.add_tools(date_hour_total_consumption_hover_tool)\n",
    "\n",
    "madrid_total_consumption_heatmap = figure(x_axis_label=\"Days\", \n",
    "                                          y_axis_label=\"Hour\", \n",
    "                                          x_axis_type=\"datetime\", \n",
    "                                          title=\"Madrid, Spain - Heat Consumption over the year\", \n",
    "                                          y_range=london_total_consumption_heatmap.y_range,\n",
    "                                          x_range=london_total_consumption_heatmap.x_range,\n",
    "                                          **FIGURE_TOOLS)\n",
    "madrid_total_consumption_heatmap.rect(x=\"date\", y=\"hour\", width=ONE_DAY_WIDTH, height=1, source=europe_source,view=madrid_view,line_color=None, fill_color=transform('Total_consumption', mapper))\n",
    "madrid_total_consumption_heatmap.add_tools(date_hour_total_consumption_hover_tool)\n",
    "\n",
    "rome_total_consumption_heatmap = figure(x_axis_label=\"Days\", \n",
    "                                        y_axis_label=\"Hour\", \n",
    "                                        x_axis_type=\"datetime\", \n",
    "                                        title=\"Rome, Italy - Heat Consumption over the year\",\n",
    "                                        y_range=london_total_consumption_heatmap.y_range,\n",
    "                                        x_range=london_total_consumption_heatmap.x_range, \n",
    "                                        **FIGURE_TOOLS)\n",
    "rome_total_consumption_heatmap.rect(x=\"date\", y=\"hour\", width=ONE_DAY_WIDTH, height=1, source=europe_source,view=rome_view,line_color=None, fill_color=transform('Total_consumption', mapper))\n",
    "rome_total_consumption_heatmap.add_tools(date_hour_total_consumption_hover_tool)\n",
    "\n",
    "stuttgart_total_consumption_heatmap = figure(x_axis_label=\"Days\", \n",
    "                                             y_axis_label=\"Hour\", \n",
    "                                             x_axis_type=\"datetime\", \n",
    "                                             title=\"Sttutgart, Germany - Heat Consumption over the year\", \n",
    "                                             y_range=london_total_consumption_heatmap.y_range,\n",
    "                                             x_range=london_total_consumption_heatmap.x_range,\n",
    "                                             **FIGURE_TOOLS)\n",
    "stuttgart_total_consumption_heatmap.rect(x=\"date\", y=\"hour\", width=ONE_DAY_WIDTH, height=1, source=europe_source,view=stuttgart_view,line_color=None, fill_color=transform('Total_consumption', mapper))\n",
    "stuttgart_total_consumption_heatmap.add_tools(date_hour_total_consumption_hover_tool)\n",
    "\n"
   ]
  },
  {
   "cell_type": "markdown",
   "metadata": {
    "slideshow": {
     "slide_type": "subslide"
    }
   },
   "source": [
    "### USA"
   ]
  },
  {
   "cell_type": "code",
   "execution_count": null,
   "metadata": {
    "jupyter": {
     "source_hidden": true
    }
   },
   "outputs": [],
   "source": [
    "show(layout([[rochester_total_consumption_heatmap, olympia_total_consumption_heatmap],[fresno_total_consumption_heatmap, miami_total_consumption_heatmap],]))"
   ]
  },
  {
   "cell_type": "markdown",
   "metadata": {
    "slideshow": {
     "slide_type": "subslide"
    }
   },
   "source": [
    "### Europe"
   ]
  },
  {
   "cell_type": "code",
   "execution_count": null,
   "metadata": {
    "jupyter": {
     "source_hidden": true
    }
   },
   "outputs": [],
   "source": [
    "show(layout([[london_total_consumption_heatmap, stuttgart_total_consumption_heatmap],[rome_total_consumption_heatmap, madrid_total_consumption_heatmap],]))"
   ]
  },
  {
   "cell_type": "markdown",
   "metadata": {
    "slideshow": {
     "slide_type": "slide"
    }
   },
   "source": [
    "## Load Duration Curve \n",
    "\n"
   ]
  },
  {
   "cell_type": "markdown",
   "metadata": {
    "slideshow": {
     "slide_type": "skip"
    }
   },
   "source": [
    "In a heat load duration (HLD) diagram the hourly or daily heat loads are sorted in descending order, with the highest thermal load of the year (winter peaks) located to the left and the lowest to the right (summer nights). The HLD diagram will be different annualy depending on the weather conditions, therefore for planning purposes it is recommended to use long-term duration diagrams based on historical data.\n",
    "\n",
    "Source: S. Werner, “District Heating and Cooling,” Elsevier, 2013."
   ]
  },
  {
   "cell_type": "markdown",
   "metadata": {
    "slideshow": {
     "slide_type": "subslide"
    }
   },
   "source": [
    "### USA"
   ]
  },
  {
   "cell_type": "code",
   "execution_count": null,
   "metadata": {
    "jupyter": {
     "source_hidden": true
    },
    "slideshow": {
     "slide_type": "skip"
    }
   },
   "outputs": [],
   "source": [
    "rochester_data = us_data[(us_data[\"city_key\"] == NOAA2010Dataset.ROCHESTER_NY)][\"Total_consumption\"]# / 1000\n",
    "olympia_data = us_data[(us_data[\"city_key\"] == NOAA2010Dataset.OLYMPIA_WA)][\"Total_consumption\"] #/ 1000\n",
    "fresno_data = us_data[(us_data[\"city_key\"] == NOAA2010Dataset.FRESNO_CA)][\"Total_consumption\"] #/ 1000\n",
    "miami_data = us_data[(us_data[\"city_key\"] == NOAA2010Dataset.MIAMI_FL)][\"Total_consumption\"] #/ 1000\n",
    "\n",
    "x_usa = np.array(range(1, rochester_data.shape[0] + 1))\n",
    "x_usa_max = max(x_usa)\n",
    "x_usa_cumsum = x_usa * 100 / x_usa_max \n",
    "\n",
    "y_rochester = rochester_data.sort_values(ascending=False)\n",
    "y_rochester_max = rochester_data.max()\n",
    "y_rochester_norm = y_rochester * 100 / y_rochester_max\n",
    "\n",
    "\n",
    "y_olympia = olympia_data.sort_values(ascending=False)\n",
    "y_olympia_max = olympia_data.max()\n",
    "y_olympia_norm = y_olympia * 100 / y_olympia_max\n",
    "\n",
    "\n",
    "y_fresno = fresno_data.sort_values(ascending=False)\n",
    "y_fresno_max = fresno_data.max()\n",
    "y_fresno_norm = y_fresno * 100 / y_fresno_max\n",
    "\n",
    "\n",
    "y_miami = miami_data.sort_values(ascending=False)\n",
    "y_miami_max = miami_data.max()\n",
    "y_miami_norm = y_miami * 100 / y_miami_max\n",
    "\n",
    "max_across_usa = max(y_rochester_max, y_olympia_max, y_fresno_max, y_miami_max,)\n",
    "y_rochester_norm_all =  y_rochester * 100 / max_across_usa\n",
    "y_olympia_norm_all =  y_olympia * 100 / max_across_usa\n",
    "y_fresno_norm_all =  y_fresno * 100 / max_across_usa\n",
    "y_miami_norm_all =  y_miami * 100 / max_across_usa"
   ]
  },
  {
   "cell_type": "code",
   "execution_count": null,
   "metadata": {
    "jupyter": {
     "source_hidden": true
    },
    "slideshow": {
     "slide_type": "skip"
    }
   },
   "outputs": [],
   "source": [
    "load_duration_curve_usa_y_equal_x_equal = figure(title=\"LDC for USA\",\n",
    "                                                 x_range=(0,9000),\n",
    "                                                 y_axis_label=\"Thermal power [MW]\",\n",
    "                                                 x_axis_label=\"Hours in the year\",\n",
    "                                                 **{**FIGURE_TOOLS, **FULL_WIDTH_FIGURE_TOOLS})\n",
    "l1 = load_duration_curve_usa_y_equal_x_equal.line(x=x_usa, y=y_rochester, color=color_map[\"rochester\"], alpha=1, line_width=2.5)\n",
    "l2 = load_duration_curve_usa_y_equal_x_equal.line(x=x_usa, y=y_olympia, color=color_map[\"olympia\"], alpha=1, line_width=2.5)\n",
    "l3 = load_duration_curve_usa_y_equal_x_equal.line(x=x_usa, y=y_fresno, color=color_map[\"fresno\"], alpha=1, line_width=2.5)\n",
    "l4 = load_duration_curve_usa_y_equal_x_equal.line(x=x_usa, y=y_miami, color=color_map[\"miami\"], alpha=1, line_width=2.5)\n",
    "load_duration_curve_usa_y_equal_x_equal.add_layout(Legend(items=[(\"Rochester\", [l1]), (\"Olympia\", [l2]), (\"Fresno\", [l3]), (\"Miami\", [l4]),], ), \"below\")\n",
    "\n",
    "\n",
    "load_duration_curve_usa_y_equal_x_norm = figure(title=\"LDC for USA\",\n",
    "                                                x_range=(0,105),\n",
    "                                                y_axis_label=\"Thermal power [MW]\",\n",
    "                                                x_axis_label=\"Hours in the year [%]\",\n",
    "                                                **{**FIGURE_TOOLS, **FULL_WIDTH_FIGURE_TOOLS})\n",
    "l1 = load_duration_curve_usa_y_equal_x_norm.line(x=x_usa_cumsum, y=y_rochester, color=color_map[\"rochester\"], alpha=1, line_width=2.5)\n",
    "l2 = load_duration_curve_usa_y_equal_x_norm.line(x=x_usa_cumsum, y=y_olympia, color=color_map[\"olympia\"], alpha=1, line_width=2.5)\n",
    "l3 = load_duration_curve_usa_y_equal_x_norm.line(x=x_usa_cumsum, y=y_fresno, color=color_map[\"fresno\"], alpha=1, line_width=2.5)\n",
    "l4 = load_duration_curve_usa_y_equal_x_norm.line(x=x_usa_cumsum, y=y_miami, color=color_map[\"miami\"], alpha=1, line_width=2.5)\n",
    "load_duration_curve_usa_y_equal_x_norm.add_layout(Legend(items=[(\"Rochester\", [l1]), (\"Olympia\", [l2]), (\"Fresno\", [l3]), (\"Miami\", [l4]),], ), \"below\")\n",
    "\n",
    "load_duration_curve_usa_y_norm_x_equal = figure(title=\"LDC for USA - Normalized across cities\",\n",
    "                                                x_range=(0,9000),\n",
    "                                                y_axis_label=\"Thermal power [%]\",\n",
    "                                                x_axis_label=\"Hours in the year\",\n",
    "                                                **{**FIGURE_TOOLS, **FULL_WIDTH_FIGURE_TOOLS})\n",
    "l1 = load_duration_curve_usa_y_norm_x_equal.line(x=x_usa, y=y_rochester_norm_all, color=color_map[\"rochester\"], alpha=1, line_width=2.5)\n",
    "l2 = load_duration_curve_usa_y_norm_x_equal.line(x=x_usa, y=y_olympia_norm_all, color=color_map[\"olympia\"], alpha=1, line_width=2.5)\n",
    "l3 = load_duration_curve_usa_y_norm_x_equal.line(x=x_usa, y=y_fresno_norm_all, color=color_map[\"fresno\"], alpha=1, line_width=2.5)\n",
    "l4 = load_duration_curve_usa_y_norm_x_equal.line(x=x_usa, y=y_miami_norm_all, color=color_map[\"miami\"], alpha=1, line_width=2.5)\n",
    "load_duration_curve_usa_y_norm_x_equal.add_layout(Legend(items=[(\"Rochester Norm\", [l1]), (\"Olympia Norm\", [l2]), (\"Fresno Norm\", [l3]), (\"Miami Norm\", [l4]),], ), \"below\")\n",
    "\n",
    "load_duration_curve_usa_y_norm_x_norm = figure(title=\"LDC for USA - Normalized across cities\",\n",
    "                                               x_range=(0,105),\n",
    "                                               y_axis_label=\"Thermal power [%]\",\n",
    "                                               x_axis_label=\"Hours in the year [%]\",\n",
    "                                               **{**FIGURE_TOOLS, **FULL_WIDTH_FIGURE_TOOLS})\n",
    "l1 = load_duration_curve_usa_y_norm_x_norm.line(x=x_usa_cumsum, y=y_rochester_norm_all, color=color_map[\"rochester\"], alpha=1, line_width=2.5)\n",
    "l2 = load_duration_curve_usa_y_norm_x_norm.line(x=x_usa_cumsum, y=y_olympia_norm_all, color=color_map[\"olympia\"], alpha=1, line_width=2.5)\n",
    "l3 = load_duration_curve_usa_y_norm_x_norm.line(x=x_usa_cumsum, y=y_fresno_norm_all, color=color_map[\"fresno\"], alpha=1, line_width=2.5)\n",
    "l4 = load_duration_curve_usa_y_norm_x_norm.line(x=x_usa_cumsum, y=y_miami_norm_all, color=color_map[\"miami\"], alpha=1, line_width=2.5)\n",
    "load_duration_curve_usa_y_norm_x_norm.add_layout(Legend(items=[(\"Rochester Norm\", [l1]), (\"Olympia Norm\", [l2]), (\"Fresno Norm\", [l3]), (\"Miami Norm\", [l4]),], ), \"below\")\n",
    "\n",
    "\n",
    "load_duration_curve_usa_norm_y_norm_x_equal = figure(title=\"LDC for USA - Normalization per city\",\n",
    "                                                     x_range=(0,9000),\n",
    "                                                     y_axis_label=\"Thermal power [%]\",\n",
    "                                                     x_axis_label=\"Hours in the year\",\n",
    "                                                     **{**FIGURE_TOOLS, **FULL_WIDTH_FIGURE_TOOLS})\n",
    "l1 = load_duration_curve_usa_norm_y_norm_x_equal.line(x=x_usa, y=y_rochester_norm, color=color_map[\"rochester\"], alpha=1, line_width=2.5)\n",
    "l2 = load_duration_curve_usa_norm_y_norm_x_equal.line(x=x_usa, y=y_olympia_norm, color=color_map[\"olympia\"], alpha=1, line_width=2.5)\n",
    "l3 = load_duration_curve_usa_norm_y_norm_x_equal.line(x=x_usa, y=y_fresno_norm, color=color_map[\"fresno\"], alpha=1, line_width=2.5)\n",
    "l4 = load_duration_curve_usa_norm_y_norm_x_equal.line(x=x_usa, y=y_miami_norm, color=color_map[\"miami\"], alpha=1, line_width=2.5)\n",
    "load_duration_curve_usa_norm_y_norm_x_equal.add_layout(Legend(items=[(\"Rochester Norm\", [l1]), (\"Olympia Norm\", [l2]), (\"Fresno Norm\", [l3]), (\"Miami Norm\", [l4]),], ), \"below\")\n",
    "\n",
    "\n",
    "load_duration_curve_usa_norm_y_norm_x_norm = figure(title=\"LDC for USA - Normalization per city\",\n",
    "                                                    x_range=(0,105),\n",
    "                                                    y_axis_label=\"Thermal power [%]\",\n",
    "                                                    x_axis_label=\"Hours in the year [%]\",\n",
    "                                                    **{**FIGURE_TOOLS, **FULL_WIDTH_FIGURE_TOOLS})\n",
    "l1 = load_duration_curve_usa_norm_y_norm_x_norm.line(x=x_usa_cumsum, y=y_rochester_norm, color=color_map[\"rochester\"], alpha=1, line_width=2.5)\n",
    "l2 = load_duration_curve_usa_norm_y_norm_x_norm.line(x=x_usa_cumsum, y=y_olympia_norm, color=color_map[\"olympia\"], alpha=1, line_width=2.5)\n",
    "l3 = load_duration_curve_usa_norm_y_norm_x_norm.line(x=x_usa_cumsum, y=y_fresno_norm, color=color_map[\"fresno\"], alpha=1, line_width=2.5)\n",
    "l4 = load_duration_curve_usa_norm_y_norm_x_norm.line(x=x_usa_cumsum, y=y_miami_norm, color=color_map[\"miami\"], alpha=1, line_width=2.5)\n",
    "load_duration_curve_usa_norm_y_norm_x_norm.add_layout(Legend(items=[(\"Rochester Norm\", [l1]), (\"Olympia Norm\", [l2]), (\"Fresno Norm\", [l3]), (\"Miami Norm\", [l4]),], ), \"below\")\n",
    "\n"
   ]
  },
  {
   "cell_type": "code",
   "execution_count": null,
   "metadata": {},
   "outputs": [],
   "source": [
    "show(layout([[load_duration_curve_usa_y_equal_x_equal],[load_duration_curve_usa_norm_y_norm_x_equal], ]))"
   ]
  },
  {
   "cell_type": "markdown",
   "metadata": {
    "slideshow": {
     "slide_type": "subslide"
    }
   },
   "source": [
    "### Europe"
   ]
  },
  {
   "cell_type": "code",
   "execution_count": null,
   "metadata": {
    "jupyter": {
     "source_hidden": true
    },
    "slideshow": {
     "slide_type": "skip"
    }
   },
   "outputs": [],
   "source": [
    "london_data = europe_data[(europe_data[\"city_key\"] == InsPireDataset.LONDON_UK)][\"Total_consumption\"]# /1000\n",
    "stuttgart_data = europe_data[(europe_data[\"city_key\"] == InsPireDataset.STUTTGART_GER)][\"Total_consumption\"]#/1000\n",
    "rome_data = europe_data[(europe_data[\"city_key\"] == InsPireDataset.ROME_IT)][\"Total_consumption\"]#/1000\n",
    "madrid_data = europe_data[(europe_data[\"city_key\"] == InsPireDataset.MADRID_SPA)][\"Total_consumption\"]#/1000\n",
    "\n",
    "x_europe = np.array(range(1,london_data.shape[0] + 1))\n",
    "x_europe_max = max(x_europe)\n",
    "x_europe_cumsum = x_europe * 100 / x_europe_max \n",
    "\n",
    "y_london = london_data.sort_values(ascending=False)\n",
    "y_london_max = london_data.max()\n",
    "y_london_norm = y_london * 100 / y_london_max\n",
    "\n",
    "\n",
    "y_stuttgart = stuttgart_data.sort_values(ascending=False)\n",
    "y_stuttgart_max = stuttgart_data.max()\n",
    "y_stuttgart_norm = y_stuttgart * 100 / y_stuttgart_max\n",
    "\n",
    "\n",
    "y_rome = rome_data.sort_values(ascending=False)\n",
    "y_rome_max = rome_data.max()\n",
    "y_rome_norm = y_rome * 100 / y_rome_max\n",
    "\n",
    "\n",
    "y_madrid = madrid_data.sort_values(ascending=False)\n",
    "y_madrid_max = madrid_data.max()\n",
    "y_madrid_norm = y_madrid * 100 / y_madrid_max\n",
    "\n",
    "max_across_europe = max(y_london_max, y_stuttgart_max, y_rome_max, y_madrid_max,)\n",
    "y_london_norm_all =  y_london * 100 / max_across_europe\n",
    "y_stuttgart_norm_all =  y_stuttgart * 100 / max_across_europe\n",
    "y_rome_norm_all =  y_rome * 100 / max_across_europe\n",
    "y_madrid_norm_all =  y_madrid * 100 / max_across_europe"
   ]
  },
  {
   "cell_type": "code",
   "execution_count": null,
   "metadata": {
    "jupyter": {
     "source_hidden": true
    },
    "slideshow": {
     "slide_type": "skip"
    }
   },
   "outputs": [],
   "source": [
    "load_duration_curve_europe_y_equal_x_equal = figure(title=\"LDC for Europe\",\n",
    "                                                    x_range=(0,9000),\n",
    "                                                    y_axis_label=\"Thermal power [MW]\",\n",
    "                                                    x_axis_label=\"Hours in the year\",\n",
    "                                                    **{**FIGURE_TOOLS, **FULL_WIDTH_FIGURE_TOOLS})\n",
    "l1 = load_duration_curve_europe_y_equal_x_equal.line(x=x_europe, y=y_london, color=color_map[\"london\"], alpha=1, line_width=2.5)\n",
    "l2 = load_duration_curve_europe_y_equal_x_equal.line(x=x_europe, y=y_stuttgart, color=color_map[\"stuttgart\"], alpha=1, line_width=2.5)\n",
    "l3 = load_duration_curve_europe_y_equal_x_equal.line(x=x_europe, y=y_rome, color=color_map[\"rome\"], alpha=1, line_width=2.5)\n",
    "l4 = load_duration_curve_europe_y_equal_x_equal.line(x=x_europe, y=y_madrid, color=color_map[\"madrid\"], alpha=1, line_width=2.5)\n",
    "load_duration_curve_europe_y_equal_x_equal.add_layout(Legend(items=[(\"London\", [l1]), (\"Stuttgart\", [l2]), (\"Rome\", [l3]), (\"Madrid\", [l4]),], ), \"below\")\n",
    "\n",
    "load_duration_curve_europe_y_equal_x_norm = figure(title=\"LDC for Europe\",\n",
    "                                                   x_range=(0,105),\n",
    "                                                   y_axis_label=\"Thermal power [MW]\",\n",
    "                                                   x_axis_label=\"Hours in the year [%]\",\n",
    "                                                   **{**FIGURE_TOOLS, **FULL_WIDTH_FIGURE_TOOLS})\n",
    "l1 = load_duration_curve_europe_y_equal_x_norm.line(x=x_europe_cumsum, y=y_london, color=color_map[\"london\"], alpha=1, line_width=2.5)\n",
    "l2 = load_duration_curve_europe_y_equal_x_norm.line(x=x_europe_cumsum, y=y_stuttgart, color=color_map[\"stuttgart\"], alpha=1, line_width=2.5)\n",
    "l3 = load_duration_curve_europe_y_equal_x_norm.line(x=x_europe_cumsum, y=y_rome, color=color_map[\"rome\"], alpha=1, line_width=2.5)\n",
    "l4 = load_duration_curve_europe_y_equal_x_norm.line(x=x_europe_cumsum, y=y_madrid, color=color_map[\"madrid\"], alpha=1, line_width=2.5)\n",
    "load_duration_curve_europe_y_equal_x_norm.add_layout(Legend(items=[(\"London\", [l1]), (\"Stuttgart\", [l2]), (\"Rome\", [l3]), (\"Madrid\", [l4]),], ), \"below\")\n",
    "\n",
    "load_duration_curve_europe_y_norm_x_equal = figure(title=\"LDC for Europe - Normalized between cities\",\n",
    "                                                   x_range=(0,9000),\n",
    "                                                   y_axis_label=\"Thermal power [%]\",\n",
    "                                                   x_axis_label=\"Hours in the year\",\n",
    "                                                   **{**FIGURE_TOOLS, **FULL_WIDTH_FIGURE_TOOLS})\n",
    "l1 = load_duration_curve_europe_y_norm_x_equal.line(x=x_europe, y=y_london_norm_all, color=color_map[\"london\"], alpha=1, line_width=2.5)\n",
    "l2 = load_duration_curve_europe_y_norm_x_equal.line(x=x_europe, y=y_stuttgart_norm_all, color=color_map[\"stuttgart\"], alpha=1, line_width=2.5)\n",
    "l3 = load_duration_curve_europe_y_norm_x_equal.line(x=x_europe, y=y_rome_norm_all, color=color_map[\"rome\"], alpha=1, line_width=2.5)\n",
    "l4 = load_duration_curve_europe_y_norm_x_equal.line(x=x_europe, y=y_madrid_norm_all, color=color_map[\"madrid\"], alpha=1, line_width=2.5)\n",
    "load_duration_curve_europe_y_norm_x_equal.add_layout(Legend(items=[(\"London Norm\", [l1]), (\"Stuttgart Norm\", [l2]), (\"Rome Norm\", [l3]), (\"Madrid Norm\", [l4]),], ), \"below\")\n",
    "\n",
    "load_duration_curve_europe_y_norm_x_norm = figure(title=\"LDC for Europe - Normalized between cities\",\n",
    "                                                  x_range=(0,105),\n",
    "                                                  y_axis_label=\"Thermal power [%]\",\n",
    "                                                  x_axis_label=\"Hours in the year [%]\",\n",
    "                                                  **{**FIGURE_TOOLS, **FULL_WIDTH_FIGURE_TOOLS})\n",
    "l1 = load_duration_curve_europe_y_norm_x_norm.line(x=x_europe_cumsum, y=y_london_norm_all, color=color_map[\"london\"], alpha=1, line_width=2.5)\n",
    "l2 = load_duration_curve_europe_y_norm_x_norm.line(x=x_europe_cumsum, y=y_stuttgart_norm_all, color=color_map[\"stuttgart\"], alpha=1, line_width=2.5)\n",
    "l3 = load_duration_curve_europe_y_norm_x_norm.line(x=x_europe_cumsum, y=y_rome_norm_all, color=color_map[\"rome\"], alpha=1, line_width=2.5)\n",
    "l4 = load_duration_curve_europe_y_norm_x_norm.line(x=x_europe_cumsum, y=y_madrid_norm_all, color=color_map[\"madrid\"], alpha=1, line_width=2.5)\n",
    "load_duration_curve_europe_y_norm_x_norm.add_layout(Legend(items=[(\"London Norm\", [l1]), (\"Stuttgart Norm\", [l2]), (\"Rome Norm\", [l3]), (\"Madrid Norm\", [l4]),], ), \"below\")\n",
    "\n",
    "load_duration_curve_europe_norm_y_norm_x_equal = figure(title=\"LDC for Europe - Each city is normalized\",\n",
    "                                                        x_range=(0,9000),\n",
    "                                                        y_axis_label=\"Thermal power [%]\",\n",
    "                                                        x_axis_label=\"Hours in the year\",\n",
    "                                                        **{**FIGURE_TOOLS, **FULL_WIDTH_FIGURE_TOOLS})\n",
    "l1 = load_duration_curve_europe_norm_y_norm_x_equal.line(x=x_europe, y=y_london_norm, color=color_map[\"london\"], alpha=1, line_width=2.5)\n",
    "l2 = load_duration_curve_europe_norm_y_norm_x_equal.line(x=x_europe, y=y_stuttgart_norm, color=color_map[\"stuttgart\"], alpha=1, line_width=2.5)\n",
    "l3 = load_duration_curve_europe_norm_y_norm_x_equal.line(x=x_europe, y=y_rome_norm, color=color_map[\"rome\"], alpha=1, line_width=2.5)\n",
    "l4 = load_duration_curve_europe_norm_y_norm_x_equal.line(x=x_europe, y=y_madrid_norm, color=color_map[\"madrid\"], alpha=1, line_width=2.5)\n",
    "load_duration_curve_europe_norm_y_norm_x_equal.add_layout(Legend(items=[(\"London Norm\", [l1]), (\"Stuttgart Norm\", [l2]), (\"Rome Norm\", [l3]), (\"Madrid Norm\", [l4]),], ), \"below\")\n",
    "\n",
    "load_duration_curve_europe_norm_y_norm_x_norm = figure(title=\"LDC for Europe - Each city is normalized\",\n",
    "                                                       x_range=(0,105),\n",
    "                                                       y_axis_label=\"Thermal power [%]\",\n",
    "                                                       x_axis_label=\"Hours in the year\",\n",
    "                                                       **{**FIGURE_TOOLS, **FULL_WIDTH_FIGURE_TOOLS})\n",
    "l1 = load_duration_curve_europe_norm_y_norm_x_norm.line(x=x_europe_cumsum, y=y_london_norm, color=color_map[\"london\"], alpha=1, line_width=2.5)\n",
    "l2 = load_duration_curve_europe_norm_y_norm_x_norm.line(x=x_europe_cumsum, y=y_stuttgart_norm, color=color_map[\"stuttgart\"], alpha=1, line_width=2.5)\n",
    "l3 = load_duration_curve_europe_norm_y_norm_x_norm.line(x=x_europe_cumsum, y=y_rome_norm, color=color_map[\"rome\"], alpha=1, line_width=2.5)\n",
    "l4 = load_duration_curve_europe_norm_y_norm_x_norm.line(x=x_europe_cumsum, y=y_madrid_norm, color=color_map[\"madrid\"], alpha=1, line_width=2.5)\n",
    "load_duration_curve_europe_norm_y_norm_x_norm.add_layout(Legend(items=[(\"London Norm\", [l1]), (\"Stuttgart Norm\", [l2]), (\"Rome Norm\", [l3]), (\"Madrid Norm\", [l4]),], ), \"below\")\n",
    "\n"
   ]
  },
  {
   "cell_type": "code",
   "execution_count": null,
   "metadata": {
    "jupyter": {
     "source_hidden": true
    }
   },
   "outputs": [],
   "source": [
    "show(layout([[load_duration_curve_europe_y_equal_x_equal],[load_duration_curve_europe_norm_y_norm_x_equal],]))"
   ]
  },
  {
   "cell_type": "markdown",
   "metadata": {
    "slideshow": {
     "slide_type": "slide"
    }
   },
   "source": [
    "## Heat power signature\n"
   ]
  },
  {
   "cell_type": "markdown",
   "metadata": {
    "slideshow": {
     "slide_type": "skip"
    }
   },
   "source": [
    "The weather dependence of the heat load is shown using a system heat power signature (HPS). A HPS is generated combining the values of thermal demand with the corresponding outdoor temperatures. In this plot we present hourly data, showing a clear linear interdependence between the thermal load and outdoor temperatures for space heating. \n",
    "\n",
    "It is expected that solar gains through windows are present between 8 - 15°C, resulting in a smaller heat load than the line representing the HPS. This is a real-world explanation for using the heating degree day threshold temperature when calculating degree-days.\n",
    "\n",
    "Source: S. Werner, “District Heating and Cooling,” Elsevier, 2013."
   ]
  },
  {
   "cell_type": "code",
   "execution_count": null,
   "metadata": {
    "jupyter": {
     "source_hidden": true
    },
    "slideshow": {
     "slide_type": "skip"
    }
   },
   "outputs": [],
   "source": [
    "heat_power_signature_tool = HoverTool(tooltips=[('Air Temperature', '@air_temp{%0.2f ºC}'),\n",
    "                                                ('Total Heat', '@Total_consumption{%0.2f kW}'),\n",
    "                                                (\"Adjusted Heat\", '@Total_consumption_fit{%0.2f kW}')],\n",
    "                                      formatters={'@air_temp': 'printf',\n",
    "                                                  '@Total_consumption': 'printf',\n",
    "                                                  '@Total_consumption_fit': 'printf',},)\n",
    "\n",
    "all_heat_power_signature_tool = HoverTool(tooltips=[('Air Temperature', '@air_temp{%0.2f ºC}'),\n",
    "                                                ('Total Heat', '@Total_consumption{%0.2f kW}'),],\n",
    "                                      formatters={'@air_temp': 'printf',\n",
    "                                                  '@Total_consumption': 'printf',},)"
   ]
  },
  {
   "cell_type": "markdown",
   "metadata": {
    "slideshow": {
     "slide_type": "subslide"
    }
   },
   "source": [
    "### USA"
   ]
  },
  {
   "cell_type": "code",
   "execution_count": null,
   "metadata": {
    "jupyter": {
     "source_hidden": true
    },
    "slideshow": {
     "slide_type": "skip"
    }
   },
   "outputs": [],
   "source": [
    "miami_heat_power_signature = figure(title=\"Miami, Florida\",\n",
    "                                    y_axis_label=\"Thermal Power [kW]\",\n",
    "                                    x_axis_label=\"Outdoor Temperature [ºC]\",\n",
    "                                    **FIGURE_TOOLS\n",
    "                                    )\n",
    "miami_heat_power_signature.add_tools(heat_power_signature_tool)\n",
    "l1 = miami_heat_power_signature.circle(x=\"air_temp\", y=\"Total_consumption\", color=color_map[\"miami\"], alpha=0.2, source=us_source, view=miami_view)\n",
    "l2 = miami_heat_power_signature.line(x=\"air_temp\", y=\"Total_consumption_fit\", color=color_map[\"RMSE\"], alpha=1, line_width=2.5, source=us_source, view=miami_view)\n",
    "miami_heat_power_signature.add_layout(Legend(items=[(\"Total Heat [kW]\", [l1]), (\"RMSE [kW]\", [l2]),], ), \"below\")\n",
    "\n",
    "\n",
    "fresno_heat_power_signature = figure(title=\"Fresno, California\",\n",
    "                                     y_range=miami_heat_power_signature.y_range,\n",
    "                                     x_range=miami_heat_power_signature.x_range,\n",
    "                                     y_axis_label=\"Thermal Power [kW]\",\n",
    "                                     x_axis_label=\"Outdoor Temperature [ºC]\",\n",
    "                                     **FIGURE_TOOLS\n",
    "                                    )\n",
    "fresno_heat_power_signature.add_tools(heat_power_signature_tool)\n",
    "l1 = fresno_heat_power_signature.circle(x=\"air_temp\", y=\"Total_consumption\", color=color_map[\"fresno\"], alpha=0.2, source=us_source, view=fresno_view)\n",
    "l2 = fresno_heat_power_signature.line(x=\"air_temp\", y=\"Total_consumption_fit\", color=color_map[\"RMSE\"], alpha=1, line_width=2.5, source=us_source, view=fresno_view)\n",
    "fresno_heat_power_signature.add_layout(Legend(items=[(\"Total Heat [kW]\", [l1]), (\"RMSE [kW]\", [l2]),], ), \"below\")\n",
    "\n",
    "\n",
    "olympia_heat_power_signature = figure(title=\"Olympia, Washington\",\n",
    "                                      y_range=miami_heat_power_signature.y_range,\n",
    "                                      x_range=miami_heat_power_signature.x_range,\n",
    "                                      y_axis_label=\"Thermal Power [kW]\",\n",
    "                                      x_axis_label=\"Outdoor Temperature [ºC]\",\n",
    "                                      **FIGURE_TOOLS\n",
    "                                     )\n",
    "olympia_heat_power_signature.add_tools(heat_power_signature_tool)\n",
    "l1 = olympia_heat_power_signature.circle(x=\"air_temp\", y=\"Total_consumption\", color=color_map[\"olympia\"], alpha=0.2, source=us_source, view=olympia_view)\n",
    "l2 = olympia_heat_power_signature.line(x=\"air_temp\", y=\"Total_consumption_fit\", color=color_map[\"RMSE\"], alpha=1, line_width=2.5, source=us_source, view=olympia_view)\n",
    "olympia_heat_power_signature.add_layout(Legend(items=[(\"Total Heat [kW]\", [l1]), (\"RMSE [kW]\", [l2]),], ),  \"below\")\n",
    "\n",
    "\n",
    "rochester_heat_power_signature = figure(title=\"Rochester, New York\",\n",
    "                                        y_range=miami_heat_power_signature.y_range,\n",
    "                                        x_range=miami_heat_power_signature.x_range,\n",
    "                                        y_axis_label=\"Thermal Power [kW]\",\n",
    "                                        x_axis_label=\"Outdoor Temperature [ºC]\",\n",
    "                                        **FIGURE_TOOLS\n",
    "                                       )\n",
    "rochester_heat_power_signature.add_tools(heat_power_signature_tool)\n",
    "l1 = rochester_heat_power_signature.circle(x=\"air_temp\", y=\"Total_consumption\", color=color_map[\"rochester\"], alpha=0.2, source=us_source, view=rochester_view)\n",
    "l2 = rochester_heat_power_signature.line(x=\"air_temp\", y=\"Total_consumption_fit\", color=color_map[\"RMSE\"], alpha=1, line_width=2.5, source=us_source, view=rochester_view)\n",
    "rochester_heat_power_signature.add_layout(Legend(items=[(\"Total Heat [kW]\", [l1]), (\"RMSE [kW]\", [l2]),], ),  \"below\")\n",
    "\n",
    "\n",
    "all_usa_heat_power_signature = figure(title=\"Total Heat based on outdoor temperature\",\n",
    "                                      y_axis_label=\"Thermal Power [kW]\",\n",
    "                                      x_axis_label=\"Outdoor Temperature [ºC]\",\n",
    "                                      **{**FIGURE_TOOLS, **FULL_WIDTH_FIGURE_TOOLS})\n",
    "all_usa_heat_power_signature.add_tools(all_heat_power_signature_tool)\n",
    "l1 = all_usa_heat_power_signature.circle(x=\"air_temp\", y=\"Total_consumption\", color=color_map[\"fresno\"], alpha=0.2, source=us_source, view=fresno_view)\n",
    "l2 = all_usa_heat_power_signature.circle(x=\"air_temp\", y=\"Total_consumption\", color=color_map[\"olympia\"], alpha=0.2, source=us_source, view=olympia_view)\n",
    "l3 = all_usa_heat_power_signature.circle(x=\"air_temp\", y=\"Total_consumption\", color=color_map[\"rochester\"], alpha=0.2, source=us_source, view=rochester_view)\n",
    "l4 = all_usa_heat_power_signature.circle(x=\"air_temp\", y=\"Total_consumption\", color=color_map[\"miami\"], alpha=0.2, source=us_source, view=miami_view)\n",
    "all_usa_heat_power_signature.add_layout(Legend(items=[(\"Fresno, CA\", [l1]), (\"Olympia, WA\", [l2]), (\"Rochester, NY\", [l3]), (\"Miami, FL\", [l4]),], ), \"below\")\n",
    "\n"
   ]
  },
  {
   "cell_type": "code",
   "execution_count": null,
   "metadata": {
    "scrolled": false
   },
   "outputs": [],
   "source": [
    "show(layout([[all_usa_heat_power_signature],[rochester_heat_power_signature, olympia_heat_power_signature, ],[fresno_heat_power_signature, miami_heat_power_signature],]))"
   ]
  },
  {
   "cell_type": "markdown",
   "metadata": {
    "slideshow": {
     "slide_type": "subslide"
    }
   },
   "source": [
    "### Europe"
   ]
  },
  {
   "cell_type": "code",
   "execution_count": null,
   "metadata": {
    "jupyter": {
     "source_hidden": true
    },
    "slideshow": {
     "slide_type": "skip"
    }
   },
   "outputs": [],
   "source": [
    "london_heat_power_signature = figure(title=\"London, United Kingdom\",\n",
    "                                     y_axis_label=\"Thermal Power [kW]\",\n",
    "                                     x_axis_label=\"Outdoor Temperature [ºC]\",\n",
    "                                     **FIGURE_TOOLS\n",
    "                                    )\n",
    "london_heat_power_signature.add_tools(heat_power_signature_tool)\n",
    "l1 = london_heat_power_signature.circle(x=\"air_temp\", y=\"Total_consumption\", color=color_map[\"london\"], alpha=0.2, source=europe_source, view=london_view)\n",
    "l2 = london_heat_power_signature.line(x=\"air_temp\", y=\"Total_consumption_fit\", color=color_map[\"RMSE\"], alpha=1, line_width=2.5, source=europe_source, view=london_view)\n",
    "london_heat_power_signature.add_layout(Legend(items=[(\"Total Heat [kW]\", [l1]), (\"RMSE [kW]\", [l2]),], ), \"below\")\n",
    "\n",
    "\n",
    "madrid_heat_power_signature = figure(title=\"Madrid, Spain\",\n",
    "                                     y_range=london_heat_power_signature.y_range,\n",
    "                                     x_range=london_heat_power_signature.x_range,\n",
    "                                     y_axis_label=\"Thermal Power [kW]\",\n",
    "                                     x_axis_label=\"Outdoor Temperature [ºC]\",\n",
    "                                     **FIGURE_TOOLS\n",
    "                                    )\n",
    "madrid_heat_power_signature.add_tools(heat_power_signature_tool)\n",
    "l1 = madrid_heat_power_signature.circle(x=\"air_temp\", y=\"Total_consumption\", color=color_map[\"madrid\"], alpha=0.2, source=europe_source, view=madrid_view)\n",
    "l2 = madrid_heat_power_signature.line(x=\"air_temp\", y=\"Total_consumption_fit\", color=color_map[\"RMSE\"], alpha=1, line_width=2.5, source=europe_source, view=madrid_view)\n",
    "madrid_heat_power_signature.add_layout(Legend(items=[(\"Total Heat [kW]\", [l1]), (\"RMSE [kW]\", [l2]),], ), \"below\")\n",
    "\n",
    "\n",
    "rome_heat_power_signature = figure(title=\"Rome, Italy\",\n",
    "                                   y_range=london_heat_power_signature.y_range,\n",
    "                                   x_range=london_heat_power_signature.x_range,\n",
    "                                   y_axis_label=\"Thermal Power [kW]\",\n",
    "                                   x_axis_label=\"Outdoor Temperature [ºC]\",\n",
    "                                   **FIGURE_TOOLS\n",
    "                                  )\n",
    "rome_heat_power_signature.add_tools(heat_power_signature_tool)\n",
    "l1 = rome_heat_power_signature.circle(x=\"air_temp\", y=\"Total_consumption\", color=color_map[\"rome\"], alpha=0.2, source=europe_source, view=rome_view)\n",
    "l2 = rome_heat_power_signature.line(x=\"air_temp\", y=\"Total_consumption_fit\", color=color_map[\"RMSE\"], alpha=1, line_width=2.5, source=europe_source, view=rome_view)\n",
    "rome_heat_power_signature.add_layout(Legend(items=[(\"Total Heat [kW]\", [l1]), (\"RMSE [kW]\", [l2]),], ), \"below\")\n",
    "\n",
    "\n",
    "stuttgart_heat_power_signature = figure(title=\"Stuttgart, Germany\",\n",
    "                                        y_range=london_heat_power_signature.y_range,\n",
    "                                        x_range=london_heat_power_signature.x_range,\n",
    "                                        y_axis_label=\"Thermal Power [kW]\",\n",
    "                                        x_axis_label=\"Outdoor Temperature [ºC]\",\n",
    "                                        **FIGURE_TOOLS\n",
    "                                       )\n",
    "stuttgart_heat_power_signature.add_tools(heat_power_signature_tool)\n",
    "l1 = stuttgart_heat_power_signature.circle(x=\"air_temp\", y=\"Total_consumption\", color=color_map[\"stuttgart\"], alpha=0.2, source=europe_source, view=stuttgart_view)\n",
    "l2 = stuttgart_heat_power_signature.line(x=\"air_temp\", y=\"Total_consumption_fit\", color=color_map[\"RMSE\"], alpha=1, line_width=2.5, source=europe_source, view=stuttgart_view)\n",
    "stuttgart_heat_power_signature.add_layout(Legend(items=[(\"Total Heat [kW]\", [l1]), (\"RMSE [kW]\", [l2]),], ), \"below\")\n",
    "\n",
    "\n",
    "all_europe_heat_power_signature = figure(title=\"Power vs Air Temp\",\n",
    "                                         y_axis_label=\"Thermal Power [kW]\",\n",
    "                                         x_axis_label=\"Outdoor Temperature [ºC]\",\n",
    "                                         **{**FIGURE_TOOLS, **FULL_WIDTH_FIGURE_TOOLS})\n",
    "all_europe_heat_power_signature.add_tools(all_heat_power_signature_tool)\n",
    "l1 = all_europe_heat_power_signature.circle(x=\"air_temp\", y=\"Total_consumption\", color=color_map[\"london\"], alpha=0.2, source=europe_source, view=london_view)\n",
    "l2 = all_europe_heat_power_signature.circle(x=\"air_temp\", y=\"Total_consumption\", color=color_map[\"stuttgart\"], alpha=0.2, source=europe_source, view=stuttgart_view)\n",
    "l3 = all_europe_heat_power_signature.circle(x=\"air_temp\", y=\"Total_consumption\", color=color_map[\"rome\"], alpha=0.2, source=europe_source, view=rome_view)\n",
    "l4 = all_europe_heat_power_signature.circle(x=\"air_temp\", y=\"Total_consumption\", color=color_map[\"madrid\"], alpha=0.2, source=europe_source, view=madrid_view)\n",
    "all_europe_heat_power_signature.add_layout(Legend(items=[(\"London, UK\", [l1]), (\"Stuttgart, Germany\", [l2]), (\"Rome, Italy\", [l3]), (\"Madrid, Spain\", [l4]),], ), \"below\")\n"
   ]
  },
  {
   "cell_type": "code",
   "execution_count": null,
   "metadata": {
    "scrolled": false
   },
   "outputs": [],
   "source": [
    "show(layout([[all_europe_heat_power_signature],[london_heat_power_signature, stuttgart_heat_power_signature],[rome_heat_power_signature, madrid_heat_power_signature],]))"
   ]
  },
  {
   "cell_type": "markdown",
   "metadata": {
    "slideshow": {
     "slide_type": "slide"
    }
   },
   "source": [
    "## Sources and network temperatures "
   ]
  },
  {
   "cell_type": "code",
   "execution_count": null,
   "metadata": {
    "jupyter": {
     "source_hidden": true
    },
    "slideshow": {
     "slide_type": "skip"
    }
   },
   "outputs": [],
   "source": [
    "sources_and_network_temp_hover_tool = HoverTool(tooltips=[('Date', '@timestamp{%Y/%m/%d %H:%M:%S}'),\n",
    "                                                          ('Source 1 Temperature', '@source1_temp{%0.2f ºC}'),\n",
    "                                                          ('Source 2 Temperature', '@source2_temp{%0.2f ºC}'),\n",
    "                                                          ('Aquifer Temperature', '@aquifer_temp{%0.2f ºC}'),\n",
    "                                                          ('Network Temperature', '@net_temp{%0.2f ºC}'),],\n",
    "                                                formatters={'@timestamp': 'datetime',\n",
    "                                                            '@source1_temp': 'printf',\n",
    "                                                            '@source2_temp': 'printf',\n",
    "                                                            '@aquifer_temp': 'printf',\n",
    "                                                            '@net_temp': 'printf',},)"
   ]
  },
  {
   "cell_type": "markdown",
   "metadata": {
    "slideshow": {
     "slide_type": "subslide"
    }
   },
   "source": [
    "### USA"
   ]
  },
  {
   "cell_type": "code",
   "execution_count": null,
   "metadata": {
    "jupyter": {
     "source_hidden": true
    },
    "slideshow": {
     "slide_type": "skip"
    }
   },
   "outputs": [],
   "source": [
    "winter_x_values = pd.date_range(start=\"2010-01-10\", freq=\"D\", periods=15)\n",
    "summer_x_values = pd.date_range(start=\"2010-07-15\", freq=\"D\", periods=15)\n",
    "\n",
    "rochester_winter_sources_temp = figure(x_axis_type=\"datetime\",\n",
    "                                       x_range=(winter_x_values[0], winter_x_values[-1]),\n",
    "                                       title=\"Rochester, NY - Winter - Temperatures of sources, aquifer and network\",\n",
    "                                       y_axis_label=\"Temperature (ºC)\",\n",
    "                                       x_axis_label=\"Date\",\n",
    "                                       **{**FIGURE_TOOLS, **FULL_WIDTH_FIGURE_TOOLS}\n",
    "                                      )\n",
    "rochester_winter_sources_temp.add_tools(sources_and_network_temp_hover_tool)\n",
    "l1 = rochester_winter_sources_temp.line(x=\"timestamp\", y=\"source1_temp\", color=color_map[\"source1\"], alpha=1, source=us_source, view=rochester_2_weeks_winter_view, line_width=4)\n",
    "l2 = rochester_winter_sources_temp.line(x=\"timestamp\", y=\"source2_temp\", color=color_map[\"source2\"], alpha=1, source=us_source, view=rochester_2_weeks_winter_view, line_width=4)\n",
    "l3 = rochester_winter_sources_temp.line(x=\"timestamp\", y=\"aquifer_temp\", color=color_map[\"source_water\"], alpha=1, source=us_source, view=rochester_2_weeks_winter_view, line_width=4)\n",
    "l4 = rochester_winter_sources_temp.triangle(x=\"timestamp\", y=\"net_temp\", color=color_map[\"electricity\"], alpha=1, source=us_source, view=rochester_2_weeks_winter_view, size=14)\n",
    "rochester_winter_sources_temp.add_layout(Legend(items=[(\"Source 1\", [l1]), (\"Source 2\", [l2]), (\"Aquifer\", [l3]), (\"Network\", [l4])],), \"below\")\n",
    "\n",
    "\n",
    "rochester_summer_sources_temp = figure(x_axis_type=\"datetime\",\n",
    "                                       x_range=(summer_x_values[0], summer_x_values[-1]),\n",
    "                                       title=\"Rochester, NY - Summer - Temperatures of sources, aquifer and network\",\n",
    "                                       y_axis_label=\"Temperature (ºC)\",\n",
    "                                       x_axis_label=\"Date\",\n",
    "                                       **{**FIGURE_TOOLS, **FULL_WIDTH_FIGURE_TOOLS}\n",
    "                                      )\n",
    "rochester_summer_sources_temp.add_tools(sources_and_network_temp_hover_tool)\n",
    "l1 = rochester_summer_sources_temp.line(x=\"timestamp\", y=\"source1_temp\", color=color_map[\"source1\"], alpha=1, source=us_source, view=rochester_2_weeks_summer_view, line_width=4)\n",
    "l2 = rochester_summer_sources_temp.line(x=\"timestamp\", y=\"source2_temp\", color=color_map[\"source2\"], alpha=1, source=us_source, view=rochester_2_weeks_summer_view, line_width=4)\n",
    "l3 = rochester_summer_sources_temp.line(x=\"timestamp\", y=\"aquifer_temp\", color=color_map[\"source_water\"], alpha=1, source=us_source, view=rochester_2_weeks_summer_view, line_width=4)\n",
    "l4 = rochester_summer_sources_temp.triangle(x=\"timestamp\", y=\"net_temp\", color=color_map[\"electricity\"], alpha=1, source=us_source, view=rochester_2_weeks_summer_view, size=14)\n",
    "rochester_summer_sources_temp.add_layout(Legend(items=[(\"Source 1\", [l1]), (\"Source 2\", [l2]), (\"Aquifer\", [l3]), (\"Network\", [l4])],), \"below\")\n",
    "\n",
    "\n",
    "fresno_winter_sources_temp = figure(x_axis_type=\"datetime\",\n",
    "                                    x_range=(winter_x_values[0], winter_x_values[-1]),\n",
    "                                    title=\"Fresno, CA - Winter - Temperatures of sources, aquifer and network\",\n",
    "                                    y_axis_label=\"Temperature (ºC)\",\n",
    "                                    x_axis_label=\"Date\",\n",
    "                                    **{**FIGURE_TOOLS, **FULL_WIDTH_FIGURE_TOOLS}\n",
    "                                   )\n",
    "fresno_winter_sources_temp.add_tools(sources_and_network_temp_hover_tool)\n",
    "l1 = fresno_winter_sources_temp.line(x=\"timestamp\", y=\"source1_temp\", color=color_map[\"source1\"], alpha=1, source=us_source, view=fresno_2_weeks_winter_view, line_width=4)\n",
    "l2 = fresno_winter_sources_temp.line(x=\"timestamp\", y=\"source2_temp\", color=color_map[\"source2\"], alpha=1, source=us_source, view=fresno_2_weeks_winter_view, line_width=4)\n",
    "l3 = fresno_winter_sources_temp.line(x=\"timestamp\", y=\"aquifer_temp\", color=color_map[\"source_water\"], alpha=1, source=us_source, view=fresno_2_weeks_winter_view, line_width=4)\n",
    "l4 = fresno_winter_sources_temp.triangle(x=\"timestamp\", y=\"net_temp\", color=color_map[\"electricity\"], alpha=1, source=us_source, view=fresno_2_weeks_winter_view, size=14)\n",
    "fresno_winter_sources_temp.add_layout(Legend(items=[(\"Source 1\", [l1]), (\"Source 2\", [l2]), (\"Aquifer\", [l3]), (\"Network\", [l4])],), \"below\")\n",
    "     \n",
    "                                    \n",
    "fresno_summer_sources_temp = figure(x_axis_type=\"datetime\",\n",
    "                                    x_range=(summer_x_values[0], summer_x_values[-1]),\n",
    "                                    title=\"Fresno, CA - Summer - Temperatures of sources, aquifer and network\",\n",
    "                                    y_axis_label=\"Temperature (ºC)\",\n",
    "                                    x_axis_label=\"Date\",\n",
    "                                    **{**FIGURE_TOOLS, **FULL_WIDTH_FIGURE_TOOLS}\n",
    "                                   )\n",
    "fresno_summer_sources_temp.add_tools(sources_and_network_temp_hover_tool)\n",
    "l1 = fresno_summer_sources_temp.line(x=\"timestamp\", y=\"source1_temp\", color=color_map[\"source1\"], alpha=1, source=us_source, view=fresno_2_weeks_summer_view, line_width=4)\n",
    "l2 = fresno_summer_sources_temp.line(x=\"timestamp\", y=\"source2_temp\", color=color_map[\"source2\"], alpha=1, source=us_source, view=fresno_2_weeks_summer_view, line_width=4)\n",
    "l3 = fresno_summer_sources_temp.line(x=\"timestamp\", y=\"aquifer_temp\", color=color_map[\"source_water\"], alpha=1, source=us_source, view=fresno_2_weeks_summer_view, line_width=4)\n",
    "l4 = fresno_summer_sources_temp.triangle(x=\"timestamp\", y=\"net_temp\", color=color_map[\"electricity\"], alpha=1, source=us_source, view=fresno_2_weeks_summer_view, size=14)\n",
    "fresno_summer_sources_temp.add_layout(Legend(items=[(\"Source 1\", [l1]), (\"Source 2\", [l2]), (\"Aquifer\", [l3]), (\"Network\", [l4])],), \"below\")\n"
   ]
  },
  {
   "cell_type": "code",
   "execution_count": null,
   "metadata": {
    "jupyter": {
     "source_hidden": true
    }
   },
   "outputs": [],
   "source": [
    "show(layout([[rochester_winter_sources_temp],[rochester_summer_sources_temp]]))    "
   ]
  },
  {
   "cell_type": "markdown",
   "metadata": {
    "slideshow": {
     "slide_type": "subslide"
    }
   },
   "source": [
    "### Europe"
   ]
  },
  {
   "cell_type": "code",
   "execution_count": null,
   "metadata": {
    "jupyter": {
     "source_hidden": true
    },
    "slideshow": {
     "slide_type": "skip"
    }
   },
   "outputs": [],
   "source": [
    "winter_x_values = pd.date_range(start=\"2017-01-10\", freq=\"D\", periods=15)\n",
    "summer_x_values = pd.date_range(start=\"2017-07-15\", freq=\"D\", periods=15)\n",
    "\n",
    "london_winter_sources_temp = figure(x_axis_type=\"datetime\",\n",
    "                                    x_range=(winter_x_values[0], winter_x_values[-1]),\n",
    "                                    title=\"London, UK - Winter - Temperatures of sources, aquifer and network\",\n",
    "                                    y_axis_label=\"Temperature (ºC)\",\n",
    "                                    x_axis_label=\"Date\",\n",
    "                                    **{**FIGURE_TOOLS, **FULL_WIDTH_FIGURE_TOOLS}\n",
    "                                   )\n",
    "london_winter_sources_temp.add_tools(sources_and_network_temp_hover_tool)\n",
    "l1 = london_winter_sources_temp.line(x=\"timestamp\", y=\"source1_temp\", color=color_map[\"source1\"], alpha=1, source=europe_source, view=london_2_weeks_winter_view, line_width=4)\n",
    "l2 = london_winter_sources_temp.line(x=\"timestamp\", y=\"source2_temp\", color=color_map[\"source2\"], alpha=1, source=europe_source, view=london_2_weeks_winter_view, line_width=4)\n",
    "l3 = london_winter_sources_temp.line(x=\"timestamp\", y=\"aquifer_temp\", color=color_map[\"source_water\"], alpha=1, source=europe_source, view=london_2_weeks_winter_view, line_width=4)\n",
    "l4 = london_winter_sources_temp.triangle(x=\"timestamp\", y=\"net_temp\", color=color_map[\"electricity\"], alpha=1, source=europe_source, view=london_2_weeks_winter_view, size=14)\n",
    "london_winter_sources_temp.add_layout(Legend(items=[(\"Source 1\", [l1]), (\"Source 2\", [l2]), (\"Aquifer\", [l3]), (\"Network\", [l4])],), \"below\")\n",
    "\n",
    "\n",
    "london_summer_sources_temp = figure(x_axis_type=\"datetime\",\n",
    "                                    x_range=(summer_x_values[0], summer_x_values[-1]),\n",
    "                                    title=\"London, UK - Summer - Temperatures of sources, aquifer and network\",\n",
    "                                    y_axis_label=\"Temperature (ºC)\",\n",
    "                                    x_axis_label=\"Date\",\n",
    "                                    **{**FIGURE_TOOLS, **FULL_WIDTH_FIGURE_TOOLS}\n",
    "                                   )\n",
    "london_summer_sources_temp.add_tools(sources_and_network_temp_hover_tool)\n",
    "l1 = london_summer_sources_temp.line(x=\"timestamp\", y=\"source1_temp\", color=color_map[\"source1\"], alpha=1, source=europe_source, view=london_2_weeks_summer_view, line_width=4)\n",
    "l2 = london_summer_sources_temp.line(x=\"timestamp\", y=\"source2_temp\", color=color_map[\"source2\"], alpha=1, source=europe_source, view=london_2_weeks_summer_view, line_width=4)\n",
    "l3 = london_summer_sources_temp.line(x=\"timestamp\", y=\"aquifer_temp\", color=color_map[\"source_water\"], alpha=1, source=europe_source, view=london_2_weeks_summer_view, line_width=4)\n",
    "l4 = london_summer_sources_temp.triangle(x=\"timestamp\", y=\"net_temp\", color=color_map[\"electricity\"], alpha=1, source=europe_source, view=london_2_weeks_summer_view, size=14)\n",
    "london_summer_sources_temp.add_layout(Legend(items=[(\"Source 1\", [l1]), (\"Source 2\", [l2]), (\"Aquifer\", [l3]), (\"Network\", [l4])],), \"below\")\n",
    "\n",
    "\n",
    "rome_winter_sources_temp = figure(x_axis_type=\"datetime\",\n",
    "                                    x_range=(winter_x_values[0], winter_x_values[-1]),\n",
    "                                    title=\"Rome, Italy - Winter - Temperatures of sources, aquifer and network\",\n",
    "                                    y_axis_label=\"Temperature (ºC)\",\n",
    "                                    x_axis_label=\"Date\",\n",
    "                                    **{**FIGURE_TOOLS, **FULL_WIDTH_FIGURE_TOOLS}\n",
    "                                   )\n",
    "rome_winter_sources_temp.add_tools(sources_and_network_temp_hover_tool)\n",
    "l1 = rome_winter_sources_temp.line(x=\"timestamp\", y=\"source1_temp\", color=color_map[\"source1\"], alpha=1, source=europe_source, view=rome_2_weeks_winter_view, line_width=4)\n",
    "l2 = rome_winter_sources_temp.line(x=\"timestamp\", y=\"source2_temp\", color=color_map[\"source2\"], alpha=1, source=europe_source, view=rome_2_weeks_winter_view, line_width=4)\n",
    "l3 = rome_winter_sources_temp.line(x=\"timestamp\", y=\"aquifer_temp\", color=color_map[\"source_water\"], alpha=1, source=europe_source, view=rome_2_weeks_winter_view, line_width=4)\n",
    "l4 = rome_winter_sources_temp.triangle(x=\"timestamp\", y=\"net_temp\", color=color_map[\"electricity\"], alpha=1, source=europe_source, view=rome_2_weeks_winter_view, size=14)\n",
    "rome_winter_sources_temp.add_layout(Legend(items=[(\"Source 1\", [l1]), (\"Source 2\", [l2]), (\"Aquifer\", [l3]), (\"Network\", [l4])],), \"below\")\n",
    "\n",
    "\n",
    "rome_summer_sources_temp = figure(x_axis_type=\"datetime\",\n",
    "                                    x_range=(summer_x_values[0], summer_x_values[-1]),\n",
    "                                    title=\"Rome, Italy - Summer - Temperatures of sources, aquifer and network\",\n",
    "                                    y_axis_label=\"Temperature (ºC)\",\n",
    "                                    x_axis_label=\"Date\",\n",
    "                                    **{**FIGURE_TOOLS, **FULL_WIDTH_FIGURE_TOOLS}\n",
    "                                   )\n",
    "rome_summer_sources_temp.add_tools(sources_and_network_temp_hover_tool)\n",
    "l1 = rome_summer_sources_temp.line(x=\"timestamp\", y=\"source1_temp\", color=color_map[\"source1\"], alpha=1, source=europe_source, view=rome_2_weeks_summer_view, line_width=4)\n",
    "l2 = rome_summer_sources_temp.line(x=\"timestamp\", y=\"source2_temp\", color=color_map[\"source2\"], alpha=1, source=europe_source, view=rome_2_weeks_summer_view, line_width=4)\n",
    "l3 = rome_summer_sources_temp.line(x=\"timestamp\", y=\"aquifer_temp\", color=color_map[\"source_water\"], alpha=1, source=europe_source, view=rome_2_weeks_summer_view, line_width=4)\n",
    "l4 = rome_summer_sources_temp.triangle(x=\"timestamp\", y=\"net_temp\", color=color_map[\"electricity\"], alpha=1, source=europe_source, view=rome_2_weeks_summer_view, size=14)\n",
    "rome_summer_sources_temp.add_layout(Legend(items=[(\"Source 1\", [l1]), (\"Source 2\", [l2]), (\"Aquifer\", [l3]), (\"Network\", [l4])],), \"below\")\n"
   ]
  },
  {
   "cell_type": "code",
   "execution_count": null,
   "metadata": {
    "jupyter": {
     "source_hidden": true
    }
   },
   "outputs": [],
   "source": [
    "show(layout([[london_winter_sources_temp],[rome_winter_sources_temp],]))"
   ]
  },
  {
   "cell_type": "markdown",
   "metadata": {
    "slideshow": {
     "slide_type": "slide"
    }
   },
   "source": [
    "## Weekly Electric Power By Season"
   ]
  },
  {
   "cell_type": "markdown",
   "metadata": {
    "slideshow": {
     "slide_type": "subslide"
    }
   },
   "source": [
    "### Europe"
   ]
  },
  {
   "cell_type": "code",
   "execution_count": null,
   "metadata": {
    "jupyter": {
     "source_hidden": true
    },
    "slideshow": {
     "slide_type": "skip"
    }
   },
   "outputs": [],
   "source": [
    "dayofweek = range(0,7)\n",
    "seasons = [\"winter\", \"spring\", \"summer\", \"fall\"]\n",
    "cities = [InsPireDataset.LONDON_UK, InsPireDataset.MADRID_SPA, InsPireDataset.ROME_IT, InsPireDataset.STUTTGART_GER]\n",
    "\n",
    "total_consumption_average_per_day = dict()\n",
    "electrical_power_use_season_tool_by_city = dict()\n",
    "for city in cities:\n",
    "    for season in seasons:\n",
    "        days_for_city_and_season = np.empty(shape=(7,), dtype=np.float32)\n",
    "        \n",
    "        for day in dayofweek:\n",
    "            days_for_city_and_season[day] = europe_data[(europe_data.city_key == city) & (europe_data.season == season) & (europe_data.dayofweek == day)][\"E_el\"].mean()#/1000\n",
    "    \n",
    "        total_consumption_average_per_day[f\"{city}_{season}\"] = days_for_city_and_season\n",
    "        electrical_power_use_season_tool_by_city[city] = HoverTool(tooltips=[(\"Day\", \"@dayofweek{%d}\"),\n",
    "                                                                             ('Electricity Winter', f'@{city}_winter' + '{%0.2f MW}'),\n",
    "                                                                             ('Electricity Spring', f'@{city}_spring' + '{%0.2f MW}'),\n",
    "                                                                             ('Electricity Summer', f'@{city}_summer' + '{%0.2f MW}'),\n",
    "                                                                             ('Electricity Fall', f'@{city}_fall' + '{%0.2f MW}'),],\n",
    "                                                                   formatters={'@hour': 'printf',\n",
    "                                                                               f'@{city}_winter': 'printf',\n",
    "                                                                               f'@{city}_spring': 'printf',\n",
    "                                                                               f'@{city}_summer': 'printf',\n",
    "                                                                               f'@{city}_fall': \"printf\"},)\n",
    "        \n",
    "x=[\"Monday\", \"Tuesday\", \"Wednesday\", \"Thursday\", \"Friday\", \"Saturday\", \"Sunday\"]\n",
    "\n",
    "europe_electricity_season_source = ColumnDataSource({\"dayofweek\": x, **total_consumption_average_per_day})"
   ]
  },
  {
   "cell_type": "code",
   "execution_count": null,
   "metadata": {
    "jupyter": {
     "source_hidden": true
    },
    "slideshow": {
     "slide_type": "skip"
    }
   },
   "outputs": [],
   "source": [
    "london_seasonality_total_consumption = figure(title=\"London, United Kingdom\",\n",
    "                                              x_range=FactorRange(*x),\n",
    "                                              x_axis_label=\"Day of the week\",\n",
    "                                              y_axis_label=\"Seasonal electric power [MW]\",\n",
    "                                              **FIGURE_TOOLS,\n",
    "                                             )\n",
    "london_seasonality_total_consumption.add_tools(electrical_power_use_season_tool_by_city[InsPireDataset.LONDON_UK])\n",
    "l11 = london_seasonality_total_consumption.line(x=\"dayofweek\", y=f\"{InsPireDataset.LONDON_UK}_winter\", source=europe_electricity_season_source, color=color_map[\"winter\"], alpha=0.7, line_width=3)\n",
    "l12 = london_seasonality_total_consumption.square(x=\"dayofweek\", y=f\"{InsPireDataset.LONDON_UK}_winter\", source=europe_electricity_season_source, color=color_map[\"winter\"], alpha=0.7, size=10)\n",
    "l21 = london_seasonality_total_consumption.line(x=\"dayofweek\", y=f\"{InsPireDataset.LONDON_UK}_spring\", source=europe_electricity_season_source, color=color_map[\"spring\"], alpha=0.7,  line_width=3)\n",
    "l22 = london_seasonality_total_consumption.circle(x=\"dayofweek\", y=f\"{InsPireDataset.LONDON_UK}_spring\", source=europe_electricity_season_source, color=color_map[\"spring\"], alpha=0.7,  size=10)\n",
    "l31 = london_seasonality_total_consumption.line(x=\"dayofweek\", y=f\"{InsPireDataset.LONDON_UK}_summer\", source=europe_electricity_season_source, color=color_map[\"summer\"], alpha=0.7,  line_width=3)\n",
    "l32 = london_seasonality_total_consumption.diamond(x=\"dayofweek\", y=f\"{InsPireDataset.LONDON_UK}_summer\", source=europe_electricity_season_source, color=color_map[\"summer\"], alpha=0.7,  size=10)\n",
    "l41 = london_seasonality_total_consumption.line(x=\"dayofweek\", y=f\"{InsPireDataset.LONDON_UK}_fall\", source=europe_electricity_season_source, color=color_map[\"fall\"], alpha=0.7,  line_width=3)\n",
    "l42 = london_seasonality_total_consumption.cross(x=\"dayofweek\", y=f\"{InsPireDataset.LONDON_UK}_fall\", source=europe_electricity_season_source, color=color_map[\"fall\"], alpha=0.7, size=10)\n",
    "london_seasonality_total_consumption.add_layout(Legend(items=[(\"Winter 2017\", [l11, l12]), (\"Spring 2017\", [l21, l22]), (\"Summer 2017\", [l31, l32]), (\"Fall 2017\", [l41, l42]),],), \"below\")\n",
    "\n",
    "\n",
    "stuttgart_seasonality_total_consumption = figure(title=\"Stuttgart, Germany\",\n",
    "                                                 y_range=london_seasonality_total_consumption.y_range,\n",
    "                                                 x_range=london_seasonality_total_consumption.x_range,\n",
    "                                                 x_axis_label=\"Day of the week\",\n",
    "                                                 y_axis_label=\"Seasonal electric power [MW]\",\n",
    "                                                 **FIGURE_TOOLS,\n",
    "                                                )\n",
    "stuttgart_seasonality_total_consumption.add_tools(electrical_power_use_season_tool_by_city[InsPireDataset.STUTTGART_GER])\n",
    "l11 = stuttgart_seasonality_total_consumption.line(x=\"dayofweek\", y=f\"{InsPireDataset.STUTTGART_GER}_winter\", source=europe_electricity_season_source, color=color_map[\"winter\"], alpha=0.7, line_width=3)\n",
    "l12 = stuttgart_seasonality_total_consumption.square(x=\"dayofweek\", y=f\"{InsPireDataset.STUTTGART_GER}_winter\", source=europe_electricity_season_source, color=color_map[\"winter\"], alpha=0.7, size=10)\n",
    "l21 = stuttgart_seasonality_total_consumption.line(x=\"dayofweek\", y=f\"{InsPireDataset.STUTTGART_GER}_spring\", source=europe_electricity_season_source, color=color_map[\"spring\"], alpha=0.7,  line_width=3)\n",
    "l22 = stuttgart_seasonality_total_consumption.circle(x=\"dayofweek\", y=f\"{InsPireDataset.STUTTGART_GER}_spring\", source=europe_electricity_season_source, color=color_map[\"spring\"], alpha=0.7,  size=10)\n",
    "l31 = stuttgart_seasonality_total_consumption.line(x=\"dayofweek\", y=f\"{InsPireDataset.STUTTGART_GER}_summer\", source=europe_electricity_season_source, color=color_map[\"summer\"], alpha=0.7,  line_width=3)\n",
    "l32 = stuttgart_seasonality_total_consumption.diamond(x=\"dayofweek\", y=f\"{InsPireDataset.STUTTGART_GER}_summer\", source=europe_electricity_season_source, color=color_map[\"summer\"], alpha=0.7,  size=10)\n",
    "l41 = stuttgart_seasonality_total_consumption.line(x=\"dayofweek\", y=f\"{InsPireDataset.STUTTGART_GER}_fall\", source=europe_electricity_season_source, color=color_map[\"fall\"], alpha=0.7,  line_width=3)\n",
    "l42 = stuttgart_seasonality_total_consumption.cross(x=\"dayofweek\", y=f\"{InsPireDataset.STUTTGART_GER}_fall\", source=europe_electricity_season_source, color=color_map[\"fall\"], alpha=0.7, size=10)\n",
    "stuttgart_seasonality_total_consumption.add_layout(Legend(items=[(\"Winter 2017\", [l11, l12]), (\"Spring 2017\", [l21, l22]), (\"Summer 2017\", [l31, l32]), (\"Fall 2017\", [l41, l42]),],), \"below\")\n",
    "\n",
    "\n",
    "\n",
    "rome_seasonality_total_consumption = figure(title=\"Rome, Italy\",\n",
    "                                            y_range=london_seasonality_total_consumption.y_range,\n",
    "                                            x_range=london_seasonality_total_consumption.x_range,\n",
    "                                            x_axis_label=\"Day of the week\",\n",
    "                                            y_axis_label=\"Seasonal electric power [MW]\",\n",
    "                                            **FIGURE_TOOLS,\n",
    "                                           )\n",
    "rome_seasonality_total_consumption.add_tools(electrical_power_use_season_tool_by_city[InsPireDataset.ROME_IT])\n",
    "l11 = rome_seasonality_total_consumption.line(x=\"dayofweek\", y=f\"{InsPireDataset.ROME_IT}_winter\", source=europe_electricity_season_source, color=color_map[\"winter\"], alpha=0.7, line_width=3)\n",
    "l12 = rome_seasonality_total_consumption.square(x=\"dayofweek\", y=f\"{InsPireDataset.ROME_IT}_winter\", source=europe_electricity_season_source, color=color_map[\"winter\"], alpha=0.7, size=10)\n",
    "l21 = rome_seasonality_total_consumption.line(x=\"dayofweek\", y=f\"{InsPireDataset.ROME_IT}_spring\", source=europe_electricity_season_source, color=color_map[\"spring\"], alpha=0.7,  line_width=3)\n",
    "l22 = rome_seasonality_total_consumption.circle(x=\"dayofweek\", y=f\"{InsPireDataset.ROME_IT}_spring\", source=europe_electricity_season_source, color=color_map[\"spring\"], alpha=0.7,  size=10)\n",
    "l31 = rome_seasonality_total_consumption.line(x=\"dayofweek\", y=f\"{InsPireDataset.ROME_IT}_summer\", source=europe_electricity_season_source, color=color_map[\"summer\"], alpha=0.7,  line_width=3)\n",
    "l32 = rome_seasonality_total_consumption.diamond(x=\"dayofweek\", y=f\"{InsPireDataset.ROME_IT}_summer\", source=europe_electricity_season_source, color=color_map[\"summer\"], alpha=0.7,  size=10)\n",
    "l41 = rome_seasonality_total_consumption.line(x=\"dayofweek\", y=f\"{InsPireDataset.ROME_IT}_fall\", source=europe_electricity_season_source, color=color_map[\"fall\"], alpha=0.7,  line_width=3)\n",
    "l42 = rome_seasonality_total_consumption.cross(x=\"dayofweek\", y=f\"{InsPireDataset.ROME_IT}_fall\", source=europe_electricity_season_source, color=color_map[\"fall\"], alpha=0.7, size=10)\n",
    "rome_seasonality_total_consumption.add_layout(Legend(items=[(\"Winter 2017\", [l11, l12]), (\"Spring 2017\", [l21, l22]), (\"Summer 2017\", [l31, l32]), (\"Fall 2017\", [l41, l42]),],), \"below\")\n",
    "\n",
    "\n",
    "madrid_seasonality_total_consumption = figure(title=\" Madrid, Spain\",\n",
    "                                              y_range=london_seasonality_total_consumption.y_range,\n",
    "                                              x_range=london_seasonality_total_consumption.x_range,\n",
    "                                              x_axis_label=\"Day of the week\",\n",
    "                                              y_axis_label=\"Seasonal electric power [MW]\",\n",
    "                                              **FIGURE_TOOLS,\n",
    "                                             )\n",
    "madrid_seasonality_total_consumption.add_tools(electrical_power_use_season_tool_by_city[InsPireDataset.MADRID_SPA])\n",
    "l11 = madrid_seasonality_total_consumption.line(x=\"dayofweek\", y=f\"{InsPireDataset.MADRID_SPA}_winter\", source=europe_electricity_season_source, color=color_map[\"winter\"], alpha=0.7, line_width=3)\n",
    "l12 = madrid_seasonality_total_consumption.square(x=\"dayofweek\", y=f\"{InsPireDataset.MADRID_SPA}_winter\", source=europe_electricity_season_source, color=color_map[\"winter\"], alpha=0.7, size=10)\n",
    "l21 = madrid_seasonality_total_consumption.line(x=\"dayofweek\", y=f\"{InsPireDataset.MADRID_SPA}_spring\", source=europe_electricity_season_source, color=color_map[\"spring\"], alpha=0.7,  line_width=3)\n",
    "l22 = madrid_seasonality_total_consumption.circle(x=\"dayofweek\", y=f\"{InsPireDataset.MADRID_SPA}_spring\", source=europe_electricity_season_source, color=color_map[\"spring\"], alpha=0.7,  size=10)\n",
    "l31 = madrid_seasonality_total_consumption.line(x=\"dayofweek\", y=f\"{InsPireDataset.MADRID_SPA}_summer\", source=europe_electricity_season_source, color=color_map[\"summer\"], alpha=0.7,  line_width=3)\n",
    "l32 = madrid_seasonality_total_consumption.diamond(x=\"dayofweek\", y=f\"{InsPireDataset.MADRID_SPA}_summer\", source=europe_electricity_season_source, color=color_map[\"summer\"], alpha=0.7,  size=10)\n",
    "l41 = madrid_seasonality_total_consumption.line(x=\"dayofweek\", y=f\"{InsPireDataset.MADRID_SPA}_fall\", source=europe_electricity_season_source, color=color_map[\"fall\"], alpha=0.7,  line_width=3)\n",
    "l42 = madrid_seasonality_total_consumption.cross(x=\"dayofweek\", y=f\"{InsPireDataset.MADRID_SPA}_fall\", source=europe_electricity_season_source, color=color_map[\"fall\"], alpha=0.7, size=10)\n",
    "madrid_seasonality_total_consumption.add_layout(Legend(items=[(\"Winter 2017\", [l11, l12]), (\"Spring 2017\", [l21, l22]), (\"Summer 2017\", [l31, l32]), (\"Fall 2017\", [l41, l42]),],), \"below\")\n"
   ]
  },
  {
   "cell_type": "code",
   "execution_count": null,
   "metadata": {
    "scrolled": false
   },
   "outputs": [],
   "source": [
    "show(layout([[london_seasonality_total_consumption, stuttgart_seasonality_total_consumption],[rome_seasonality_total_consumption, madrid_seasonality_total_consumption]])) "
   ]
  },
  {
   "cell_type": "markdown",
   "metadata": {
    "slideshow": {
     "slide_type": "subslide"
    }
   },
   "source": [
    "### USA"
   ]
  },
  {
   "cell_type": "code",
   "execution_count": null,
   "metadata": {
    "jupyter": {
     "source_hidden": true
    },
    "slideshow": {
     "slide_type": "skip"
    }
   },
   "outputs": [],
   "source": [
    "dayofweek = range(0,7)\n",
    "seasons = [\"winter\", \"spring\", \"summer\", \"fall\"]\n",
    "cities = [NOAA2010Dataset.MIAMI_FL, NOAA2010Dataset.FRESNO_CA, NOAA2010Dataset.OLYMPIA_WA, NOAA2010Dataset.ROCHESTER_NY]\n",
    "\n",
    "total_consumption_average_per_day = dict()\n",
    "electrical_power_use_season_tool_by_city = dict()\n",
    "for city in cities:\n",
    "    for season in seasons:\n",
    "        days_for_city_and_season = np.empty(shape=(7,), dtype=np.float32)\n",
    "        \n",
    "        for day in dayofweek:\n",
    "            days_for_city_and_season[day] = us_data[(us_data.city_key == city) & (us_data.season == season) & (us_data.dayofweek == day)][\"E_el\"].mean()#/1000\n",
    "    \n",
    "        total_consumption_average_per_day[f\"{city}_{season}\"] = days_for_city_and_season\n",
    "        electrical_power_use_season_tool_by_city[city] = HoverTool(tooltips=[(\"Day\", \"@dayofweek{%d}\"),\n",
    "                                                                             ('Electricity Winter', f'@{city}_winter' + '{%0.2f MW}'),\n",
    "                                                                             ('Electricity Spring', f'@{city}_spring' + '{%0.2f MW}'),\n",
    "                                                                             ('Electricity Summer', f'@{city}_summer' + '{%0.2f MW}'),\n",
    "                                                                             ('Electricity Fall', f'@{city}_fall' + '{%0.2f MW}'),],\n",
    "                                                                   formatters={'@hour': 'printf',\n",
    "                                                                               f'@{city}_winter': 'printf',\n",
    "                                                                               f'@{city}_spring': 'printf',\n",
    "                                                                               f'@{city}_summer': 'printf',\n",
    "                                                                               f'@{city}_fall': \"printf\"},)\n",
    "        \n",
    "x=[\"Monday\", \"Tuesday\", \"Wednesday\", \"Thursday\", \"Friday\", \"Saturday\", \"Sunday\"]\n",
    "\n",
    "usa_electricity_season_source = ColumnDataSource({\"dayofweek\": x, **total_consumption_average_per_day})"
   ]
  },
  {
   "cell_type": "code",
   "execution_count": null,
   "metadata": {
    "jupyter": {
     "source_hidden": true
    },
    "slideshow": {
     "slide_type": "skip"
    }
   },
   "outputs": [],
   "source": [
    "rochester_seasonality_total_consumption = figure(title=\"Rochester, NY\",\n",
    "                                                 x_range=FactorRange(*x),\n",
    "                                                 x_axis_label=\"Day of the week\",\n",
    "                                                 y_axis_label=\"Seasonal electric power [MW]\",\n",
    "                                                 **FIGURE_TOOLS,\n",
    "                                                )\n",
    "rochester_seasonality_total_consumption.add_tools(electrical_power_use_season_tool_by_city[NOAA2010Dataset.ROCHESTER_NY])\n",
    "l11 = rochester_seasonality_total_consumption.line(x=\"dayofweek\", y=f\"{NOAA2010Dataset.ROCHESTER_NY}_winter\", source=usa_electricity_season_source, color=color_map[\"winter\"], alpha=0.7, line_width=3)\n",
    "l12 = rochester_seasonality_total_consumption.square(x=\"dayofweek\", y=f\"{NOAA2010Dataset.ROCHESTER_NY}_winter\", source=usa_electricity_season_source, color=color_map[\"winter\"], alpha=0.7, size=10)\n",
    "l21 = rochester_seasonality_total_consumption.line(x=\"dayofweek\", y=f\"{NOAA2010Dataset.ROCHESTER_NY}_spring\", source=usa_electricity_season_source, color=color_map[\"spring\"], alpha=0.7,  line_width=3)\n",
    "l22 = rochester_seasonality_total_consumption.circle(x=\"dayofweek\", y=f\"{NOAA2010Dataset.ROCHESTER_NY}_spring\", source=usa_electricity_season_source, color=color_map[\"spring\"], alpha=0.7,  size=10)\n",
    "l31 = rochester_seasonality_total_consumption.line(x=\"dayofweek\", y=f\"{NOAA2010Dataset.ROCHESTER_NY}_summer\", source=usa_electricity_season_source, color=color_map[\"summer\"], alpha=0.7,  line_width=3)\n",
    "l32 = rochester_seasonality_total_consumption.diamond(x=\"dayofweek\", y=f\"{NOAA2010Dataset.ROCHESTER_NY}_summer\", source=usa_electricity_season_source, color=color_map[\"summer\"], alpha=0.7,  size=10)\n",
    "l41 = rochester_seasonality_total_consumption.line(x=\"dayofweek\", y=f\"{NOAA2010Dataset.ROCHESTER_NY}_fall\", source=usa_electricity_season_source, color=color_map[\"fall\"], alpha=0.7,  line_width=3)\n",
    "l42 = rochester_seasonality_total_consumption.cross(x=\"dayofweek\", y=f\"{NOAA2010Dataset.ROCHESTER_NY}_fall\", source=usa_electricity_season_source, color=color_map[\"fall\"], alpha=0.7, size=10)\n",
    "rochester_seasonality_total_consumption.add_layout(Legend(items=[(\"Winter 2010\", [l11, l12]), (\"Spring 2010\", [l21, l22]), (\"Summer 2010\", [l31, l32]), (\"Fall 2010\", [l41, l42]),],), \"below\")\n",
    "\n",
    "\n",
    "olympia_seasonality_total_consumption = figure(title=\"Olympia, WA\",\n",
    "                                               x_axis_label=\"Day of the week\",\n",
    "                                               y_axis_label=\"Seasonal electric power [MW]\",\n",
    "                                               y_range=rochester_seasonality_total_consumption.y_range,\n",
    "                                               x_range=rochester_seasonality_total_consumption.x_range,\n",
    "                                               **FIGURE_TOOLS,\n",
    "                                              )\n",
    "olympia_seasonality_total_consumption.add_tools(electrical_power_use_season_tool_by_city[NOAA2010Dataset.OLYMPIA_WA])\n",
    "l11 = olympia_seasonality_total_consumption.line(x=\"dayofweek\", y=f\"{NOAA2010Dataset.OLYMPIA_WA}_winter\", source=usa_electricity_season_source, color=color_map[\"winter\"], alpha=0.7, line_width=3)\n",
    "l12 = olympia_seasonality_total_consumption.square(x=\"dayofweek\", y=f\"{NOAA2010Dataset.OLYMPIA_WA}_winter\", source=usa_electricity_season_source, color=color_map[\"winter\"], alpha=0.7, size=10)\n",
    "l21 = olympia_seasonality_total_consumption.line(x=\"dayofweek\", y=f\"{NOAA2010Dataset.OLYMPIA_WA}_spring\", source=usa_electricity_season_source, color=color_map[\"spring\"], alpha=0.7,  line_width=3)\n",
    "l22 = olympia_seasonality_total_consumption.circle(x=\"dayofweek\", y=f\"{NOAA2010Dataset.OLYMPIA_WA}_spring\", source=usa_electricity_season_source, color=color_map[\"spring\"], alpha=0.7,  size=10)\n",
    "l31 = olympia_seasonality_total_consumption.line(x=\"dayofweek\", y=f\"{NOAA2010Dataset.OLYMPIA_WA}_summer\", source=usa_electricity_season_source, color=color_map[\"summer\"], alpha=0.7,  line_width=3)\n",
    "l32 = olympia_seasonality_total_consumption.diamond(x=\"dayofweek\", y=f\"{NOAA2010Dataset.OLYMPIA_WA}_summer\", source=usa_electricity_season_source, color=color_map[\"summer\"], alpha=0.7,  size=10)\n",
    "l41 = olympia_seasonality_total_consumption.line(x=\"dayofweek\", y=f\"{NOAA2010Dataset.OLYMPIA_WA}_fall\", source=usa_electricity_season_source, color=color_map[\"fall\"], alpha=0.7,  line_width=3)\n",
    "l42 = olympia_seasonality_total_consumption.cross(x=\"dayofweek\", y=f\"{NOAA2010Dataset.OLYMPIA_WA}_fall\", source=usa_electricity_season_source, color=color_map[\"fall\"], alpha=0.7, size=10)\n",
    "olympia_seasonality_total_consumption.add_layout(Legend(items=[(\"Winter 2010\", [l11, l12]), (\"Spring 2010\", [l21, l22]), (\"Summer 2010\", [l31, l32]), (\"Fall 2010\", [l41, l42]),],), \"below\")\n",
    "\n",
    "\n",
    "fresno_seasonality_total_consumption = figure(title=\"Fresno, CA\",\n",
    "                                               x_axis_label=\"Day of the week\",\n",
    "                                               y_axis_label=\"Seasonal electric power [MW]\",\n",
    "                                               y_range=rochester_seasonality_total_consumption.y_range,\n",
    "                                               x_range=rochester_seasonality_total_consumption.x_range,\n",
    "                                               **FIGURE_TOOLS,\n",
    "                                              )\n",
    "fresno_seasonality_total_consumption.add_tools(electrical_power_use_season_tool_by_city[NOAA2010Dataset.FRESNO_CA])\n",
    "l11 = fresno_seasonality_total_consumption.line(x=\"dayofweek\", y=f\"{NOAA2010Dataset.FRESNO_CA}_winter\", source=usa_electricity_season_source, color=color_map[\"winter\"], alpha=0.7, line_width=3)\n",
    "l12 = fresno_seasonality_total_consumption.square(x=\"dayofweek\", y=f\"{NOAA2010Dataset.FRESNO_CA}_winter\", source=usa_electricity_season_source, color=color_map[\"winter\"], alpha=0.7, size=10)\n",
    "l21 = fresno_seasonality_total_consumption.line(x=\"dayofweek\", y=f\"{NOAA2010Dataset.FRESNO_CA}_spring\", source=usa_electricity_season_source, color=color_map[\"spring\"], alpha=0.7,  line_width=3)\n",
    "l22 = fresno_seasonality_total_consumption.circle(x=\"dayofweek\", y=f\"{NOAA2010Dataset.FRESNO_CA}_spring\", source=usa_electricity_season_source, color=color_map[\"spring\"], alpha=0.7,  size=10)\n",
    "l31 = fresno_seasonality_total_consumption.line(x=\"dayofweek\", y=f\"{NOAA2010Dataset.FRESNO_CA}_summer\", source=usa_electricity_season_source, color=color_map[\"summer\"], alpha=0.7,  line_width=3)\n",
    "l32 = fresno_seasonality_total_consumption.diamond(x=\"dayofweek\", y=f\"{NOAA2010Dataset.FRESNO_CA}_summer\", source=usa_electricity_season_source, color=color_map[\"summer\"], alpha=0.7,  size=10)\n",
    "l41 = fresno_seasonality_total_consumption.line(x=\"dayofweek\", y=f\"{NOAA2010Dataset.FRESNO_CA}_fall\", source=usa_electricity_season_source, color=color_map[\"fall\"], alpha=0.7,  line_width=3)\n",
    "l42 = fresno_seasonality_total_consumption.cross(x=\"dayofweek\", y=f\"{NOAA2010Dataset.FRESNO_CA}_fall\", source=usa_electricity_season_source, color=color_map[\"fall\"], alpha=0.7, size=10)\n",
    "fresno_seasonality_total_consumption.add_layout(Legend(items=[(\"Winter 2010\", [l11, l12]), (\"Spring 2010\", [l21, l22]), (\"Summer 2010\", [l31, l32]), (\"Fall 2010\", [l41, l42]),],), \"below\")\n",
    "\n",
    "\n",
    "miami_seasonality_total_consumption = figure(title=\"Miami, FL\",\n",
    "                                               x_axis_label=\"Day of the week\",\n",
    "                                               y_axis_label=\"Seasonal electric power [MW]\",\n",
    "                                               y_range=rochester_seasonality_total_consumption.y_range,\n",
    "                                               x_range=rochester_seasonality_total_consumption.x_range,\n",
    "                                               **FIGURE_TOOLS,\n",
    "                                              )\n",
    "miami_seasonality_total_consumption.add_tools(electrical_power_use_season_tool_by_city[NOAA2010Dataset.MIAMI_FL])\n",
    "l11 = miami_seasonality_total_consumption.line(x=\"dayofweek\", y=f\"{NOAA2010Dataset.MIAMI_FL}_winter\", source=usa_electricity_season_source, color=color_map[\"winter\"], alpha=0.7, line_width=3)\n",
    "l12 = miami_seasonality_total_consumption.square(x=\"dayofweek\", y=f\"{NOAA2010Dataset.MIAMI_FL}_winter\", source=usa_electricity_season_source, color=color_map[\"winter\"], alpha=0.7, size=10)\n",
    "l21 = miami_seasonality_total_consumption.line(x=\"dayofweek\", y=f\"{NOAA2010Dataset.MIAMI_FL}_spring\", source=usa_electricity_season_source, color=color_map[\"spring\"], alpha=0.7,  line_width=3)\n",
    "l22 = miami_seasonality_total_consumption.circle(x=\"dayofweek\", y=f\"{NOAA2010Dataset.MIAMI_FL}_spring\", source=usa_electricity_season_source, color=color_map[\"spring\"], alpha=0.7,  size=10)\n",
    "l31 = miami_seasonality_total_consumption.line(x=\"dayofweek\", y=f\"{NOAA2010Dataset.MIAMI_FL}_summer\", source=usa_electricity_season_source, color=color_map[\"summer\"], alpha=0.7,  line_width=3)\n",
    "l32 = miami_seasonality_total_consumption.diamond(x=\"dayofweek\", y=f\"{NOAA2010Dataset.MIAMI_FL}_summer\", source=usa_electricity_season_source, color=color_map[\"summer\"], alpha=0.7,  size=10)\n",
    "l41 = miami_seasonality_total_consumption.line(x=\"dayofweek\", y=f\"{NOAA2010Dataset.MIAMI_FL}_fall\", source=usa_electricity_season_source, color=color_map[\"fall\"], alpha=0.7,  line_width=3)\n",
    "l42 = miami_seasonality_total_consumption.cross(x=\"dayofweek\", y=f\"{NOAA2010Dataset.MIAMI_FL}_fall\", source=usa_electricity_season_source, color=color_map[\"fall\"], alpha=0.7, size=10)\n",
    "miami_seasonality_total_consumption.add_layout(Legend(items=[(\"Winter 2010\", [l11, l12]), (\"Spring 2010\", [l21, l22]), (\"Summer 2010\", [l31, l32]), (\"Fall 2010\", [l41, l42]),],), \"below\")\n"
   ]
  },
  {
   "cell_type": "code",
   "execution_count": null,
   "metadata": {
    "scrolled": false
   },
   "outputs": [],
   "source": [
    "show(layout([[rochester_seasonality_total_consumption, olympia_seasonality_total_consumption],[fresno_seasonality_total_consumption, miami_seasonality_total_consumption]])) "
   ]
  },
  {
   "cell_type": "markdown",
   "metadata": {
    "slideshow": {
     "slide_type": "slide"
    }
   },
   "source": [
    "## Electrical Power Use by hour of day and season"
   ]
  },
  {
   "cell_type": "markdown",
   "metadata": {
    "slideshow": {
     "slide_type": "subslide"
    }
   },
   "source": [
    "### Europe"
   ]
  },
  {
   "cell_type": "code",
   "execution_count": null,
   "metadata": {
    "jupyter": {
     "source_hidden": true
    },
    "slideshow": {
     "slide_type": "skip"
    }
   },
   "outputs": [],
   "source": [
    "hours = range(0,24)\n",
    "seasons = [\"winter\", \"spring\", \"summer\", \"fall\"]\n",
    "cities = [InsPireDataset.LONDON_UK, InsPireDataset.MADRID_SPA, InsPireDataset.ROME_IT, InsPireDataset.STUTTGART_GER]\n",
    "\n",
    "total_consumption_average_per_hour = dict()\n",
    "electrical_power_use_season_tool_by_city = dict()\n",
    "for city in cities:\n",
    "    for season in seasons:\n",
    "        hours_for_city_and_season = np.empty(shape=(24,), dtype=np.float32)\n",
    "        \n",
    "        for hour in hours:\n",
    "            hours_for_city_and_season[hour] = europe_data[(europe_data.city_key == city) & (europe_data.season == season) & (europe_data.hour == hour)][\"E_el\"].mean() #/ 1000\n",
    "            \n",
    "        total_consumption_average_per_hour[f\"{city}_{season}\"] = hours_for_city_and_season\n",
    "        electrical_power_use_season_tool_by_city[city] = HoverTool(tooltips=[(\"Hour\", \"@hour{%d}\"),\n",
    "                                                                             ('Electricity Winter', f'@{city}_winter' + '{%0.2f MW}'),\n",
    "                                                                             ('Electricity Spring', f'@{city}_spring' + '{%0.2f MW}'),\n",
    "                                                                             ('Electricity Summer', f'@{city}_summer' + '{%0.2f MW}'),\n",
    "                                                                             ('Electricity Fall', f'@{city}_fall' + '{%0.2f MW}'),],\n",
    "                                                                   formatters={'@hour': 'printf',\n",
    "                                                                               f'@{city}_winter': 'printf',\n",
    "                                                                               f'@{city}_spring': 'printf',\n",
    "                                                                               f'@{city}_summer': 'printf',\n",
    "                                                                               f'@{city}_fall': \"printf\"},)\n",
    "\n",
    "x=hours\n",
    "\n",
    "europe_electricity_season_source = ColumnDataSource({\"hour\": hours, **total_consumption_average_per_hour})"
   ]
  },
  {
   "cell_type": "code",
   "execution_count": null,
   "metadata": {
    "jupyter": {
     "source_hidden": true
    },
    "slideshow": {
     "slide_type": "skip"
    }
   },
   "outputs": [],
   "source": [
    "stuttgart_seasonality_total_consumption = figure(title=\"Stuttgart, Germany\",\n",
    "                                                 x_axis_label=\"Hour of the day\",\n",
    "                                                 y_axis_label=\"Seasonal electric power [MW]\",\n",
    "                                                 **FIGURE_TOOLS,\n",
    "                                                )\n",
    "stuttgart_seasonality_total_consumption.add_tools(electrical_power_use_season_tool_by_city[InsPireDataset.STUTTGART_GER])\n",
    "l11 = stuttgart_seasonality_total_consumption.line(x=\"hour\", y=f\"{InsPireDataset.STUTTGART_GER}_winter\", source=europe_electricity_season_source, color=color_map[\"winter\"], alpha=0.7, line_width=3)\n",
    "l12 = stuttgart_seasonality_total_consumption.square(x=\"hour\", y=f\"{InsPireDataset.STUTTGART_GER}_winter\", source=europe_electricity_season_source, color=color_map[\"winter\"], alpha=0.7, size=10)\n",
    "l21 = stuttgart_seasonality_total_consumption.line(x=\"hour\", y=f\"{InsPireDataset.STUTTGART_GER}_spring\", source=europe_electricity_season_source, color=color_map[\"spring\"], alpha=0.7,  line_width=3)\n",
    "l22 = stuttgart_seasonality_total_consumption.circle(x=\"hour\", y=f\"{InsPireDataset.STUTTGART_GER}_spring\", source=europe_electricity_season_source, color=color_map[\"spring\"], alpha=0.7,  size=10)\n",
    "l31 = stuttgart_seasonality_total_consumption.line(x=\"hour\", y=f\"{InsPireDataset.STUTTGART_GER}_summer\", source=europe_electricity_season_source, color=color_map[\"summer\"], alpha=0.7,  line_width=3)\n",
    "l32 = stuttgart_seasonality_total_consumption.diamond(x=\"hour\", y=f\"{InsPireDataset.STUTTGART_GER}_summer\", source=europe_electricity_season_source, color=color_map[\"summer\"], alpha=0.7,  size=10)\n",
    "l41 = stuttgart_seasonality_total_consumption.line(x=\"hour\", y=f\"{InsPireDataset.STUTTGART_GER}_fall\", source=europe_electricity_season_source, color=color_map[\"fall\"], alpha=0.7,  line_width=3)\n",
    "l42 = stuttgart_seasonality_total_consumption.cross(x=\"hour\", y=f\"{InsPireDataset.STUTTGART_GER}_fall\", source=europe_electricity_season_source, color=color_map[\"fall\"], alpha=0.7, size=10)\n",
    "stuttgart_seasonality_total_consumption.add_layout(Legend(items=[(\"Winter 2017\", [l11, l12]), (\"Spring 2017\", [l21, l22]), (\"Summer 2017\", [l31, l32]), (\"Fall 2017\", [l41, l42]),],), \"below\")\n",
    "\n",
    "\n",
    "london_seasonality_total_consumption = figure(title=\"London, UK\",\n",
    "                                               x_axis_label=\"Hour of the day\",\n",
    "                                               y_axis_label=\"Seasonal electric power [MW]\",\n",
    "                                               y_range=stuttgart_seasonality_total_consumption.y_range,\n",
    "                                               x_range=stuttgart_seasonality_total_consumption.x_range,\n",
    "                                               **FIGURE_TOOLS,\n",
    "                                              )\n",
    "london_seasonality_total_consumption.add_tools(electrical_power_use_season_tool_by_city[InsPireDataset.LONDON_UK])\n",
    "l11 = london_seasonality_total_consumption.line(x=\"hour\", y=f\"{InsPireDataset.LONDON_UK}_winter\", source=europe_electricity_season_source, color=color_map[\"winter\"], alpha=0.7, line_width=3)\n",
    "l12 = london_seasonality_total_consumption.square(x=\"hour\", y=f\"{InsPireDataset.LONDON_UK}_winter\", source=europe_electricity_season_source, color=color_map[\"winter\"], alpha=0.7, size=10)\n",
    "l21 = london_seasonality_total_consumption.line(x=\"hour\", y=f\"{InsPireDataset.LONDON_UK}_spring\", source=europe_electricity_season_source, color=color_map[\"spring\"], alpha=0.7,  line_width=3)\n",
    "l22 = london_seasonality_total_consumption.circle(x=\"hour\", y=f\"{InsPireDataset.LONDON_UK}_spring\", source=europe_electricity_season_source, color=color_map[\"spring\"], alpha=0.7,  size=10)\n",
    "l31 = london_seasonality_total_consumption.line(x=\"hour\", y=f\"{InsPireDataset.LONDON_UK}_summer\", source=europe_electricity_season_source, color=color_map[\"summer\"], alpha=0.7,  line_width=3)\n",
    "l32 = london_seasonality_total_consumption.diamond(x=\"hour\", y=f\"{InsPireDataset.LONDON_UK}_summer\", source=europe_electricity_season_source, color=color_map[\"summer\"], alpha=0.7,  size=10)\n",
    "l41 = london_seasonality_total_consumption.line(x=\"hour\", y=f\"{InsPireDataset.LONDON_UK}_fall\", source=europe_electricity_season_source, color=color_map[\"fall\"], alpha=0.7,  line_width=3)\n",
    "l42 = london_seasonality_total_consumption.cross(x=\"hour\", y=f\"{InsPireDataset.LONDON_UK}_fall\", source=europe_electricity_season_source, color=color_map[\"fall\"], alpha=0.7, size=10)\n",
    "london_seasonality_total_consumption.add_layout(Legend(items=[(\"Winter 2017\", [l11, l12]), (\"Spring 2017\", [l21, l22]), (\"Summer 2017\", [l31, l32]), (\"Fall 2017\", [l41, l42]),],), \"below\")\n",
    "\n",
    "\n",
    "rome_seasonality_total_consumption = figure(title=\"Rome, Italy\",\n",
    "                                               x_axis_label=\"Hour of the day\",\n",
    "                                               y_axis_label=\"Seasonal electric power [MW]\",\n",
    "                                               y_range=stuttgart_seasonality_total_consumption.y_range,\n",
    "                                               x_range=stuttgart_seasonality_total_consumption.x_range,\n",
    "                                               **FIGURE_TOOLS,\n",
    "                                              )\n",
    "rome_seasonality_total_consumption.add_tools(electrical_power_use_season_tool_by_city[InsPireDataset.ROME_IT])\n",
    "l11 = rome_seasonality_total_consumption.line(x=\"hour\", y=f\"{InsPireDataset.ROME_IT}_winter\", source=europe_electricity_season_source, color=color_map[\"winter\"], alpha=0.7, line_width=3)\n",
    "l12 = rome_seasonality_total_consumption.square(x=\"hour\", y=f\"{InsPireDataset.ROME_IT}_winter\", source=europe_electricity_season_source, color=color_map[\"winter\"], alpha=0.7, size=10)\n",
    "l21 = rome_seasonality_total_consumption.line(x=\"hour\", y=f\"{InsPireDataset.ROME_IT}_spring\", source=europe_electricity_season_source, color=color_map[\"spring\"], alpha=0.7,  line_width=3)\n",
    "l22 = rome_seasonality_total_consumption.circle(x=\"hour\", y=f\"{InsPireDataset.ROME_IT}_spring\", source=europe_electricity_season_source, color=color_map[\"spring\"], alpha=0.7,  size=10)\n",
    "l31 = rome_seasonality_total_consumption.line(x=\"hour\", y=f\"{InsPireDataset.ROME_IT}_summer\", source=europe_electricity_season_source, color=color_map[\"summer\"], alpha=0.7,  line_width=3)\n",
    "l32 = rome_seasonality_total_consumption.diamond(x=\"hour\", y=f\"{InsPireDataset.ROME_IT}_summer\", source=europe_electricity_season_source, color=color_map[\"summer\"], alpha=0.7,  size=10)\n",
    "l41 = rome_seasonality_total_consumption.line(x=\"hour\", y=f\"{InsPireDataset.ROME_IT}_fall\", source=europe_electricity_season_source, color=color_map[\"fall\"], alpha=0.7,  line_width=3)\n",
    "l42 = rome_seasonality_total_consumption.cross(x=\"hour\", y=f\"{InsPireDataset.ROME_IT}_fall\", source=europe_electricity_season_source, color=color_map[\"fall\"], alpha=0.7, size=10)\n",
    "rome_seasonality_total_consumption.add_layout(Legend(items=[(\"Winter 2017\", [l11, l12]), (\"Spring 2017\", [l21, l22]), (\"Summer 2017\", [l31, l32]), (\"Fall 2017\", [l41, l42]),],), \"below\")\n",
    "\n",
    "\n",
    "\n",
    "madrid_seasonality_total_consumption = figure(title=\"Madrid, Spain\",\n",
    "                                               x_axis_label=\"Hour of the day\",\n",
    "                                               y_axis_label=\"Seasonal electric power [MW]\",\n",
    "                                               y_range=stuttgart_seasonality_total_consumption.y_range,\n",
    "                                               x_range=stuttgart_seasonality_total_consumption.x_range,\n",
    "                                               **FIGURE_TOOLS,\n",
    "                                              )\n",
    "madrid_seasonality_total_consumption.add_tools(electrical_power_use_season_tool_by_city[InsPireDataset.MADRID_SPA])\n",
    "l11 = madrid_seasonality_total_consumption.line(x=\"hour\", y=f\"{InsPireDataset.MADRID_SPA}_winter\", source=europe_electricity_season_source, color=color_map[\"winter\"], alpha=0.7, line_width=3)\n",
    "l12 = madrid_seasonality_total_consumption.square(x=\"hour\", y=f\"{InsPireDataset.MADRID_SPA}_winter\", source=europe_electricity_season_source, color=color_map[\"winter\"], alpha=0.7, size=10)\n",
    "l21 = madrid_seasonality_total_consumption.line(x=\"hour\", y=f\"{InsPireDataset.MADRID_SPA}_spring\", source=europe_electricity_season_source, color=color_map[\"spring\"], alpha=0.7,  line_width=3)\n",
    "l22 = madrid_seasonality_total_consumption.circle(x=\"hour\", y=f\"{InsPireDataset.MADRID_SPA}_spring\", source=europe_electricity_season_source, color=color_map[\"spring\"], alpha=0.7,  size=10)\n",
    "l31 = madrid_seasonality_total_consumption.line(x=\"hour\", y=f\"{InsPireDataset.MADRID_SPA}_summer\", source=europe_electricity_season_source, color=color_map[\"summer\"], alpha=0.7,  line_width=3)\n",
    "l32 = madrid_seasonality_total_consumption.diamond(x=\"hour\", y=f\"{InsPireDataset.MADRID_SPA}_summer\", source=europe_electricity_season_source, color=color_map[\"summer\"], alpha=0.7,  size=10)\n",
    "l41 = madrid_seasonality_total_consumption.line(x=\"hour\", y=f\"{InsPireDataset.MADRID_SPA}_fall\", source=europe_electricity_season_source, color=color_map[\"fall\"], alpha=0.7,  line_width=3)\n",
    "l42 = madrid_seasonality_total_consumption.cross(x=\"hour\", y=f\"{InsPireDataset.MADRID_SPA}_fall\", source=europe_electricity_season_source, color=color_map[\"fall\"], alpha=0.7, size=10)\n",
    "madrid_seasonality_total_consumption.add_layout(Legend(items=[(\"Winter 2017\", [l11, l12]), (\"Spring 2017\", [l21, l22]), (\"Summer 2017\", [l31, l32]), (\"Fall 2017\", [l41, l42]),],), \"below\")\n"
   ]
  },
  {
   "cell_type": "code",
   "execution_count": null,
   "metadata": {},
   "outputs": [],
   "source": [
    "show(layout([[london_seasonality_total_consumption, stuttgart_seasonality_total_consumption],[rome_seasonality_total_consumption, madrid_seasonality_total_consumption]])) "
   ]
  },
  {
   "cell_type": "markdown",
   "metadata": {
    "slideshow": {
     "slide_type": "subslide"
    }
   },
   "source": [
    "### USA"
   ]
  },
  {
   "cell_type": "code",
   "execution_count": null,
   "metadata": {
    "jupyter": {
     "source_hidden": true
    },
    "slideshow": {
     "slide_type": "skip"
    }
   },
   "outputs": [],
   "source": [
    "hours = range(0,24)\n",
    "seasons = [\"winter\", \"spring\", \"summer\", \"fall\"]\n",
    "cities = [NOAA2010Dataset.MIAMI_FL, NOAA2010Dataset.FRESNO_CA, NOAA2010Dataset.OLYMPIA_WA, NOAA2010Dataset.ROCHESTER_NY]\n",
    "\n",
    "total_consumption_average_per_hour = dict()\n",
    "electrical_power_use_season_tool_by_city = dict()\n",
    "for city in cities:\n",
    "    for season in seasons:\n",
    "        hours_for_city_and_season = np.empty(shape=(24,), dtype=np.float32)\n",
    "        \n",
    "        for hour in hours:\n",
    "            hours_for_city_and_season[hour] = us_data[(us_data.city_key == city) & (us_data.season == season) & (us_data.hour == hour)][\"E_el\"].mean() #/ 1000\n",
    "            \n",
    "        total_consumption_average_per_hour[f\"{city}_{season}\"] = hours_for_city_and_season\n",
    "        electrical_power_use_season_tool_by_city[city] = HoverTool(tooltips=[(\"Hour\", \"@hour{%d}\"),\n",
    "                                                                             ('Electricity Winter', f'@{city}_winter' + '{%0.2f MW}'),\n",
    "                                                                             ('Electricity Spring', f'@{city}_spring' + '{%0.2f MW}'),\n",
    "                                                                             ('Electricity Summer', f'@{city}_summer' + '{%0.2f MW}'),\n",
    "                                                                             ('Electricity Fall', f'@{city}_fall' + '{%0.2f MW}'),],\n",
    "                                                                   formatters={'@hour': 'printf',\n",
    "                                                                               f'@{city}_winter': 'printf',\n",
    "                                                                               f'@{city}_spring': 'printf',\n",
    "                                                                               f'@{city}_summer': 'printf',\n",
    "                                                                               f'@{city}_fall': \"printf\"},)\n",
    "\n",
    "x=hours\n",
    "\n",
    "usa_electricity_season_source = ColumnDataSource({\"hour\": hours, **total_consumption_average_per_hour})"
   ]
  },
  {
   "cell_type": "code",
   "execution_count": null,
   "metadata": {
    "jupyter": {
     "source_hidden": true
    },
    "slideshow": {
     "slide_type": "skip"
    }
   },
   "outputs": [],
   "source": [
    "rochester_seasonality_total_consumption = figure(title=\"Rochester, NY\",\n",
    "                                                 x_axis_label=\"Hour of the day\",\n",
    "                                                 y_axis_label=\"Seasonal electric power [MW]\",\n",
    "                                                 **FIGURE_TOOLS,\n",
    "                                                )\n",
    "rochester_seasonality_total_consumption.add_tools(electrical_power_use_season_tool_by_city[NOAA2010Dataset.ROCHESTER_NY])\n",
    "l11 = rochester_seasonality_total_consumption.line(x=\"hour\", y=f\"{NOAA2010Dataset.ROCHESTER_NY}_winter\", source=usa_electricity_season_source, color=color_map[\"winter\"], alpha=0.7, line_width=3)\n",
    "l12 = rochester_seasonality_total_consumption.square(x=\"hour\", y=f\"{NOAA2010Dataset.ROCHESTER_NY}_winter\", source=usa_electricity_season_source, color=color_map[\"winter\"], alpha=0.7, size=10)\n",
    "l21 = rochester_seasonality_total_consumption.line(x=\"hour\", y=f\"{NOAA2010Dataset.ROCHESTER_NY}_spring\", source=usa_electricity_season_source, color=color_map[\"spring\"], alpha=0.7,  line_width=3)\n",
    "l22 = rochester_seasonality_total_consumption.circle(x=\"hour\", y=f\"{NOAA2010Dataset.ROCHESTER_NY}_spring\", source=usa_electricity_season_source, color=color_map[\"spring\"], alpha=0.7,  size=10)\n",
    "l31 = rochester_seasonality_total_consumption.line(x=\"hour\", y=f\"{NOAA2010Dataset.ROCHESTER_NY}_summer\", source=usa_electricity_season_source, color=color_map[\"summer\"], alpha=0.7,  line_width=3)\n",
    "l32 = rochester_seasonality_total_consumption.diamond(x=\"hour\", y=f\"{NOAA2010Dataset.ROCHESTER_NY}_summer\", source=usa_electricity_season_source, color=color_map[\"summer\"], alpha=0.7,  size=10)\n",
    "l41 = rochester_seasonality_total_consumption.line(x=\"hour\", y=f\"{NOAA2010Dataset.ROCHESTER_NY}_fall\", source=usa_electricity_season_source, color=color_map[\"fall\"], alpha=0.7,  line_width=3)\n",
    "l42 = rochester_seasonality_total_consumption.cross(x=\"hour\", y=f\"{NOAA2010Dataset.ROCHESTER_NY}_fall\", source=usa_electricity_season_source, color=color_map[\"fall\"], alpha=0.7, size=10)\n",
    "rochester_seasonality_total_consumption.add_layout(Legend(items=[(\"Winter 2010\", [l11, l12]), (\"Spring 2010\", [l21, l22]), (\"Summer 2010\", [l31, l32]), (\"Fall 2010\", [l41, l42]),],), \"below\")\n",
    "\n",
    "\n",
    "olympia_seasonality_total_consumption = figure(title=\"Olympia, WA\",\n",
    "                                               x_axis_label=\"Hour of the day\",\n",
    "                                               y_axis_label=\"Seasonal electric power [MW]\",\n",
    "                                               y_range=rochester_seasonality_total_consumption.y_range,\n",
    "                                               x_range=rochester_seasonality_total_consumption.x_range,\n",
    "                                               **FIGURE_TOOLS,\n",
    "                                              )\n",
    "olympia_seasonality_total_consumption.add_tools(electrical_power_use_season_tool_by_city[NOAA2010Dataset.OLYMPIA_WA])\n",
    "l11 = olympia_seasonality_total_consumption.line(x=\"hour\", y=f\"{NOAA2010Dataset.OLYMPIA_WA}_winter\", source=usa_electricity_season_source, color=color_map[\"winter\"], alpha=0.7, line_width=3)\n",
    "l12 = olympia_seasonality_total_consumption.square(x=\"hour\", y=f\"{NOAA2010Dataset.OLYMPIA_WA}_winter\", source=usa_electricity_season_source, color=color_map[\"winter\"], alpha=0.7, size=10)\n",
    "l21 = olympia_seasonality_total_consumption.line(x=\"hour\", y=f\"{NOAA2010Dataset.OLYMPIA_WA}_spring\", source=usa_electricity_season_source, color=color_map[\"spring\"], alpha=0.7,  line_width=3)\n",
    "l22 = olympia_seasonality_total_consumption.circle(x=\"hour\", y=f\"{NOAA2010Dataset.OLYMPIA_WA}_spring\", source=usa_electricity_season_source, color=color_map[\"spring\"], alpha=0.7,  size=10)\n",
    "l31 = olympia_seasonality_total_consumption.line(x=\"hour\", y=f\"{NOAA2010Dataset.OLYMPIA_WA}_summer\", source=usa_electricity_season_source, color=color_map[\"summer\"], alpha=0.7,  line_width=3)\n",
    "l32 = olympia_seasonality_total_consumption.diamond(x=\"hour\", y=f\"{NOAA2010Dataset.OLYMPIA_WA}_summer\", source=usa_electricity_season_source, color=color_map[\"summer\"], alpha=0.7,  size=10)\n",
    "l41 = olympia_seasonality_total_consumption.line(x=\"hour\", y=f\"{NOAA2010Dataset.OLYMPIA_WA}_fall\", source=usa_electricity_season_source, color=color_map[\"fall\"], alpha=0.7,  line_width=3)\n",
    "l42 = olympia_seasonality_total_consumption.cross(x=\"hour\", y=f\"{NOAA2010Dataset.OLYMPIA_WA}_fall\", source=usa_electricity_season_source, color=color_map[\"fall\"], alpha=0.7, size=10)\n",
    "olympia_seasonality_total_consumption.add_layout(Legend(items=[(\"Winter 2010\", [l11, l12]), (\"Spring 2010\", [l21, l22]), (\"Summer 2010\", [l31, l32]), (\"Fall 2010\", [l41, l42]),],), \"below\")\n",
    "\n",
    "\n",
    "fresno_seasonality_total_consumption = figure(title=\"Fresno, CA\",\n",
    "                                              x_axis_label=\"Hour of the day\",\n",
    "                                              y_axis_label=\"Seasonal electric power [MW]\",\n",
    "                                              y_range=rochester_seasonality_total_consumption.y_range,\n",
    "                                              x_range=rochester_seasonality_total_consumption.x_range,\n",
    "                                              **FIGURE_TOOLS,\n",
    "                                             )\n",
    "fresno_seasonality_total_consumption.add_tools(electrical_power_use_season_tool_by_city[NOAA2010Dataset.FRESNO_CA])\n",
    "l11 = fresno_seasonality_total_consumption.line(x=\"hour\", y=f\"{NOAA2010Dataset.FRESNO_CA}_winter\", source=usa_electricity_season_source, color=color_map[\"winter\"], alpha=0.7, line_width=3)\n",
    "l12 = fresno_seasonality_total_consumption.square(x=\"hour\", y=f\"{NOAA2010Dataset.FRESNO_CA}_winter\", source=usa_electricity_season_source, color=color_map[\"winter\"], alpha=0.7, size=10)\n",
    "l21 = fresno_seasonality_total_consumption.line(x=\"hour\", y=f\"{NOAA2010Dataset.FRESNO_CA}_spring\", source=usa_electricity_season_source, color=color_map[\"spring\"], alpha=0.7,  line_width=3)\n",
    "l22 = fresno_seasonality_total_consumption.circle(x=\"hour\", y=f\"{NOAA2010Dataset.FRESNO_CA}_spring\", source=usa_electricity_season_source, color=color_map[\"spring\"], alpha=0.7,  size=10)\n",
    "l31 = fresno_seasonality_total_consumption.line(x=\"hour\", y=f\"{NOAA2010Dataset.FRESNO_CA}_summer\", source=usa_electricity_season_source, color=color_map[\"summer\"], alpha=0.7,  line_width=3)\n",
    "l32 = fresno_seasonality_total_consumption.diamond(x=\"hour\", y=f\"{NOAA2010Dataset.FRESNO_CA}_summer\", source=usa_electricity_season_source, color=color_map[\"summer\"], alpha=0.7,  size=10)\n",
    "l41 = fresno_seasonality_total_consumption.line(x=\"hour\", y=f\"{NOAA2010Dataset.FRESNO_CA}_fall\", source=usa_electricity_season_source, color=color_map[\"fall\"], alpha=0.7,  line_width=3)\n",
    "l42 = fresno_seasonality_total_consumption.cross(x=\"hour\", y=f\"{NOAA2010Dataset.FRESNO_CA}_fall\", source=usa_electricity_season_source, color=color_map[\"fall\"], alpha=0.7, size=10)\n",
    "fresno_seasonality_total_consumption.add_layout(Legend(items=[(\"Winter 2010\", [l11, l12]), (\"Spring 2010\", [l21, l22]), (\"Summer 2010\", [l31, l32]), (\"Fall 2010\", [l41, l42]),],), \"below\")\n",
    "\n",
    "\n",
    "miami_seasonality_total_consumption = figure(title=\"Miami, FL\",\n",
    "                                             x_axis_label=\"Hour of the day\",\n",
    "                                             y_axis_label=\"Seasonal electric power [MW]\",\n",
    "                                             y_range=rochester_seasonality_total_consumption.y_range,\n",
    "                                             x_range=rochester_seasonality_total_consumption.x_range,\n",
    "                                             **FIGURE_TOOLS,\n",
    "                                            )\n",
    "miami_seasonality_total_consumption.add_tools(electrical_power_use_season_tool_by_city[NOAA2010Dataset.MIAMI_FL])\n",
    "l11 = miami_seasonality_total_consumption.line(x=\"hour\", y=f\"{NOAA2010Dataset.MIAMI_FL}_winter\", source=usa_electricity_season_source, color=color_map[\"winter\"], alpha=0.7, line_width=3)\n",
    "l12 = miami_seasonality_total_consumption.square(x=\"hour\", y=f\"{NOAA2010Dataset.MIAMI_FL}_winter\", source=usa_electricity_season_source, color=color_map[\"winter\"], alpha=0.7, size=10)\n",
    "l21 = miami_seasonality_total_consumption.line(x=\"hour\", y=f\"{NOAA2010Dataset.MIAMI_FL}_spring\", source=usa_electricity_season_source, color=color_map[\"spring\"], alpha=0.7,  line_width=3)\n",
    "l22 = miami_seasonality_total_consumption.circle(x=\"hour\", y=f\"{NOAA2010Dataset.MIAMI_FL}_spring\", source=usa_electricity_season_source, color=color_map[\"spring\"], alpha=0.7,  size=10)\n",
    "l31 = miami_seasonality_total_consumption.line(x=\"hour\", y=f\"{NOAA2010Dataset.MIAMI_FL}_summer\", source=usa_electricity_season_source, color=color_map[\"summer\"], alpha=0.7,  line_width=3)\n",
    "l32 = miami_seasonality_total_consumption.diamond(x=\"hour\", y=f\"{NOAA2010Dataset.MIAMI_FL}_summer\", source=usa_electricity_season_source, color=color_map[\"summer\"], alpha=0.7,  size=10)\n",
    "l41 = miami_seasonality_total_consumption.line(x=\"hour\", y=f\"{NOAA2010Dataset.MIAMI_FL}_fall\", source=usa_electricity_season_source, color=color_map[\"fall\"], alpha=0.7,  line_width=3)\n",
    "l42 = miami_seasonality_total_consumption.cross(x=\"hour\", y=f\"{NOAA2010Dataset.MIAMI_FL}_fall\", source=usa_electricity_season_source, color=color_map[\"fall\"], alpha=0.7, size=10)\n",
    "miami_seasonality_total_consumption.add_layout(Legend(items=[(\"Winter 2010\", [l11, l12]), (\"Spring 2010\", [l21, l22]), (\"Summer 2010\", [l31, l32]), (\"Fall 2010\", [l41, l42]),],), \"below\")\n",
    "\n"
   ]
  },
  {
   "cell_type": "code",
   "execution_count": null,
   "metadata": {},
   "outputs": [],
   "source": [
    "show(layout([[rochester_seasonality_total_consumption, olympia_seasonality_total_consumption],[fresno_seasonality_total_consumption, miami_seasonality_total_consumption]])) "
   ]
  },
  {
   "cell_type": "markdown",
   "metadata": {
    "slideshow": {
     "slide_type": "slide"
    }
   },
   "source": [
    "## Thermal Energy from sources"
   ]
  },
  {
   "cell_type": "code",
   "execution_count": null,
   "metadata": {
    "jupyter": {
     "source_hidden": true
    },
    "slideshow": {
     "slide_type": "skip"
    }
   },
   "outputs": [],
   "source": [
    "stack_month_average_heat_tool = HoverTool(tooltips=[('Month', '@month'),\n",
    "                                               ('Heat Source 1', '@heat_source1{%0.2f GWh}'),\n",
    "                                               ('Heat Source 2', '@heat_source2{%0.2f GWh}'),\n",
    "                                               ('Heat Aquifer', '@heat_aquifer{%0.2f GWh}'),\n",
    "                                               ('Heat Network', '@E_el{%0.2f GWh}')],\n",
    "                                     formatters={'@heat_source1': 'printf',\n",
    "                                                 '@heat_source2': 'printf',\n",
    "                                                 '@heat_aquifer': 'printf',\n",
    "                                                 '@E_el': 'printf',},)\n",
    "\n",
    "stack_dayofweek_average_heat_tool = HoverTool(tooltips=[('Day of Week', '@dayofweek'),\n",
    "                                                   ('Heat Source 1', '@heat_source1{%0.2f MWh}'),\n",
    "                                                   ('Heat Source 2', '@heat_source2{%0.2f MWh}'),\n",
    "                                                   ('Heat Aquifer', '@heat_aquifer{%0.2f MWh}'),\n",
    "                                                   ('Heat Network', '@E_el{%0.2f MWh}')],\n",
    "                                         formatters={'@heat_source1': 'printf',\n",
    "                                                     '@heat_source2': 'printf',\n",
    "                                                     '@heat_aquifer': 'printf',\n",
    "                                                     '@E_el': 'printf',},)"
   ]
  },
  {
   "cell_type": "markdown",
   "metadata": {
    "slideshow": {
     "slide_type": "subslide"
    }
   },
   "source": [
    "### Europe"
   ]
  },
  {
   "cell_type": "code",
   "execution_count": null,
   "metadata": {
    "jupyter": {
     "source_hidden": true
    },
    "slideshow": {
     "slide_type": "skip"
    }
   },
   "outputs": [],
   "source": [
    "data = london.copy()\n",
    "\n",
    "data_month = data.groupby(by=[\"month\"]).sum() / 1000 \n",
    "source_month = ColumnDataSource(data_month)\n",
    "\n",
    "data_week = data.groupby(by=[\"dayofweek\"]).mean() #/ 1000\n",
    "source_week = ColumnDataSource(data_week)\n",
    "\n",
    "data_week_winter = data[data.season == \"winter\"].groupby(by=[\"dayofweek\"]).mean() #/ 1000\n",
    "source_week_winter = ColumnDataSource(data_week_winter)\n",
    "\n",
    "data_week_spring = data[data.season == \"spring\"].groupby(by=[\"dayofweek\"]).mean() #/ 1000\n",
    "source_week_spring = ColumnDataSource(data_week_spring)\n",
    "\n",
    "data_week_summer = data[data.season == \"summer\"].groupby(by=[\"dayofweek\"]).mean() #/ 1000\n",
    "source_week_summer = ColumnDataSource(data_week_summer)\n",
    "\n",
    "data_week_fall = data[data.season == \"fall\"].groupby(by=[\"dayofweek\"]).mean() #/ 1000\n",
    "source_week_fall = ColumnDataSource(data_week_fall)\n",
    "\n",
    "stackers = ['heat_source1', 'heat_source2', 'heat_aquifer', \"E_el\"]\n",
    "colors = [color_map.get(key) for key in [\"source1\", \"source2\", \"source_water\", \"electricity\",]]\n",
    "legends = [\"Source 1\",\"Source 2\",\"Aquifer wells\",\"Electricity\"]"
   ]
  },
  {
   "cell_type": "code",
   "execution_count": null,
   "metadata": {
    "jupyter": {
     "source_hidden": true
    },
    "scrolled": false,
    "slideshow": {
     "slide_type": "skip"
    }
   },
   "outputs": [],
   "source": [
    "london_stack_month = figure(title =\"London, UK - Thermal energy by different sources\", \n",
    "                               y_axis_label=\"Monthly thermal energy [GWh]\",\n",
    "                               x_axis_label=\"Month\",\n",
    "                               **{**FIGURE_TOOLS, **FULL_WIDTH_FIGURE_TOOLS})\n",
    "london_stack_month.add_tools(stack_month_average_heat_tool)\n",
    "renderers = london_stack_month.varea_stack(x='month', stackers=stackers, fill_color=colors, source=source_month)\n",
    "london_stack_month.add_layout(Legend(items=[(legend, [renderer]) for legend, renderer in zip(legends, renderers)],), \"below\")\n",
    "\n",
    "\n",
    "london_stack_dayofweek_winter = figure(title = \"London, UK, - Thermal energy by different sources on Winter\", \n",
    "                                          y_axis_label=\"Average thermal energy [MWh]\",\n",
    "                                          x_axis_label=\"Day of week\",\n",
    "                                          **FIGURE_TOOLS)\n",
    "london_stack_dayofweek_winter.add_tools(stack_dayofweek_average_heat_tool)\n",
    "renderers = london_stack_dayofweek_winter.varea_stack(x='dayofweek', stackers=stackers, fill_color=colors, source=source_week_winter)\n",
    "london_stack_dayofweek_winter.add_layout(Legend(items=[(legend, [renderer]) for legend, renderer in zip(legends, renderers)],), \"below\")\n",
    "\n",
    "\n",
    "london_stack_dayofweek_spring = figure(title =\"London, UK, - Thermal energy by different sources on Spring\",\n",
    "                                       y_range=london_stack_dayofweek_winter.y_range,\n",
    "                                       x_range=london_stack_dayofweek_winter.x_range,\n",
    "                                          y_axis_label=\"Average thermal energy [MWh]\",\n",
    "                                          x_axis_label=\"Day of week\", \n",
    "                                          **FIGURE_TOOLS\n",
    "                                         )\n",
    "london_stack_dayofweek_spring.add_tools(stack_dayofweek_average_heat_tool)\n",
    "renderers = london_stack_dayofweek_spring.varea_stack(x='dayofweek', stackers=stackers, fill_color=colors, source=source_week_spring)\n",
    "london_stack_dayofweek_spring.add_layout(Legend(items=[(legend, [renderer]) for legend, renderer in zip(legends, renderers)],), \"below\")\n",
    "\n",
    "\n",
    "london_stack_dayofweek_summer = figure(title =\"London, UK, - Thermal energy by different sources on Summer\",\n",
    "                                       y_range=london_stack_dayofweek_winter.y_range,\n",
    "                                       x_range=london_stack_dayofweek_winter.x_range,\n",
    "                                          y_axis_label=\"Average thermal energy [MWh]\",\n",
    "                                          x_axis_label=\"Day of week\", \n",
    "                                          **FIGURE_TOOLS)\n",
    "london_stack_dayofweek_summer.add_tools(stack_dayofweek_average_heat_tool)\n",
    "renderers = london_stack_dayofweek_summer.varea_stack(x='dayofweek', stackers=stackers, fill_color=colors, source=source_week_summer)\n",
    "london_stack_dayofweek_summer.add_layout(Legend(items=[(legend, [renderer]) for legend, renderer in zip(legends, renderers)],), \"below\")\n",
    "\n",
    "\n",
    "london_stack_dayofweek_fall = figure(title =\"London, UK, - Thermal energy by different sources on Fall\",\n",
    "                                     y_range=london_stack_dayofweek_winter.y_range,\n",
    "                                     x_range=london_stack_dayofweek_winter.x_range,\n",
    "                                        y_axis_label=\"Average thermal energy [MWh]\",\n",
    "                                        x_axis_label=\"Day of week\", \n",
    "                                          **FIGURE_TOOLS)\n",
    "london_stack_dayofweek_fall.add_tools(stack_dayofweek_average_heat_tool)\n",
    "renderers = london_stack_dayofweek_fall.varea_stack(x='dayofweek', stackers=stackers, fill_color=colors, source=source_week_fall)\n",
    "london_stack_dayofweek_fall.add_layout(Legend(items=[(legend, [renderer]) for legend, renderer in zip(legends, renderers)],), \"below\")\n",
    "\n",
    "\n",
    "london_stack_dayofweek = figure(title =\"London, UK - Average thermal energy by day of week\", \n",
    "                                   y_axis_label=\"Average thermal energy [MWh]\",\n",
    "                                   x_axis_label=\"Day of week\", \n",
    "                                   **{**FIGURE_TOOLS, **FULL_WIDTH_FIGURE_TOOLS})\n",
    "london_stack_dayofweek.add_tools(stack_dayofweek_average_heat_tool)\n",
    "renderers = london_stack_dayofweek.varea_stack(x='dayofweek', stackers=stackers, fill_color=colors, source=source_week)\n",
    "london_stack_dayofweek.add_layout(Legend(items=[(legend, [renderer]) for legend, renderer in zip(legends, renderers)],), \"below\")\n"
   ]
  },
  {
   "cell_type": "code",
   "execution_count": null,
   "metadata": {
    "scrolled": false
   },
   "outputs": [],
   "source": [
    "show(layout([[london_stack_month],[london_stack_dayofweek_winter, london_stack_dayofweek_spring],[london_stack_dayofweek_summer, london_stack_dayofweek_fall],[london_stack_dayofweek],]))"
   ]
  },
  {
   "cell_type": "markdown",
   "metadata": {
    "slideshow": {
     "slide_type": "subslide"
    }
   },
   "source": [
    "### USA"
   ]
  },
  {
   "cell_type": "code",
   "execution_count": null,
   "metadata": {
    "jupyter": {
     "source_hidden": true
    },
    "slideshow": {
     "slide_type": "skip"
    }
   },
   "outputs": [],
   "source": [
    "data = rochester.copy()\n",
    "\n",
    "data_month = data.groupby(by=[\"month\"]).sum()/ 1000 \n",
    "source_month = ColumnDataSource(data_month)\n",
    "\n",
    "data_week = data.groupby(by=[\"dayofweek\"]).mean() #/ 1000\n",
    "source_week = ColumnDataSource(data_week)\n",
    "\n",
    "data_week_winter = data[data.season == \"winter\"].groupby(by=[\"dayofweek\"]).mean() #/ 1000\n",
    "source_week_winter = ColumnDataSource(data_week_winter)\n",
    "\n",
    "data_week_spring = data[data.season == \"spring\"].groupby(by=[\"dayofweek\"]).mean() #/ 1000\n",
    "source_week_spring = ColumnDataSource(data_week_spring)\n",
    "\n",
    "data_week_summer = data[data.season == \"summer\"].groupby(by=[\"dayofweek\"]).mean() #/ 1000\n",
    "source_week_summer = ColumnDataSource(data_week_summer)\n",
    "\n",
    "data_week_fall = data[data.season == \"fall\"].groupby(by=[\"dayofweek\"]).mean() #/ 1000\n",
    "source_week_fall = ColumnDataSource(data_week_fall)\n",
    "\n",
    "stackers = ['heat_source1', 'heat_source2', 'heat_aquifer', \"E_el\"]\n",
    "colors = [color_map.get(key) for key in [\"source1\", \"source2\", \"source_water\", \"electricity\",]]\n",
    "legends = [\"Source 1\",\"Source 2\",\"Aquifer wells\",\"Electricity\"]"
   ]
  },
  {
   "cell_type": "code",
   "execution_count": null,
   "metadata": {
    "jupyter": {
     "source_hidden": true
    },
    "slideshow": {
     "slide_type": "skip"
    }
   },
   "outputs": [],
   "source": [
    "rochester_stack_month = figure(title =\"Rochester, NY - Thermal energy by different sources\", \n",
    "                               y_axis_label=\"Monthly thermal energy [GWh]\",\n",
    "                               x_axis_label=\"Month\",\n",
    "                               **{**FIGURE_TOOLS, **FULL_WIDTH_FIGURE_TOOLS})\n",
    "rochester_stack_month.add_tools(stack_month_average_heat_tool)\n",
    "renderers = rochester_stack_month.varea_stack(x='month', stackers=stackers, fill_color=colors, source=source_month)\n",
    "rochester_stack_month.add_layout(Legend(items=[(legend, [renderer]) for legend, renderer in zip(legends, renderers)],), \"below\")\n",
    "\n",
    "\n",
    "rochester_stack_dayofweek_winter = figure(title=\"Rochester, NY - Thermal energy by different sources on Winter\", \n",
    "                                          y_axis_label=\"Average thermal energy [MWh]\",\n",
    "                                          x_axis_label=\"Day of week\",\n",
    "                                          **FIGURE_TOOLS)\n",
    "rochester_stack_dayofweek_winter.add_tools(stack_dayofweek_average_heat_tool)\n",
    "renderers = rochester_stack_dayofweek_winter.varea_stack(x='dayofweek', stackers=stackers, fill_color=colors, source=source_week_winter)\n",
    "rochester_stack_dayofweek_winter.add_layout(Legend(items=[(legend, [renderer]) for legend, renderer in zip(legends, renderers)],), \"below\")\n",
    "\n",
    "\n",
    "rochester_stack_dayofweek_spring = figure(title =\"Rochester, NY - Thermal energy by different sources on Spring\",\n",
    "                                          y_range=rochester_stack_dayofweek_winter.y_range,\n",
    "                                          x_range=rochester_stack_dayofweek_winter.x_range,\n",
    "                                          y_axis_label=\"Average thermal energy [MWh]\",\n",
    "                                          x_axis_label=\"Day of week\", \n",
    "                                          **FIGURE_TOOLS\n",
    "                                         )\n",
    "rochester_stack_dayofweek_spring.add_tools(stack_dayofweek_average_heat_tool)\n",
    "renderers = rochester_stack_dayofweek_spring.varea_stack(x='dayofweek', stackers=stackers, fill_color=colors, source=source_week_spring)\n",
    "rochester_stack_dayofweek_spring.add_layout(Legend(items=[(legend, [renderer]) for legend, renderer in zip(legends, renderers)],), \"below\")\n",
    "\n",
    "\n",
    "rochester_stack_dayofweek_summer = figure(title =\"Rochester, NY - Thermal energy by different sources on Summer\",\n",
    "                                          y_range=rochester_stack_dayofweek_winter.y_range,\n",
    "                                          x_range=rochester_stack_dayofweek_winter.x_range,\n",
    "                                          y_axis_label=\"Average thermal energy [MWh]\",\n",
    "                                          x_axis_label=\"Day of week\", \n",
    "                                          **FIGURE_TOOLS)\n",
    "rochester_stack_dayofweek_summer.add_tools(stack_dayofweek_average_heat_tool)\n",
    "renderers = rochester_stack_dayofweek_summer.varea_stack(x='dayofweek', stackers=stackers, fill_color=colors, source=source_week_summer)\n",
    "rochester_stack_dayofweek_summer.add_layout(Legend(items=[(legend, [renderer]) for legend, renderer in zip(legends, renderers)],), \"below\")\n",
    "\n",
    "\n",
    "rochester_stack_dayofweek_fall = figure(title =\"Rochester, NY - Thermal energy by different sources on Fall\",\n",
    "                                        y_range=rochester_stack_dayofweek_winter.y_range,\n",
    "                                        x_range=rochester_stack_dayofweek_winter.x_range,\n",
    "                                        y_axis_label=\"Average thermal energy [MWh]\",\n",
    "                                        x_axis_label=\"Day of week\", \n",
    "                                          **FIGURE_TOOLS)\n",
    "rochester_stack_dayofweek_fall.add_tools(stack_dayofweek_average_heat_tool)\n",
    "renderers = rochester_stack_dayofweek_fall.varea_stack(x='dayofweek', stackers=stackers, fill_color=colors, source=source_week_fall)\n",
    "rochester_stack_dayofweek_fall.add_layout(Legend(items=[(legend, [renderer]) for legend, renderer in zip(legends, renderers)],), \"below\")\n",
    "\n",
    "\n",
    "rochester_stack_dayofweek = figure(title =\"Rochester, NY - Average thermal energy by day of week\", \n",
    "                                   y_axis_label=\"Average thermal energy [MWh]\",\n",
    "                                   x_axis_label=\"Day of week\", \n",
    "                                   **{**FIGURE_TOOLS, **FULL_WIDTH_FIGURE_TOOLS})\n",
    "rochester_stack_dayofweek.add_tools(stack_dayofweek_average_heat_tool)\n",
    "renderers = rochester_stack_dayofweek.varea_stack(x='dayofweek', stackers=stackers, fill_color=colors, source=source_week)\n",
    "rochester_stack_dayofweek.add_layout(Legend(items=[(legend, [renderer]) for legend, renderer in zip(legends, renderers)],), \"below\")\n",
    "\n"
   ]
  },
  {
   "cell_type": "code",
   "execution_count": null,
   "metadata": {
    "scrolled": false
   },
   "outputs": [],
   "source": [
    "show(layout([[rochester_stack_month],[rochester_stack_dayofweek_winter, rochester_stack_dayofweek_spring],[rochester_stack_dayofweek_summer, rochester_stack_dayofweek_fall],[rochester_stack_dayofweek],]))"
   ]
  },
  {
   "cell_type": "markdown",
   "metadata": {
    "slideshow": {
     "slide_type": "slide"
    }
   },
   "source": [
    "## Annual Analysis"
   ]
  },
  {
   "cell_type": "code",
   "execution_count": null,
   "metadata": {
    "jupyter": {
     "source_hidden": true
    },
    "slideshow": {
     "slide_type": "skip"
    }
   },
   "outputs": [],
   "source": [
    "thermal_load_y=[london['Total_consumption'].sum(), \n",
    "                stuttgart['Total_consumption'].sum(), \n",
    "                madrid['Total_consumption'].sum(), \n",
    "                rome['Total_consumption'].sum(), \n",
    "                miami['Total_consumption'].sum(), \n",
    "                fresno['Total_consumption'].sum(), \n",
    "                olympia['Total_consumption'].sum(), \n",
    "                rochester['Total_consumption'].sum()]\n",
    "thermal_y =pd.Series(thermal_load_y, index=[\"london\", \"stuttgart\", \"madrid\", \"rome\", \"miami\", \"fresno\", \"olympia\", \"rochester\"])\n",
    "thermal_y\n",
    "\n",
    "electric_cons_y=[london['E_el'].sum(), \n",
    "                 stuttgart['E_el'].sum(), \n",
    "                 madrid['E_el'].sum(),\n",
    "                 rome['E_el'].sum(), \n",
    "                 miami['E_el'].sum(), \n",
    "                 fresno['E_el'].sum(), \n",
    "                 olympia['E_el'].sum(), \n",
    "                 rochester['E_el'].sum()]\n",
    "electric_y =pd.Series(electric_cons_y, index=[\"london\", \"stuttgart\", \"madrid\", \"rome\", \"miami\", \"fresno\", \"olympia\", \"rochester\"])\n",
    "electric_y\n",
    "\n",
    "heat_loss_y=[london['E_loss_tot'].sum(), \n",
    "             stuttgart['E_loss_tot'].sum(), \n",
    "             madrid['E_loss_tot'].sum(),\n",
    "             rome['E_loss_tot'].sum(), \n",
    "             miami['E_loss_tot'].sum(), \n",
    "             fresno['E_loss_tot'].sum(), \n",
    "             olympia['E_loss_tot'].sum(), \n",
    "             rochester['E_loss_tot'].sum()]\n",
    "heat_loss_y =pd.Series(heat_loss_y, index=[\"london\", \"stuttgart\", \"madrid\", \"rome\", \"miami\", \"fresno\", \"olympia\", \"rochester\"])\n",
    "heat_loss_y\n",
    "\n",
    "\n",
    "thermal_energy_network= thermal_y - electric_y\n",
    "#thermal_energy_network =pd.Series(thermal_energy_network)\n",
    "\n",
    "thermal_peak=[london['Total_consumption'].max(), \n",
    "              stuttgart['Total_consumption'].max(), \n",
    "              madrid['Total_consumption'].max(), \n",
    "              rome['Total_consumption'].max(), \n",
    "              miami['Total_consumption'].max(), \n",
    "              fresno['Total_consumption'].max(), \n",
    "              olympia['Total_consumption'].max(), \n",
    "              rochester['Total_consumption'].max()]\n",
    "thermal_peak_MW=pd.Series(thermal_peak, index=[\"london\", \"stuttgart\", \"madrid\", \"rome\", \"miami\", \"fresno\", \"olympia\", \"rochester\"])\n",
    "\n",
    "\n",
    "COP = thermal_y / electric_y\n",
    "\n",
    "source1_thermal_y= [london['heat_source1'].sum(), \n",
    "                    stuttgart['heat_source1'].sum(), \n",
    "                    madrid['heat_source1'].sum(), \n",
    "                    rome['heat_source1'].sum(), \n",
    "                    miami['heat_source1'].sum(), \n",
    "                    fresno['heat_source1'].sum(), \n",
    "                    olympia['heat_source1'].sum(), \n",
    "                    rochester['heat_source1'].sum()]\n",
    "\n",
    "source2_thermal_y= [london['heat_source2'].sum(), \n",
    "                    stuttgart['heat_source2'].sum(), \n",
    "                    madrid['heat_source2'].sum(), \n",
    "                    rome['heat_source2'].sum(), \n",
    "                    miami['heat_source2'].sum(), \n",
    "                    fresno['heat_source2'].sum(), \n",
    "                    olympia['heat_source2'].sum(), \n",
    "                    rochester['heat_source2'].sum()]\n",
    "\n",
    "source3_aquifer= [london['heat_aquifer'].sum(), \n",
    "                  stuttgart['heat_aquifer'].sum(), \n",
    "                  madrid['heat_aquifer'].sum(), \n",
    "                  rome['heat_aquifer'].sum(), \n",
    "                  miami['heat_aquifer'].sum(), \n",
    "                  fresno['heat_aquifer'].sum(), \n",
    "                  olympia['heat_aquifer'].sum(), \n",
    "                  rochester['heat_aquifer'].sum()]\n",
    "\n",
    "source1_thermal_y =pd.Series(source1_thermal_y, index=[\"london\", \"stuttgart\", \"madrid\", \"rome\", \"miami\", \"fresno\", \"olympia\", \"rochester\"])\n",
    "source2_thermal_y =pd.Series(source2_thermal_y, index=[\"london\", \"stuttgart\", \"madrid\", \"rome\", \"miami\", \"fresno\", \"olympia\", \"rochester\"])\n",
    "source3_aquifer_y=pd.Series(source3_aquifer, index=[\"london\", \"stuttgart\", \"madrid\", \"rome\", \"miami\", \"fresno\", \"olympia\", \"rochester\"])\n",
    "\n",
    "waste_heat_y=source1_thermal_y+source2_thermal_y\n",
    "\n",
    "\n",
    "pd.DataFrame([thermal_y,\n",
    "              electric_y,\n",
    "              waste_heat_y,\n",
    "              source3_aquifer_y,\n",
    "              heat_loss_y,\n",
    "              source1_thermal_y,\n",
    "              source2_thermal_y,\n",
    "             thermal_energy_network,],\n",
    "             index=[\"thermal_demand\", \n",
    "                    \"electricity\", \n",
    "                    \"waste_heat\", \n",
    "                    \"ground_source\", \n",
    "                    \"thermal_loss\",\n",
    "                    \"source1\", \n",
    "                    \"source2\",\n",
    "                   \"thermal_energy_network\"]).T[\"thermal_energy_network\"]"
   ]
  },
  {
   "cell_type": "code",
   "execution_count": null,
   "metadata": {
    "jupyter": {
     "source_hidden": true
    },
    "slideshow": {
     "slide_type": "skip"
    }
   },
   "outputs": [],
   "source": [
    "thermal_load_y=[london['Total_consumption'].sum(), stuttgart['Total_consumption'].sum(), madrid['Total_consumption'].sum(), rome['Total_consumption'].sum(), miami['Total_consumption'].sum(), fresno['Total_consumption'].sum(), olympia['Total_consumption'].sum(), rochester['Total_consumption'].sum()]\n",
    "thermal_y =pd.Series(thermal_load_y)\n",
    "thermal_y\n",
    "\n",
    "electric_cons_y=[london['E_el'].sum(), stuttgart['E_el'].sum(), madrid['E_el'].sum(),rome['E_el'].sum(), miami['E_el'].sum(), fresno['E_el'].sum(), olympia['E_el'].sum(), rochester['E_el'].sum()]\n",
    "electric_y =pd.Series(electric_cons_y)\n",
    "electric_y\n",
    "\n",
    "heat_loss_y=[london['E_loss_tot'].sum(), stuttgart['E_loss_tot'].sum(), madrid['E_loss_tot'].sum(),rome['E_loss_tot'].sum(), miami['E_loss_tot'].sum(), fresno['E_loss_tot'].sum(), olympia['E_loss_tot'].sum(), rochester['E_loss_tot'].sum()]\n",
    "heat_loss_y =pd.Series(heat_loss_y)\n",
    "heat_loss_y\n",
    "\n",
    "thermal_energy_network= thermal_y+heat_loss_y+electric_y\n",
    "thermal_energy_network =pd.Series(thermal_energy_network)\n",
    "\n",
    "thermal_peak=[london['Total_consumption'].max(), stuttgart['Total_consumption'].max(), madrid['Total_consumption'].max(), rome['Total_consumption'].max(), miami['Total_consumption'].max(), fresno['Total_consumption'].max(), olympia['Total_consumption'].max(), rochester['Total_consumption'].max()]\n",
    "thermal_peak_MW=pd.Series(thermal_peak)\n",
    "\n",
    "\n",
    "COP=thermal_y/electric_y\n",
    "COP\n",
    "\n",
    "source1_thermal_y= [london['heat_source1'].sum(), stuttgart['heat_source1'].sum(), madrid['heat_source1'].sum(), rome['heat_source1'].sum(), miami['heat_source1'].sum(), fresno['heat_source1'].sum(), olympia['heat_source1'].sum(), rochester['heat_source1'].sum()]\n",
    "source2_thermal_y= [london['heat_source2'].sum(), stuttgart['heat_source2'].sum(), madrid['heat_source2'].sum(), rome['heat_source2'].sum(), miami['heat_source2'].sum(), fresno['heat_source2'].sum(), olympia['heat_source2'].sum(), rochester['heat_source2'].sum()]\n",
    "source3_aquifer= [london['heat_aquifer'].sum(), stuttgart['heat_aquifer'].sum(), madrid['heat_aquifer'].sum(), rome['heat_aquifer'].sum(), miami['heat_aquifer'].sum(), fresno['heat_aquifer'].sum(), olympia['heat_aquifer'].sum(), rochester['heat_aquifer'].sum()]\n",
    "\n",
    "\n",
    "source1_thermal_y =pd.Series(source1_thermal_y)\n",
    "source2_thermal_y =pd.Series(source2_thermal_y)\n",
    "source3_aquifer_y=pd.Series(source3_aquifer)\n",
    "\n",
    "waste_heat_y=source1_thermal_y+source2_thermal_y\n",
    "\n",
    "\n"
   ]
  },
  {
   "cell_type": "markdown",
   "metadata": {
    "collapsed": true,
    "slideshow": {
     "slide_type": "fragment"
    }
   },
   "source": [
    "- We performed the calculations on the notebook for the annual analysis.\n",
    "\n"
   ]
  },
  {
   "cell_type": "markdown",
   "metadata": {
    "collapsed": true,
    "slideshow": {
     "slide_type": "fragment"
    }
   },
   "source": [
    "- And used Flourish to visualize them. These visualizations are [here](https://public.flourish.studio/story/549099/)"
   ]
  },
  {
   "cell_type": "markdown",
   "metadata": {
    "slideshow": {
     "slide_type": "slide"
    }
   },
   "source": [
    "# Thanks for your attention!"
   ]
  },
  {
   "cell_type": "markdown",
   "metadata": {
    "slideshow": {
     "slide_type": "slide"
    }
   },
   "source": [
    "## ... There is more 🥳"
   ]
  },
  {
   "cell_type": "markdown",
   "metadata": {
    "slideshow": {
     "slide_type": "fragment"
    }
   },
   "source": [
    "- Due to time constraints, we focused on the most important visualizations for a project like this"
   ]
  },
  {
   "cell_type": "markdown",
   "metadata": {
    "slideshow": {
     "slide_type": "fragment"
    }
   },
   "source": [
    "- Fitted Air, Ground & Aquifer Temperatures\n",
    "- Thermal Loads\n",
    "- Heat Pumps\n",
    "- Heat Losses\n",
    "- Electrical Use\n"
   ]
  },
  {
   "cell_type": "markdown",
   "metadata": {
    "slideshow": {
     "slide_type": "slide"
    }
   },
   "source": [
    "## Fitted Air Temperature"
   ]
  },
  {
   "cell_type": "code",
   "execution_count": null,
   "metadata": {
    "jupyter": {
     "source_hidden": true
    },
    "slideshow": {
     "slide_type": "skip"
    }
   },
   "outputs": [],
   "source": [
    "date_air_temp_air_temp_fit_hover_tool = HoverTool(tooltips=[('Date', '@timestamp{%Y/%m/%d %H:%M:%S}'),\n",
    "                                                            ('Air Temperature', '@air_temp{%0.2f ºC}'),\n",
    "                                                            ('Fit Air Temperature', '@air_temp_fit{%0.2f ºC}'),],\n",
    "                                                  formatters={'@timestamp': 'datetime',\n",
    "                                                              '@air_temp': 'printf',\n",
    "                                                              '@air_temp_fit': 'printf',},)\n",
    "\n",
    "date_air_temp_fit_hover_tool = HoverTool(tooltips=[('Date', '@timestamp{%Y/%m/%d %H:%M:%S}'),\n",
    "                                                   ('Fit Air Temperature', '@air_temp_fit{%0.2f ºC}'),],\n",
    "                                         formatters={'@timestamp': 'datetime',\n",
    "                                                     '@air_temp_fit': 'printf',},)\n",
    "\n",
    "max_temp = int(us_data.air_temp.max() + 5)\n",
    "min_temp = int(us_data.air_temp.min() - 5)"
   ]
  },
  {
   "cell_type": "markdown",
   "metadata": {
    "slideshow": {
     "slide_type": "subslide"
    }
   },
   "source": [
    "### USA"
   ]
  },
  {
   "cell_type": "code",
   "execution_count": null,
   "metadata": {
    "slideshow": {
     "slide_type": "skip"
    }
   },
   "outputs": [],
   "source": [
    "miami_air_temp_and_fit = figure(x_axis_type=\"datetime\",\n",
    "                                title=\"Miami, FL\",\n",
    "                                x_axis_label=\"Date\",\n",
    "                                y_axis_label=\"Temperature [ºC]\",\n",
    "                                y_range=(min_temp, max_temp),\n",
    "                                **FIGURE_TOOLS)\n",
    "miami_air_temp_and_fit.add_tools(date_air_temp_air_temp_fit_hover_tool)\n",
    "l1 = miami_air_temp_and_fit.line(x=\"timestamp\", y=\"air_temp\", color=color_map[\"miami\"], alpha=0.4, source=us_source, view=miami_view)\n",
    "l2 = miami_air_temp_and_fit.circle(x=\"timestamp\", y=\"air_temp_fit\", color=color_map[\"miami\"], alpha=0.4, source=us_source, view=miami_view, size=1)\n",
    "miami_air_temp_and_fit.add_layout(Legend(items=[(\"Air Temp\", [l1]), (\"Fit Air Temp\" , [l2])]), 'below')\n",
    "\n",
    "fresno_air_temp_and_fit = figure(x_axis_type=\"datetime\",\n",
    "                                 title=\"Fresno, CA\",\n",
    "                                 x_axis_label=\"Date\",\n",
    "                                 y_axis_label=\"Temperature [ºC]\",\n",
    "                                 y_range=miami_air_temp_and_fit.y_range,\n",
    "                                 x_range=miami_air_temp_and_fit.x_range,\n",
    "                                 **FIGURE_TOOLS)\n",
    "fresno_air_temp_and_fit.add_tools(date_air_temp_air_temp_fit_hover_tool)\n",
    "l1 = fresno_air_temp_and_fit.line(x=\"timestamp\", y=\"air_temp\", color=color_map[\"fresno\"], alpha=0.2, source=us_source, view=fresno_view)\n",
    "l2 = fresno_air_temp_and_fit.circle(x=\"timestamp\", y=\"air_temp_fit\", color=color_map[\"fresno\"], alpha=0.4, source=us_source, view=fresno_view, size=1)\n",
    "fresno_air_temp_and_fit.add_layout(Legend(items=[(\"Air Temp\", [l1]), (\"Fit Air Temp\" , [l2])]), 'below')\n",
    "\n",
    "\n",
    "olympia_air_temp_and_fit = figure(x_axis_type=\"datetime\",\n",
    "                                  title=\"Olympia, WA\",\n",
    "                                  x_axis_label=\"Date\",\n",
    "                                  y_axis_label=\"Temperature [ºC]\",\n",
    "                                  y_range=miami_air_temp_and_fit.y_range,\n",
    "                                  x_range=miami_air_temp_and_fit.x_range,\n",
    "                                  **FIGURE_TOOLS)\n",
    "olympia_air_temp_and_fit.add_tools(date_air_temp_air_temp_fit_hover_tool)\n",
    "l1 = olympia_air_temp_and_fit.line(x=\"timestamp\", y=\"air_temp\", color=color_map[\"olympia\"], alpha=0.2, source=us_source, view=olympia_view)\n",
    "l2 = olympia_air_temp_and_fit.circle(x=\"timestamp\", y=\"air_temp_fit\", color=color_map[\"olympia\"], alpha=0.4, source=us_source, view=olympia_view, size=1)\n",
    "olympia_air_temp_and_fit.add_layout(Legend(items=[(\"Air Temp\", [l1]), (\"Fit Air Temp\" , [l2])]), 'below')\n",
    "\n",
    "\n",
    "rochester_air_temp_and_fit = figure(x_axis_type=\"datetime\",\n",
    "                                    title=\"Rochester, NY\",\n",
    "                                    x_axis_label=\"Date\",\n",
    "                                    y_axis_label=\"Temperature [ºC]\",\n",
    "                                    y_range=miami_air_temp_and_fit.y_range,\n",
    "                                    x_range=miami_air_temp_and_fit.x_range,\n",
    "                                    **FIGURE_TOOLS)\n",
    "rochester_air_temp_and_fit.add_tools(date_air_temp_air_temp_fit_hover_tool)\n",
    "l1 = rochester_air_temp_and_fit.line(x=\"timestamp\", y=\"air_temp\", color=color_map[\"rochester\"], alpha=0.2, source=us_source, view=rochester_view)\n",
    "l2 = rochester_air_temp_and_fit.circle(x=\"timestamp\", y=\"air_temp_fit\", color=color_map[\"rochester\"], alpha=0.4, source=us_source, view=rochester_view, size=1)\n",
    "rochester_air_temp_and_fit.add_layout(Legend(items=[(\"Air Temp\", [l1]), (\"Fit Air Temp\" , [l2])]), 'below')"
   ]
  },
  {
   "cell_type": "code",
   "execution_count": null,
   "metadata": {
    "slideshow": {
     "slide_type": "skip"
    }
   },
   "outputs": [],
   "source": [
    "only_air_temp_fit = figure(x_axis_type=\"datetime\",\n",
    "                           title=\"Adjusted Air Temperature\",\n",
    "                           x_axis_label=\"Date\",\n",
    "                           y_axis_label=\"Temperature [ºC]\",\n",
    "                           y_range=miami_air_temp_and_fit.y_range,\n",
    "                           x_range=miami_air_temp_and_fit.x_range,\n",
    "                           **{**FIGURE_TOOLS, **FULL_FIGURE_TOOLS})\n",
    "only_air_temp_fit.add_tools(date_air_temp_fit_hover_tool)\n",
    "l1 = only_air_temp_fit.line(x=\"timestamp\", y=\"air_temp_fit\", color=color_map[\"miami\"], alpha=0.7, source=us_source, view=miami_view, line_width=3)\n",
    "l2 = only_air_temp_fit.line(x=\"timestamp\", y=\"air_temp_fit\", color=color_map[\"fresno\"], alpha=0.7, source=us_source, view=fresno_view, line_width=3)\n",
    "l3 = only_air_temp_fit.line(x=\"timestamp\", y=\"air_temp_fit\", color=color_map[\"olympia\"], alpha=0.7, source=us_source, view=olympia_view, line_width=3)\n",
    "l4 = only_air_temp_fit.line(x=\"timestamp\", y=\"air_temp_fit\", color=color_map[\"rochester\"], alpha=0.7, source=us_source, view=rochester_view, line_width=3)\n",
    "only_air_temp_fit.add_layout(Legend(items=[(\"Miami\", [l1]), (\"Fresno\" , [l2]), (\"Olympia\", [l3]), (\"Rochester\" , [l4])]), 'below')\n"
   ]
  },
  {
   "cell_type": "code",
   "execution_count": null,
   "metadata": {
    "slideshow": {
     "slide_type": "-"
    }
   },
   "outputs": [],
   "source": [
    "show(layout([[rochester_air_temp_and_fit, olympia_air_temp_and_fit],[fresno_air_temp_and_fit, miami_air_temp_and_fit],]))"
   ]
  },
  {
   "cell_type": "code",
   "execution_count": null,
   "metadata": {
    "slideshow": {
     "slide_type": "subslide"
    }
   },
   "outputs": [],
   "source": [
    "show(layout([[only_air_temp_fit],]))"
   ]
  },
  {
   "cell_type": "markdown",
   "metadata": {
    "slideshow": {
     "slide_type": "subslide"
    }
   },
   "source": [
    "### Europe"
   ]
  },
  {
   "cell_type": "code",
   "execution_count": null,
   "metadata": {
    "jupyter": {
     "source_hidden": true
    },
    "slideshow": {
     "slide_type": "skip"
    }
   },
   "outputs": [],
   "source": [
    "max_temp = int(europe_data.air_temp.max() + 5)\n",
    "min_temp = int(europe_data.air_temp.min() - 5)\n",
    "\n",
    "london_air_temp_and_fit = figure(x_axis_type=\"datetime\",\n",
    "                                 title=\"London, United Kingdom\",\n",
    "                                 x_axis_label=\"Date\",\n",
    "                                 y_axis_label=\"Temperature [ºC]\",\n",
    "                                 y_range=(min_temp, max_temp),\n",
    "                                 **FIGURE_TOOLS)\n",
    "london_air_temp_and_fit.add_tools(date_air_temp_air_temp_fit_hover_tool)\n",
    "l1 = london_air_temp_and_fit.line(x=\"timestamp\", y=\"air_temp\", color=color_map[\"london\"], alpha=0.4, source=europe_source, view=london_view)\n",
    "l2 = london_air_temp_and_fit.circle(x=\"timestamp\", y=\"air_temp_fit\", color=color_map[\"london\"], alpha=0.4, source=europe_source, view=london_view, size=1)\n",
    "london_air_temp_and_fit.add_layout(Legend(items=[(\"Air Temp\", [l1]), (\"Fit Air Temp\" , [l2])]), 'below')\n",
    "\n",
    "\n",
    "madrid_air_temp_and_fit = figure(x_axis_type=\"datetime\",\n",
    "                                 title=\"Madrid, Spain\",\n",
    "                                 x_axis_label=\"Date\",\n",
    "                                 y_axis_label=\"Temperature [ºC]\",\n",
    "                                 y_range=london_air_temp_and_fit.y_range,\n",
    "                                 x_range=london_air_temp_and_fit.x_range,\n",
    "                                 **FIGURE_TOOLS)\n",
    "madrid_air_temp_and_fit.add_tools(date_air_temp_air_temp_fit_hover_tool)\n",
    "l1 = madrid_air_temp_and_fit.line(x=\"timestamp\", y=\"air_temp\", color=color_map[\"madrid\"], alpha=0.4, source=europe_source, view=madrid_view)\n",
    "l2 = madrid_air_temp_and_fit.circle(x=\"timestamp\", y=\"air_temp_fit\", color=color_map[\"madrid\"], alpha=0.4, source=europe_source, view=madrid_view, size=1)\n",
    "madrid_air_temp_and_fit.add_layout(Legend(items=[(\"Air Temp\", [l1]), (\"Fit Air Temp\" , [l2])]), 'below')\n",
    "\n",
    "rome_air_temp_and_fit = figure(x_axis_type=\"datetime\",\n",
    "                               title=\"Rome, Italy\",\n",
    "                               x_axis_label=\"Date\",\n",
    "                               y_axis_label=\"Temperature [ºC]\",\n",
    "                               y_range=london_air_temp_and_fit.y_range,\n",
    "                               x_range=london_air_temp_and_fit.x_range,\n",
    "                               **FIGURE_TOOLS)\n",
    "rome_air_temp_and_fit.add_tools(date_air_temp_air_temp_fit_hover_tool)\n",
    "l1 = rome_air_temp_and_fit.line(x=\"timestamp\", y=\"air_temp\", color=color_map[\"rome\"], alpha=0.4, source=europe_source, view=rome_view)\n",
    "l2 = rome_air_temp_and_fit.circle(x=\"timestamp\", y=\"air_temp_fit\", color=color_map[\"rome\"], alpha=0.4, source=europe_source, view=rome_view, size=1)\n",
    "rome_air_temp_and_fit.add_layout(Legend(items=[(\"Air Temp\", [l1]), (\"Fit Air Temp\" , [l2])]), 'below')\n",
    "\n",
    "\n",
    "stuttgart_air_temp_and_fit = figure(x_axis_type=\"datetime\",\n",
    "                                    title=\"Stuttgart, Germany\",\n",
    "                                    x_axis_label=\"Date\",\n",
    "                                    y_axis_label=\"Temperature [ºC]\",\n",
    "                                    y_range=london_air_temp_and_fit.y_range,\n",
    "                                    x_range=london_air_temp_and_fit.x_range,\n",
    "                                    **FIGURE_TOOLS)\n",
    "stuttgart_air_temp_and_fit.add_tools(date_air_temp_air_temp_fit_hover_tool)\n",
    "l1 = stuttgart_air_temp_and_fit.line(x=\"timestamp\", y=\"air_temp\", color=color_map[\"stuttgart\"], alpha=0.4, source=europe_source, view=stuttgart_view)\n",
    "l2 = stuttgart_air_temp_and_fit.circle(x=\"timestamp\", y=\"air_temp_fit\", color=color_map[\"stuttgart\"], alpha=0.4, source=europe_source, view=stuttgart_view, size=1)\n",
    "stuttgart_air_temp_and_fit.add_layout(Legend(items=[(\"Air Temp\", [l1]), (\"Fit Air Temp\" , [l2])]), 'below')\n",
    "\n",
    "\n",
    "only_air_temp_fit = figure(x_axis_type=\"datetime\",\n",
    "                                title=\"Adjusted air temperature\",\n",
    "                          y_range=london_air_temp_and_fit.y_range,\n",
    "                                x_range=london_air_temp_and_fit.x_range,\n",
    "                           **{**FIGURE_TOOLS, **FULL_WIDTH_FIGURE_TOOLS})\n",
    "only_air_temp_fit.add_tools(date_air_temp_fit_hover_tool)\n",
    "l1 = only_air_temp_fit.line(x=\"timestamp\", y=\"air_temp_fit\", color=color_map[\"london\"], alpha=0.7, source=europe_source, view=london_view, line_width=3)\n",
    "l2 = only_air_temp_fit.line(x=\"timestamp\", y=\"air_temp_fit\", color=color_map[\"stuttgart\"], alpha=0.7, source=europe_source, view=stuttgart_view, line_width=3)\n",
    "l3 = only_air_temp_fit.line(x=\"timestamp\", y=\"air_temp_fit\", color=color_map[\"rome\"], alpha=0.7, source=europe_source, view=rome_view, line_width=3)\n",
    "l4 = only_air_temp_fit.line(x=\"timestamp\", y=\"air_temp_fit\", color=color_map[\"madrid\"], alpha=0.7, source=europe_source, view=madrid_view, line_width=3)\n",
    "only_air_temp_fit.add_layout(Legend(items=[(\"London, UK\", [l1]), (\"Stuttgart, Germany\" , [l2]), (\"Rome, Italy\", [l3]), (\"Madrid, Spain\" , [l4])]), 'below')\n",
    "\n",
    "\n"
   ]
  },
  {
   "cell_type": "code",
   "execution_count": null,
   "metadata": {},
   "outputs": [],
   "source": [
    "show(layout([[london_air_temp_and_fit, stuttgart_air_temp_and_fit ,],[rome_air_temp_and_fit, madrid_air_temp_and_fit],]))"
   ]
  },
  {
   "cell_type": "code",
   "execution_count": null,
   "metadata": {
    "slideshow": {
     "slide_type": "subslide"
    }
   },
   "outputs": [],
   "source": [
    "show(layout([[only_air_temp_fit],]))"
   ]
  },
  {
   "cell_type": "markdown",
   "metadata": {
    "slideshow": {
     "slide_type": "slide"
    }
   },
   "source": [
    "## Ground Temperature\n"
   ]
  },
  {
   "cell_type": "code",
   "execution_count": null,
   "metadata": {
    "jupyter": {
     "source_hidden": true
    },
    "slideshow": {
     "slide_type": "skip"
    }
   },
   "outputs": [],
   "source": [
    "date_air_temp_ground_temp_hover_tool = HoverTool(tooltips=[('Date', '@timestamp{%Y/%m/%d %H:%M:%S}'),\n",
    "                                                           ('Air Temperature', '@air_temp{%0.2f ºC}'),\n",
    "                                                           ('Ground Temperature', '@ground_temp{%0.2f ºC}'),],\n",
    "                                                 formatters={'@timestamp': 'datetime',\n",
    "                                                             '@air_temp': 'printf',\n",
    "                                                             '@ground_temp': 'printf',},)\n",
    "\n",
    "date_ground_temp_hover_tool = HoverTool(tooltips=[('Date', '@timestamp{%Y/%m/%d %H:%M:%S}'),\n",
    "                                                  ('Ground Temperature', '@ground_temp{%0.2f ºC}'),],\n",
    "                                        formatters={'@timestamp': 'datetime',\n",
    "                                                    '@ground_temp': 'printf',},)\n",
    "\n",
    "date_hour_ground_temp_hover_tool = HoverTool(tooltips=[('Date', '@date{%Y/%m/%d}'),\n",
    "                                                       (\"Hour\", \"@hour\"),\n",
    "                                                       ('Ground Temperature', '@ground_temp{%0.2f ºC}'),],\n",
    "                                             formatters={'@date': 'datetime',\n",
    "                                                         \"@hour\": \"numeral\",\n",
    "                                                         '@ground_temp': 'printf',},)"
   ]
  },
  {
   "cell_type": "markdown",
   "metadata": {
    "slideshow": {
     "slide_type": "subslide"
    }
   },
   "source": [
    "### USA\n"
   ]
  },
  {
   "cell_type": "code",
   "execution_count": null,
   "metadata": {
    "jupyter": {
     "source_hidden": true
    },
    "slideshow": {
     "slide_type": "skip"
    }
   },
   "outputs": [],
   "source": [
    "max_temp = int(us_data.air_temp.max() + 5)\n",
    "min_temp = int(us_data.air_temp.min() - 5)\n",
    "\n",
    "miami_air_temp_and_ground = figure(x_axis_type=\"datetime\",\n",
    "                                   title=\"Miami, FL\",\n",
    "                                   x_axis_label=\"Date\",\n",
    "                                   y_axis_label=\"Temperature [ºC]\",\n",
    "                                   y_range=(min_temp, max_temp),\n",
    "                                   **FIGURE_TOOLS)\n",
    "miami_air_temp_and_ground.add_tools(date_air_temp_ground_temp_hover_tool)\n",
    "l1 = miami_air_temp_and_ground.line(x=\"timestamp\", y=\"air_temp\", color=color_map[\"miami\"], alpha=0.4, source=us_source, view=miami_view)\n",
    "l2 = miami_air_temp_and_ground.circle(x=\"timestamp\", y=\"ground_temp\", color=color_map[\"miami\"], alpha=0.4, source=us_source, view=miami_view, size=1)\n",
    "miami_air_temp_and_ground.add_layout(Legend(items=[(\"Air Temp\", [l1]), (\"Ground Temp\" , [l2])]), 'below')\n",
    "\n",
    "\n",
    "fresno_air_temp_and_ground = figure(x_axis_type=\"datetime\",\n",
    "                                    title=\"Fresno, California, USA\",\n",
    "                                    x_axis_label=\"Date\",\n",
    "                                    y_axis_label=\"Temperature [ºC]\",\n",
    "                                    y_range=miami_air_temp_and_fit.y_range,\n",
    "                                    x_range=miami_air_temp_and_fit.x_range,\n",
    "                                    **FIGURE_TOOLS)\n",
    "fresno_air_temp_and_ground.add_tools(date_air_temp_ground_temp_hover_tool)\n",
    "l1 = fresno_air_temp_and_ground.line(x=\"timestamp\", y=\"air_temp\", color=color_map[\"fresno\"], alpha=0.4, source=us_source, view=fresno_view)\n",
    "l2 = fresno_air_temp_and_ground.circle(x=\"timestamp\", y=\"ground_temp\", color=color_map[\"fresno\"], alpha=0.4, source=us_source, view=fresno_view, size=1)\n",
    "fresno_air_temp_and_ground.add_layout(Legend(items=[(\"Air Temp\", [l1]), (\"Ground Temp\" , [l2])]), 'below')\n",
    "\n",
    "\n",
    "olympia_air_temp_and_ground = figure(x_axis_type=\"datetime\",\n",
    "                                     title=\"Olympia, Washington, USA\",\n",
    "                                     x_axis_label=\"Date\",\n",
    "                                     y_axis_label=\"Temperature [ºC]\",\n",
    "                                     y_range=miami_air_temp_and_fit.y_range,\n",
    "                                     x_range=miami_air_temp_and_fit.x_range,\n",
    "                                     **FIGURE_TOOLS)\n",
    "olympia_air_temp_and_ground.add_tools(date_air_temp_ground_temp_hover_tool)\n",
    "l1 = olympia_air_temp_and_ground.line(x=\"timestamp\", y=\"air_temp\", color=color_map[\"olympia\"], alpha=0.4, source=us_source, view=olympia_view)\n",
    "l2 = olympia_air_temp_and_ground.circle(x=\"timestamp\", y=\"ground_temp\", color=color_map[\"olympia\"], alpha=0.4, source=us_source, view=olympia_view, size=1)\n",
    "olympia_air_temp_and_ground.add_layout(Legend(items=[(\"Air Temp\", [l1]), (\"Ground Temp\" , [l2])]), 'below')\n",
    "\n",
    "rochester_air_temp_and_ground = figure(x_axis_type=\"datetime\",\n",
    "                                       title=\"Rochester, New York, USA\",\n",
    "                                       x_axis_label=\"Date\",\n",
    "                                       y_axis_label=\"Temperature [ºC]\",\n",
    "                                       y_range=miami_air_temp_and_fit.y_range,\n",
    "                                       x_range=miami_air_temp_and_fit.x_range,\n",
    "                                       **FIGURE_TOOLS)\n",
    "rochester_air_temp_and_ground.add_tools(date_air_temp_ground_temp_hover_tool)\n",
    "l1 = rochester_air_temp_and_ground.line(x=\"timestamp\", y=\"air_temp\", color=color_map[\"rochester\"], alpha=0.4, source=us_source, view=rochester_view)\n",
    "l2 = rochester_air_temp_and_ground.circle(x=\"timestamp\", y=\"ground_temp\", color=color_map[\"rochester\"], alpha=0.4, source=us_source, view=rochester_view, size=1)\n",
    "rochester_air_temp_and_ground.add_layout(Legend(items=[(\"Air Temp\", [l1]), (\"Ground Temp\" , [l2])]), 'below')\n",
    "\n",
    "\n",
    "ground_temp = figure(x_axis_type=\"datetime\",\n",
    "                     title=\"Ground temperature - 1m depth\",\n",
    "                     x_axis_label=\"Date\",\n",
    "                     y_axis_label=\"Temperature [ºC]\",\n",
    "                     y_range=london_air_temp_and_fit.y_range,\n",
    "                     x_range=london_air_temp_and_fit.x_range,\n",
    "                     **{**FIGURE_TOOLS, **FULL_WIDTH_FIGURE_TOOLS})\n",
    "ground_temp.add_tools(date_ground_temp_hover_tool)\n",
    "l1 = ground_temp.line(x=\"timestamp\", y=\"ground_temp\", color=color_map[\"miami\"], alpha=0.7, source=us_source, view=miami_view, line_width=3)\n",
    "l2 = ground_temp.line(x=\"timestamp\", y=\"ground_temp\", color=color_map[\"fresno\"], alpha=0.7, source=us_source, view=fresno_view, line_width=3)\n",
    "l3 = ground_temp.line(x=\"timestamp\", y=\"ground_temp\", color=color_map[\"olympia\"], alpha=0.7, source=us_source, view=olympia_view, line_width=3)\n",
    "l4 = ground_temp.line(x=\"timestamp\", y=\"ground_temp\", color=color_map[\"rochester\"], alpha=0.7, source=us_source, view=rochester_view, line_width=3)\n",
    "ground_temp.add_layout(Legend(items=[(\"Miami, FL\", [l1]), (\"Fresno, CA\" , [l2]), (\"Olympia, WA\", [l3]), (\"Rochester, NY\" , [l4])]), 'below')\n",
    "\n",
    "mapper = LinearColorMapper(palette=Spectral11, low=us_data[\"ground_temp\"].min(), high=us_data[\"ground_temp\"].max())\n",
    "color_bar = ColorBar(color_mapper=mapper, location=(0, 0))\n",
    "\n",
    "miami_ground_temp_heatmap = heatmap(color_bar, title=\"Miami, FL - Ground Temperature - 1m depth\", x_axis_label=\"Day in year\", y_axis_label=\"Hour of day\", x_axis_type=\"datetime\", **FIGURE_TOOLS)\n",
    "miami_ground_temp_heatmap.add_tools(date_hour_ground_temp_hover_tool)\n",
    "miami_ground_temp_heatmap.rect(x=\"date\", y=\"hour\", width=ONE_DAY_WIDTH, height=1, source=us_source, view=miami_view, line_color=None, fill_color=transform('ground_temp', mapper))\n",
    "\n",
    "fresno_ground_temp_heatmap = heatmap(color_bar, title=\"Fresno, CA - Ground Temperature - 1m depth\", x_axis_label=\"Day in year\", y_axis_label=\"Hour of day\", x_axis_type=\"datetime\", **FIGURE_TOOLS)\n",
    "fresno_ground_temp_heatmap.add_tools(date_hour_ground_temp_hover_tool)\n",
    "fresno_ground_temp_heatmap.rect(x=\"date\", y=\"hour\", width=ONE_DAY_WIDTH, height=1, source=us_source, view=fresno_view, line_color=None, fill_color=transform('ground_temp', mapper))\n",
    "\n",
    "olympia_ground_temp_heatmap = heatmap(color_bar, title=\"Olympia, WA - Ground Temperature - 1m depth\", x_axis_label=\"Day in year\", y_axis_label=\"Hour of day\", x_axis_type=\"datetime\", **FIGURE_TOOLS)\n",
    "olympia_ground_temp_heatmap.add_tools(date_hour_ground_temp_hover_tool)\n",
    "olympia_ground_temp_heatmap.rect(x=\"date\", y=\"hour\", width=ONE_DAY_WIDTH, height=1, source=us_source, view=olympia_view, line_color=None, fill_color=transform('ground_temp', mapper))\n",
    "\n",
    "rochester_ground_temp_heatmap = heatmap(color_bar, title=\"Rochester, NY - Ground Temperature - 1m depth\", x_axis_label=\"Day in year\", y_axis_label=\"Hour of day\", x_axis_type=\"datetime\", **FIGURE_TOOLS)\n",
    "rochester_ground_temp_heatmap.add_tools(date_hour_ground_temp_hover_tool)\n",
    "rochester_ground_temp_heatmap.rect(x=\"date\", y=\"hour\", width=ONE_DAY_WIDTH, height=1, source=us_source, view=rochester_view, line_color=None, fill_color=transform('ground_temp', mapper))\n"
   ]
  },
  {
   "cell_type": "code",
   "execution_count": null,
   "metadata": {},
   "outputs": [],
   "source": [
    "show(layout([[rochester_air_temp_and_ground, olympia_air_temp_and_ground, ],[fresno_air_temp_and_ground, miami_air_temp_and_ground, ],]))"
   ]
  },
  {
   "cell_type": "code",
   "execution_count": null,
   "metadata": {
    "slideshow": {
     "slide_type": "subslide"
    }
   },
   "outputs": [],
   "source": [
    "show(layout([[ground_temp],]))"
   ]
  },
  {
   "cell_type": "code",
   "execution_count": null,
   "metadata": {
    "slideshow": {
     "slide_type": "subslide"
    }
   },
   "outputs": [],
   "source": [
    "show(layout([[rochester_ground_temp_heatmap, olympia_ground_temp_heatmap, ],[fresno_ground_temp_heatmap, miami_ground_temp_heatmap, ],]))"
   ]
  },
  {
   "cell_type": "markdown",
   "metadata": {
    "slideshow": {
     "slide_type": "subslide"
    }
   },
   "source": [
    "### Europe"
   ]
  },
  {
   "cell_type": "code",
   "execution_count": null,
   "metadata": {
    "jupyter": {
     "source_hidden": true
    },
    "slideshow": {
     "slide_type": "skip"
    }
   },
   "outputs": [],
   "source": [
    "max_temp = int(europe_data.air_temp.max() + 5)\n",
    "min_temp = int(europe_data.air_temp.min() - 5)\n",
    "\n",
    "london_ground_temp = figure(x_axis_type=\"datetime\",\n",
    "                                 title=\"London, United Kingdom\",x_axis_label=\"Date\",\n",
    "                                 y_axis_label=\"Temperature [ºC]\",\n",
    "                                 y_range=(min_temp, max_temp),\n",
    "                                 **FIGURE_TOOLS)\n",
    "london_ground_temp.add_tools(date_air_temp_ground_temp_hover_tool)\n",
    "l1 = london_ground_temp.line(x=\"timestamp\", y=\"air_temp\", color=color_map[\"london\"], alpha=0.4, source=europe_source, view=london_view)\n",
    "l2 = london_ground_temp.circle(x=\"timestamp\", y=\"ground_temp\", color=color_map[\"london\"], alpha=0.4, source=europe_source, view=london_view, size=1)\n",
    "london_ground_temp.add_layout(Legend(items=[(\"Air Temp\", [l1]), (\"Ground Temp\" , [l2])]), 'below')\n",
    "\n",
    "madrid_ground_temp = figure(x_axis_type=\"datetime\",\n",
    "                                 title=\"Madrid, Spain\",\n",
    "                                 x_axis_label=\"Date\",\n",
    "                                 y_axis_label=\"Temperature [ºC]\",\n",
    "                                 y_range=london_air_temp_and_fit.y_range,\n",
    "                                 x_range=london_air_temp_and_fit.x_range,\n",
    "                                 **FIGURE_TOOLS)\n",
    "madrid_ground_temp.add_tools(date_air_temp_ground_temp_hover_tool)\n",
    "l1 = madrid_ground_temp.line(x=\"timestamp\", y=\"air_temp\", color=color_map[\"madrid\"], alpha=0.4, source=europe_source, view=madrid_view)\n",
    "l2 = madrid_ground_temp.circle(x=\"timestamp\", y=\"ground_temp\", color=color_map[\"madrid\"], alpha=0.4, source=europe_source, view=madrid_view, size=1)\n",
    "madrid_ground_temp.add_layout(Legend(items=[(\"Air Temp\", [l1]), (\"Ground Temp\" , [l2])]), 'below')\n",
    "\n",
    "\n",
    "rome_ground_temp = figure(x_axis_type=\"datetime\",\n",
    "                               title=\"Rome, Italy\",\n",
    "                               x_axis_label=\"Date\",\n",
    "                               y_axis_label=\"Temperature [ºC]\",\n",
    "                               y_range=london_air_temp_and_fit.y_range,\n",
    "                               x_range=london_air_temp_and_fit.x_range,\n",
    "                               **FIGURE_TOOLS)\n",
    "rome_ground_temp.add_tools(date_air_temp_ground_temp_hover_tool)\n",
    "l1 = rome_ground_temp.line(x=\"timestamp\", y=\"air_temp\", color=color_map[\"rome\"], alpha=0.4, source=europe_source, view=rome_view)\n",
    "l2 = rome_ground_temp.circle(x=\"timestamp\", y=\"ground_temp\", color=color_map[\"rome\"], alpha=0.4, source=europe_source, view=rome_view, size=1)\n",
    "rome_ground_temp.add_layout(Legend(items=[(\"Air Temp\", [l1]), (\"Ground Temp\" , [l2])]), 'below')\n",
    "\n",
    "stuttgart_ground_temp = figure(x_axis_type=\"datetime\",\n",
    "                                    title=\"Stuttgart, Germany\",\n",
    "                                    x_axis_label=\"Date\",\n",
    "                                    y_axis_label=\"Temperature [ºC]\",\n",
    "                                    y_range=london_air_temp_and_fit.y_range,\n",
    "                                    x_range=london_air_temp_and_fit.x_range,\n",
    "                                    **FIGURE_TOOLS)\n",
    "stuttgart_ground_temp.add_tools(date_air_temp_ground_temp_hover_tool)\n",
    "l1 = stuttgart_ground_temp.line(x=\"timestamp\", y=\"air_temp\", color=color_map[\"stuttgart\"], alpha=0.4, source=europe_source, view=stuttgart_view)\n",
    "l2 = stuttgart_ground_temp.circle(x=\"timestamp\", y=\"ground_temp\", color=color_map[\"stuttgart\"], alpha=0.4, source=europe_source, view=stuttgart_view, size=1)\n",
    "stuttgart_ground_temp.add_layout(Legend(items=[(\"Air Temp\", [l1]), (\"Ground Temp\" , [l2])]), 'below')\n",
    "\n",
    "europe_ground_temp = figure(x_axis_type=\"datetime\",\n",
    "                            title=\"Ground temperature - 1m depth\",\n",
    "                            x_axis_label=\"Date\",\n",
    "                            y_axis_label=\"Temperature [ºC]\",\n",
    "                            y_range=london_air_temp_and_fit.y_range,\n",
    "                            x_range=london_air_temp_and_fit.x_range,\n",
    "                            **{**FIGURE_TOOLS, **FULL_WIDTH_FIGURE_TOOLS})\n",
    "europe_ground_temp.add_tools(date_ground_temp_hover_tool)\n",
    "l1 = europe_ground_temp.line(x=\"timestamp\", y=\"ground_temp\", color=color_map[\"london\"], alpha=0.7, source=europe_source, view=london_view, line_width=3)\n",
    "l2 = europe_ground_temp.line(x=\"timestamp\", y=\"ground_temp\", color=color_map[\"stuttgart\"], alpha=0.7, source=europe_source, view=stuttgart_view, line_width=3)\n",
    "l3 = europe_ground_temp.line(x=\"timestamp\", y=\"ground_temp\", color=color_map[\"rome\"], alpha=0.7, source=europe_source, view=rome_view, line_width=3)\n",
    "l4 = europe_ground_temp.line(x=\"timestamp\", y=\"ground_temp\", color=color_map[\"madrid\"], alpha=0.7, source=europe_source, view=madrid_view, line_width=3)\n",
    "europe_ground_temp.add_layout(Legend(items=[(\"London, UK\", [l1]), (\"Stuttgart, Germany\" , [l2]), (\"Rome, Italy\", [l3]), (\"Madrid, Spain\" , [l4])]), 'below')\n",
    "\n",
    "mapper = LinearColorMapper(palette=Spectral11, low=europe_data[\"ground_temp\"].min(), high=europe_data[\"ground_temp\"].max())\n",
    "color_bar = ColorBar(color_mapper=mapper, location=(0, 0))\n",
    "\n",
    "london_ground_temp_heatmap = heatmap(color_bar, title=\"London, UK - Ground Temperature - 1m depth\", x_axis_label=\"Day in year\", y_axis_label=\"Hour of day\", x_axis_type=\"datetime\", **FIGURE_TOOLS)\n",
    "london_ground_temp_heatmap.add_tools(date_hour_ground_temp_hover_tool)\n",
    "london_ground_temp_heatmap.rect(x=\"date\", y=\"hour\", width=ONE_DAY_WIDTH, height=1, source=europe_source, view=london_view, line_color=None, fill_color=transform('ground_temp', mapper))\n",
    "\n",
    "sttutgart_ground_temp_heatmap = heatmap(color_bar, title=\"Stuttgart, Germany - Ground Temperature - 1m depth\", x_axis_label=\"Day in year\", y_axis_label=\"Hour of day\", x_axis_type=\"datetime\", **FIGURE_TOOLS)\n",
    "sttutgart_ground_temp_heatmap.add_tools(date_hour_ground_temp_hover_tool)\n",
    "sttutgart_ground_temp_heatmap.rect(x=\"date\", y=\"hour\", width=ONE_DAY_WIDTH, height=1, source=europe_source, view=stuttgart_view, line_color=None, fill_color=transform('ground_temp', mapper))\n",
    "\n",
    "rome_ground_temp_heatmap = heatmap(color_bar, title=\"Rome, Italy - Ground Temperature - 1m depth\", x_axis_label=\"Day in year\", y_axis_label=\"Hour of day\", x_axis_type=\"datetime\", **FIGURE_TOOLS)\n",
    "rome_ground_temp_heatmap.add_tools(date_hour_ground_temp_hover_tool)\n",
    "rome_ground_temp_heatmap.rect(x=\"date\", y=\"hour\", width=ONE_DAY_WIDTH, height=1, source=europe_source, view=rome_view, line_color=None, fill_color=transform('ground_temp', mapper))\n",
    "\n",
    "madrid_ground_temp_heatmap = heatmap(color_bar, title=\"Madrid, Spain - Ground Temperature - 1m depth\", x_axis_label=\"Day in year\", y_axis_label=\"Hour of day\", x_axis_type=\"datetime\", **FIGURE_TOOLS)\n",
    "madrid_ground_temp_heatmap.add_tools(date_hour_ground_temp_hover_tool)\n",
    "madrid_ground_temp_heatmap.rect(x=\"date\", y=\"hour\", width=ONE_DAY_WIDTH, height=1, source=europe_source, view=madrid_view, line_color=None, fill_color=transform('ground_temp', mapper))\n",
    "\n"
   ]
  },
  {
   "cell_type": "code",
   "execution_count": null,
   "metadata": {},
   "outputs": [],
   "source": [
    "show(layout([[london_ground_temp, stuttgart_ground_temp,],[rome_ground_temp, madrid_ground_temp],]))"
   ]
  },
  {
   "cell_type": "code",
   "execution_count": null,
   "metadata": {
    "slideshow": {
     "slide_type": "subslide"
    }
   },
   "outputs": [],
   "source": [
    "show(layout([[europe_ground_temp],]))"
   ]
  },
  {
   "cell_type": "code",
   "execution_count": null,
   "metadata": {
    "slideshow": {
     "slide_type": "subslide"
    }
   },
   "outputs": [],
   "source": [
    "show(layout([[london_ground_temp_heatmap, sttutgart_ground_temp_heatmap],[rome_ground_temp_heatmap, madrid_ground_temp_heatmap],]))"
   ]
  },
  {
   "cell_type": "markdown",
   "metadata": {
    "slideshow": {
     "slide_type": "slide"
    }
   },
   "source": [
    "## Aquifer Temperature"
   ]
  },
  {
   "cell_type": "code",
   "execution_count": null,
   "metadata": {
    "jupyter": {
     "source_hidden": true
    },
    "slideshow": {
     "slide_type": "skip"
    }
   },
   "outputs": [],
   "source": [
    "aquifer_temp_hover_tool = HoverTool(tooltips=[('City, Statistic', '@x'),\n",
    "                                              ('Value', '@counts{%0.2f ºC}'),],\n",
    "                                    formatters={'@counts': 'printf',\n",
    "                                                '@x': 'printf',})"
   ]
  },
  {
   "cell_type": "markdown",
   "metadata": {
    "slideshow": {
     "slide_type": "subslide"
    }
   },
   "source": [
    "### USA"
   ]
  },
  {
   "cell_type": "code",
   "execution_count": null,
   "metadata": {
    "jupyter": {
     "source_hidden": true
    },
    "slideshow": {
     "slide_type": "skip"
    }
   },
   "outputs": [],
   "source": [
    "cities = [\"Miami, FL\", \"Fresno, CA\", \"Olympia, WA\", \"Rochester, NY\"]\n",
    "statistics = ['Aquifer Temp','Mean Air Temp']\n",
    "mdata = {'cities' : cities,\n",
    "         'Aquifer Temp': [miami.aquifer_temp.head(1).item(), \n",
    "                          fresno.aquifer_temp.head(1).item(),\n",
    "                          olympia.aquifer_temp.head(1).item(), \n",
    "                          rochester.aquifer_temp.head(1).item()],\n",
    "         'Mean Air Temp': [miami.air_temp.mean(), \n",
    "                           fresno.air_temp.mean(),\n",
    "                           olympia.air_temp.mean(), \n",
    "                           rochester.air_temp.mean()],}\n",
    "\n",
    "x=[(city, stat) for city in cities for stat in statistics]\n",
    "counts = sum(zip(mdata['Aquifer Temp'], mdata['Mean Air Temp']), ())\n",
    "\n",
    "source = ColumnDataSource(data=dict(x=x, \n",
    "                                    counts=counts, \n",
    "                                    color=[color_map[\"miami\"], color_map[\"miami\"], \n",
    "                                           color_map[\"fresno\"], color_map[\"fresno\"],\n",
    "                                           color_map[\"olympia\"], color_map[\"olympia\"], \n",
    "                                           color_map[\"rochester\"], color_map[\"rochester\"]],\n",
    "                                   alpha=[0.8, 0.4,\n",
    "                                          0.8, 0.4,\n",
    "                                          0.8, 0.4,\n",
    "                                          0.8, 0.4,]))\n",
    "\n",
    "aquifer_temp = figure(x_range=FactorRange(*x), \n",
    "                      title=\"Aquifer & mean air temperatures across cities in the USA\",\n",
    "                      y_axis_label=\"Temperature [ºC]\",\n",
    "                      **{**FIGURE_TOOLS, **FULL_FIGURE_TOOLS})\n",
    "aquifer_temp.add_tools(aquifer_temp_hover_tool)\n",
    "aquifer_temp.vbar(x='x', top='counts', fill_color='color', alpha=\"alpha\", width=0.9, source=source)\n",
    "aquifer_temp.y_range.start = 0\n",
    "aquifer_temp.x_range.range_padding = 0.1\n",
    "aquifer_temp.xaxis.major_label_orientation = .9\n",
    "aquifer_temp.xgrid.grid_line_color = None\n"
   ]
  },
  {
   "cell_type": "code",
   "execution_count": null,
   "metadata": {},
   "outputs": [],
   "source": [
    "show(aquifer_temp)"
   ]
  },
  {
   "cell_type": "markdown",
   "metadata": {
    "slideshow": {
     "slide_type": "subslide"
    }
   },
   "source": [
    "### Europe"
   ]
  },
  {
   "cell_type": "code",
   "execution_count": null,
   "metadata": {
    "jupyter": {
     "source_hidden": true
    },
    "slideshow": {
     "slide_type": "skip"
    }
   },
   "outputs": [],
   "source": [
    "cities = [\"London, UK\", \"Stuttgart, Germany\", \"Madrid, Spain\", \"Rome, Italy\"]\n",
    "statistics = ['Aquifer Temp','Mean Air Temp']\n",
    "mdata = {'cities' : cities,\n",
    "         'Aquifer Temp': [london.aquifer_temp.head(1).item(), \n",
    "                          stuttgart.aquifer_temp.head(1).item(),\n",
    "                          madrid.aquifer_temp.head(1).item(), \n",
    "                          rome.aquifer_temp.head(1).item()],\n",
    "         'Mean Air Temp': [london.air_temp.mean(), \n",
    "                           stuttgart.air_temp.mean(),\n",
    "                           madrid.air_temp.mean(), \n",
    "                           rome.air_temp.mean()],}\n",
    "\n",
    "x = [(city, stat) for city in cities for stat in statistics]\n",
    "counts = sum(zip(mdata['Aquifer Temp'], mdata['Mean Air Temp']), ())\n",
    "\n",
    "source = ColumnDataSource(data=dict(x=x, \n",
    "                                    counts=counts, \n",
    "                                    color=[color_map[\"london\"], color_map[\"london\"], \n",
    "                                           color_map[\"stuttgart\"], color_map[\"stuttgart\"],\n",
    "                                           color_map[\"madrid\"], color_map[\"madrid\"], \n",
    "                                           color_map[\"rome\"], color_map[\"rome\"]],\n",
    "                                   alpha=[0.8, 0.4,\n",
    "                                          0.8, 0.4,\n",
    "                                          0.8, 0.4,\n",
    "                                          0.8, 0.4,]))\n",
    "\n",
    "europe_aquifer_temp = figure(x_range=FactorRange(*x), \n",
    "                             title=\"Aquifer & mean air temperatures across cities in Europe\",\n",
    "                             y_axis_label=\"Temperature [ºC]\",\n",
    "                             **{**FIGURE_TOOLS, **FULL_FIGURE_TOOLS})\n",
    "europe_aquifer_temp.add_tools(aquifer_temp_hover_tool)\n",
    "europe_aquifer_temp.vbar(x='x', top='counts', fill_color='color', alpha=\"alpha\", width=0.9, source=source)\n",
    "europe_aquifer_temp.y_range.start = 0\n",
    "europe_aquifer_temp.x_range.range_padding = 0.1\n",
    "europe_aquifer_temp.xaxis.major_label_orientation = .9\n",
    "europe_aquifer_temp.xgrid.grid_line_color = None\n"
   ]
  },
  {
   "cell_type": "code",
   "execution_count": null,
   "metadata": {},
   "outputs": [],
   "source": [
    "show(europe_aquifer_temp)"
   ]
  },
  {
   "cell_type": "markdown",
   "metadata": {
    "slideshow": {
     "slide_type": "slide"
    }
   },
   "source": [
    "## Thermal load by season and hour of the day"
   ]
  },
  {
   "cell_type": "markdown",
   "metadata": {
    "slideshow": {
     "slide_type": "subslide"
    }
   },
   "source": [
    "### USA"
   ]
  },
  {
   "cell_type": "code",
   "execution_count": null,
   "metadata": {
    "jupyter": {
     "source_hidden": true
    },
    "slideshow": {
     "slide_type": "skip"
    }
   },
   "outputs": [],
   "source": [
    "hours = range(0,24)\n",
    "seasons = [\"winter\", \"spring\", \"summer\", \"fall\"]\n",
    "cities = [NOAA2010Dataset.MIAMI_FL, NOAA2010Dataset.FRESNO_CA, NOAA2010Dataset.OLYMPIA_WA, NOAA2010Dataset.ROCHESTER_NY]\n",
    "\n",
    "total_consumption_average_per_hour = dict()\n",
    "thermal_load_season_tool_by_city = dict()\n",
    "for city in cities:\n",
    "    for season in seasons:\n",
    "        hours_for_city_and_season = np.empty(shape=(24,), dtype=np.float32)\n",
    "        \n",
    "        for hour in hours:\n",
    "            hours_for_city_and_season[hour] = us_data[(us_data.city_key == city) & (us_data.season == season) & (us_data.hour == hour)][\"Total_consumption\"].mean() #/ 1000\n",
    "            \n",
    "        total_consumption_average_per_hour[f\"{city}_{season}\"] = hours_for_city_and_season\n",
    "        thermal_load_season_tool_by_city[city] = HoverTool(tooltips=[(\"Hour\", \"@hour{%d}\"),\n",
    "                                                                     ('TL Winter', f'@{city}_winter' + '{%0.2f MW}'),\n",
    "                                                                     ('TL Spring', f'@{city}_spring' + '{%0.2f MW}'),\n",
    "                                                                     ('TL Summer', f'@{city}_summer' + '{%0.2f MW}'),\n",
    "                                                                     ('TL Fall', f'@{city}_fall' + '{%0.2f MW}'),],\n",
    "                                                           formatters={'@hour': 'printf',\n",
    "                                                                       f'@{city}_winter': 'printf',\n",
    "                                                                       f'@{city}_spring': 'printf',\n",
    "                                                                       f'@{city}_summer': 'printf',\n",
    "                                                                       f'@{city}_fall': \"printf\"},)\n",
    "\n",
    "x=hours\n",
    "\n",
    "usa_thermal_load_season_source = ColumnDataSource({\"hour\": hours, **total_consumption_average_per_hour})"
   ]
  },
  {
   "cell_type": "code",
   "execution_count": null,
   "metadata": {
    "jupyter": {
     "source_hidden": true
    },
    "slideshow": {
     "slide_type": "skip"
    }
   },
   "outputs": [],
   "source": [
    "miami_thermal_load_by_seasons = figure(title=\"Miami, FL\",\n",
    "                                       x_axis_label=\"Hour of the day\",\n",
    "                                       y_axis_label=\"Thermal load [MW]\",\n",
    "                                       **FIGURE_TOOLS,\n",
    "                                      )\n",
    "miami_thermal_load_by_seasons.add_tools(thermal_load_season_tool_by_city[NOAA2010Dataset.MIAMI_FL])\n",
    "l11 = miami_thermal_load_by_seasons.line(x=\"hour\", y=f\"{NOAA2010Dataset.MIAMI_FL}_winter\", source=usa_thermal_load_season_source, color=color_map[\"winter\"], alpha=0.7, line_width=3)\n",
    "l12 = miami_thermal_load_by_seasons.square(x=\"hour\", y=f\"{NOAA2010Dataset.MIAMI_FL}_winter\", source=usa_thermal_load_season_source, color=color_map[\"winter\"], alpha=0.7, size=10)\n",
    "l21 = miami_thermal_load_by_seasons.line(x=\"hour\", y=f\"{NOAA2010Dataset.MIAMI_FL}_spring\", source=usa_thermal_load_season_source, color=color_map[\"spring\"], alpha=0.7,  line_width=3)\n",
    "l22 = miami_thermal_load_by_seasons.circle(x=\"hour\", y=f\"{NOAA2010Dataset.MIAMI_FL}_spring\", source=usa_thermal_load_season_source, color=color_map[\"spring\"], alpha=0.7,  size=10)\n",
    "l31 = miami_thermal_load_by_seasons.line(x=\"hour\", y=f\"{NOAA2010Dataset.MIAMI_FL}_summer\", source=usa_thermal_load_season_source, color=color_map[\"summer\"], alpha=0.7,  line_width=3)\n",
    "l32 = miami_thermal_load_by_seasons.diamond(x=\"hour\", y=f\"{NOAA2010Dataset.MIAMI_FL}_summer\", source=usa_thermal_load_season_source, color=color_map[\"summer\"], alpha=0.7,  size=10)\n",
    "l41 = miami_thermal_load_by_seasons.line(x=\"hour\", y=f\"{NOAA2010Dataset.MIAMI_FL}_fall\", source=usa_thermal_load_season_source, color=color_map[\"fall\"], alpha=0.7, line_width=3)\n",
    "l42 = miami_thermal_load_by_seasons.cross(x=\"hour\", y=f\"{NOAA2010Dataset.MIAMI_FL}_fall\", source=usa_thermal_load_season_source, color=color_map[\"fall\"], alpha=0.7, size=10)\n",
    "miami_thermal_load_by_seasons.add_layout(Legend(items=[(\"Winter 2010\", [l11, l12]), (\"Spring 2010\", [l21, l22]), (\"Summer 2010\", [l31, l32]), (\"Fall 2010\", [l41, l42]),],), \"below\")\n",
    "\n",
    "\n",
    "rochester_thermal_load_by_seasons = figure(title=\"Rochester, NY\",\n",
    "                                           y_range=miami_thermal_load_by_seasons.y_range,\n",
    "                                           x_range=miami_thermal_load_by_seasons.x_range,\n",
    "                                           x_axis_label=\"Hour of the day\",\n",
    "                                           y_axis_label=\"Thermal load [MW]\",\n",
    "                                           **FIGURE_TOOLS,\n",
    "                                          )\n",
    "rochester_thermal_load_by_seasons.add_tools(thermal_load_season_tool_by_city[NOAA2010Dataset.ROCHESTER_NY])\n",
    "l11 = rochester_thermal_load_by_seasons.line(x=\"hour\", y=f\"{NOAA2010Dataset.ROCHESTER_NY}_winter\", source=usa_thermal_load_season_source, color=color_map[\"winter\"], alpha=0.7, line_width=3)\n",
    "l12 = rochester_thermal_load_by_seasons.square(x=\"hour\", y=f\"{NOAA2010Dataset.ROCHESTER_NY}_winter\", source=usa_thermal_load_season_source, color=color_map[\"winter\"], alpha=0.7, size=10)\n",
    "l21 = rochester_thermal_load_by_seasons.line(x=\"hour\", y=f\"{NOAA2010Dataset.ROCHESTER_NY}_spring\", source=usa_thermal_load_season_source, color=color_map[\"spring\"], alpha=0.7,  line_width=3)\n",
    "l22 = rochester_thermal_load_by_seasons.circle(x=\"hour\", y=f\"{NOAA2010Dataset.ROCHESTER_NY}_spring\", source=usa_thermal_load_season_source, color=color_map[\"spring\"], alpha=0.7,  size=10)\n",
    "l31 = rochester_thermal_load_by_seasons.line(x=\"hour\", y=f\"{NOAA2010Dataset.ROCHESTER_NY}_summer\", source=usa_thermal_load_season_source, color=color_map[\"summer\"], alpha=0.7,  line_width=3)\n",
    "l32 = rochester_thermal_load_by_seasons.diamond(x=\"hour\", y=f\"{NOAA2010Dataset.ROCHESTER_NY}_summer\", source=usa_thermal_load_season_source, color=color_map[\"summer\"], alpha=0.7,  size=10)\n",
    "l41 = rochester_thermal_load_by_seasons.line(x=\"hour\", y=f\"{NOAA2010Dataset.ROCHESTER_NY}_fall\", source=usa_thermal_load_season_source, color=color_map[\"fall\"], alpha=0.7,  line_width=3)\n",
    "l42 = rochester_thermal_load_by_seasons.cross(x=\"hour\", y=f\"{NOAA2010Dataset.ROCHESTER_NY}_fall\", source=usa_thermal_load_season_source, color=color_map[\"fall\"], alpha=0.7, size=10)\n",
    "rochester_thermal_load_by_seasons.add_layout(Legend(items=[(\"Winter 2010\", [l11, l12]), (\"Spring 2010\", [l21, l22]), (\"Summer 2010\", [l31, l32]), (\"Fall 2010\", [l41, l42]),],), \"below\")\n",
    "\n",
    "\n",
    "olympia_thermal_load_by_seasons = figure(title=\"Olympia, WA\",\n",
    "                                         y_range=miami_thermal_load_by_seasons.y_range,\n",
    "                                         x_range=miami_thermal_load_by_seasons.x_range,\n",
    "                                         x_axis_label=\"Hour of the day\",\n",
    "                                         y_axis_label=\"Thermal load [MW]\",\n",
    "                                         **FIGURE_TOOLS,\n",
    "                                      )\n",
    "olympia_thermal_load_by_seasons.add_tools(thermal_load_season_tool_by_city[NOAA2010Dataset.OLYMPIA_WA])\n",
    "l11 = olympia_thermal_load_by_seasons.line(x=\"hour\", y=f\"{NOAA2010Dataset.OLYMPIA_WA}_winter\", source=usa_thermal_load_season_source, color=color_map[\"winter\"], alpha=0.7, line_width=3)\n",
    "l12 = olympia_thermal_load_by_seasons.square(x=\"hour\", y=f\"{NOAA2010Dataset.OLYMPIA_WA}_winter\", source=usa_thermal_load_season_source, color=color_map[\"winter\"], alpha=0.7, size=10)\n",
    "l21 = olympia_thermal_load_by_seasons.line(x=\"hour\", y=f\"{NOAA2010Dataset.OLYMPIA_WA}_spring\", source=usa_thermal_load_season_source, color=color_map[\"spring\"], alpha=0.7,  line_width=3)\n",
    "l22 = olympia_thermal_load_by_seasons.circle(x=\"hour\", y=f\"{NOAA2010Dataset.OLYMPIA_WA}_spring\", source=usa_thermal_load_season_source, color=color_map[\"spring\"], alpha=0.7,  size=10)\n",
    "l31 = olympia_thermal_load_by_seasons.line(x=\"hour\", y=f\"{NOAA2010Dataset.OLYMPIA_WA}_summer\", source=usa_thermal_load_season_source, color=color_map[\"summer\"], alpha=0.7,  line_width=3)\n",
    "l32 = olympia_thermal_load_by_seasons.diamond(x=\"hour\", y=f\"{NOAA2010Dataset.OLYMPIA_WA}_summer\", source=usa_thermal_load_season_source, color=color_map[\"summer\"], alpha=0.7,  size=10)\n",
    "l41 = olympia_thermal_load_by_seasons.line(x=\"hour\", y=f\"{NOAA2010Dataset.OLYMPIA_WA}_fall\", source=usa_thermal_load_season_source, color=color_map[\"fall\"], alpha=0.7,  line_width=3)\n",
    "l42 = olympia_thermal_load_by_seasons.cross(x=\"hour\", y=f\"{NOAA2010Dataset.OLYMPIA_WA}_fall\", source=usa_thermal_load_season_source, color=color_map[\"fall\"], alpha=0.7, size=10)\n",
    "olympia_thermal_load_by_seasons.add_layout(Legend(items=[(\"Winter 2010\", [l11, l12]), (\"Spring 2010\", [l21, l22]), (\"Summer 2010\", [l31, l32]), (\"Fall 2010\", [l41, l42]),],), \"below\")\n",
    "\n",
    "fresno_thermal_load_by_seasons = figure(title=\"Fresno, CA\",\n",
    "                                        y_range=miami_thermal_load_by_seasons.y_range,\n",
    "                                        x_range=miami_thermal_load_by_seasons.x_range,\n",
    "                                        x_axis_label=\"Hour of the day\",\n",
    "                                        y_axis_label=\"Thermal load [MW]\",\n",
    "                                        **FIGURE_TOOLS,\n",
    "                                       )\n",
    "fresno_thermal_load_by_seasons.add_tools(thermal_load_season_tool_by_city[NOAA2010Dataset.FRESNO_CA])\n",
    "l11 = fresno_thermal_load_by_seasons.line(x=\"hour\", y=f\"{NOAA2010Dataset.FRESNO_CA}_winter\", source=usa_thermal_load_season_source, color=color_map[\"winter\"], alpha=0.7, line_width=3)\n",
    "l12 = fresno_thermal_load_by_seasons.square(x=\"hour\", y=f\"{NOAA2010Dataset.FRESNO_CA}_winter\", source=usa_thermal_load_season_source, color=color_map[\"winter\"], alpha=0.7, size=10)\n",
    "l21 = fresno_thermal_load_by_seasons.line(x=\"hour\", y=f\"{NOAA2010Dataset.FRESNO_CA}_spring\", source=usa_thermal_load_season_source, color=color_map[\"spring\"], alpha=0.7,  line_width=3)\n",
    "l22 = fresno_thermal_load_by_seasons.circle(x=\"hour\", y=f\"{NOAA2010Dataset.FRESNO_CA}_spring\", source=usa_thermal_load_season_source, color=color_map[\"spring\"], alpha=0.7,  size=10)\n",
    "l31 = fresno_thermal_load_by_seasons.line(x=\"hour\", y=f\"{NOAA2010Dataset.FRESNO_CA}_summer\", source=usa_thermal_load_season_source, color=color_map[\"summer\"], alpha=0.7,  line_width=3)\n",
    "l32 = fresno_thermal_load_by_seasons.diamond(x=\"hour\", y=f\"{NOAA2010Dataset.FRESNO_CA}_summer\", source=usa_thermal_load_season_source, color=color_map[\"summer\"], alpha=0.7,  size=10)\n",
    "l41 = fresno_thermal_load_by_seasons.line(x=\"hour\", y=f\"{NOAA2010Dataset.FRESNO_CA}_fall\", source=usa_thermal_load_season_source, color=color_map[\"fall\"], alpha=0.7,  line_width=3)\n",
    "l42 = fresno_thermal_load_by_seasons.cross(x=\"hour\", y=f\"{NOAA2010Dataset.FRESNO_CA}_fall\", source=usa_thermal_load_season_source, color=color_map[\"fall\"], alpha=0.7, size=10)\n",
    "fresno_thermal_load_by_seasons.add_layout(Legend(items=[(\"Winter 2010\", [l11, l12]), (\"Spring 2010\", [l21, l22]), (\"Summer 2010\", [l31, l32]), (\"Fall 2010\", [l41, l42]),],), \"below\")\n"
   ]
  },
  {
   "cell_type": "code",
   "execution_count": null,
   "metadata": {},
   "outputs": [],
   "source": [
    "show(layout([[rochester_thermal_load_by_seasons, olympia_thermal_load_by_seasons ],[fresno_thermal_load_by_seasons, miami_thermal_load_by_seasons,]])) "
   ]
  },
  {
   "cell_type": "markdown",
   "metadata": {
    "slideshow": {
     "slide_type": "subslide"
    }
   },
   "source": [
    "### Europe"
   ]
  },
  {
   "cell_type": "code",
   "execution_count": null,
   "metadata": {
    "jupyter": {
     "source_hidden": true
    },
    "slideshow": {
     "slide_type": "skip"
    }
   },
   "outputs": [],
   "source": [
    "hours = range(0,24)\n",
    "seasons = [\"winter\", \"spring\", \"summer\", \"fall\"]\n",
    "cities = [InsPireDataset.LONDON_UK, InsPireDataset.MADRID_SPA, InsPireDataset.ROME_IT, InsPireDataset.STUTTGART_GER]\n",
    "\n",
    "total_consumption_average_per_hour = dict()\n",
    "for city in cities:\n",
    "    \n",
    "    for season in seasons:\n",
    "        hours_for_city_and_season = np.empty(shape=(24,), dtype=np.float32)\n",
    "        \n",
    "        for hour in hours:\n",
    "            hours_for_city_and_season[hour] = europe_data[(europe_data.city_key == city) & (europe_data.season == season) & (europe_data.hour == hour)][\"Total_consumption\"].mean() #/ 1000.00\n",
    "            \n",
    "        total_consumption_average_per_hour[f\"{city}_{season}\"] = hours_for_city_and_season\n",
    "        thermal_load_season_tool_by_city[city] = HoverTool(tooltips=[(\"Hour\", \"@hour{%d}\"),\n",
    "                                                                     ('TL Winter', f'@{city}_winter' + '{%0.2f MW}'),\n",
    "                                                                     ('TL Spring', f'@{city}_spring' + '{%0.2f MW}'),\n",
    "                                                                     ('TL Summer', f'@{city}_summer' + '{%0.2f MW}'),\n",
    "                                                                     ('TL Fall', f'@{city}_fall' + '{%0.2f MW}'),],\n",
    "                                                           formatters={'@hour': 'printf',\n",
    "                                                                       f'@{city}_winter': 'printf',\n",
    "                                                                       f'@{city}_spring': 'printf',\n",
    "                                                                       f'@{city}_summer': 'printf',\n",
    "                                                                       f'@{city}_fall': \"printf\"},)\n",
    "\n",
    "europe_thermal_load_season_source = ColumnDataSource({\"hour\": hours, **total_consumption_average_per_hour})\n"
   ]
  },
  {
   "cell_type": "code",
   "execution_count": null,
   "metadata": {
    "jupyter": {
     "source_hidden": true
    },
    "slideshow": {
     "slide_type": "skip"
    }
   },
   "outputs": [],
   "source": [
    "london_seasonality_total_consumption = figure(title=\"London, United Kingdom\",\n",
    "                                              x_axis_label=\"Hour of the day\",\n",
    "                                              y_axis_label=\"Thermal load [MW]\",\n",
    "                                              **FIGURE_TOOLS,\n",
    "                                             )\n",
    "london_seasonality_total_consumption.add_tools(thermal_load_season_tool_by_city[InsPireDataset.LONDON_UK])\n",
    "l11 = london_seasonality_total_consumption.line(x=\"hour\", y=f\"{InsPireDataset.LONDON_UK}_winter\", source=europe_thermal_load_season_source, color=color_map[\"winter\"], alpha=0.7, line_width=3)\n",
    "l12 = london_seasonality_total_consumption.square(x=\"hour\", y=f\"{InsPireDataset.LONDON_UK}_winter\", source=europe_thermal_load_season_source, color=color_map[\"winter\"], alpha=0.7, size=10)\n",
    "l21 = london_seasonality_total_consumption.line(x=\"hour\", y=f\"{InsPireDataset.LONDON_UK}_spring\", source=europe_thermal_load_season_source, color=color_map[\"spring\"], alpha=0.7,  line_width=3)\n",
    "l22 = london_seasonality_total_consumption.circle(x=\"hour\", y=f\"{InsPireDataset.LONDON_UK}_spring\", source=europe_thermal_load_season_source, color=color_map[\"spring\"], alpha=0.7,  size=10)\n",
    "l31 = london_seasonality_total_consumption.line(x=\"hour\", y=f\"{InsPireDataset.LONDON_UK}_summer\", source=europe_thermal_load_season_source, color=color_map[\"summer\"], alpha=0.7,  line_width=3)\n",
    "l32 = london_seasonality_total_consumption.diamond(x=\"hour\", y=f\"{InsPireDataset.LONDON_UK}_summer\", source=europe_thermal_load_season_source, color=color_map[\"summer\"], alpha=0.7,  size=10)\n",
    "l41 = london_seasonality_total_consumption.line(x=\"hour\", y=f\"{InsPireDataset.LONDON_UK}_fall\", source=europe_thermal_load_season_source, color=color_map[\"fall\"], alpha=0.7,  line_width=3)\n",
    "l42 = london_seasonality_total_consumption.cross(x=\"hour\", y=f\"{InsPireDataset.LONDON_UK}_fall\", source=europe_thermal_load_season_source, color=color_map[\"fall\"], alpha=0.7, size=10)\n",
    "london_seasonality_total_consumption.add_layout(Legend(items=[(\"Winter 2017\", [l11, l12]), (\"Spring 2017\", [l21, l22]), (\"Summer 2017\", [l31, l32]), (\"Fall 2017\", [l41, l42]),],), \"below\")\n",
    "\n",
    "\n",
    "stuttgart_seasonality_total_consumption = figure(title=\"Stuttgart, Germany\",\n",
    "                                                 y_range=london_seasonality_total_consumption.y_range,\n",
    "                                                 x_range=london_seasonality_total_consumption.x_range,\n",
    "                                                 x_axis_label=\"Hour of the day\",\n",
    "                                                 y_axis_label=\"Thermal load [MW]\",\n",
    "                                                 **FIGURE_TOOLS,\n",
    "                                                )\n",
    "stuttgart_seasonality_total_consumption.add_tools(thermal_load_season_tool_by_city[InsPireDataset.STUTTGART_GER])\n",
    "l11 = stuttgart_seasonality_total_consumption.line(x=\"hour\", y=f\"{InsPireDataset.STUTTGART_GER}_winter\", source=europe_thermal_load_season_source, color=color_map[\"winter\"], alpha=0.7, line_width=3)\n",
    "l12 = stuttgart_seasonality_total_consumption.square(x=\"hour\", y=f\"{InsPireDataset.STUTTGART_GER}_winter\", source=europe_thermal_load_season_source, color=color_map[\"winter\"], alpha=0.7, size=10)\n",
    "l21 = stuttgart_seasonality_total_consumption.line(x=\"hour\", y=f\"{InsPireDataset.STUTTGART_GER}_spring\", source=europe_thermal_load_season_source, color=color_map[\"spring\"], alpha=0.7,  line_width=3)\n",
    "l22 = stuttgart_seasonality_total_consumption.circle(x=\"hour\", y=f\"{InsPireDataset.STUTTGART_GER}_spring\", source=europe_thermal_load_season_source, color=color_map[\"spring\"], alpha=0.7,  size=10)\n",
    "l31 = stuttgart_seasonality_total_consumption.line(x=\"hour\", y=f\"{InsPireDataset.STUTTGART_GER}_summer\", source=europe_thermal_load_season_source, color=color_map[\"summer\"], alpha=0.7,  line_width=3)\n",
    "l32 = stuttgart_seasonality_total_consumption.diamond(x=\"hour\", y=f\"{InsPireDataset.STUTTGART_GER}_summer\", source=europe_thermal_load_season_source, color=color_map[\"summer\"], alpha=0.7,  size=10)\n",
    "l41 = stuttgart_seasonality_total_consumption.line(x=\"hour\", y=f\"{InsPireDataset.STUTTGART_GER}_fall\", source=europe_thermal_load_season_source, color=color_map[\"fall\"], alpha=0.7,  line_width=3)\n",
    "l42 = stuttgart_seasonality_total_consumption.cross(x=\"hour\", y=f\"{InsPireDataset.STUTTGART_GER}_fall\", source=europe_thermal_load_season_source, color=color_map[\"fall\"], alpha=0.7, size=10)\n",
    "stuttgart_seasonality_total_consumption.add_layout(Legend(items=[(\"Winter 2017\", [l11, l12]), (\"Spring 2017\", [l21, l22]), (\"Summer 2017\", [l31, l32]), (\"Fall 2017\", [l41, l42]),],), \"below\")\n",
    "\n",
    "\n",
    "rome_seasonality_total_consumption = figure(title=\"Rome, Italy\",\n",
    "                                            y_range=london_seasonality_total_consumption.y_range,\n",
    "                                            x_range=london_seasonality_total_consumption.x_range,\n",
    "                                            x_axis_label=\"Hour of the day\",\n",
    "                                            y_axis_label=\"Thermal load [MW]\",\n",
    "                                            **FIGURE_TOOLS,\n",
    "                                           )\n",
    "rome_seasonality_total_consumption.add_tools(thermal_load_season_tool_by_city[InsPireDataset.ROME_IT])\n",
    "l11 = rome_seasonality_total_consumption.line(x=\"hour\", y=f\"{InsPireDataset.ROME_IT}_winter\", source=europe_thermal_load_season_source, color=color_map[\"winter\"], alpha=0.7, line_width=3)\n",
    "l12 = rome_seasonality_total_consumption.square(x=\"hour\", y=f\"{InsPireDataset.ROME_IT}_winter\", source=europe_thermal_load_season_source, color=color_map[\"winter\"], alpha=0.7, size=10)\n",
    "l21 = rome_seasonality_total_consumption.line(x=\"hour\", y=f\"{InsPireDataset.ROME_IT}_spring\", source=europe_thermal_load_season_source, color=color_map[\"spring\"], alpha=0.7,  line_width=3)\n",
    "l22 = rome_seasonality_total_consumption.circle(x=\"hour\", y=f\"{InsPireDataset.ROME_IT}_spring\", source=europe_thermal_load_season_source, color=color_map[\"spring\"], alpha=0.7,  size=10)\n",
    "l31 = rome_seasonality_total_consumption.line(x=\"hour\", y=f\"{InsPireDataset.ROME_IT}_summer\", source=europe_thermal_load_season_source, color=color_map[\"summer\"], alpha=0.7,  line_width=3)\n",
    "l32 = rome_seasonality_total_consumption.diamond(x=\"hour\", y=f\"{InsPireDataset.ROME_IT}_summer\", source=europe_thermal_load_season_source, color=color_map[\"summer\"], alpha=0.7,  size=10)\n",
    "l41 = rome_seasonality_total_consumption.line(x=\"hour\", y=f\"{InsPireDataset.ROME_IT}_fall\", source=europe_thermal_load_season_source, color=color_map[\"fall\"], alpha=0.7,  line_width=3)\n",
    "l42 = rome_seasonality_total_consumption.cross(x=\"hour\", y=f\"{InsPireDataset.ROME_IT}_fall\", source=europe_thermal_load_season_source, color=color_map[\"fall\"], alpha=0.7, size=10)\n",
    "rome_seasonality_total_consumption.add_layout(Legend(items=[(\"Winter 2017\", [l11, l12]), (\"Spring 2017\", [l21, l22]), (\"Summer 2017\", [l31, l32]), (\"Fall 2017\", [l41, l42]),],), \"below\")\n",
    "\n",
    "\n",
    "madrid_seasonality_total_consumption = figure(title=\" Madrid, Spain\",\n",
    "                                              y_range=london_seasonality_total_consumption.y_range,\n",
    "                                              x_range=london_seasonality_total_consumption.x_range,\n",
    "                                              x_axis_label=\"Hour of the day\",\n",
    "                                              y_axis_label=\"Thermal load [MW]\",\n",
    "                                              **FIGURE_TOOLS,\n",
    "                                             )\n",
    "madrid_seasonality_total_consumption.add_tools(thermal_load_season_tool_by_city[InsPireDataset.MADRID_SPA])\n",
    "l11 = madrid_seasonality_total_consumption.line(x=\"hour\", y=f\"{InsPireDataset.MADRID_SPA}_winter\", source=europe_thermal_load_season_source, color=color_map[\"winter\"], alpha=0.7, line_width=3)\n",
    "l12 = madrid_seasonality_total_consumption.square(x=\"hour\", y=f\"{InsPireDataset.MADRID_SPA}_winter\", source=europe_thermal_load_season_source, color=color_map[\"winter\"], alpha=0.7, size=10)\n",
    "l21 = madrid_seasonality_total_consumption.line(x=\"hour\", y=f\"{InsPireDataset.MADRID_SPA}_spring\", source=europe_thermal_load_season_source, color=color_map[\"spring\"], alpha=0.7,  line_width=3)\n",
    "l22 = madrid_seasonality_total_consumption.circle(x=\"hour\", y=f\"{InsPireDataset.MADRID_SPA}_spring\", source=europe_thermal_load_season_source, color=color_map[\"spring\"], alpha=0.7,  size=10)\n",
    "l31 = madrid_seasonality_total_consumption.line(x=\"hour\", y=f\"{InsPireDataset.MADRID_SPA}_summer\", source=europe_thermal_load_season_source, color=color_map[\"summer\"], alpha=0.7,  line_width=3)\n",
    "l32 = madrid_seasonality_total_consumption.diamond(x=\"hour\", y=f\"{InsPireDataset.MADRID_SPA}_summer\", source=europe_thermal_load_season_source, color=color_map[\"summer\"], alpha=0.7,  size=10)\n",
    "l41 = madrid_seasonality_total_consumption.line(x=\"hour\", y=f\"{InsPireDataset.MADRID_SPA}_fall\", source=europe_thermal_load_season_source, color=color_map[\"fall\"], alpha=0.7,  line_width=3)\n",
    "l42 = madrid_seasonality_total_consumption.cross(x=\"hour\", y=f\"{InsPireDataset.MADRID_SPA}_fall\", source=europe_thermal_load_season_source, color=color_map[\"fall\"], alpha=0.7, size=10)\n",
    "madrid_seasonality_total_consumption.add_layout(Legend(items=[(\"Winter 2017\", [l11, l12]), (\"Spring 2017\", [l21, l22]), (\"Summer 2017\", [l31, l32]), (\"Fall 2017\", [l41, l42]),],), \"below\")\n"
   ]
  },
  {
   "cell_type": "code",
   "execution_count": null,
   "metadata": {
    "slideshow": {
     "slide_type": "-"
    }
   },
   "outputs": [],
   "source": [
    "show(layout([[london_seasonality_total_consumption, stuttgart_seasonality_total_consumption],[rome_seasonality_total_consumption, madrid_seasonality_total_consumption]])) "
   ]
  },
  {
   "cell_type": "markdown",
   "metadata": {
    "slideshow": {
     "slide_type": "slide"
    }
   },
   "source": [
    "## Thermal Load in Winter and Summer"
   ]
  },
  {
   "cell_type": "code",
   "execution_count": null,
   "metadata": {
    "jupyter": {
     "source_hidden": true
    },
    "slideshow": {
     "slide_type": "skip"
    }
   },
   "outputs": [],
   "source": [
    "thermal_load_winter_summer_tool = HoverTool(tooltips=[('Date', '@timestamp{%Y/%m/%d %H:%M:%S}'),\n",
    "                                                      (\"Hour of year\", \"@hourofyear\"),\n",
    "                                                      ('Thermal Power', '@Total_consumption{%0.2f MW}'),\n",
    "                                                      ('Air Temperature', '@air_temp{%0.2f ºC}'),],\n",
    "                                            formatters={'@timestamp': 'datetime',\n",
    "                                                        '@Total_consumption': 'printf',\n",
    "                                                        '@air_temp': 'printf',},)"
   ]
  },
  {
   "cell_type": "markdown",
   "metadata": {
    "slideshow": {
     "slide_type": "skip"
    }
   },
   "source": [
    "### USA"
   ]
  },
  {
   "cell_type": "code",
   "execution_count": null,
   "metadata": {
    "jupyter": {
     "source_hidden": true
    },
    "slideshow": {
     "slide_type": "skip"
    }
   },
   "outputs": [],
   "source": [
    "winter_data = us_data[(us_data.timestamp >= \"2010-01-10\") & (us_data.timestamp <= \"2010-01-24\")].copy()\n",
    "summer_data = us_data[(us_data.timestamp >= \"2010-07-15\") & (us_data.timestamp <= \"2010-07-29\")].copy()\n",
    "\n",
    "#winter_data[\"Total_consumption\"] = winter_data[\"Total_consumption\"] / 1000 # To transform consumption into MW\n",
    "#summer_data[\"Total_consumption\"] = summer_data[\"Total_consumption\"] / 1000 # To transform consumption into MW\n",
    "\n",
    "winter_source = ColumnDataSource(winter_data)\n",
    "summer_source = ColumnDataSource(summer_data)\n",
    "\n",
    "winter_min_hour_of_year = winter_data[\"hourofyear\"].min()\n",
    "winter_max_hour_of_year = winter_data[\"hourofyear\"].max()\n",
    "\n",
    "summer_min_hour_of_year = summer_data[\"hourofyear\"].min()\n",
    "summer_max_hour_of_year = summer_data[\"hourofyear\"].max()\n",
    "\n",
    "winter_min_y_axis_value = winter_data[[\"Total_consumption\", \"air_temp\"]].min().min() - 5\n",
    "winter_max_y_axis_value = winter_data[[\"Total_consumption\", \"air_temp\"]].max().max() + 5\n",
    "\n",
    "summer_min_y_axis_value = summer_data[[\"Total_consumption\", \"air_temp\"]].min().min() - 5\n",
    "summer_max_y_axis_value = summer_data[[\"Total_consumption\", \"air_temp\"]].max().max() + 5\n",
    "\n",
    "winter_ticks = [x for x in range(winter_min_hour_of_year, winter_max_hour_of_year + 1, 24)]\n",
    "summer_ticks = [x for x in range(summer_min_hour_of_year, summer_max_hour_of_year + 1, 24)]\n",
    "\n",
    "winter_labels_y = [winter_max_y_axis_value for _ in range(15)]\n",
    "summer_labels_y = [summer_max_y_axis_value for _ in range(15)]\n",
    "\n",
    "winter_text = [\"Su\", \"Mo\", \"Tu\", \"We\", \"Th\", \"Fr\", \"Sa\"] * 2 + [\"\"]\n",
    "summer_text = [\"Th\", \"Fr\", \"Sa\", \"Su\", \"Mo\", \"Tu\", \"We\",] * 2 + [\"\"]\n",
    "\n",
    "label_source = ColumnDataSource(dict(winter_x=winter_ticks, winter_y=winter_labels_y, winter_text=winter_text,\n",
    "                                     summer_x=summer_ticks, summer_y=summer_labels_y, summer_text=summer_text,))\n",
    "\n",
    "winter_rochester_2weeks_view = CDSView(source=winter_source, filters=[BooleanFilter(winter_data.city_key == NOAA2010Dataset.ROCHESTER_NY)])\n",
    "summer_rochester_2weeks_view = CDSView(source=summer_source, filters=[BooleanFilter(summer_data.city_key == NOAA2010Dataset.ROCHESTER_NY)])"
   ]
  },
  {
   "cell_type": "markdown",
   "metadata": {
    "slideshow": {
     "slide_type": "subslide"
    }
   },
   "source": [
    "### Rochester, New York, USA"
   ]
  },
  {
   "cell_type": "code",
   "execution_count": null,
   "metadata": {
    "jupyter": {
     "source_hidden": true
    },
    "slideshow": {
     "slide_type": "skip"
    }
   },
   "outputs": [],
   "source": [
    "rochester_thermal_load_winter_2_weeks = figure(title=\"Rochester, New York, USA - Heat Load from 10/01/2010 to 24/01/2010\",\n",
    "                                               y_range=(winter_min_y_axis_value, winter_max_y_axis_value),\n",
    "                                               x_axis_label=\"Hour of the year\",\n",
    "                                               y_axis_label=\"Thermal Power [MW]\",\n",
    "                                               **{**FIGURE_TOOLS, **FULL_WIDTH_FIGURE_TOOLS},\n",
    "                                              )\n",
    "l1_winter = rochester_thermal_load_winter_2_weeks.line(x=\"hourofyear\", y=\"Total_consumption\", source=winter_source, view=winter_rochester_2weeks_view, color=color_map[\"madrid\"], alpha=0.7, line_width=2)\n",
    "l2_winter = rochester_thermal_load_winter_2_weeks.line(x=\"hourofyear\", y=\"air_temp\", source=winter_source, view=winter_rochester_2weeks_view, color=color_map[\"rome\"], alpha=0.7, line_width=2, y_range_name=\"air_temp_range\")\n",
    "rochester_thermal_load_winter_2_weeks.add_tools(thermal_load_winter_summer_tool)\n",
    "rochester_thermal_load_winter_2_weeks.add_layout(Legend(items=[(\"Thermal Load [MW]\", [l1_winter]), (\"Air Temperature [°C]\", [l2_winter]),], ), \"below\")\n",
    "rochester_thermal_load_winter_2_weeks.add_layout(LabelSet(x=\"winter_x\", y=\"winter_y\", text=\"winter_text\", source=label_source, level='glyph', x_offset=25, y_offset=-25,  render_mode='canvas'))\n",
    "rochester_thermal_load_winter_2_weeks.add_layout(LinearAxis(y_range_name=\"air_temp_range\", axis_label=\"Temperature[°C]\"), 'right')\n",
    "rochester_thermal_load_winter_2_weeks.extra_y_ranges = {\"air_temp_range\": Range1d(start=winter_min_y_axis_value, end=winter_max_y_axis_value)}\n",
    "rochester_thermal_load_winter_2_weeks.ygrid.grid_line_color = None\n",
    "rochester_thermal_load_winter_2_weeks.xaxis[0].ticker = winter_ticks\n",
    "rochester_thermal_load_winter_2_weeks.xgrid[0].ticker = winter_ticks\n",
    "\n",
    "\n",
    "rochester_thermal_load_summer_2_weeks = figure(title=\"Rochester, New York, USA  - Heat Load from 15/07/2010 to 29/07/2010\",\n",
    "                                               y_range=(summer_min_y_axis_value, summer_max_y_axis_value),\n",
    "                                               x_axis_label=\"Hour of the year\",\n",
    "                                               y_axis_label=\"Thermal Power [MW]\",\n",
    "                                               **{**FIGURE_TOOLS, **FULL_WIDTH_FIGURE_TOOLS},\n",
    "                                              )\n",
    "l1_summer = rochester_thermal_load_summer_2_weeks.line(x=\"hourofyear\", y=\"Total_consumption\", source=summer_source, view=summer_rochester_2weeks_view, color=color_map[\"madrid\"], alpha=0.7, line_width=2)\n",
    "l2_summer = rochester_thermal_load_summer_2_weeks.line(x=\"hourofyear\", y=\"air_temp\", source=summer_source, view=summer_rochester_2weeks_view, color=color_map[\"rome\"], alpha=0.7, line_width=2, y_range_name=\"air_temp_range\")\n",
    "rochester_thermal_load_summer_2_weeks.add_tools(thermal_load_winter_summer_tool)\n",
    "rochester_thermal_load_summer_2_weeks.add_layout(Legend(items=[(\"Thermal Load [MW]\", [l1_summer]), (\"Air Temperature [°C]\", [l2_summer]),],), \"below\")\n",
    "rochester_thermal_load_summer_2_weeks.add_layout(LabelSet(x=\"summer_x\", y=\"summer_y\", text=\"summer_text\", source=label_source, level='glyph', x_offset=25, y_offset=-25,  render_mode='canvas'))\n",
    "rochester_thermal_load_summer_2_weeks.add_layout(LinearAxis(y_range_name=\"air_temp_range\", axis_label=\"Temperature[°C]\"), 'right')\n",
    "rochester_thermal_load_summer_2_weeks.extra_y_ranges = {\"air_temp_range\": Range1d(start=summer_min_y_axis_value, end=summer_max_y_axis_value)}\n",
    "rochester_thermal_load_summer_2_weeks.ygrid.grid_line_color = None\n",
    "rochester_thermal_load_summer_2_weeks.xaxis[0].ticker = summer_ticks\n",
    "rochester_thermal_load_summer_2_weeks.xgrid[0].ticker = summer_ticks\n",
    "\n"
   ]
  },
  {
   "cell_type": "code",
   "execution_count": null,
   "metadata": {},
   "outputs": [],
   "source": [
    "show(layout([[rochester_thermal_load_winter_2_weeks],[rochester_thermal_load_summer_2_weeks],])) "
   ]
  },
  {
   "cell_type": "markdown",
   "metadata": {
    "slideshow": {
     "slide_type": "subslide"
    }
   },
   "source": [
    "### Fresno, California, USA"
   ]
  },
  {
   "cell_type": "code",
   "execution_count": null,
   "metadata": {
    "jupyter": {
     "source_hidden": true
    },
    "slideshow": {
     "slide_type": "skip"
    }
   },
   "outputs": [],
   "source": [
    "winter_fresno_2weeks_view = CDSView(source=winter_source, filters=[BooleanFilter(winter_data.city_key == NOAA2010Dataset.FRESNO_CA)])\n",
    "summer_fresno_2weeks_view = CDSView(source=summer_source, filters=[BooleanFilter(summer_data.city_key == NOAA2010Dataset.FRESNO_CA)])\n",
    "\n",
    "fresno_thermal_load_winter_2_weeks = figure(title=\"Fresno, California, USA - Heat Load from 10/01/2010 to 24/01/2010\",\n",
    "                                            y_range=(winter_min_y_axis_value, winter_max_y_axis_value),\n",
    "                                            x_axis_label=\"Hour of the year\",\n",
    "                                            y_axis_label=\"Thermal Power [MW]\",\n",
    "                                            **{**FIGURE_TOOLS, **FULL_WIDTH_FIGURE_TOOLS},\n",
    "                                           )\n",
    "fresno_thermal_load_winter_2_weeks.add_tools(thermal_load_winter_summer_tool)\n",
    "l1_winter = fresno_thermal_load_winter_2_weeks.line(x=\"hourofyear\", y=\"Total_consumption\", source=winter_source, view=winter_fresno_2weeks_view, color=color_map[\"madrid\"], alpha=0.7, line_width=2)\n",
    "l2_winter = fresno_thermal_load_winter_2_weeks.line(x=\"hourofyear\", y=\"air_temp\", source=winter_source, view=winter_fresno_2weeks_view, color=color_map[\"rome\"], alpha=0.7, line_width=2, y_range_name=\"air_temp_range\")\n",
    "fresno_thermal_load_winter_2_weeks.add_layout(Legend(items=[(\"Thermal Load [MW]\", [l1_winter]), (\"Air Temperature [°C]\", [l2_winter]),],), \"below\")\n",
    "fresno_thermal_load_winter_2_weeks.add_layout(LabelSet(x=\"winter_x\", y=\"winter_y\", text=\"winter_text\", source=label_source, level='glyph', x_offset=25, y_offset=-25,  render_mode='canvas'))\n",
    "fresno_thermal_load_winter_2_weeks.add_layout(LinearAxis(y_range_name=\"air_temp_range\", axis_label=\"Temperature[°C]\"), 'right')\n",
    "fresno_thermal_load_winter_2_weeks.extra_y_ranges = {\"air_temp_range\": Range1d(start=winter_min_y_axis_value, end=winter_max_y_axis_value)}\n",
    "fresno_thermal_load_winter_2_weeks.ygrid.grid_line_color = None\n",
    "fresno_thermal_load_winter_2_weeks.xaxis[0].ticker = winter_ticks\n",
    "fresno_thermal_load_winter_2_weeks.xgrid[0].ticker = winter_ticks\n",
    "\n",
    "\n",
    "\n",
    "fresno_thermal_load_summer_2_weeks = figure(title=\"Fresno, California, USA- Heat Load from 15/07/2010 to 29/07/2010\",\n",
    "                                            y_range=(summer_min_y_axis_value, summer_max_y_axis_value),\n",
    "                                            x_axis_label=\"Hour of the year\",\n",
    "                                            y_axis_label=\"Thermal Power [MW]\",\n",
    "                                            **{**FIGURE_TOOLS, **FULL_WIDTH_FIGURE_TOOLS},\n",
    "                                           )\n",
    "fresno_thermal_load_summer_2_weeks.add_tools(thermal_load_winter_summer_tool)\n",
    "l1_summer = fresno_thermal_load_summer_2_weeks.line(x=\"hourofyear\", y=\"Total_consumption\", source=summer_source, view=summer_fresno_2weeks_view, color=color_map[\"madrid\"], alpha=0.7, line_width=2)\n",
    "l2_summer = fresno_thermal_load_summer_2_weeks.line(x=\"hourofyear\", y=\"air_temp\", source=summer_source, view=summer_fresno_2weeks_view, color=color_map[\"rome\"], alpha=0.7, line_width=2, y_range_name=\"air_temp_range\")\n",
    "fresno_thermal_load_summer_2_weeks.add_layout(Legend(items=[(\"Thermal Load [MW]\", [l1_summer]), (\"Air Temperature [°C]\", [l2_summer]),],), \"below\")\n",
    "fresno_thermal_load_summer_2_weeks.add_layout(LabelSet(x=\"summer_x\", y=\"summer_y\", text=\"summer_text\", source=label_source, level='glyph', x_offset=25, y_offset=-25,  render_mode='canvas'))\n",
    "fresno_thermal_load_summer_2_weeks.add_layout(LinearAxis(y_range_name=\"air_temp_range\", axis_label=\"Temperature[°C]\"), 'right')\n",
    "fresno_thermal_load_summer_2_weeks.extra_y_ranges = {\"air_temp_range\": Range1d(start=summer_min_y_axis_value, end=summer_max_y_axis_value)}\n",
    "fresno_thermal_load_summer_2_weeks.ygrid.grid_line_color = None\n",
    "fresno_thermal_load_summer_2_weeks.xaxis[0].ticker = summer_ticks\n",
    "fresno_thermal_load_summer_2_weeks.xgrid[0].ticker = summer_ticks\n"
   ]
  },
  {
   "cell_type": "code",
   "execution_count": null,
   "metadata": {
    "slideshow": {
     "slide_type": "-"
    }
   },
   "outputs": [],
   "source": [
    "show(layout([[fresno_thermal_load_winter_2_weeks],[fresno_thermal_load_summer_2_weeks],])) "
   ]
  },
  {
   "cell_type": "markdown",
   "metadata": {
    "slideshow": {
     "slide_type": "skip"
    }
   },
   "source": [
    "### Europe"
   ]
  },
  {
   "cell_type": "code",
   "execution_count": null,
   "metadata": {
    "jupyter": {
     "source_hidden": true
    },
    "slideshow": {
     "slide_type": "skip"
    }
   },
   "outputs": [],
   "source": [
    "winter_data = europe_data[(europe_data.timestamp >= \"2017-01-10\") & (europe_data.timestamp <= \"2017-01-24\")].copy()\n",
    "summer_data = europe_data[(europe_data.timestamp >= \"2017-07-15\") & (europe_data.timestamp <= \"2017-07-29\")].copy()\n",
    "\n",
    "#winter_data[\"Total_consumption\"] = winter_data[\"Total_consumption\"] / 1000 # To transform consumption into MW\n",
    "#summer_data[\"Total_consumption\"] = summer_data[\"Total_consumption\"] / 1000 # To transform consumption into MW\n",
    "\n",
    "winter_source = ColumnDataSource(winter_data)\n",
    "summer_source = ColumnDataSource(summer_data)\n",
    "\n",
    "winter_min_hour_of_year = winter_data[\"hourofyear\"].min()\n",
    "winter_max_hour_of_year = winter_data[\"hourofyear\"].max()\n",
    "\n",
    "summer_min_hour_of_year = summer_data[\"hourofyear\"].min()\n",
    "summer_max_hour_of_year = summer_data[\"hourofyear\"].max()\n",
    "\n",
    "winter_min_y_axis_value = winter_data[[\"Total_consumption\", \"air_temp\"]].min().min() - 5\n",
    "winter_max_y_axis_value = winter_data[[\"Total_consumption\", \"air_temp\"]].max().max() + 5\n",
    "\n",
    "summer_min_y_axis_value = summer_data[[\"Total_consumption\", \"air_temp\"]].min().min() - 5\n",
    "summer_max_y_axis_value = summer_data[[\"Total_consumption\", \"air_temp\"]].max().max() + 5\n",
    "\n",
    "winter_ticks = [x for x in range(winter_min_hour_of_year, winter_max_hour_of_year + 1, 24)]\n",
    "summer_ticks = [x for x in range(summer_min_hour_of_year, summer_max_hour_of_year + 1, 24)]\n",
    "\n",
    "winter_labels_y = [winter_max_y_axis_value for _ in range(15)]\n",
    "summer_labels_y = [summer_max_y_axis_value for _ in range(15)]\n",
    "\n",
    "winter_text = [\"Tu\", \"We\", \"Th\", \"Fr\", \"Sa\", \"Su\", \"Mo\"] * 2 + [\"\"]\n",
    "summer_text = [\"Sa\", \"Su\", \"Mo\", \"Tu\", \"We\", \"Th\", \"Fr\"] * 2 + [\"\"]\n",
    "\n",
    "label_source = ColumnDataSource(dict(winter_x=winter_ticks, winter_y=winter_labels_y, winter_text=winter_text,\n",
    "                                     summer_x=summer_ticks, summer_y=summer_labels_y, summer_text=summer_text,))\n",
    "\n"
   ]
  },
  {
   "cell_type": "markdown",
   "metadata": {
    "slideshow": {
     "slide_type": "subslide"
    }
   },
   "source": [
    "### London, United Kingdom"
   ]
  },
  {
   "cell_type": "code",
   "execution_count": null,
   "metadata": {
    "jupyter": {
     "source_hidden": true
    },
    "slideshow": {
     "slide_type": "skip"
    }
   },
   "outputs": [],
   "source": [
    "winter_london_2weeks_view = CDSView(source=winter_source, filters=[BooleanFilter(winter_data.city_key == InsPireDataset.LONDON_UK)])\n",
    "summer_london_2weeks_view = CDSView(source=summer_source, filters=[BooleanFilter(summer_data.city_key == InsPireDataset.LONDON_UK)])\n",
    "\n",
    "london_thermal_load_winter_2_weeks = figure(title=\"London, United Kingdom - Heat Load from 10/01/2017 to 24/01/2017\",\n",
    "                                            y_range=(winter_min_y_axis_value, winter_max_y_axis_value),\n",
    "                                            x_axis_label=\"Hour of the year\",\n",
    "                                            y_axis_label=\"Thermal Power [MW]\",\n",
    "                                            **{**FIGURE_TOOLS, **FULL_WIDTH_FIGURE_TOOLS},\n",
    "                                           )\n",
    "london_thermal_load_winter_2_weeks.add_tools(thermal_load_winter_summer_tool)\n",
    "l1_winter = london_thermal_load_winter_2_weeks.line(x=\"hourofyear\", y=\"Total_consumption\", source=winter_source, view=winter_london_2weeks_view, color=color_map[\"madrid\"], alpha=0.7, line_width=2)\n",
    "l2_winter = london_thermal_load_winter_2_weeks.line(x=\"hourofyear\", y=\"air_temp\", source=winter_source, view=winter_london_2weeks_view, color=color_map[\"rome\"], alpha=0.7, line_width=2, y_range_name=\"air_temp_range\")\n",
    "london_thermal_load_winter_2_weeks.add_layout(Legend(items=[(\"Thermal Load [MW]\", [l1_winter]), (\"Air Temperature [°C]\", [l2_winter]),],), \"below\")\n",
    "london_thermal_load_winter_2_weeks.add_layout(LabelSet(x=\"winter_x\", y=\"winter_y\", text=\"winter_text\", source=label_source, level='glyph', x_offset=25, y_offset=-25,  render_mode='canvas'))\n",
    "london_thermal_load_winter_2_weeks.add_layout(LinearAxis(y_range_name=\"air_temp_range\", axis_label=\"Temperature[°C]\"), 'right')\n",
    "london_thermal_load_winter_2_weeks.extra_y_ranges = {\"air_temp_range\": Range1d(start=winter_min_y_axis_value, end=winter_max_y_axis_value)}\n",
    "london_thermal_load_winter_2_weeks.ygrid.grid_line_color = None\n",
    "london_thermal_load_winter_2_weeks.xaxis[0].ticker = winter_ticks\n",
    "london_thermal_load_winter_2_weeks.xgrid[0].ticker = winter_ticks\n",
    "\n",
    "\n",
    "\n",
    "london_thermal_load_summer_2_weeks = figure(title=\"London, United Kingdom - Heat Load from 15/07/2017 to 29/07/2017\",\n",
    "                                            y_range=(summer_min_y_axis_value, summer_max_y_axis_value),\n",
    "                                            x_axis_label=\"Hour of the year\",\n",
    "                                            y_axis_label=\"Thermal Power [MW]\",\n",
    "                                            **{**FIGURE_TOOLS, **FULL_WIDTH_FIGURE_TOOLS},\n",
    "                                           )\n",
    "london_thermal_load_summer_2_weeks.add_tools(thermal_load_winter_summer_tool)\n",
    "l1_summer = london_thermal_load_summer_2_weeks.line(x=\"hourofyear\", y=\"Total_consumption\", source=summer_source, view=summer_london_2weeks_view, color=color_map[\"madrid\"], alpha=0.7, line_width=2)\n",
    "l2_summer = london_thermal_load_summer_2_weeks.line(x=\"hourofyear\", y=\"air_temp\", source=summer_source, view=summer_london_2weeks_view, color=color_map[\"rome\"], alpha=0.7, line_width=2, y_range_name=\"air_temp_range\")\n",
    "london_thermal_load_summer_2_weeks.add_layout(Legend(items=[(\"Thermal Load [MW]\", [l1_summer]), (\"Air Temperature [°C]\", [l2_summer]),],), \"below\")\n",
    "london_thermal_load_summer_2_weeks.add_layout(LabelSet(x=\"summer_x\", y=\"summer_y\", text=\"summer_text\", source=label_source, level='glyph', x_offset=25, y_offset=-25,  render_mode='canvas'))\n",
    "london_thermal_load_summer_2_weeks.add_layout(LinearAxis(y_range_name=\"air_temp_range\", axis_label=\"Temperature[°C]\"), 'right')\n",
    "london_thermal_load_summer_2_weeks.extra_y_ranges = {\"air_temp_range\": Range1d(start=summer_min_y_axis_value, end=summer_max_y_axis_value)}\n",
    "london_thermal_load_summer_2_weeks.ygrid.grid_line_color = None\n",
    "london_thermal_load_summer_2_weeks.xaxis[0].ticker = summer_ticks\n",
    "london_thermal_load_summer_2_weeks.xgrid[0].ticker = summer_ticks\n",
    "\n",
    "\n"
   ]
  },
  {
   "cell_type": "code",
   "execution_count": null,
   "metadata": {},
   "outputs": [],
   "source": [
    "show(layout([[london_thermal_load_winter_2_weeks],[london_thermal_load_summer_2_weeks],])) "
   ]
  },
  {
   "cell_type": "markdown",
   "metadata": {
    "slideshow": {
     "slide_type": "subslide"
    }
   },
   "source": [
    "### Rome, Italy"
   ]
  },
  {
   "cell_type": "code",
   "execution_count": null,
   "metadata": {
    "jupyter": {
     "source_hidden": true
    },
    "slideshow": {
     "slide_type": "skip"
    }
   },
   "outputs": [],
   "source": [
    "winter_rome_2weeks_view = CDSView(source=winter_source, filters=[BooleanFilter(winter_data.city_key == InsPireDataset.ROME_IT)])\n",
    "summer_rome_2weeks_view = CDSView(source=summer_source, filters=[BooleanFilter(summer_data.city_key == InsPireDataset.ROME_IT)])\n",
    "\n",
    "rome_thermal_load_winter_2_weeks = figure(title=\"Rome, Italy - Heat Load from 10/01/2017 to 24/01/2017\",\n",
    "                                          y_range=(winter_min_y_axis_value, winter_max_y_axis_value),\n",
    "                                          x_axis_label=\"Hour of the year\",\n",
    "                                          y_axis_label=\"Thermal Power [MW]\",\n",
    "                                          **{**FIGURE_TOOLS, **FULL_WIDTH_FIGURE_TOOLS},\n",
    "                                         )\n",
    "rome_thermal_load_winter_2_weeks.add_tools(thermal_load_winter_summer_tool)\n",
    "l1_winter = rome_thermal_load_winter_2_weeks.line(x=\"hourofyear\", y=\"Total_consumption\", source=winter_source, view=winter_rome_2weeks_view, color=color_map[\"madrid\"], alpha=0.7, line_width=2)\n",
    "l2_winter = rome_thermal_load_winter_2_weeks.line(x=\"hourofyear\", y=\"air_temp\", source=winter_source, view=winter_rome_2weeks_view, color=color_map[\"rome\"], alpha=0.7, line_width=2, y_range_name=\"air_temp_range\")\n",
    "rome_thermal_load_winter_2_weeks.add_layout(Legend(items=[(\"Thermal Load [MW]\", [l1_winter]), (\"Air Temperature [°C]\", [l2_winter]),],), \"below\")\n",
    "rome_thermal_load_winter_2_weeks.add_layout(LabelSet(x=\"winter_x\", y=\"winter_y\", text=\"winter_text\", source=label_source, level='glyph', x_offset=25, y_offset=-25,  render_mode='canvas'))\n",
    "rome_thermal_load_winter_2_weeks.add_layout(LinearAxis(y_range_name=\"air_temp_range\", axis_label=\"Temperature[°C]\"), 'right')\n",
    "rome_thermal_load_winter_2_weeks.extra_y_ranges = {\"air_temp_range\": Range1d(start=winter_min_y_axis_value, end=winter_max_y_axis_value)}\n",
    "rome_thermal_load_winter_2_weeks.ygrid.grid_line_color = None\n",
    "rome_thermal_load_winter_2_weeks.xaxis[0].ticker = winter_ticks\n",
    "rome_thermal_load_winter_2_weeks.xgrid[0].ticker = winter_ticks\n",
    "\n",
    "\n",
    "rome_thermal_load_summer_2_weeks = figure(title=\"Rome, Italy - Heat Load from 15/07/2017 to 29/07/2017\",\n",
    "                                          y_range=(summer_min_y_axis_value, summer_max_y_axis_value),\n",
    "                                          x_axis_label=\"Hour of the year\",\n",
    "                                          y_axis_label=\"Thermal Power [MW]\",\n",
    "                                          **{**FIGURE_TOOLS, **FULL_WIDTH_FIGURE_TOOLS},\n",
    "                                         )\n",
    "rome_thermal_load_summer_2_weeks.add_tools(thermal_load_winter_summer_tool)\n",
    "l1_summer = rome_thermal_load_summer_2_weeks.line(x=\"hourofyear\", y=\"Total_consumption\", source=summer_source, view=summer_rome_2weeks_view, color=color_map[\"madrid\"], alpha=0.7, line_width=2)\n",
    "l2_summer = rome_thermal_load_summer_2_weeks.line(x=\"hourofyear\", y=\"air_temp\", source=summer_source, view=summer_rome_2weeks_view, color=color_map[\"rome\"], alpha=0.7, line_width=2, y_range_name=\"air_temp_range\")\n",
    "rome_thermal_load_summer_2_weeks.add_layout(Legend(items=[(\"Thermal Load [MW]\", [l1_summer]), (\"Air Temperature [°C]\", [l2_summer]),],), \"below\")\n",
    "rome_thermal_load_summer_2_weeks.add_layout(LabelSet(x=\"summer_x\", y=\"summer_y\", text=\"summer_text\", source=label_source, level='glyph', x_offset=25, y_offset=-25,  render_mode='canvas'))\n",
    "rome_thermal_load_summer_2_weeks.add_layout(LinearAxis(y_range_name=\"air_temp_range\", axis_label=\"Temperature[°C]\"), 'right')\n",
    "rome_thermal_load_summer_2_weeks.extra_y_ranges = {\"air_temp_range\": Range1d(start=summer_min_y_axis_value, end=summer_max_y_axis_value)}\n",
    "rome_thermal_load_summer_2_weeks.ygrid.grid_line_color = None\n",
    "rome_thermal_load_summer_2_weeks.xaxis[0].ticker = summer_ticks\n",
    "rome_thermal_load_summer_2_weeks.xgrid[0].ticker = summer_ticks\n"
   ]
  },
  {
   "cell_type": "code",
   "execution_count": null,
   "metadata": {},
   "outputs": [],
   "source": [
    "show(layout([[rome_thermal_load_winter_2_weeks],[rome_thermal_load_summer_2_weeks],])) "
   ]
  },
  {
   "cell_type": "markdown",
   "metadata": {
    "slideshow": {
     "slide_type": "slide"
    }
   },
   "source": [
    "## Heat pumps electricity consumption by city (USA & Europe)"
   ]
  },
  {
   "cell_type": "code",
   "execution_count": null,
   "metadata": {
    "jupyter": {
     "source_hidden": true
    },
    "slideshow": {
     "slide_type": "skip"
    }
   },
   "outputs": [],
   "source": [
    "london_data = europe_data[(europe_data[\"city_key\"] == InsPireDataset.LONDON_UK)][\"E_el\"]#/1000\n",
    "stuttgart_data = europe_data[(europe_data[\"city_key\"] == InsPireDataset.STUTTGART_GER)][\"E_el\"]#/1000\n",
    "rome_data = europe_data[(europe_data[\"city_key\"] == InsPireDataset.ROME_IT)][\"E_el\"]#/1000\n",
    "madrid_data = europe_data[(europe_data[\"city_key\"] == InsPireDataset.MADRID_SPA)][\"E_el\"]#/1000\n",
    "\n",
    "miami_data= us_data[(us_data[\"city_key\"] == NOAA2010Dataset.MIAMI_FL)][\"E_el\"]#/1000\n",
    "fresno_data= us_data[(us_data[\"city_key\"] == NOAA2010Dataset.FRESNO_CA)][\"E_el\"]#/1000\n",
    "olympia_data= us_data[(us_data[\"city_key\"] == NOAA2010Dataset.OLYMPIA_WA)][\"E_el\"]#/1000\n",
    "rochester_data= us_data[(us_data[\"city_key\"] == NOAA2010Dataset.ROCHESTER_NY)][\"E_el\"]#/1000\n",
    "\n",
    "x_europe = [\"London, UK\", \"Madrid, SPA\", \"Rome, IT\", \"Stuttgart, GER\",]\n",
    "x_usa = [\"Miami, FL\", \"Fresno, CA\", \"Olympia, WA\", \"Rochester, NY\"]\n",
    "colors_europe = [color_map[\"london\"], color_map[\"madrid\"], color_map[\"rome\"], color_map[\"stuttgart\"], ]\n",
    "colors_usa = [color_map[\"miami\"], color_map[\"fresno\"], color_map[\"olympia\"], color_map[\"rochester\"], ]\n",
    "top_europe = [london_data.sum(), madrid_data.sum(), rome_data.sum(), stuttgart_data.sum(),] \n",
    "top_usa = [miami_data.sum(), fresno_data.sum(), olympia_data.sum(), rochester_data.sum(),]\n",
    "\n",
    "electricity_source = ColumnDataSource({\"x\": x_europe + x_usa, \"colors\": colors_europe + colors_usa, \"top\": top_europe + top_usa})\n",
    "europe_electricity_view = CDSView(source=electricity_source, filters=[BooleanFilter([True, True, True, True, False, False, False, False])])\n",
    "usa_electricity_view = CDSView(source=electricity_source, filters=[BooleanFilter([False, False, False, False, True, True, True, True])])\n",
    "\n",
    "electricity_consumption_hover_tool = HoverTool(tooltips=[('City', '@x'),\n",
    "                                                         ('Electricity', '@top{%0.2f MW}'),],\n",
    "                                               formatters={'@x': 'printf',\n",
    "                                                           '@top': 'printf',})"
   ]
  },
  {
   "cell_type": "code",
   "execution_count": null,
   "metadata": {
    "jupyter": {
     "source_hidden": true
    },
    "slideshow": {
     "slide_type": "skip"
    }
   },
   "outputs": [],
   "source": [
    "usa_electricity = figure(x_range= FactorRange(*x_usa),\n",
    "                         title=\"Annual electric consumption by cities in USA\",\n",
    "                         y_axis_label=\"Electric power [MW]\",\n",
    "                         **{**FIGURE_TOOLS, **FULL_WIDTH_FIGURE_TOOLS})\n",
    "usa_electricity.add_tools(electricity_consumption_hover_tool)\n",
    "usa_electricity.vbar(x=\"x\", top=\"top\", color=\"colors\", width=0.9, alpha=0.8, source=electricity_source, view=usa_electricity_view)\n",
    "\n",
    "\n",
    "europe_electricity = figure(x_range= FactorRange(*x_europe),\n",
    "                            title=\"Annual electric consumption by cities in Europe\",\n",
    "                            y_axis_label=\"Electric power [MW]\",\n",
    "                            **{**FIGURE_TOOLS, **FULL_WIDTH_FIGURE_TOOLS})\n",
    "europe_electricity.add_tools(electricity_consumption_hover_tool)\n",
    "europe_electricity.vbar(x=\"x\", top=\"top\", color=\"colors\", width=0.9, alpha=0.8, source=electricity_source, view=europe_electricity_view)\n",
    "\n",
    "\n"
   ]
  },
  {
   "cell_type": "code",
   "execution_count": null,
   "metadata": {},
   "outputs": [],
   "source": [
    "show(layout([[usa_electricity],[europe_electricity],]))"
   ]
  },
  {
   "cell_type": "markdown",
   "metadata": {
    "slideshow": {
     "slide_type": "slide"
    }
   },
   "source": [
    "## Heat losses by country (USA & Europe)"
   ]
  },
  {
   "cell_type": "code",
   "execution_count": null,
   "metadata": {
    "jupyter": {
     "source_hidden": true
    },
    "slideshow": {
     "slide_type": "skip"
    }
   },
   "outputs": [],
   "source": [
    "london_data = europe_data[(europe_data[\"city_key\"] == InsPireDataset.LONDON_UK)][\"E_loss_tot\"]/1000\n",
    "stuttgart_data = europe_data[(europe_data[\"city_key\"] == InsPireDataset.STUTTGART_GER)][\"E_loss_tot\"]/1000\n",
    "rome_data = europe_data[(europe_data[\"city_key\"] == InsPireDataset.ROME_IT)][\"E_loss_tot\"]/1000\n",
    "madrid_data = europe_data[(europe_data[\"city_key\"] == InsPireDataset.MADRID_SPA)][\"E_loss_tot\"]/1000\n",
    "\n",
    "miami_data= us_data[(us_data[\"city_key\"] == NOAA2010Dataset.MIAMI_FL)][\"E_loss_tot\"]/1000\n",
    "fresno_data= us_data[(us_data[\"city_key\"] == NOAA2010Dataset.FRESNO_CA)][\"E_loss_tot\"]/1000\n",
    "olympia_data= us_data[(us_data[\"city_key\"] == NOAA2010Dataset.OLYMPIA_WA)][\"E_loss_tot\"]/1000\n",
    "rochester_data= us_data[(us_data[\"city_key\"] == NOAA2010Dataset.ROCHESTER_NY)][\"E_loss_tot\"]/1000\n",
    "\n",
    "x_europe = [\"London, UK\", \"Madrid, SPA\", \"Rome, IT\", \"Stuttgart, GER\",]\n",
    "x_usa = [\"Miami, FL\", \"Fresno, CA\", \"Olympia, WA\", \"Rochester, NY\"]\n",
    "colors_europe = [color_map[\"london\"], color_map[\"madrid\"], color_map[\"rome\"], color_map[\"stuttgart\"], ]\n",
    "colors_usa = [color_map[\"miami\"], color_map[\"fresno\"], color_map[\"olympia\"], color_map[\"rochester\"], ]\n",
    "top_europe = [london_data.sum(), madrid_data.sum(), rome_data.sum(), stuttgart_data.sum(),] \n",
    "top_usa = [miami_data.sum(), fresno_data.sum(), olympia_data.sum(), rochester_data.sum(),]\n",
    "\n",
    "heat_loss_source = ColumnDataSource({\"x\": x_europe + x_usa, \"colors\": colors_europe + colors_usa, \"top\": top_europe + top_usa})\n",
    "europe_heat_loss_view = CDSView(source=heat_loss_source, filters=[BooleanFilter([True, True, True, True, False, False, False, False])])\n",
    "usa_heat_loss_view = CDSView(source=heat_loss_source, filters=[BooleanFilter([False, False, False, False, True, True, True, True])])\n",
    "\n",
    "heat_loss_consumption_hover_tool = HoverTool(tooltips=[('City', '@x'),\n",
    "                                                       ('Heat Loss', '@top{%0.2f GWh}'),],\n",
    "                                             formatters={'@x': 'printf',\n",
    "                                                         '@top': 'printf',})"
   ]
  },
  {
   "cell_type": "code",
   "execution_count": null,
   "metadata": {
    "jupyter": {
     "source_hidden": true
    },
    "slideshow": {
     "slide_type": "skip"
    }
   },
   "outputs": [],
   "source": [
    "usa_heat_loss = figure(x_range=FactorRange(*x_usa),\n",
    "                       title=\"Total heat loss by cities in USA\",\n",
    "                       y_axis_label=\"Heat Loss [GWh]\",\n",
    "                       **{**FIGURE_TOOLS, **FULL_WIDTH_FIGURE_TOOLS})\n",
    "usa_heat_loss.add_tools(heat_loss_consumption_hover_tool)\n",
    "usa_heat_loss.vbar(x=\"x\", top=\"top\", color=\"colors\", width=0.9, alpha=0.8, source=heat_loss_source, view=usa_heat_loss_view)\n",
    "\n",
    "\n",
    "europe_heat_loss = figure(x_range=FactorRange(*x_europe),\n",
    "                          title=\"Total heat loss by cities in Europe\",\n",
    "                          y_axis_label=\"Heat Loss [GWh]\",\n",
    "                          **{**FIGURE_TOOLS, **FULL_WIDTH_FIGURE_TOOLS})\n",
    "europe_heat_loss.add_tools(heat_loss_consumption_hover_tool)\n",
    "europe_heat_loss.vbar(x=\"x\", top=\"top\", color=\"colors\", width=0.9, alpha=0.8, source=heat_loss_source, view=europe_heat_loss_view)\n"
   ]
  },
  {
   "cell_type": "code",
   "execution_count": null,
   "metadata": {},
   "outputs": [],
   "source": [
    "show(layout([[usa_heat_loss],[europe_heat_loss],]))"
   ]
  },
  {
   "cell_type": "markdown",
   "metadata": {
    "slideshow": {
     "slide_type": "slide"
    }
   },
   "source": [
    "## Weekly Electrical Power use by season"
   ]
  },
  {
   "cell_type": "markdown",
   "metadata": {
    "slideshow": {
     "slide_type": "subslide"
    }
   },
   "source": [
    "### USA"
   ]
  },
  {
   "cell_type": "code",
   "execution_count": null,
   "metadata": {
    "jupyter": {
     "source_hidden": true
    },
    "slideshow": {
     "slide_type": "skip"
    }
   },
   "outputs": [],
   "source": [
    "dayofweek = range(0,7)\n",
    "seasons = [\"winter\", \"spring\", \"summer\", \"fall\"]\n",
    "cities = [NOAA2010Dataset.MIAMI_FL, NOAA2010Dataset.FRESNO_CA, NOAA2010Dataset.OLYMPIA_WA, NOAA2010Dataset.ROCHESTER_NY]\n",
    "\n",
    "total_consumption_average_per_day = dict()\n",
    "electrical_power_use_season_tool_by_city = dict()\n",
    "for city in cities:\n",
    "    for season in seasons:\n",
    "        days_for_city_and_season = np.empty(shape=(7,), dtype=np.float32)\n",
    "        \n",
    "        for day in dayofweek:\n",
    "            days_for_city_and_season[day] = us_data[(us_data.city_key == city) & (us_data.season == season) & (us_data.dayofweek == day)][\"E_el\"].mean()#/1000\n",
    "    \n",
    "        total_consumption_average_per_day[f\"{city}_{season}\"] = days_for_city_and_season\n",
    "        electrical_power_use_season_tool_by_city[city] = HoverTool(tooltips=[(\"Day\", \"@dayofweek{%d}\"),\n",
    "                                                                             ('Electricity Winter', f'@{city}_winter' + '{%0.2f MW}'),\n",
    "                                                                             ('Electricity Spring', f'@{city}_spring' + '{%0.2f MW}'),\n",
    "                                                                             ('Electricity Summer', f'@{city}_summer' + '{%0.2f MW}'),\n",
    "                                                                             ('Electricity Fall', f'@{city}_fall' + '{%0.2f MW}'),],\n",
    "                                                                   formatters={'@hour': 'printf',\n",
    "                                                                               f'@{city}_winter': 'printf',\n",
    "                                                                               f'@{city}_spring': 'printf',\n",
    "                                                                               f'@{city}_summer': 'printf',\n",
    "                                                                               f'@{city}_fall': \"printf\"},)\n",
    "        \n",
    "x=[\"Monday\", \"Tuesday\", \"Wednesday\", \"Thursday\", \"Friday\", \"Saturday\", \"Sunday\"]\n",
    "\n",
    "usa_electricity_season_source = ColumnDataSource({\"dayofweek\": x, **total_consumption_average_per_day})"
   ]
  },
  {
   "cell_type": "code",
   "execution_count": null,
   "metadata": {
    "jupyter": {
     "source_hidden": true
    },
    "slideshow": {
     "slide_type": "skip"
    }
   },
   "outputs": [],
   "source": [
    "rochester_seasonality_total_consumption = figure(title=\"Rochester, NY\",\n",
    "                                                 x_range=FactorRange(*x),\n",
    "                                                 x_axis_label=\"Day of the week\",\n",
    "                                                 y_axis_label=\"Seasonal electric power [MW]\",\n",
    "                                                 **FIGURE_TOOLS,\n",
    "                                                )\n",
    "rochester_seasonality_total_consumption.add_tools(electrical_power_use_season_tool_by_city[NOAA2010Dataset.ROCHESTER_NY])\n",
    "l11 = rochester_seasonality_total_consumption.line(x=\"dayofweek\", y=f\"{NOAA2010Dataset.ROCHESTER_NY}_winter\", source=usa_electricity_season_source, color=color_map[\"winter\"], alpha=0.7, line_width=3)\n",
    "l12 = rochester_seasonality_total_consumption.square(x=\"dayofweek\", y=f\"{NOAA2010Dataset.ROCHESTER_NY}_winter\", source=usa_electricity_season_source, color=color_map[\"winter\"], alpha=0.7, size=10)\n",
    "l21 = rochester_seasonality_total_consumption.line(x=\"dayofweek\", y=f\"{NOAA2010Dataset.ROCHESTER_NY}_spring\", source=usa_electricity_season_source, color=color_map[\"spring\"], alpha=0.7,  line_width=3)\n",
    "l22 = rochester_seasonality_total_consumption.circle(x=\"dayofweek\", y=f\"{NOAA2010Dataset.ROCHESTER_NY}_spring\", source=usa_electricity_season_source, color=color_map[\"spring\"], alpha=0.7,  size=10)\n",
    "l31 = rochester_seasonality_total_consumption.line(x=\"dayofweek\", y=f\"{NOAA2010Dataset.ROCHESTER_NY}_summer\", source=usa_electricity_season_source, color=color_map[\"summer\"], alpha=0.7,  line_width=3)\n",
    "l32 = rochester_seasonality_total_consumption.diamond(x=\"dayofweek\", y=f\"{NOAA2010Dataset.ROCHESTER_NY}_summer\", source=usa_electricity_season_source, color=color_map[\"summer\"], alpha=0.7,  size=10)\n",
    "l41 = rochester_seasonality_total_consumption.line(x=\"dayofweek\", y=f\"{NOAA2010Dataset.ROCHESTER_NY}_fall\", source=usa_electricity_season_source, color=color_map[\"fall\"], alpha=0.7,  line_width=3)\n",
    "l42 = rochester_seasonality_total_consumption.cross(x=\"dayofweek\", y=f\"{NOAA2010Dataset.ROCHESTER_NY}_fall\", source=usa_electricity_season_source, color=color_map[\"fall\"], alpha=0.7, size=10)\n",
    "rochester_seasonality_total_consumption.add_layout(Legend(items=[(\"Winter 2010\", [l11, l12]), (\"Spring 2010\", [l21, l22]), (\"Summer 2010\", [l31, l32]), (\"Fall 2010\", [l41, l42]),],), \"below\")\n",
    "\n",
    "\n",
    "olympia_seasonality_total_consumption = figure(title=\"Olympia, WA\",\n",
    "                                               x_axis_label=\"Day of the week\",\n",
    "                                               y_axis_label=\"Seasonal electric power [MW]\",\n",
    "                                               y_range=rochester_seasonality_total_consumption.y_range,\n",
    "                                               x_range=rochester_seasonality_total_consumption.x_range,\n",
    "                                               **FIGURE_TOOLS,\n",
    "                                              )\n",
    "olympia_seasonality_total_consumption.add_tools(electrical_power_use_season_tool_by_city[NOAA2010Dataset.OLYMPIA_WA])\n",
    "l11 = olympia_seasonality_total_consumption.line(x=\"dayofweek\", y=f\"{NOAA2010Dataset.OLYMPIA_WA}_winter\", source=usa_electricity_season_source, color=color_map[\"winter\"], alpha=0.7, line_width=3)\n",
    "l12 = olympia_seasonality_total_consumption.square(x=\"dayofweek\", y=f\"{NOAA2010Dataset.OLYMPIA_WA}_winter\", source=usa_electricity_season_source, color=color_map[\"winter\"], alpha=0.7, size=10)\n",
    "l21 = olympia_seasonality_total_consumption.line(x=\"dayofweek\", y=f\"{NOAA2010Dataset.OLYMPIA_WA}_spring\", source=usa_electricity_season_source, color=color_map[\"spring\"], alpha=0.7,  line_width=3)\n",
    "l22 = olympia_seasonality_total_consumption.circle(x=\"dayofweek\", y=f\"{NOAA2010Dataset.OLYMPIA_WA}_spring\", source=usa_electricity_season_source, color=color_map[\"spring\"], alpha=0.7,  size=10)\n",
    "l31 = olympia_seasonality_total_consumption.line(x=\"dayofweek\", y=f\"{NOAA2010Dataset.OLYMPIA_WA}_summer\", source=usa_electricity_season_source, color=color_map[\"summer\"], alpha=0.7,  line_width=3)\n",
    "l32 = olympia_seasonality_total_consumption.diamond(x=\"dayofweek\", y=f\"{NOAA2010Dataset.OLYMPIA_WA}_summer\", source=usa_electricity_season_source, color=color_map[\"summer\"], alpha=0.7,  size=10)\n",
    "l41 = olympia_seasonality_total_consumption.line(x=\"dayofweek\", y=f\"{NOAA2010Dataset.OLYMPIA_WA}_fall\", source=usa_electricity_season_source, color=color_map[\"fall\"], alpha=0.7,  line_width=3)\n",
    "l42 = olympia_seasonality_total_consumption.cross(x=\"dayofweek\", y=f\"{NOAA2010Dataset.OLYMPIA_WA}_fall\", source=usa_electricity_season_source, color=color_map[\"fall\"], alpha=0.7, size=10)\n",
    "olympia_seasonality_total_consumption.add_layout(Legend(items=[(\"Winter 2010\", [l11, l12]), (\"Spring 2010\", [l21, l22]), (\"Summer 2010\", [l31, l32]), (\"Fall 2010\", [l41, l42]),],), \"below\")\n",
    "\n",
    "\n",
    "fresno_seasonality_total_consumption = figure(title=\"Fresno, CA\",\n",
    "                                               x_axis_label=\"Day of the week\",\n",
    "                                               y_axis_label=\"Seasonal electric power [MW]\",\n",
    "                                               y_range=rochester_seasonality_total_consumption.y_range,\n",
    "                                               x_range=rochester_seasonality_total_consumption.x_range,\n",
    "                                               **FIGURE_TOOLS,\n",
    "                                              )\n",
    "fresno_seasonality_total_consumption.add_tools(electrical_power_use_season_tool_by_city[NOAA2010Dataset.FRESNO_CA])\n",
    "l11 = fresno_seasonality_total_consumption.line(x=\"dayofweek\", y=f\"{NOAA2010Dataset.FRESNO_CA}_winter\", source=usa_electricity_season_source, color=color_map[\"winter\"], alpha=0.7, line_width=3)\n",
    "l12 = fresno_seasonality_total_consumption.square(x=\"dayofweek\", y=f\"{NOAA2010Dataset.FRESNO_CA}_winter\", source=usa_electricity_season_source, color=color_map[\"winter\"], alpha=0.7, size=10)\n",
    "l21 = fresno_seasonality_total_consumption.line(x=\"dayofweek\", y=f\"{NOAA2010Dataset.FRESNO_CA}_spring\", source=usa_electricity_season_source, color=color_map[\"spring\"], alpha=0.7,  line_width=3)\n",
    "l22 = fresno_seasonality_total_consumption.circle(x=\"dayofweek\", y=f\"{NOAA2010Dataset.FRESNO_CA}_spring\", source=usa_electricity_season_source, color=color_map[\"spring\"], alpha=0.7,  size=10)\n",
    "l31 = fresno_seasonality_total_consumption.line(x=\"dayofweek\", y=f\"{NOAA2010Dataset.FRESNO_CA}_summer\", source=usa_electricity_season_source, color=color_map[\"summer\"], alpha=0.7,  line_width=3)\n",
    "l32 = fresno_seasonality_total_consumption.diamond(x=\"dayofweek\", y=f\"{NOAA2010Dataset.FRESNO_CA}_summer\", source=usa_electricity_season_source, color=color_map[\"summer\"], alpha=0.7,  size=10)\n",
    "l41 = fresno_seasonality_total_consumption.line(x=\"dayofweek\", y=f\"{NOAA2010Dataset.FRESNO_CA}_fall\", source=usa_electricity_season_source, color=color_map[\"fall\"], alpha=0.7,  line_width=3)\n",
    "l42 = fresno_seasonality_total_consumption.cross(x=\"dayofweek\", y=f\"{NOAA2010Dataset.FRESNO_CA}_fall\", source=usa_electricity_season_source, color=color_map[\"fall\"], alpha=0.7, size=10)\n",
    "fresno_seasonality_total_consumption.add_layout(Legend(items=[(\"Winter 2010\", [l11, l12]), (\"Spring 2010\", [l21, l22]), (\"Summer 2010\", [l31, l32]), (\"Fall 2010\", [l41, l42]),],), \"below\")\n",
    "\n",
    "\n",
    "miami_seasonality_total_consumption = figure(title=\"Miami, FL\",\n",
    "                                               x_axis_label=\"Day of the week\",\n",
    "                                               y_axis_label=\"Seasonal electric power [MW]\",\n",
    "                                               y_range=rochester_seasonality_total_consumption.y_range,\n",
    "                                               x_range=rochester_seasonality_total_consumption.x_range,\n",
    "                                               **FIGURE_TOOLS,\n",
    "                                              )\n",
    "miami_seasonality_total_consumption.add_tools(electrical_power_use_season_tool_by_city[NOAA2010Dataset.MIAMI_FL])\n",
    "l11 = miami_seasonality_total_consumption.line(x=\"dayofweek\", y=f\"{NOAA2010Dataset.MIAMI_FL}_winter\", source=usa_electricity_season_source, color=color_map[\"winter\"], alpha=0.7, line_width=3)\n",
    "l12 = miami_seasonality_total_consumption.square(x=\"dayofweek\", y=f\"{NOAA2010Dataset.MIAMI_FL}_winter\", source=usa_electricity_season_source, color=color_map[\"winter\"], alpha=0.7, size=10)\n",
    "l21 = miami_seasonality_total_consumption.line(x=\"dayofweek\", y=f\"{NOAA2010Dataset.MIAMI_FL}_spring\", source=usa_electricity_season_source, color=color_map[\"spring\"], alpha=0.7,  line_width=3)\n",
    "l22 = miami_seasonality_total_consumption.circle(x=\"dayofweek\", y=f\"{NOAA2010Dataset.MIAMI_FL}_spring\", source=usa_electricity_season_source, color=color_map[\"spring\"], alpha=0.7,  size=10)\n",
    "l31 = miami_seasonality_total_consumption.line(x=\"dayofweek\", y=f\"{NOAA2010Dataset.MIAMI_FL}_summer\", source=usa_electricity_season_source, color=color_map[\"summer\"], alpha=0.7,  line_width=3)\n",
    "l32 = miami_seasonality_total_consumption.diamond(x=\"dayofweek\", y=f\"{NOAA2010Dataset.MIAMI_FL}_summer\", source=usa_electricity_season_source, color=color_map[\"summer\"], alpha=0.7,  size=10)\n",
    "l41 = miami_seasonality_total_consumption.line(x=\"dayofweek\", y=f\"{NOAA2010Dataset.MIAMI_FL}_fall\", source=usa_electricity_season_source, color=color_map[\"fall\"], alpha=0.7,  line_width=3)\n",
    "l42 = miami_seasonality_total_consumption.cross(x=\"dayofweek\", y=f\"{NOAA2010Dataset.MIAMI_FL}_fall\", source=usa_electricity_season_source, color=color_map[\"fall\"], alpha=0.7, size=10)\n",
    "miami_seasonality_total_consumption.add_layout(Legend(items=[(\"Winter 2010\", [l11, l12]), (\"Spring 2010\", [l21, l22]), (\"Summer 2010\", [l31, l32]), (\"Fall 2010\", [l41, l42]),],), \"below\")\n",
    "\n"
   ]
  },
  {
   "cell_type": "code",
   "execution_count": null,
   "metadata": {},
   "outputs": [],
   "source": [
    "show(layout([[rochester_seasonality_total_consumption, olympia_seasonality_total_consumption],[fresno_seasonality_total_consumption, miami_seasonality_total_consumption]])) "
   ]
  },
  {
   "cell_type": "markdown",
   "metadata": {
    "slideshow": {
     "slide_type": "subslide"
    }
   },
   "source": [
    "### Europe"
   ]
  },
  {
   "cell_type": "code",
   "execution_count": null,
   "metadata": {
    "jupyter": {
     "source_hidden": true
    },
    "slideshow": {
     "slide_type": "skip"
    }
   },
   "outputs": [],
   "source": [
    "dayofweek = range(0,7)\n",
    "seasons = [\"winter\", \"spring\", \"summer\", \"fall\"]\n",
    "cities = [InsPireDataset.LONDON_UK, InsPireDataset.MADRID_SPA, InsPireDataset.ROME_IT, InsPireDataset.STUTTGART_GER]\n",
    "\n",
    "total_consumption_average_per_day = dict()\n",
    "electrical_power_use_season_tool_by_city = dict()\n",
    "for city in cities:\n",
    "    for season in seasons:\n",
    "        days_for_city_and_season = np.empty(shape=(7,), dtype=np.float32)\n",
    "        \n",
    "        for day in dayofweek:\n",
    "            days_for_city_and_season[day] = europe_data[(europe_data.city_key == city) & (europe_data.season == season) & (europe_data.dayofweek == day)][\"E_el\"].mean()#/1000\n",
    "    \n",
    "        total_consumption_average_per_day[f\"{city}_{season}\"] = days_for_city_and_season\n",
    "        electrical_power_use_season_tool_by_city[city] = HoverTool(tooltips=[(\"Day\", \"@dayofweek{%d}\"),\n",
    "                                                                             ('Electricity Winter', f'@{city}_winter' + '{%0.2f MW}'),\n",
    "                                                                             ('Electricity Spring', f'@{city}_spring' + '{%0.2f MW}'),\n",
    "                                                                             ('Electricity Summer', f'@{city}_summer' + '{%0.2f MW}'),\n",
    "                                                                             ('Electricity Fall', f'@{city}_fall' + '{%0.2f MW}'),],\n",
    "                                                                   formatters={'@hour': 'printf',\n",
    "                                                                               f'@{city}_winter': 'printf',\n",
    "                                                                               f'@{city}_spring': 'printf',\n",
    "                                                                               f'@{city}_summer': 'printf',\n",
    "                                                                               f'@{city}_fall': \"printf\"},)\n",
    "        \n",
    "x=[\"Monday\", \"Tuesday\", \"Wednesday\", \"Thursday\", \"Friday\", \"Saturday\", \"Sunday\"]\n",
    "\n",
    "europe_electricity_season_source = ColumnDataSource({\"dayofweek\": x, **total_consumption_average_per_day})"
   ]
  },
  {
   "cell_type": "code",
   "execution_count": null,
   "metadata": {
    "jupyter": {
     "source_hidden": true
    },
    "slideshow": {
     "slide_type": "skip"
    }
   },
   "outputs": [],
   "source": [
    "london_seasonality_total_consumption = figure(title=\"London, United Kingdom\",\n",
    "                                              x_range=FactorRange(*x),\n",
    "                                              x_axis_label=\"Day of the week\",\n",
    "                                              y_axis_label=\"Seasonal electric power [MW]\",\n",
    "                                              **FIGURE_TOOLS,\n",
    "                                             )\n",
    "london_seasonality_total_consumption.add_tools(electrical_power_use_season_tool_by_city[InsPireDataset.LONDON_UK])\n",
    "l11 = london_seasonality_total_consumption.line(x=\"dayofweek\", y=f\"{InsPireDataset.LONDON_UK}_winter\", source=europe_electricity_season_source, color=color_map[\"winter\"], alpha=0.7, line_width=3)\n",
    "l12 = london_seasonality_total_consumption.square(x=\"dayofweek\", y=f\"{InsPireDataset.LONDON_UK}_winter\", source=europe_electricity_season_source, color=color_map[\"winter\"], alpha=0.7, size=10)\n",
    "l21 = london_seasonality_total_consumption.line(x=\"dayofweek\", y=f\"{InsPireDataset.LONDON_UK}_spring\", source=europe_electricity_season_source, color=color_map[\"spring\"], alpha=0.7,  line_width=3)\n",
    "l22 = london_seasonality_total_consumption.circle(x=\"dayofweek\", y=f\"{InsPireDataset.LONDON_UK}_spring\", source=europe_electricity_season_source, color=color_map[\"spring\"], alpha=0.7,  size=10)\n",
    "l31 = london_seasonality_total_consumption.line(x=\"dayofweek\", y=f\"{InsPireDataset.LONDON_UK}_summer\", source=europe_electricity_season_source, color=color_map[\"summer\"], alpha=0.7,  line_width=3)\n",
    "l32 = london_seasonality_total_consumption.diamond(x=\"dayofweek\", y=f\"{InsPireDataset.LONDON_UK}_summer\", source=europe_electricity_season_source, color=color_map[\"summer\"], alpha=0.7,  size=10)\n",
    "l41 = london_seasonality_total_consumption.line(x=\"dayofweek\", y=f\"{InsPireDataset.LONDON_UK}_fall\", source=europe_electricity_season_source, color=color_map[\"fall\"], alpha=0.7,  line_width=3)\n",
    "l42 = london_seasonality_total_consumption.cross(x=\"dayofweek\", y=f\"{InsPireDataset.LONDON_UK}_fall\", source=europe_electricity_season_source, color=color_map[\"fall\"], alpha=0.7, size=10)\n",
    "london_seasonality_total_consumption.add_layout(Legend(items=[(\"Winter 2017\", [l11, l12]), (\"Spring 2017\", [l21, l22]), (\"Summer 2017\", [l31, l32]), (\"Fall 2017\", [l41, l42]),],), \"below\")\n",
    "\n",
    "\n",
    "stuttgart_seasonality_total_consumption = figure(title=\"Stuttgart, Germany\",\n",
    "                                                 y_range=london_seasonality_total_consumption.y_range,\n",
    "                                                 x_range=london_seasonality_total_consumption.x_range,\n",
    "                                                 x_axis_label=\"Day of the week\",\n",
    "                                                 y_axis_label=\"Seasonal electric power [MW]\",\n",
    "                                                 **FIGURE_TOOLS,\n",
    "                                                )\n",
    "stuttgart_seasonality_total_consumption.add_tools(electrical_power_use_season_tool_by_city[InsPireDataset.STUTTGART_GER])\n",
    "l11 = stuttgart_seasonality_total_consumption.line(x=\"dayofweek\", y=f\"{InsPireDataset.STUTTGART_GER}_winter\", source=europe_electricity_season_source, color=color_map[\"winter\"], alpha=0.7, line_width=3)\n",
    "l12 = stuttgart_seasonality_total_consumption.square(x=\"dayofweek\", y=f\"{InsPireDataset.STUTTGART_GER}_winter\", source=europe_electricity_season_source, color=color_map[\"winter\"], alpha=0.7, size=10)\n",
    "l21 = stuttgart_seasonality_total_consumption.line(x=\"dayofweek\", y=f\"{InsPireDataset.STUTTGART_GER}_spring\", source=europe_electricity_season_source, color=color_map[\"spring\"], alpha=0.7,  line_width=3)\n",
    "l22 = stuttgart_seasonality_total_consumption.circle(x=\"dayofweek\", y=f\"{InsPireDataset.STUTTGART_GER}_spring\", source=europe_electricity_season_source, color=color_map[\"spring\"], alpha=0.7,  size=10)\n",
    "l31 = stuttgart_seasonality_total_consumption.line(x=\"dayofweek\", y=f\"{InsPireDataset.STUTTGART_GER}_summer\", source=europe_electricity_season_source, color=color_map[\"summer\"], alpha=0.7,  line_width=3)\n",
    "l32 = stuttgart_seasonality_total_consumption.diamond(x=\"dayofweek\", y=f\"{InsPireDataset.STUTTGART_GER}_summer\", source=europe_electricity_season_source, color=color_map[\"summer\"], alpha=0.7,  size=10)\n",
    "l41 = stuttgart_seasonality_total_consumption.line(x=\"dayofweek\", y=f\"{InsPireDataset.STUTTGART_GER}_fall\", source=europe_electricity_season_source, color=color_map[\"fall\"], alpha=0.7,  line_width=3)\n",
    "l42 = stuttgart_seasonality_total_consumption.cross(x=\"dayofweek\", y=f\"{InsPireDataset.STUTTGART_GER}_fall\", source=europe_electricity_season_source, color=color_map[\"fall\"], alpha=0.7, size=10)\n",
    "stuttgart_seasonality_total_consumption.add_layout(Legend(items=[(\"Winter 2017\", [l11, l12]), (\"Spring 2017\", [l21, l22]), (\"Summer 2017\", [l31, l32]), (\"Fall 2017\", [l41, l42]),],), \"below\")\n",
    "\n",
    "\n",
    "\n",
    "rome_seasonality_total_consumption = figure(title=\"Rome, Italy\",\n",
    "                                            y_range=london_seasonality_total_consumption.y_range,\n",
    "                                            x_range=london_seasonality_total_consumption.x_range,\n",
    "                                            x_axis_label=\"Day of the week\",\n",
    "                                            y_axis_label=\"Seasonal electric power [MW]\",\n",
    "                                            **FIGURE_TOOLS,\n",
    "                                           )\n",
    "rome_seasonality_total_consumption.add_tools(electrical_power_use_season_tool_by_city[InsPireDataset.ROME_IT])\n",
    "l11 = rome_seasonality_total_consumption.line(x=\"dayofweek\", y=f\"{InsPireDataset.ROME_IT}_winter\", source=europe_electricity_season_source, color=color_map[\"winter\"], alpha=0.7, line_width=3)\n",
    "l12 = rome_seasonality_total_consumption.square(x=\"dayofweek\", y=f\"{InsPireDataset.ROME_IT}_winter\", source=europe_electricity_season_source, color=color_map[\"winter\"], alpha=0.7, size=10)\n",
    "l21 = rome_seasonality_total_consumption.line(x=\"dayofweek\", y=f\"{InsPireDataset.ROME_IT}_spring\", source=europe_electricity_season_source, color=color_map[\"spring\"], alpha=0.7,  line_width=3)\n",
    "l22 = rome_seasonality_total_consumption.circle(x=\"dayofweek\", y=f\"{InsPireDataset.ROME_IT}_spring\", source=europe_electricity_season_source, color=color_map[\"spring\"], alpha=0.7,  size=10)\n",
    "l31 = rome_seasonality_total_consumption.line(x=\"dayofweek\", y=f\"{InsPireDataset.ROME_IT}_summer\", source=europe_electricity_season_source, color=color_map[\"summer\"], alpha=0.7,  line_width=3)\n",
    "l32 = rome_seasonality_total_consumption.diamond(x=\"dayofweek\", y=f\"{InsPireDataset.ROME_IT}_summer\", source=europe_electricity_season_source, color=color_map[\"summer\"], alpha=0.7,  size=10)\n",
    "l41 = rome_seasonality_total_consumption.line(x=\"dayofweek\", y=f\"{InsPireDataset.ROME_IT}_fall\", source=europe_electricity_season_source, color=color_map[\"fall\"], alpha=0.7,  line_width=3)\n",
    "l42 = rome_seasonality_total_consumption.cross(x=\"dayofweek\", y=f\"{InsPireDataset.ROME_IT}_fall\", source=europe_electricity_season_source, color=color_map[\"fall\"], alpha=0.7, size=10)\n",
    "rome_seasonality_total_consumption.add_layout(Legend(items=[(\"Winter 2017\", [l11, l12]), (\"Spring 2017\", [l21, l22]), (\"Summer 2017\", [l31, l32]), (\"Fall 2017\", [l41, l42]),],), \"below\")\n",
    "\n",
    "\n",
    "madrid_seasonality_total_consumption = figure(title=\" Madrid, Spain\",\n",
    "                                              y_range=london_seasonality_total_consumption.y_range,\n",
    "                                              x_range=london_seasonality_total_consumption.x_range,\n",
    "                                              x_axis_label=\"Day of the week\",\n",
    "                                              y_axis_label=\"Seasonal electric power [MW]\",\n",
    "                                              **FIGURE_TOOLS,\n",
    "                                             )\n",
    "madrid_seasonality_total_consumption.add_tools(electrical_power_use_season_tool_by_city[InsPireDataset.MADRID_SPA])\n",
    "l11 = madrid_seasonality_total_consumption.line(x=\"dayofweek\", y=f\"{InsPireDataset.MADRID_SPA}_winter\", source=europe_electricity_season_source, color=color_map[\"winter\"], alpha=0.7, line_width=3)\n",
    "l12 = madrid_seasonality_total_consumption.square(x=\"dayofweek\", y=f\"{InsPireDataset.MADRID_SPA}_winter\", source=europe_electricity_season_source, color=color_map[\"winter\"], alpha=0.7, size=10)\n",
    "l21 = madrid_seasonality_total_consumption.line(x=\"dayofweek\", y=f\"{InsPireDataset.MADRID_SPA}_spring\", source=europe_electricity_season_source, color=color_map[\"spring\"], alpha=0.7,  line_width=3)\n",
    "l22 = madrid_seasonality_total_consumption.circle(x=\"dayofweek\", y=f\"{InsPireDataset.MADRID_SPA}_spring\", source=europe_electricity_season_source, color=color_map[\"spring\"], alpha=0.7,  size=10)\n",
    "l31 = madrid_seasonality_total_consumption.line(x=\"dayofweek\", y=f\"{InsPireDataset.MADRID_SPA}_summer\", source=europe_electricity_season_source, color=color_map[\"summer\"], alpha=0.7,  line_width=3)\n",
    "l32 = madrid_seasonality_total_consumption.diamond(x=\"dayofweek\", y=f\"{InsPireDataset.MADRID_SPA}_summer\", source=europe_electricity_season_source, color=color_map[\"summer\"], alpha=0.7,  size=10)\n",
    "l41 = madrid_seasonality_total_consumption.line(x=\"dayofweek\", y=f\"{InsPireDataset.MADRID_SPA}_fall\", source=europe_electricity_season_source, color=color_map[\"fall\"], alpha=0.7,  line_width=3)\n",
    "l42 = madrid_seasonality_total_consumption.cross(x=\"dayofweek\", y=f\"{InsPireDataset.MADRID_SPA}_fall\", source=europe_electricity_season_source, color=color_map[\"fall\"], alpha=0.7, size=10)\n",
    "madrid_seasonality_total_consumption.add_layout(Legend(items=[(\"Winter 2017\", [l11, l12]), (\"Spring 2017\", [l21, l22]), (\"Summer 2017\", [l31, l32]), (\"Fall 2017\", [l41, l42]),],), \"below\")\n",
    "\n"
   ]
  },
  {
   "cell_type": "code",
   "execution_count": null,
   "metadata": {},
   "outputs": [],
   "source": [
    "show(layout([[london_seasonality_total_consumption, stuttgart_seasonality_total_consumption],[rome_seasonality_total_consumption, madrid_seasonality_total_consumption]])) "
   ]
  },
  {
   "cell_type": "markdown",
   "metadata": {
    "slideshow": {
     "slide_type": "slide"
    }
   },
   "source": [
    "## Heat Losses"
   ]
  },
  {
   "cell_type": "markdown",
   "metadata": {
    "slideshow": {
     "slide_type": "subslide"
    }
   },
   "source": [
    "### USA"
   ]
  },
  {
   "cell_type": "code",
   "execution_count": null,
   "metadata": {
    "jupyter": {
     "source_hidden": true
    }
   },
   "outputs": [],
   "source": [
    "rochester_heat_loss_air_temperature = figure(title=\"Rochester, NY - Heat Loss\",\n",
    "                                          y_axis_label=\"Heat Loss\",\n",
    "                                          x_axis_label=\"Air Temperature [ºC]\",\n",
    "                                            **FIGURE_TOOLS,)\n",
    "rochester_heat_loss_air_temperature.circle(x=\"air_temp\", y=\"E_loss_tot\", color=color_map[\"rochester\"], alpha=0.2, source=us_source, view=rochester_view)\n",
    "\n",
    "\n",
    "olympia_heat_loss_air_temperature = figure(title=\"Olympia, WA - Heat Loss\",\n",
    "                                          y_range=rochester_heat_loss_air_temperature.y_range,\n",
    "                                          x_range=rochester_heat_loss_air_temperature.x_range,\n",
    "                                          y_axis_label=\"Heat Loss\",\n",
    "                                          x_axis_label=\"Air Temperature [ºC]\",\n",
    "                                          **FIGURE_TOOLS,)\n",
    "olympia_heat_loss_air_temperature.circle(x=\"air_temp\", y=\"E_loss_tot\", color=color_map[\"olympia\"], alpha=0.2, source=us_source, view=olympia_view)\n",
    "\n",
    "\n",
    "fresno_heat_loss_air_temperature = figure(title=\"Fresno, CA - Heat Loss\",\n",
    "                                          y_range=rochester_heat_loss_air_temperature.y_range,\n",
    "                                          x_range=rochester_heat_loss_air_temperature.x_range,\n",
    "                                          y_axis_label=\"Heat Loss\",\n",
    "                                          x_axis_label=\"Air Temperature [ºC]\",\n",
    "                                          **FIGURE_TOOLS,)\n",
    "fresno_heat_loss_air_temperature.circle(x=\"air_temp\", y=\"E_loss_tot\", color=color_map[\"fresno\"], alpha=0.2, source=us_source, view=fresno_view)\n",
    "\n",
    "\n",
    "miami_heat_loss_air_temperature = figure(title=\"Miami, FL - Heat Loss\",\n",
    "                                         y_range=rochester_heat_loss_air_temperature.y_range,\n",
    "                                         x_range=rochester_heat_loss_air_temperature.x_range,\n",
    "                                         y_axis_label=\"Heat Loss\",\n",
    "                                         x_axis_label=\"Air Temperature [ºC]\",\n",
    "                                         **FIGURE_TOOLS,)\n",
    "miami_heat_loss_air_temperature.circle(x=\"air_temp\", y=\"E_loss_tot\", color=color_map[\"miami\"], alpha=0.2, source=us_source, view=miami_view)\n",
    "\n",
    "\n",
    "all_usa_heat_loss_air_temperature = figure(title=\"Heat Losses in USA cities\",\n",
    "                                           y_axis_label=\"Heat Loss\",\n",
    "                                           x_axis_label=\"Air Temperature [ºC]\",\n",
    "                                          **{**FIGURE_TOOLS, **FULL_WIDTH_FIGURE_TOOLS})\n",
    "all_usa_heat_loss_air_temperature.circle(x=\"air_temp\", y=\"E_loss_tot\", legend_label=\"Rochester, NY\", color=color_map[\"rochester\"], alpha=0.2, source=us_source, view=rochester_view)\n",
    "all_usa_heat_loss_air_temperature.circle(x=\"air_temp\", y=\"E_loss_tot\", legend_label=\"Olympia, WA\", color=color_map[\"olympia\"], alpha=0.2, source=us_source, view=olympia_view)\n",
    "all_usa_heat_loss_air_temperature.circle(x=\"air_temp\", y=\"E_loss_tot\", legend_label=\"Fresno, CA\", color=color_map[\"fresno\"], alpha=0.2, source=us_source, view=fresno_view)\n",
    "all_usa_heat_loss_air_temperature.circle(x=\"air_temp\", y=\"E_loss_tot\", legend_label=\"Miami, FL\", color=color_map[\"miami\"], alpha=0.2, source=us_source, view=miami_view)\n",
    "\n"
   ]
  },
  {
   "cell_type": "code",
   "execution_count": null,
   "metadata": {},
   "outputs": [],
   "source": [
    "show(layout([[all_usa_heat_loss_air_temperature],[rochester_heat_loss_air_temperature, olympia_heat_loss_air_temperature ,],[fresno_heat_loss_air_temperature, miami_heat_loss_air_temperature],]))"
   ]
  },
  {
   "cell_type": "markdown",
   "metadata": {
    "slideshow": {
     "slide_type": "subslide"
    }
   },
   "source": [
    "### Europe"
   ]
  },
  {
   "cell_type": "code",
   "execution_count": null,
   "metadata": {
    "jupyter": {
     "source_hidden": true
    },
    "slideshow": {
     "slide_type": "skip"
    }
   },
   "outputs": [],
   "source": [
    "london_heat_loss_air_temperature = figure(title=\"London, United Kingdom - Heat Loss\",\n",
    "                                          y_axis_label=\"Heat Loss\",\n",
    "                                          x_axis_label=\"Air Temperature [ºC]\",\n",
    "                                            **FIGURE_TOOLS,)\n",
    "london_heat_loss_air_temperature.circle(x=\"air_temp\", y=\"E_loss_tot\", color=color_map[\"london\"], alpha=0.2, source=europe_source, view=london_view)\n",
    "\n",
    "\n",
    "madrid_heat_loss_air_temperature = figure(title=\"Madrid, Spain - Heat Loss\",\n",
    "                                          y_range=london_heat_loss_air_temperature.y_range,\n",
    "                                          x_range=london_heat_loss_air_temperature.x_range,\n",
    "                                          y_axis_label=\"Heat Loss\",\n",
    "                                          x_axis_label=\"Air Temperature [ºC]\",\n",
    "                                          **FIGURE_TOOLS,)\n",
    "madrid_heat_loss_air_temperature.circle(x=\"air_temp\", y=\"E_loss_tot\", color=color_map[\"madrid\"], alpha=0.2, source=europe_source, view=madrid_view)\n",
    "\n",
    "\n",
    "rome_heat_loss_air_temperature = figure(title=\"Rome, Italy - Heat Loss\",\n",
    "                                        y_range=london_heat_loss_air_temperature.y_range,\n",
    "                                        x_range=london_heat_loss_air_temperature.x_range,\n",
    "                                        y_axis_label=\"Heat Loss\",\n",
    "                                        x_axis_label=\"Air Temperature [ºC]\",\n",
    "                                          **FIGURE_TOOLS,)\n",
    "rome_heat_loss_air_temperature.circle(x=\"air_temp\", y=\"E_loss_tot\", color=color_map[\"rome\"], alpha=0.2, source=europe_source, view=rome_view)\n",
    "\n",
    "\n",
    "stuttgart_heat_loss_air_temperature = figure(title=\"Stuttgart, Germany - Heat Loss\",\n",
    "                                             y_range=london_heat_loss_air_temperature.y_range,\n",
    "                                             x_range=london_heat_loss_air_temperature.x_range,\n",
    "                                             y_axis_label=\"Heat Loss\",\n",
    "                                             x_axis_label=\"Air Temperature [ºC]\",\n",
    "                                         **FIGURE_TOOLS,)\n",
    "stuttgart_heat_loss_air_temperature.circle(x=\"air_temp\", y=\"E_loss_tot\", color=color_map[\"stuttgart\"], alpha=0.2, source=europe_source, view=stuttgart_view)\n",
    "\n",
    "\n",
    "all_europe_heat_loss_air_temperature = figure(title=\"Heat Losses in European cities\",\n",
    "                                              y_axis_label=\"Heat Loss\",\n",
    "                                              x_axis_label=\"Air Temperature [ºC]\",\n",
    "                                          **{**FIGURE_TOOLS, **FULL_WIDTH_FIGURE_TOOLS})\n",
    "all_europe_heat_loss_air_temperature.circle(x=\"air_temp\", y=\"E_loss_tot\", legend_label=\"London, UK\", color=color_map[\"london\"], alpha=0.2, source=europe_source, view=london_view)\n",
    "all_europe_heat_loss_air_temperature.circle(x=\"air_temp\", y=\"E_loss_tot\", legend_label=\"Stuttgart, Germany\", color=color_map[\"stuttgart\"], alpha=0.2, source=europe_source, view=stuttgart_view)\n",
    "all_europe_heat_loss_air_temperature.circle(x=\"air_temp\", y=\"E_loss_tot\", legend_label=\"Rome, Italy\", color=color_map[\"rome\"], alpha=0.2, source=europe_source, view=rome_view)\n",
    "all_europe_heat_loss_air_temperature.circle(x=\"air_temp\", y=\"E_loss_tot\", legend_label=\"Madrid, Spain\", color=color_map[\"madrid\"], alpha=0.2, source=europe_source, view=madrid_view)\n",
    "\n"
   ]
  },
  {
   "cell_type": "code",
   "execution_count": null,
   "metadata": {},
   "outputs": [],
   "source": [
    "show(layout([[all_europe_heat_loss_air_temperature],[london_heat_loss_air_temperature, stuttgart_heat_loss_air_temperature ,],[rome_heat_loss_air_temperature, madrid_heat_loss_air_temperature],]))"
   ]
  },
  {
   "cell_type": "markdown",
   "metadata": {
    "slideshow": {
     "slide_type": "slide"
    }
   },
   "source": [
    "## Waste heat potential by city\n",
    "There are many aspects of potential use of waste heat sources. A theoretical potential reflects the maximum output of the source if working all the hours in a year at its max. capacity. Instead, when considering the temporal allocation, its maximum output is constrained by the actual hours operation in which the source can be exploited.\n",
    "Moreover, the availability of waste heat does not necessarily match the heat demand, and therefore its practical use is limited by this mismatch.\n",
    "Visualization can be found here: https://public.flourish.studio/visualisation/3742380/\n",
    "Rome case: https://public.flourish.studio/visualisation/3742465/"
   ]
  },
  {
   "cell_type": "code",
   "execution_count": null,
   "metadata": {
    "jupyter": {
     "source_hidden": true
    },
    "slideshow": {
     "slide_type": "skip"
    }
   },
   "outputs": [],
   "source": [
    "london['source1_cap'].max()*london['hourofyear'].max()"
   ]
  },
  {
   "cell_type": "code",
   "execution_count": null,
   "metadata": {
    "jupyter": {
     "source_hidden": true
    },
    "slideshow": {
     "slide_type": "skip"
    }
   },
   "outputs": [],
   "source": [
    "source1_theoretical=[london['source1_cap'].max()*london['hourofyear'].max(), stuttgart['source1_cap'].max()*stuttgart['hourofyear'].max(), madrid['source1_cap'].max()*madrid['hourofyear'].max(), rome['source1_cap'].max()*rome['hourofyear'].max(), miami['source1_cap'].max()*miami['hourofyear'].max(), fresno['source1_cap'].max()*fresno['hourofyear'].max(), olympia['source1_cap'].max()*olympia['hourofyear'].max(), rochester['source1_cap'].max()*rochester['hourofyear'].max()]\n",
    "source2_theoretical=[london['source2_cap'].max()*london['hourofyear'].max(), stuttgart['source2_cap'].max()*stuttgart['hourofyear'].max(), madrid['source2_cap'].max()*madrid['hourofyear'].max(), rome['source2_cap'].max()*rome['hourofyear'].max(), miami['source2_cap'].max()*miami['hourofyear'].max(), fresno['source2_cap'].max()*fresno['hourofyear'].max(), olympia['source2_cap'].max()*olympia['hourofyear'].max(), rochester['source2_cap'].max()*rochester['hourofyear'].max()]\n",
    "\n",
    "source1_theoretical_y =pd.Series(source1_theoretical)\n",
    "source2_theoretical_y =pd.Series(source2_theoretical)\n",
    "\n",
    "source1_technical=[london['source1_cap'].sum(), stuttgart['source1_cap'].sum(), madrid['source1_cap'].sum(), rome['source1_cap'].sum(), miami['source1_cap'].sum(), fresno['source1_cap'].sum(), olympia['source1_cap'].sum(), rochester['source1_cap'].sum()]\n",
    "source2_technical=[london['source2_cap'].sum(), stuttgart['source2_cap'].sum(), madrid['source2_cap'].sum(), rome['source2_cap'].sum(), miami['source2_cap'].sum(), fresno['source2_cap'].sum(), olympia['source2_cap'].sum(), rochester['source2_cap'].sum()]\n",
    "\n",
    "source1_technical_y =pd.Series(source1_technical)\n",
    "source2_technical_y =pd.Series(source2_technical)\n",
    "\n",
    "source1_practical_y= [london['heat_source1'].sum(), stuttgart['heat_source1'].sum(), madrid['heat_source1'].sum(), rome['heat_source1'].sum(), miami['heat_source1'].sum(), fresno['heat_source1'].sum(), olympia['heat_source1'].sum(), rochester['heat_source1'].sum()]\n",
    "source2_practical_y= [london['heat_source2'].sum(), stuttgart['heat_source2'].sum(), madrid['heat_source2'].sum(), rome['heat_source2'].sum(), miami['heat_source2'].sum(), fresno['heat_source2'].sum(), olympia['heat_source2'].sum(), rochester['heat_source2'].sum()]\n",
    "\n",
    "\n",
    "source1_practical_y =pd.Series(source1_practical_y)\n",
    "source2_practical_y =pd.Series(source2_practical_y)\n",
    "\n",
    "\n",
    "theoretical_potential= source1_theoretical_y+ source2_theoretical_y\n",
    "technical_potential= source1_technical_y+ source2_technical_y\n",
    "practical_potential=source1_practical_y + source2_practical_y\n",
    "\n",
    "print(theoretical_potential, technical_potential, practical_potential)\n"
   ]
  },
  {
   "cell_type": "markdown",
   "metadata": {
    "slideshow": {
     "slide_type": "slide"
    }
   },
   "source": [
    "# Thanks for your attention!"
   ]
  },
  {
   "cell_type": "code",
   "execution_count": null,
   "metadata": {},
   "outputs": [],
   "source": []
  }
 ],
 "metadata": {
  "celltoolbar": "Slideshow",
  "kernelspec": {
   "display_name": "Python 3",
   "language": "python",
   "name": "python3"
  },
  "language_info": {
   "codemirror_mode": {
    "name": "ipython",
    "version": 3
   },
   "file_extension": ".py",
   "mimetype": "text/x-python",
   "name": "python",
   "nbconvert_exporter": "python",
   "pygments_lexer": "ipython3",
   "version": "3.8.1"
  }
 },
 "nbformat": 4,
 "nbformat_minor": 4
}
