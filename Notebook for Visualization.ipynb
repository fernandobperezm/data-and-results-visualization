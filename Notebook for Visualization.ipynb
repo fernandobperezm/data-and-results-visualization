{
 "cells": [
  {
   "cell_type": "markdown",
   "metadata": {},
   "source": [
    "# Notebook for visualizations"
   ]
  },
  {
   "cell_type": "code",
   "execution_count": null,
   "metadata": {},
   "outputs": [],
   "source": [
    "import pandas as pd\n",
    "import matplotlib.pyplot as plt\n",
    "import seaborn as sns\n",
    "import numpy as np\n",
    "import os\n",
    "\n",
    "from bokeh.plotting import figure, output_notebook, show\n",
    "from bokeh.layouts import row, layout\n",
    "from bokeh.models import ColumnDataSource\n",
    "from bokeh.transform import factor_cmap, factor_mark\n",
    "from IPython.display import display, Math\n",
    "from scipy import optimize\n",
    "from math import exp, cos, sqrt, pi, sin, sqrt\n",
    "from typing import List\n",
    "\n",
    "from src.OspitalettoDataset import OspitalettoDataset\n",
    "from src.NOAA2010Dataset import NOAA2010Dataset\n",
    "from src.InsPireDataset import InsPireDataset\n",
    "\n",
    "mypalette = sns.color_palette(['#51ffda']) # https://www.hsluv.org/\n",
    "sns.set_palette(mypalette)\n",
    "\n",
    "output_notebook()"
   ]
  },
  {
   "cell_type": "code",
   "execution_count": null,
   "metadata": {},
   "outputs": [],
   "source": [
    "ospitaletto2019 = OspitalettoDataset()\n",
    "noaa2010Dataset = NOAA2010Dataset()\n",
    "insPireDataset = InsPireDataset()\n",
    "\n",
    "AVAILABLE_DATASETS = dict()\n",
    "AVAILABLE_DATASETS.update(ospitaletto2019.load_processed_data())\n",
    "AVAILABLE_DATASETS.update(noaa2010Dataset.load_processed_data())\n",
    "AVAILABLE_DATASETS.update(insPireDataset.load_processed_data())\n",
    "AVAILABLE_DATASETS.keys()"
   ]
  },
  {
   "cell_type": "markdown",
   "metadata": {},
   "source": [
    "## Important visualization functions"
   ]
  },
  {
   "cell_type": "code",
   "execution_count": null,
   "metadata": {},
   "outputs": [],
   "source": [
    "def visualize_on_same_row(data_list: List, ylabel: str, xlabel: str, suptitle: str):\n",
    "    fig, axs = plt.subplots(nrows=1, ncols=5, sharey=True, figsize=(40,8), subplot_kw={\"ylabel\": ylabel, \"xlabel\": xlabel})\n",
    "    \n",
    "    axs[0].set_title('Miami, FL, USA')\n",
    "    sns.lineplot(data=data_list[0], ax=axs[0])\n",
    "\n",
    "    axs[1].set_title('Fresno, CA, USA')\n",
    "    sns.lineplot(data=data_list[1], ax=axs[1])\n",
    "\n",
    "    axs[2].set_title('Olympia, WA, USA')\n",
    "    sns.lineplot(data=data_list[2], ax=axs[2])\n",
    "\n",
    "    axs[3].set_title('Rochester, NY, USA')\n",
    "    sns.lineplot(data=data_list[3], ax=axs[3])\n",
    "\n",
    "    axs[4].set_title('Ospitaletto, Italy')\n",
    "    sns.lineplot(data=data_list[4], ax=axs[4])\n",
    "\n",
    "    fig.suptitle(suptitle)\n",
    "    \n",
    "    return fig, axs\n",
    "    "
   ]
  },
  {
   "cell_type": "markdown",
   "metadata": {},
   "source": [
    "## Visualization of curve fitting"
   ]
  },
  {
   "cell_type": "code",
   "execution_count": null,
   "metadata": {},
   "outputs": [],
   "source": [
    "ospitaletto = AVAILABLE_DATASETS[OspitalettoDataset.OSPITALETTO]\n",
    "\n",
    "miami = AVAILABLE_DATASETS[NOAA2010Dataset.MIAMI_FL]\n",
    "fresno = AVAILABLE_DATASETS[NOAA2010Dataset.FRESNO_CA]\n",
    "olympia = AVAILABLE_DATASETS[NOAA2010Dataset.OLYMPIA_WA]\n",
    "rochester = AVAILABLE_DATASETS[NOAA2010Dataset.ROCHESTER_NY]\n",
    "\n",
    "london = AVAILABLE_DATASETS[InsPireDataset.LONDON_UK]\n",
    "madrid = AVAILABLE_DATASETS[InsPireDataset.MADRID_SPA]\n",
    "rome = AVAILABLE_DATASETS[InsPireDataset.ROME_IT]\n",
    "stuttgart = AVAILABLE_DATASETS[InsPireDataset.STUTTGART_GER]"
   ]
  },
  {
   "cell_type": "code",
   "execution_count": null,
   "metadata": {},
   "outputs": [],
   "source": [
    "ospitaletto[\"city\"] = \"ospitaletto\"\n",
    "\n",
    "miami[\"city\"] = \"miami\"\n",
    "fresno[\"city\"] = \"fresno\"\n",
    "olympia[\"city\"] = \"olympia\"\n",
    "rochester[\"city\"] = \"rochester\"\n",
    "us_data = miami.append(other=fresno).append(other=olympia).append(other=rochester)\n",
    "\n",
    "london[\"city\"] = \"london\"\n",
    "madrid[\"city\"] = \"madrid\"\n",
    "rome[\"city\"] = \"rome\"\n",
    "stuttgart[\"city\"] = \"stuttgart\"\n",
    "europe_data = london.append(other=madrid).append(other=rome).append(other=stuttgart)"
   ]
  },
  {
   "cell_type": "code",
   "execution_count": null,
   "metadata": {},
   "outputs": [],
   "source": [
    "source_usa = ColumnDataSource({\"timestamp\": miami.index,\n",
    "                                 \n",
    "                                 \"miami_air_temp\": miami.air_temp,\n",
    "                                 \"miami_air_temp_fit\": miami.air_temp_fit,\n",
    "                                 \n",
    "                                 \"fresno_air_temp\": fresno.air_temp,\n",
    "                                 \"fresno_air_temp_fit\": fresno.air_temp_fit,\n",
    "                                 \n",
    "                                 \"olympia_air_temp\": olympia.air_temp,\n",
    "                                 \"olympia_air_temp_fit\": olympia.air_temp_fit,\n",
    "                                 \n",
    "                                 \"rochester_air_temp\": rochester.air_temp,\n",
    "                                 \"rochester_air_temp_fit\": rochester.air_temp_fit,\n",
    "                                })\n",
    "\n",
    "max_temp = int(us_data.air_temp.max() + 5)\n",
    "min_temp = int(us_data.air_temp.min() - 5)\n",
    "\n",
    "miami_air_temp_and_fit = figure(plot_width=600, \n",
    "                                plot_height=300, \n",
    "                                x_axis_type=\"datetime\",\n",
    "                                title=\"Miami, Florida, USA\",\n",
    "                                y_range=(min_temp, max_temp),)\n",
    "miami_air_temp_and_fit.line(x=\"timestamp\", y=\"miami_air_temp\", legend_label=\"Air Temp\", color='navy', alpha=0.2, source=source_usa)\n",
    "miami_air_temp_and_fit.circle(x=\"timestamp\", y=\"miami_air_temp_fit\", legend_label=\"Fit Air Temp\", color='navy', alpha=0.1, source=source_usa, size=1)\n",
    "\n",
    "fresno_air_temp_and_fit = figure(plot_width=600,  \n",
    "                                 plot_height=300, \n",
    "                                 x_axis_type=\"datetime\",\n",
    "                                title=\"Fresno, California, USA\",\n",
    "                                y_range=miami_air_temp_and_fit.y_range,\n",
    "                                x_range=miami_air_temp_and_fit.x_range)\n",
    "fresno_air_temp_and_fit.line(x=\"timestamp\", y=\"fresno_air_temp\", legend_label=\"Air Temp\", color='red', alpha=0.2, source=source_usa)\n",
    "fresno_air_temp_and_fit.circle(x=\"timestamp\", y=\"fresno_air_temp_fit\", legend_label=\"Fit Air Temp\", color='red', alpha=0.1, source=source_usa, size=1)\n",
    "\n",
    "olympia_air_temp_and_fit = figure(plot_width=600, \n",
    "                                  plot_height=300, \n",
    "                                  x_axis_type=\"datetime\",\n",
    "                                title=\"Olympia, Washington, USA\",\n",
    "                                y_range=miami_air_temp_and_fit.y_range,\n",
    "                                x_range=miami_air_temp_and_fit.x_range)\n",
    "olympia_air_temp_and_fit.line(x=\"timestamp\", y=\"olympia_air_temp\", legend_label=\"Air Temp\", color='green', alpha=0.2, source=source_usa)\n",
    "olympia_air_temp_and_fit.circle(x=\"timestamp\", y=\"olympia_air_temp_fit\", legend_label=\"Fit Air Temp\", color='green', alpha=1, source=source_usa, size=1)\n",
    "\n",
    "rochester_air_temp_and_fit = figure(plot_width=600, \n",
    "                                    plot_height=300, \n",
    "                                    x_axis_type=\"datetime\",\n",
    "                                title=\"Rochester, New York, USA\",\n",
    "                                y_range=miami_air_temp_and_fit.y_range,\n",
    "                                x_range=miami_air_temp_and_fit.x_range)\n",
    "rochester_air_temp_and_fit.line(x=\"timestamp\", y=\"rochester_air_temp\", legend_label=\"Air Temp\", color='gray', alpha=0.2, source=source_usa)\n",
    "rochester_air_temp_and_fit.circle(x=\"timestamp\", y=\"rochester_air_temp_fit\", legend_label=\"Fit Air Temp\", color='gray', alpha=0.1, source=source_usa, size=1)\n",
    "\n",
    "\n",
    "only_air_temp_fit = figure(plot_width=1200, \n",
    "                           plot_height=300, \n",
    "                           x_axis_type=\"datetime\",\n",
    "                                title=\"Adjusted air temperature\",\n",
    "                          y_range=miami_air_temp_and_fit.y_range,\n",
    "                                x_range=miami_air_temp_and_fit.x_range)\n",
    "only_air_temp_fit.line(x=\"timestamp\", y=\"miami_air_temp_fit\", legend_label=\"Miami\", color='navy', alpha=0.7, source=source_usa)\n",
    "only_air_temp_fit.line(x=\"timestamp\", y=\"fresno_air_temp_fit\", legend_label=\"Fresno\", color='red', alpha=0.7, source=source_usa)\n",
    "only_air_temp_fit.line(x=\"timestamp\", y=\"olympia_air_temp_fit\", legend_label=\"Olympia\", color='green', alpha=0.7, source=source_usa)\n",
    "only_air_temp_fit.line(x=\"timestamp\", y=\"rochester_air_temp_fit\", legend_label=\"Rochester\", color='gray', alpha=0.7, source=source_usa)\n",
    "\n",
    "show(layout([\n",
    "    [miami_air_temp_and_fit, fresno_air_temp_and_fit,],\n",
    "    [olympia_air_temp_and_fit, rochester_air_temp_and_fit],\n",
    "    [only_air_temp_fit],\n",
    "]))"
   ]
  },
  {
   "cell_type": "code",
   "execution_count": null,
   "metadata": {},
   "outputs": [],
   "source": [
    "source_europe = ColumnDataSource({\"timestamp\": london.index,\n",
    "                                 \n",
    "                                 \"london_air_temp\": london.air_temp,\n",
    "                                 \"london_air_temp_fit\": london.air_temp_fit,\n",
    "                                 \n",
    "                                 \"madrid_air_temp\": madrid.air_temp,\n",
    "                                 \"madrid_air_temp_fit\": madrid.air_temp_fit,\n",
    "                                 \n",
    "                                 \"rome_air_temp\": rome.air_temp,\n",
    "                                 \"rome_air_temp_fit\": rome.air_temp_fit,\n",
    "                                 \n",
    "                                 \"stuttgart_air_temp\": stuttgart.air_temp,\n",
    "                                 \"stuttgart_air_temp_fit\": stuttgart.air_temp_fit,\n",
    "                                })\n",
    "\n",
    "max_temp = int(europe_data.air_temp.max() + 5)\n",
    "min_temp = int(europe_data.air_temp.min() - 5)\n",
    "\n",
    "london_air_temp_and_fit = figure(plot_width=600, \n",
    "                                plot_height=300, \n",
    "                                x_axis_type=\"datetime\",\n",
    "                                title=\"London, United Kingdom\",\n",
    "                                y_range=(min_temp, max_temp),)\n",
    "london_air_temp_and_fit.line(x=\"timestamp\", y=\"london_air_temp\", legend_label=\"Air Temp\", color='navy', alpha=0.2, source=source_europe)\n",
    "london_air_temp_and_fit.circle(x=\"timestamp\", y=\"london_air_temp_fit\", legend_label=\"Fit Air Temp\", color='navy', alpha=0.1, source=source_europe, size=1)\n",
    "\n",
    "madrid_air_temp_and_fit = figure(plot_width=600,  \n",
    "                                 plot_height=300, \n",
    "                                 x_axis_type=\"datetime\",\n",
    "                                title=\"Madrid, Spain\",\n",
    "                                y_range=london_air_temp_and_fit.y_range,\n",
    "                                x_range=london_air_temp_and_fit.x_range)\n",
    "madrid_air_temp_and_fit.line(x=\"timestamp\", y=\"madrid_air_temp\", legend_label=\"Air Temp\", color='red', alpha=0.2, source=source_europe)\n",
    "madrid_air_temp_and_fit.circle(x=\"timestamp\", y=\"madrid_air_temp_fit\", legend_label=\"Fit Air Temp\", color='red', alpha=0.1, source=source_europe, size=1)\n",
    "\n",
    "rome_air_temp_and_fit = figure(plot_width=600, \n",
    "                                  plot_height=300, \n",
    "                                  x_axis_type=\"datetime\",\n",
    "                                title=\"Rome, Italy\",\n",
    "                                y_range=london_air_temp_and_fit.y_range,\n",
    "                                x_range=london_air_temp_and_fit.x_range)\n",
    "rome_air_temp_and_fit.line(x=\"timestamp\", y=\"rome_air_temp\", legend_label=\"Air Temp\", color='green', alpha=0.2, source=source_europe)\n",
    "rome_air_temp_and_fit.circle(x=\"timestamp\", y=\"rome_air_temp_fit\", legend_label=\"Fit Air Temp\", color='green', alpha=0.1, source=source_europe, size=1)\n",
    "\n",
    "stuttgart_air_temp_and_fit = figure(plot_width=600, \n",
    "                                    plot_height=300, \n",
    "                                    x_axis_type=\"datetime\",\n",
    "                                title=\"Stuttgart, Germany\",\n",
    "                                y_range=london_air_temp_and_fit.y_range,\n",
    "                                x_range=london_air_temp_and_fit.x_range)\n",
    "stuttgart_air_temp_and_fit.line(x=\"timestamp\", y=\"stuttgart_air_temp\", legend_label=\"Air Temp\", color='gray', alpha=0.2, source=source_europe)\n",
    "stuttgart_air_temp_and_fit.circle(x=\"timestamp\", y=\"stuttgart_air_temp_fit\", legend_label=\"Fit Air Temp\", color='gray', alpha=0.1, source=source_europe, size=1)\n",
    "\n",
    "\n",
    "only_air_temp_fit = figure(plot_width=1200, \n",
    "                           plot_height=300, \n",
    "                           x_axis_type=\"datetime\",\n",
    "                                title=\"Adjusted air temperature\",\n",
    "                          y_range=london_air_temp_and_fit.y_range,\n",
    "                                x_range=london_air_temp_and_fit.x_range)\n",
    "only_air_temp_fit.line(x=\"timestamp\", y=\"london_air_temp_fit\", legend_label=\"London\", color='navy', alpha=0.7, source=source_europe)\n",
    "only_air_temp_fit.line(x=\"timestamp\", y=\"madrid_air_temp_fit\", legend_label=\"madrid\", color='red', alpha=0.7, source=source_europe)\n",
    "only_air_temp_fit.line(x=\"timestamp\", y=\"rome_air_temp_fit\", legend_label=\"rome\", color='green', alpha=0.7, source=source_europe)\n",
    "only_air_temp_fit.line(x=\"timestamp\", y=\"stuttgart_air_temp_fit\", legend_label=\"stuttgart\", color='gray', alpha=0.7, source=source_europe)\n",
    "\n",
    "show(layout([\n",
    "    [london_air_temp_and_fit, stuttgart_air_temp_and_fit ,],\n",
    "    [rome_air_temp_and_fit, madrid_air_temp_and_fit],\n",
    "    [only_air_temp_fit],\n",
    "]))"
   ]
  },
  {
   "cell_type": "markdown",
   "metadata": {},
   "source": [
    "## Visualization of Air Temp, Ground Temp and Aquifer Temp"
   ]
  },
  {
   "cell_type": "code",
   "execution_count": null,
   "metadata": {},
   "outputs": [],
   "source": [
    "source_usa = ColumnDataSource({\"timestamp\": miami.index,\n",
    "                                 \n",
    "                                 \"miami_air_temp\": miami.air_temp,\n",
    "                                 \"miami_ground_temp\": miami.ground_temp,\n",
    "                                 \"miami_aquifer_temp\": miami.aquifer_temp,\n",
    "                                 \n",
    "                                 \"fresno_air_temp\": fresno.air_temp,\n",
    "                                 \"fresno_ground_temp\": fresno.ground_temp,\n",
    "                               \"fresno_aquifer_temp\": fresno.aquifer_temp,\n",
    "                                 \n",
    "                                 \"olympia_air_temp\": olympia.air_temp,\n",
    "                                 \"olympia_ground_temp\": olympia.ground_temp,\n",
    "                               \"olympia_aquifer_temp\": olympia.aquifer_temp,\n",
    "                                 \n",
    "                                 \"rochester_air_temp\": rochester.air_temp,\n",
    "                                 \"rochester_ground_temp\": rochester.ground_temp,\n",
    "                               \"rochester_aquifer_temp\": rochester.aquifer_temp,\n",
    "                                })\n",
    "\n",
    "max_temp = int(us_data.air_temp.max() + 5)\n",
    "min_temp = int(us_data.air_temp.min() - 5)\n",
    "\n",
    "miami_air_temp_and_fit = figure(plot_width=600, \n",
    "                                plot_height=300, \n",
    "                                x_axis_type=\"datetime\",\n",
    "                                title=\"Miami, Florida, USA\",\n",
    "                                y_range=(min_temp, max_temp),)\n",
    "miami_air_temp_and_fit.line(x=\"timestamp\", y=\"miami_air_temp\", legend_label=\"Air Temp\", color='navy', alpha=0.2, source=source_usa)\n",
    "miami_air_temp_and_fit.circle(x=\"timestamp\", y=\"miami_ground_temp\", legend_label=\"Ground Temp\", color='navy', alpha=0.1, source=source_usa, size=1)\n",
    "miami_air_temp_and_fit.square(x=\"timestamp\", y=\"miami_aquifer_temp\", legend_label=\"Aquifer Temp\", color='navy', alpha=0.1, source=source_usa, size=1)\n",
    "\n",
    "\n",
    "fresno_air_temp_and_fit = figure(plot_width=600,  \n",
    "                                 plot_height=300, \n",
    "                                 x_axis_type=\"datetime\",\n",
    "                                title=\"Fresno, California, USA\",\n",
    "                                y_range=miami_air_temp_and_fit.y_range,\n",
    "                                x_range=miami_air_temp_and_fit.x_range)\n",
    "fresno_air_temp_and_fit.line(x=\"timestamp\", y=\"fresno_air_temp\", legend_label=\"Air Temp\", color='red', alpha=0.2, source=source_usa)\n",
    "fresno_air_temp_and_fit.circle(x=\"timestamp\", y=\"fresno_ground_temp\", legend_label=\"Ground Temp\", color='red', alpha=0.1, source=source_usa, size=1)\n",
    "fresno_air_temp_and_fit.circle(x=\"timestamp\", y=\"fresno_aquifer_temp\", legend_label=\"Aquifer Temp\", color='red', alpha=0.1, source=source_usa, size=1)\n",
    "\n",
    "\n",
    "olympia_air_temp_and_fit = figure(plot_width=600, \n",
    "                                  plot_height=300, \n",
    "                                  x_axis_type=\"datetime\",\n",
    "                                title=\"Olympia, Washington, USA\",\n",
    "                                y_range=miami_air_temp_and_fit.y_range,\n",
    "                                x_range=miami_air_temp_and_fit.x_range)\n",
    "olympia_air_temp_and_fit.line(x=\"timestamp\", y=\"olympia_air_temp\", legend_label=\"Air Temp\", color='green', alpha=0.2, source=source_usa)\n",
    "olympia_air_temp_and_fit.circle(x=\"timestamp\", y=\"olympia_ground_temp\", legend_label=\"Ground Temp\", color='green', alpha=1, source=source_usa, size=1)\n",
    "olympia_air_temp_and_fit.circle(x=\"timestamp\", y=\"olympia_aquifer_temp\", legend_label=\"Aquifer Temp\", color='green', alpha=1, source=source_usa, size=1)\n",
    "\n",
    "\n",
    "rochester_air_temp_and_fit = figure(plot_width=600, \n",
    "                                    plot_height=300, \n",
    "                                    x_axis_type=\"datetime\",\n",
    "                                title=\"Rochester, New York, USA\",\n",
    "                                y_range=miami_air_temp_and_fit.y_range,\n",
    "                                x_range=miami_air_temp_and_fit.x_range)\n",
    "rochester_air_temp_and_fit.line(x=\"timestamp\", y=\"rochester_air_temp\", legend_label=\"Air Temp\", color='gray', alpha=0.2, source=source_usa)\n",
    "rochester_air_temp_and_fit.circle(x=\"timestamp\", y=\"rochester_ground_temp\", legend_label=\"Ground Temp\", color='gray', alpha=0.1, source=source_usa, size=1)\n",
    "rochester_air_temp_and_fit.circle(x=\"timestamp\", y=\"rochester_aquifer_temp\", legend_label=\"Aquifer Temp\", color='gray', alpha=0.1, source=source_usa, size=1)\n",
    "\n",
    "show(layout([\n",
    "    [miami_air_temp_and_fit, fresno_air_temp_and_fit,],\n",
    "    [olympia_air_temp_and_fit, rochester_air_temp_and_fit],\n",
    "]))"
   ]
  },
  {
   "cell_type": "code",
   "execution_count": null,
   "metadata": {},
   "outputs": [],
   "source": [
    "source_europe = ColumnDataSource({\"timestamp\": london.index,\n",
    "                                 \n",
    "                                 \"london_air_temp\": london.air_temp,\n",
    "                                 \"london_ground_temp\": london.ground_temp,\n",
    "                                 \"london_aquifer_temp\": london.aquifer_temp,\n",
    "                                 \n",
    "                                 \"stuttgart_air_temp\": stuttgart.air_temp,\n",
    "                                 \"stuttgart_ground_temp\": stuttgart.ground_temp,\n",
    "                                 \"stuttgart_aquifer_temp\": stuttgart.aquifer_temp,\n",
    "                                 \n",
    "                                 \"madrid_air_temp\": madrid.air_temp,\n",
    "                                 \"madrid_ground_temp\": madrid.ground_temp,\n",
    "                                 \"madrid_aquifer_temp\": madrid.aquifer_temp,\n",
    "                                 \n",
    "                                 \"rome_air_temp\": rome.air_temp,\n",
    "                                 \"rome_ground_temp\": rome.ground_temp,\n",
    "                                 \"rome_aquifer_temp\": rome.aquifer_temp,\n",
    "                                })\n",
    "\n",
    "max_temp = int(europe_data.air_temp.max() + 5)\n",
    "min_temp = int(europe_data.air_temp.min() - 5)\n",
    "\n",
    "london_air_temp_and_fit = figure(plot_width=600, \n",
    "                                plot_height=300, \n",
    "                                x_axis_type=\"datetime\",\n",
    "                                title=\"London, United Kingdom\",\n",
    "                                y_range=(min_temp, max_temp),)\n",
    "london_air_temp_and_fit.line(x=\"timestamp\", y=\"london_air_temp\", legend_label=\"Air Temp\", color='navy', alpha=0.2, source=source_europe)\n",
    "london_air_temp_and_fit.circle(x=\"timestamp\", y=\"london_ground_temp\", legend_label=\"Ground Temp\", color='navy', alpha=0.1, source=source_europe, size=1)\n",
    "london_air_temp_and_fit.circle(x=\"timestamp\", y=\"london_aquifer_temp\", legend_label=\"Aquifer Temp\", color='navy', alpha=0.1, source=source_europe, size=1)\n",
    "\n",
    "\n",
    "stuttgart_air_temp_and_fit = figure(plot_width=600,  \n",
    "                                 plot_height=300, \n",
    "                                 x_axis_type=\"datetime\",\n",
    "                                title=\"Stuttgart, Germany\",\n",
    "                                y_range=london_air_temp_and_fit.y_range,\n",
    "                                x_range=london_air_temp_and_fit.x_range)\n",
    "stuttgart_air_temp_and_fit.line(x=\"timestamp\", y=\"stuttgart_air_temp\", legend_label=\"Air Temp\", color='red', alpha=0.2, source=source_europe)\n",
    "stuttgart_air_temp_and_fit.circle(x=\"timestamp\", y=\"stuttgart_ground_temp\", legend_label=\"Ground Temp\", color='red', alpha=0.1, source=source_europe, size=1)\n",
    "stuttgart_air_temp_and_fit.circle(x=\"timestamp\", y=\"stuttgart_aquifer_temp\", legend_label=\"Aquifer Temp\", color='red', alpha=0.1, source=source_europe, size=1)\n",
    "\n",
    "\n",
    "madrid_air_temp_and_fit = figure(plot_width=600, \n",
    "                                  plot_height=300, \n",
    "                                  x_axis_type=\"datetime\",\n",
    "                                title=\"Madrid, Spain\",\n",
    "                                y_range=london_air_temp_and_fit.y_range,\n",
    "                                x_range=london_air_temp_and_fit.x_range)\n",
    "madrid_air_temp_and_fit.line(x=\"timestamp\", y=\"madrid_air_temp\", legend_label=\"Air Temp\", color='green', alpha=0.2, source=source_europe)\n",
    "madrid_air_temp_and_fit.circle(x=\"timestamp\", y=\"madrid_ground_temp\", legend_label=\"Ground Temp\", color='green', alpha=1, source=source_europe, size=1)\n",
    "madrid_air_temp_and_fit.circle(x=\"timestamp\", y=\"madrid_aquifer_temp\", legend_label=\"Aquifer Temp\", color='green', alpha=1, source=source_europe, size=1)\n",
    "\n",
    "\n",
    "rome_air_temp_and_fit = figure(plot_width=600, \n",
    "                                    plot_height=300, \n",
    "                                    x_axis_type=\"datetime\",\n",
    "                                title=\"Rome, Italy\",\n",
    "                                y_range=london_air_temp_and_fit.y_range,\n",
    "                                x_range=london_air_temp_and_fit.x_range)\n",
    "rome_air_temp_and_fit.line(x=\"timestamp\", y=\"rome_air_temp\", legend_label=\"Air Temp\", color='gray', alpha=0.2, source=source_europe)\n",
    "rome_air_temp_and_fit.circle(x=\"timestamp\", y=\"rome_ground_temp\", legend_label=\"Ground Temp\", color='gray', alpha=0.1, source=source_europe, size=1)\n",
    "rome_air_temp_and_fit.circle(x=\"timestamp\", y=\"rome_aquifer_temp\", legend_label=\"Aquifer Temp\", color='gray', alpha=0.1, source=source_europe, size=1)\n",
    "\n",
    "\n",
    "show(layout([\n",
    "    [london_air_temp_and_fit, stuttgart_air_temp_and_fit,],\n",
    "    [madrid_air_temp_and_fit, rome_air_temp_and_fit],\n",
    "]))"
   ]
  },
  {
   "cell_type": "markdown",
   "metadata": {},
   "source": [
    "## Visualization of Hot Water and Space Heating temperatures"
   ]
  },
  {
   "cell_type": "markdown",
   "metadata": {},
   "source": [
    "### Whole year"
   ]
  },
  {
   "cell_type": "code",
   "execution_count": null,
   "metadata": {},
   "outputs": [],
   "source": [
    "visualize_on_same_row(data_list=[miami[[\"space_heating_temp\",\"hot_water_temp\"]],\n",
    "                                 fresno[[\"space_heating_temp\",\"hot_water_temp\"]],\n",
    "                                 olympia[[\"space_heating_temp\",\"hot_water_temp\"]],\n",
    "                                 rochester[[\"space_heating_temp\",\"hot_water_temp\"]],\n",
    "                                 ospitaletto[[\"space_heating_temp\",\"hot_water_temp\"]]],\n",
    "                      ylabel=\"Temperature in Celsius\", \n",
    "                      xlabel=\"Date\",\n",
    "                      suptitle='Calculated Space Heating and Hot Water temperatures')"
   ]
  },
  {
   "cell_type": "code",
   "execution_count": null,
   "metadata": {},
   "outputs": [],
   "source": [
    "month = int(input(\"Enter month to analyze (values between 1 to 12): \"))"
   ]
  },
  {
   "cell_type": "code",
   "execution_count": null,
   "metadata": {},
   "outputs": [],
   "source": [
    "november_data = Tamb_hourly[Tamb_hourly.month == month ]\n",
    "november_data[[\"space_heating_temp\",\"hot_water_temp\"]].plot(figsize=(10,6), color=[\"#4e97a2\",'#82272e'])\n",
    "\n",
    "plt.legend(loc='center left', bbox_to_anchor=(1.0, 0.5))"
   ]
  },
  {
   "cell_type": "code",
   "execution_count": null,
   "metadata": {},
   "outputs": [],
   "source": [
    "Tamb_hourly[\"user_temp\"].plot(figsize=(10,6))"
   ]
  },
  {
   "cell_type": "code",
   "execution_count": null,
   "metadata": {},
   "outputs": [],
   "source": [
    "november_data = Tamb_hourly[Tamb_hourly.index.month == 11 ]\n",
    "november_data[\"Tuser\"].plot(figsize=(10,6))"
   ]
  },
  {
   "cell_type": "markdown",
   "metadata": {},
   "source": [
    "## Visualization of Net temperature"
   ]
  },
  {
   "cell_type": "code",
   "execution_count": null,
   "metadata": {},
   "outputs": [],
   "source": [
    "Tamb_hourly[[\"net_temp\"]][Tamb_hourly.index < \"2010-01-31\"].plot()"
   ]
  },
  {
   "cell_type": "markdown",
   "metadata": {},
   "source": [
    "## Visualization of COP"
   ]
  },
  {
   "cell_type": "code",
   "execution_count": null,
   "metadata": {},
   "outputs": [],
   "source": [
    "Tamb_hourly[['COP']].plot(figsize=(20,6))"
   ]
  },
  {
   "cell_type": "markdown",
   "metadata": {},
   "source": [
    "## Visualization of Energy Loss"
   ]
  },
  {
   "cell_type": "code",
   "execution_count": null,
   "metadata": {},
   "outputs": [],
   "source": [
    "Tamb_hourly[['E_loss_tot']].plot(figsize=(20,6))"
   ]
  },
  {
   "cell_type": "markdown",
   "metadata": {},
   "source": [
    "## Space Heating Distribution Plot"
   ]
  },
  {
   "cell_type": "code",
   "execution_count": null,
   "metadata": {
    "collapsed": false,
    "jupyter": {
     "outputs_hidden": false
    },
    "pycharm": {
     "name": "#%%\n"
    }
   },
   "outputs": [],
   "source": [
    "fig, ((ax1, ax2), (ax3, ax4)) = plt.subplots(2, 2, figsize=(10,10))\n",
    "\n",
    "# Stuttgart\n",
    "\n",
    "sns.lineplot(data=stuttgart[[\"space_heating_dist\"]], ax=ax1, color='#4d4dff')\n",
    "ax1.set_title('Stuttgart')\n",
    "ax1.set_ylabel('Space heating hourly distribution')\n",
    "ax1.grid()\n",
    "\n",
    "# London\n",
    "sns.lineplot(data=london[[\"space_heating_dist\"]], ax=ax2, color='#8686ef')\n",
    "ax2.set_title('London')\n",
    "ax2.grid()\n",
    "\n",
    "# Madrid\n",
    "sns.lineplot(data=madrid[[\"space_heating_dist\"]], ax=ax3, color='#ef8e49')\n",
    "ax3.set_title('Madrid')\n",
    "ax3.set_ylabel('Space heating hourly distribution')\n",
    "ax3.grid()\n",
    "\n",
    "# Rome\n",
    "sns.lineplot(data=rome[[\"space_heating_dist\"]], ax=ax4, color= '#ca0c6e')\n",
    "ax4.set_title('Rome')\n",
    "ax4.grid()\n",
    "\n",
    "fig.tight_layout()\n",
    "plt.show()"
   ]
  },
  {
   "cell_type": "code",
   "execution_count": null,
   "metadata": {
    "collapsed": false,
    "jupyter": {
     "outputs_hidden": false
    },
    "pycharm": {
     "name": "#%%\n"
    }
   },
   "outputs": [],
   "source": []
  },
  {
   "cell_type": "code",
   "execution_count": null,
   "metadata": {
    "collapsed": false,
    "jupyter": {
     "outputs_hidden": false
    },
    "pycharm": {
     "name": "#%%\n"
    }
   },
   "outputs": [],
   "source": []
  },
  {
   "cell_type": "markdown",
   "metadata": {},
   "source": []
  },
  {
   "cell_type": "code",
   "execution_count": null,
   "metadata": {},
   "outputs": [],
   "source": [
    "fig, ((ax1, ax2), (ax3, ax4)) = plt.subplots(2, 2, figsize=(10,10))\n",
    "\n",
    "# Stuttgart\n",
    "\n",
    "sns.lineplot(data=stuttgart[[\"space_heating_dist\"]], ax=ax1, color='#4d4dff')\n",
    "ax1.set_title('Stuttgart')\n",
    "ax1.set_ylabel('Space heating hourly distribution')\n",
    "ax1.grid()\n",
    "\n",
    "# London\n",
    "sns.lineplot(data=london[[\"space_heating_dist\"]], ax=ax2, color='#8686ef')\n",
    "ax2.set_title('London')\n",
    "ax2.grid()\n",
    "\n",
    "# Madrid\n",
    "sns.lineplot(data=madrid[[\"space_heating_dist\"]], ax=ax3, color='#ef8e49')\n",
    "ax3.set_title('Madrid')\n",
    "ax3.set_ylabel('Space heating hourly distribution')\n",
    "ax3.grid()\n",
    "\n",
    "# Rome\n",
    "sns.lineplot(data=rome[[\"space_heating_dist\"]], ax=ax4, color= '#ca0c6e')\n",
    "ax4.set_title('Rome')\n",
    "ax4.grid()\n",
    "\n",
    "fig.tight_layout()\n",
    "plt.show()"
   ]
  },
  {
   "cell_type": "code",
   "execution_count": null,
   "metadata": {},
   "outputs": [],
   "source": []
  },
  {
   "cell_type": "code",
   "execution_count": null,
   "metadata": {},
   "outputs": [],
   "source": []
  }
 ],
 "metadata": {
  "kernelspec": {
   "display_name": "Python 3",
   "language": "python",
   "name": "python3"
  },
  "language_info": {
   "codemirror_mode": {
    "name": "ipython",
    "version": 3
   },
   "file_extension": ".py",
   "mimetype": "text/x-python",
   "name": "python",
   "nbconvert_exporter": "python",
   "pygments_lexer": "ipython3",
   "version": "3.8.1"
  }
 },
 "nbformat": 4,
 "nbformat_minor": 4
}
