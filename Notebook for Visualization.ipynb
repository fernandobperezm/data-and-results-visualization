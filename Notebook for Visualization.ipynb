{
 "cells": [
  {
   "cell_type": "markdown",
   "metadata": {},
   "source": [
    "# Notebook for visualizations"
   ]
  },
  {
   "cell_type": "code",
   "execution_count": null,
   "metadata": {},
   "outputs": [],
   "source": [
    "import pandas as pd\n",
    "import matplotlib.pyplot as plt\n",
    "import seaborn as sns\n",
    "import numpy as np\n",
    "import os\n",
    "\n",
    "from bokeh.plotting import figure, output_notebook, show\n",
    "from IPython.display import display, Math\n",
    "from scipy import optimize\n",
    "from math import exp, cos, sqrt, pi, sin, sqrt\n",
    "from typing import List\n",
    "\n",
    "from src.OspitalettoDataset import OspitalettoDataset\n",
    "from src.NOAA2010Dataset import NOAA2010Dataset\n",
    "from src.InsPireDataset import InsPireDataset\n",
    "\n",
    "mypalette = sns.color_palette(['#51ffda']) # https://www.hsluv.org/\n",
    "sns.set_palette(mypalette)\n",
    "\n",
    "output_notebook()"
   ]
  },
  {
   "cell_type": "code",
   "execution_count": null,
   "metadata": {},
   "outputs": [],
   "source": [
    "ospitaletto2019 = OspitalettoDataset()\n",
    "noaa2010Dataset = NOAA2010Dataset()\n",
    "insPireDataset = InsPireDataset()\n",
    "\n",
    "AVAILABLE_DATASETS = dict()\n",
    "AVAILABLE_DATASETS.update(ospitaletto2019.load_processed_data())\n",
    "AVAILABLE_DATASETS.update(noaa2010Dataset.load_processed_data())\n",
    "AVAILABLE_DATASETS.update(insPireDataset.load_processed_data())\n",
    "AVAILABLE_DATASETS.keys()"
   ]
  },
  {
   "cell_type": "markdown",
   "metadata": {},
   "source": [
    "## Important visualization functions"
   ]
  },
  {
   "cell_type": "code",
   "execution_count": null,
   "metadata": {},
   "outputs": [],
   "source": [
    "def visualize_on_same_row(data_list: List, ylabel: str, xlabel: str, suptitle: str):\n",
    "    fig, axs = plt.subplots(nrows=1, ncols=5, sharey=True, figsize=(40,8), subplot_kw={\"ylabel\": ylabel, \"xlabel\": xlabel})\n",
    "    \n",
    "    axs[0].set_title('Miami, FL, USA')\n",
    "    sns.lineplot(data=data_list[0], ax=axs[0])\n",
    "\n",
    "    axs[1].set_title('Fresno, CA, USA')\n",
    "    sns.lineplot(data=data_list[1], ax=axs[1])\n",
    "\n",
    "    axs[2].set_title('Olympia, WA, USA')\n",
    "    sns.lineplot(data=data_list[2], ax=axs[2])\n",
    "\n",
    "    axs[3].set_title('Rochester, NY, USA')\n",
    "    sns.lineplot(data=data_list[3], ax=axs[3])\n",
    "\n",
    "    axs[4].set_title('Ospitaletto, Italy')\n",
    "    sns.lineplot(data=data_list[4], ax=axs[4])\n",
    "\n",
    "    fig.suptitle(suptitle)\n",
    "    \n",
    "    return fig, axs\n",
    "    "
   ]
  },
  {
   "cell_type": "markdown",
   "metadata": {},
   "source": [
    "## Visualization of curve fitting"
   ]
  },
  {
   "cell_type": "code",
   "execution_count": null,
   "metadata": {},
   "outputs": [],
   "source": [
    "ospitaletto = AVAILABLE_DATASETS[OspitalettoDataset.OSPITALETTO]\n",
    "\n",
    "miami = AVAILABLE_DATASETS[NOAA2010Dataset.MIAMI_FL]\n",
    "fresno = AVAILABLE_DATASETS[NOAA2010Dataset.FRESNO_CA]\n",
    "olympia = AVAILABLE_DATASETS[NOAA2010Dataset.OLYMPIA_WA]\n",
    "rochester = AVAILABLE_DATASETS[NOAA2010Dataset.ROCHESTER_NY]\n",
    "\n",
    "london = AVAILABLE_DATASETS[InsPireDataset.LONDON_UK]\n",
    "madrid = AVAILABLE_DATASETS[InsPireDataset.MADRID_SPA]\n",
    "rome = AVAILABLE_DATASETS[InsPireDataset.ROME_IT]\n",
    "stuttgart = AVAILABLE_DATASETS[InsPireDataset.STUTTGART_GER]"
   ]
  },
  {
   "cell_type": "code",
   "execution_count": null,
   "metadata": {},
   "outputs": [],
   "source": [
    "visualize_on_same_row(data_list=[miami[[\"air_temp\", \"air_temp_fit\"]],\n",
    "                                 fresno[[\"air_temp\", \"air_temp_fit\"]],\n",
    "                                 olympia[[\"air_temp\", \"air_temp_fit\"]],\n",
    "                                 rochester[[\"air_temp\", \"air_temp_fit\"]],\n",
    "                                 ospitaletto[[\"air_temp\", \"air_temp_fit\"]]],\n",
    "                      ylabel=\"Temperature in Celsius\", \n",
    "                      xlabel=\"Date\",\n",
    "                      suptitle='Measured and adjusted air-temperature in different locations')"
   ]
  },
  {
   "cell_type": "markdown",
   "metadata": {},
   "source": [
    "## Visualization of Air Temp, Ground Temp and Aquifer Temp"
   ]
  },
  {
   "cell_type": "code",
   "execution_count": null,
   "metadata": {},
   "outputs": [],
   "source": [
    "visualize_on_same_row(data_list=[miami[[\"air_temp\", \"ground_temp\", \"aquifer_temp\"]],\n",
    "                                 fresno[[\"air_temp\", \"ground_temp\", \"aquifer_temp\"]],\n",
    "                                 olympia[[\"air_temp\", \"ground_temp\", \"aquifer_temp\"]],\n",
    "                                 rochester[[\"air_temp\", \"ground_temp\", \"aquifer_temp\"]],\n",
    "                                 ospitaletto[[\"air_temp\", \"ground_temp\", \"aquifer_temp\"]]],\n",
    "                      ylabel=\"Temperature in Celsius\", \n",
    "                      xlabel=\"Date\",\n",
    "                      suptitle='Air, ground and aquifer temperature in different locations')"
   ]
  },
  {
   "cell_type": "markdown",
   "metadata": {},
   "source": [
    "## Visualization of Hot Water and Space Heating temperatures"
   ]
  },
  {
   "cell_type": "markdown",
   "metadata": {},
   "source": [
    "### Whole year"
   ]
  },
  {
   "cell_type": "code",
   "execution_count": null,
   "metadata": {},
   "outputs": [],
   "source": [
    "visualize_on_same_row(data_list=[miami[[\"space_heating_temp\",\"hot_water_temp\"]],\n",
    "                                 fresno[[\"space_heating_temp\",\"hot_water_temp\"]],\n",
    "                                 olympia[[\"space_heating_temp\",\"hot_water_temp\"]],\n",
    "                                 rochester[[\"space_heating_temp\",\"hot_water_temp\"]],\n",
    "                                 ospitaletto[[\"space_heating_temp\",\"hot_water_temp\"]]],\n",
    "                      ylabel=\"Temperature in Celsius\", \n",
    "                      xlabel=\"Date\",\n",
    "                      suptitle='Calculated Space Heating and Hot Water temperatures')"
   ]
  },
  {
   "cell_type": "code",
   "execution_count": null,
   "metadata": {},
   "outputs": [],
   "source": [
    "month = int(input(\"Enter month to analyze (values between 1 to 12): \"))"
   ]
  },
  {
   "cell_type": "code",
   "execution_count": null,
   "metadata": {},
   "outputs": [],
   "source": [
    "november_data = Tamb_hourly[Tamb_hourly.month == month ]\n",
    "november_data[[\"space_heating_temp\",\"hot_water_temp\"]].plot(figsize=(10,6), color=[\"#4e97a2\",'#82272e'])\n",
    "\n",
    "plt.legend(loc='center left', bbox_to_anchor=(1.0, 0.5))"
   ]
  },
  {
   "cell_type": "code",
   "execution_count": null,
   "metadata": {},
   "outputs": [],
   "source": [
    "Tamb_hourly[\"user_temp\"].plot(figsize=(10,6))"
   ]
  },
  {
   "cell_type": "code",
   "execution_count": null,
   "metadata": {},
   "outputs": [],
   "source": [
    "november_data = Tamb_hourly[Tamb_hourly.index.month == 11 ]\n",
    "november_data[\"Tuser\"].plot(figsize=(10,6))"
   ]
  },
  {
   "cell_type": "markdown",
   "metadata": {},
   "source": [
    "## Visualization of Net temperature"
   ]
  },
  {
   "cell_type": "code",
   "execution_count": null,
   "metadata": {},
   "outputs": [],
   "source": [
    "Tamb_hourly[[\"net_temp\"]][Tamb_hourly.index < \"2010-01-31\"].plot()"
   ]
  },
  {
   "cell_type": "markdown",
   "metadata": {},
   "source": [
    "## Visualization of COP"
   ]
  },
  {
   "cell_type": "code",
   "execution_count": null,
   "metadata": {},
   "outputs": [],
   "source": [
    "Tamb_hourly[['COP']].plot(figsize=(20,6))"
   ]
  },
  {
   "cell_type": "markdown",
   "metadata": {},
   "source": [
    "## Visualization of Energy Loss"
   ]
  },
  {
   "cell_type": "code",
   "execution_count": null,
   "metadata": {},
   "outputs": [],
   "source": [
    "Tamb_hourly[['E_loss_tot']].plot(figsize=(20,6))"
   ]
  },
  {
   "cell_type": "markdown",
   "source": [
    "## Space Heating Distribution Plot"
   ],
   "metadata": {
    "collapsed": false
   }
  },
  {
   "cell_type": "code",
   "execution_count": null,
   "outputs": [],
   "source": [
    "fig, ((ax1, ax2), (ax3, ax4)) = plt.subplots(2, 2, figsize=(10,10))\n",
    "\n",
    "# Stuttgart\n",
    "\n",
    "sns.lineplot(data=stuttgart[[\"space_heating_dist\"]], ax=ax1, color='#4d4dff')\n",
    "ax1.set_title('Stuttgart')\n",
    "ax1.set_ylabel('Space heating hourly distribution')\n",
    "ax1.grid()\n",
    "\n",
    "# London\n",
    "sns.lineplot(data=london[[\"space_heating_dist\"]], ax=ax2, color='#8686ef')\n",
    "ax2.set_title('London')\n",
    "ax2.grid()\n",
    "\n",
    "# Madrid\n",
    "sns.lineplot(data=madrid[[\"space_heating_dist\"]], ax=ax3, color='#ef8e49')\n",
    "ax3.set_title('Madrid')\n",
    "ax3.set_ylabel('Space heating hourly distribution')\n",
    "ax3.grid()\n",
    "\n",
    "# Rome\n",
    "sns.lineplot(data=rome[[\"space_heating_dist\"]], ax=ax4, color= '#ca0c6e')\n",
    "ax4.set_title('Rome')\n",
    "ax4.grid()\n",
    "\n",
    "fig.tight_layout()\n",
    "plt.show()"
   ],
   "metadata": {
    "collapsed": false,
    "pycharm": {
     "name": "#%%\n"
    }
   }
  },
  {
   "cell_type": "code",
   "execution_count": null,
   "outputs": [],
   "source": [],
   "metadata": {
    "collapsed": false,
    "pycharm": {
     "name": "#%%\n"
    }
   }
  },
  {
   "cell_type": "code",
   "execution_count": null,
   "outputs": [],
   "source": [],
   "metadata": {
    "collapsed": false,
    "pycharm": {
     "name": "#%%\n"
    }
   }
  },
  {
   "cell_type": "markdown",
   "metadata": {},
   "source": []
  },
  {
   "cell_type": "code",
   "execution_count": null,
   "metadata": {},
   "outputs": [],
   "source": [
    "fig, ((ax1, ax2), (ax3, ax4)) = plt.subplots(2, 2, figsize=(10,10))\n",
    "\n",
    "# Stuttgart\n",
    "\n",
    "sns.lineplot(data=stuttgart[[\"space_heating_dist\"]], ax=ax1, color='#4d4dff')\n",
    "ax1.set_title('Stuttgart')\n",
    "ax1.set_ylabel('Space heating hourly distribution')\n",
    "ax1.grid()\n",
    "\n",
    "# London\n",
    "sns.lineplot(data=london[[\"space_heating_dist\"]], ax=ax2, color='#8686ef')\n",
    "ax2.set_title('London')\n",
    "ax2.grid()\n",
    "\n",
    "# Madrid\n",
    "sns.lineplot(data=madrid[[\"space_heating_dist\"]], ax=ax3, color='#ef8e49')\n",
    "ax3.set_title('Madrid')\n",
    "ax3.set_ylabel('Space heating hourly distribution')\n",
    "ax3.grid()\n",
    "\n",
    "# Rome\n",
    "sns.lineplot(data=rome[[\"space_heating_dist\"]], ax=ax4, color= '#ca0c6e')\n",
    "ax4.set_title('Rome')\n",
    "ax4.grid()\n",
    "\n",
    "fig.tight_layout()\n",
    "plt.show()"
   ]
  },
  {
   "cell_type": "code",
   "execution_count": null,
   "metadata": {},
   "outputs": [],
   "source": []
  },
  {
   "cell_type": "code",
   "execution_count": null,
   "metadata": {},
   "outputs": [],
   "source": []
  }
 ],
 "metadata": {
  "kernelspec": {
   "display_name": "Python 3",
   "language": "python",
   "name": "python3"
  },
  "language_info": {
   "codemirror_mode": {
    "name": "ipython",
    "version": 3
   },
   "file_extension": ".py",
   "mimetype": "text/x-python",
   "name": "python",
   "nbconvert_exporter": "python",
   "pygments_lexer": "ipython3",
   "version": "3.8.1"
  }
 },
 "nbformat": 4,
 "nbformat_minor": 4
}