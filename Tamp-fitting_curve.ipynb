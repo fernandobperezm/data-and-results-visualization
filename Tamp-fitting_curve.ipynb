{
 "cells": [
  {
   "cell_type": "code",
   "execution_count": 4,
   "metadata": {},
   "outputs": [],
   "source": [
    "import json\n",
    "import pandas as pd\n",
    "import numpy as np\n",
    "import os\n",
    "\n",
    "from IPython.display import display, Math\n",
    "from scipy import optimize\n",
    "from math import exp, cos, sqrt, pi, sin, sqrt\n",
    "\n",
    "from src.OspitalettoDataset import OspitalettoDataset\n",
    "from src.NOAA2010Dataset import NOAA2010Dataset\n",
    "from src.InsPireDataset import InsPireDataset"
   ]
  },
  {
   "cell_type": "markdown",
   "metadata": {},
   "source": [
    "## Constants to be used in the notebook"
   ]
  },
  {
   "cell_type": "code",
   "execution_count": 134,
   "metadata": {},
   "outputs": [
    {
     "data": {
      "text/plain": [
       "{'DT_evap': 10.0,\n",
       " 'Tdhw': 48.0,\n",
       " 'Tmax_i': 55.0,\n",
       " 'Tmin_i': 40.0,\n",
       " 'Ts1': 23.0,\n",
       " 'Ts2': 25.0,\n",
       " 'depth_aquifer': 30.0,\n",
       " 's1_schedule': [[0, 0, 1, 1, 1, 1, 0],\n",
       "  [0, 0, 1, 1, 1, 1, 0],\n",
       "  [0, 0, 1, 1, 1, 1, 0],\n",
       "  [0, 0, 1, 1, 1, 1, 0],\n",
       "  [0, 0, 1, 1, 1, 1, 0],\n",
       "  [0, 0, 1, 1, 1, 1, 0],\n",
       "  [0, 0, 1, 1, 1, 1, 0],\n",
       "  [0, 1, 1, 1, 1, 1, 0],\n",
       "  [0, 1, 1, 1, 1, 1, 0],\n",
       "  [0, 1, 1, 1, 1, 1, 0],\n",
       "  [0, 1, 1, 1, 1, 1, 0],\n",
       "  [0, 1, 1, 1, 1, 1, 0],\n",
       "  [0, 1, 1, 1, 1, 1, 0],\n",
       "  [0, 1, 1, 1, 1, 1, 0],\n",
       "  [0, 1, 1, 1, 1, 1, 0],\n",
       "  [0, 1, 1, 1, 1, 1, 0],\n",
       "  [0, 1, 1, 1, 1, 0, 0],\n",
       "  [0, 1, 1, 1, 1, 0, 0],\n",
       "  [0, 1, 1, 1, 1, 0, 0],\n",
       "  [0, 1, 1, 1, 1, 0, 0],\n",
       "  [0, 1, 1, 1, 1, 0, 0],\n",
       "  [0, 1, 1, 1, 1, 0, 0],\n",
       "  [0, 1, 1, 1, 1, 0, 0],\n",
       "  [0, 1, 1, 1, 1, 0, 0]],\n",
       " 's2_schedule': [[1, 1, 0, 0, 1, 1, 1],\n",
       "  [1, 1, 0, 0, 1, 1, 1],\n",
       "  [1, 1, 0, 0, 1, 1, 1],\n",
       "  [1, 1, 0, 0, 1, 1, 1],\n",
       "  [1, 1, 0, 0, 1, 1, 1],\n",
       "  [1, 1, 0, 0, 1, 1, 1],\n",
       "  [1, 1, 0, 0, 1, 1, 1],\n",
       "  [1, 1, 0, 1, 1, 1, 1],\n",
       "  [1, 1, 0, 1, 1, 1, 1],\n",
       "  [1, 1, 0, 1, 1, 1, 1],\n",
       "  [1, 1, 0, 1, 1, 1, 1],\n",
       "  [1, 1, 0, 1, 1, 1, 1],\n",
       "  [1, 1, 0, 1, 1, 1, 1],\n",
       "  [1, 1, 0, 1, 1, 1, 1],\n",
       "  [1, 1, 0, 1, 1, 1, 1],\n",
       "  [1, 1, 0, 1, 1, 1, 1],\n",
       "  [1, 0, 0, 1, 1, 1, 1],\n",
       "  [1, 0, 0, 1, 1, 1, 1],\n",
       "  [1, 0, 0, 1, 1, 1, 1],\n",
       "  [1, 0, 0, 1, 1, 1, 1],\n",
       "  [1, 0, 0, 1, 1, 1, 1],\n",
       "  [1, 0, 0, 1, 1, 1, 1],\n",
       "  [1, 0, 0, 1, 1, 1, 1],\n",
       "  [1, 0, 0, 1, 1, 1, 1]]}"
      ]
     },
     "execution_count": 134,
     "metadata": {},
     "output_type": "execute_result"
    }
   ],
   "source": [
    "simulation_values_path = os.path.join(\".\", \"data\", \"simulation_values.json\")    \n",
    "with open(simulation_values_path, \"r\") as f:\n",
    "    simulation_values = json.load(f)\n",
    "    \n",
    "simulation_values"
   ]
  },
  {
   "cell_type": "code",
   "execution_count": 137,
   "metadata": {},
   "outputs": [
    {
     "name": "stdin",
     "output_type": "stream",
     "text": [
      "Press 1 if you want to reload previous simulation values 1\n"
     ]
    },
    {
     "name": "stdout",
     "output_type": "stream",
     "text": [
      "* depth_aquifer=5.0\n",
      "\n"
     ]
    }
   ],
   "source": [
    "load_or_write_new = int(input(\"Press 1 if you want to reload previous simulation values\"))\n",
    "    \n",
    "if load_or_write_new == 1:\n",
    "    depth_aquifer = simulation_values[\"depth_aquifer\"]\n",
    "else:\n",
    "    # The depth of the aquifer in meters. Values are around 30.\n",
    "    depth_aquifer = float(input(\"Aquifer temperature depth: \"))\n",
    "     \n",
    "print(f\"* {depth_aquifer=}\\n\")"
   ]
  },
  {
   "cell_type": "code",
   "execution_count": 136,
   "metadata": {},
   "outputs": [
    {
     "data": {
      "text/plain": [
       "{'DT_evap': 10.0,\n",
       " 'Tdhw': 48.0,\n",
       " 'Tmax_i': 55.0,\n",
       " 'Tmin_i': 40.0,\n",
       " 'Ts1': 23.0,\n",
       " 'Ts2': 25.0,\n",
       " 'depth_aquifer': 5.0,\n",
       " 's1_schedule': [[0, 0, 1, 1, 1, 1, 0],\n",
       "  [0, 0, 1, 1, 1, 1, 0],\n",
       "  [0, 0, 1, 1, 1, 1, 0],\n",
       "  [0, 0, 1, 1, 1, 1, 0],\n",
       "  [0, 0, 1, 1, 1, 1, 0],\n",
       "  [0, 0, 1, 1, 1, 1, 0],\n",
       "  [0, 0, 1, 1, 1, 1, 0],\n",
       "  [0, 1, 1, 1, 1, 1, 0],\n",
       "  [0, 1, 1, 1, 1, 1, 0],\n",
       "  [0, 1, 1, 1, 1, 1, 0],\n",
       "  [0, 1, 1, 1, 1, 1, 0],\n",
       "  [0, 1, 1, 1, 1, 1, 0],\n",
       "  [0, 1, 1, 1, 1, 1, 0],\n",
       "  [0, 1, 1, 1, 1, 1, 0],\n",
       "  [0, 1, 1, 1, 1, 1, 0],\n",
       "  [0, 1, 1, 1, 1, 1, 0],\n",
       "  [0, 1, 1, 1, 1, 0, 0],\n",
       "  [0, 1, 1, 1, 1, 0, 0],\n",
       "  [0, 1, 1, 1, 1, 0, 0],\n",
       "  [0, 1, 1, 1, 1, 0, 0],\n",
       "  [0, 1, 1, 1, 1, 0, 0],\n",
       "  [0, 1, 1, 1, 1, 0, 0],\n",
       "  [0, 1, 1, 1, 1, 0, 0],\n",
       "  [0, 1, 1, 1, 1, 0, 0]],\n",
       " 's2_schedule': [[1, 1, 0, 0, 1, 1, 1],\n",
       "  [1, 1, 0, 0, 1, 1, 1],\n",
       "  [1, 1, 0, 0, 1, 1, 1],\n",
       "  [1, 1, 0, 0, 1, 1, 1],\n",
       "  [1, 1, 0, 0, 1, 1, 1],\n",
       "  [1, 1, 0, 0, 1, 1, 1],\n",
       "  [1, 1, 0, 0, 1, 1, 1],\n",
       "  [1, 1, 0, 1, 1, 1, 1],\n",
       "  [1, 1, 0, 1, 1, 1, 1],\n",
       "  [1, 1, 0, 1, 1, 1, 1],\n",
       "  [1, 1, 0, 1, 1, 1, 1],\n",
       "  [1, 1, 0, 1, 1, 1, 1],\n",
       "  [1, 1, 0, 1, 1, 1, 1],\n",
       "  [1, 1, 0, 1, 1, 1, 1],\n",
       "  [1, 1, 0, 1, 1, 1, 1],\n",
       "  [1, 1, 0, 1, 1, 1, 1],\n",
       "  [1, 0, 0, 1, 1, 1, 1],\n",
       "  [1, 0, 0, 1, 1, 1, 1],\n",
       "  [1, 0, 0, 1, 1, 1, 1],\n",
       "  [1, 0, 0, 1, 1, 1, 1],\n",
       "  [1, 0, 0, 1, 1, 1, 1],\n",
       "  [1, 0, 0, 1, 1, 1, 1],\n",
       "  [1, 0, 0, 1, 1, 1, 1],\n",
       "  [1, 0, 0, 1, 1, 1, 1]]}"
      ]
     },
     "execution_count": 136,
     "metadata": {},
     "output_type": "execute_result"
    }
   ],
   "source": [
    "simulation_values[\"depth_aquifer\"] = depth_aquifer\n",
    "simulation_values"
   ]
  },
  {
   "cell_type": "markdown",
   "metadata": {},
   "source": [
    "## Datasets reading"
   ]
  },
  {
   "cell_type": "code",
   "execution_count": 12,
   "metadata": {},
   "outputs": [
    {
     "data": {
      "text/plain": [
       "dict_keys(['ospitaletto', 'miami_florida', 'fresno_california', 'olympia_washington', 'rochester_newyork', 'london_uk', 'madrid_spain', 'rome_italy', 'stuttgart_germany'])"
      ]
     },
     "execution_count": 12,
     "metadata": {},
     "output_type": "execute_result"
    }
   ],
   "source": [
    "ospitaletto2019 = OspitalettoDataset()\n",
    "noaa2010Dataset = NOAA2010Dataset()\n",
    "insPireDataset = InsPireDataset()\n",
    "\n",
    "AVAILABLE_DATASETS = dict()\n",
    "AVAILABLE_DATASETS.update(ospitaletto2019.load_all_data())\n",
    "AVAILABLE_DATASETS.update(noaa2010Dataset.load_data())\n",
    "AVAILABLE_DATASETS.update(insPireDataset.load_data())\n",
    "AVAILABLE_DATASETS.keys()"
   ]
  },
  {
   "cell_type": "code",
   "execution_count": 119,
   "metadata": {},
   "outputs": [
    {
     "data": {
      "text/plain": [
       "'stuttgart_germany'"
      ]
     },
     "execution_count": 119,
     "metadata": {},
     "output_type": "execute_result"
    }
   ],
   "source": [
    "dataset_to_work = \"stuttgart_germany\"\n",
    "dataset_to_work"
   ]
  },
  {
   "cell_type": "code",
   "execution_count": 120,
   "metadata": {},
   "outputs": [
    {
     "data": {
      "text/html": [
       "<div>\n",
       "<style scoped>\n",
       "    .dataframe tbody tr th:only-of-type {\n",
       "        vertical-align: middle;\n",
       "    }\n",
       "\n",
       "    .dataframe tbody tr th {\n",
       "        vertical-align: top;\n",
       "    }\n",
       "\n",
       "    .dataframe thead th {\n",
       "        text-align: right;\n",
       "    }\n",
       "</style>\n",
       "<table border=\"1\" class=\"dataframe\">\n",
       "  <thead>\n",
       "    <tr style=\"text-align: right;\">\n",
       "      <th></th>\n",
       "      <th>hourofyear</th>\n",
       "      <th>air_temp</th>\n",
       "    </tr>\n",
       "    <tr>\n",
       "      <th>timestamp</th>\n",
       "      <th></th>\n",
       "      <th></th>\n",
       "    </tr>\n",
       "  </thead>\n",
       "  <tbody>\n",
       "    <tr>\n",
       "      <th>2017-01-01 00:00:00</th>\n",
       "      <td>0</td>\n",
       "      <td>-1.60</td>\n",
       "    </tr>\n",
       "    <tr>\n",
       "      <th>2017-01-01 01:00:00</th>\n",
       "      <td>1</td>\n",
       "      <td>3.65</td>\n",
       "    </tr>\n",
       "    <tr>\n",
       "      <th>2017-01-01 02:00:00</th>\n",
       "      <td>2</td>\n",
       "      <td>8.75</td>\n",
       "    </tr>\n",
       "    <tr>\n",
       "      <th>2017-01-01 03:00:00</th>\n",
       "      <td>3</td>\n",
       "      <td>8.45</td>\n",
       "    </tr>\n",
       "    <tr>\n",
       "      <th>2017-01-01 04:00:00</th>\n",
       "      <td>4</td>\n",
       "      <td>8.25</td>\n",
       "    </tr>\n",
       "    <tr>\n",
       "      <th>...</th>\n",
       "      <td>...</td>\n",
       "      <td>...</td>\n",
       "    </tr>\n",
       "    <tr>\n",
       "      <th>2017-12-31 20:00:00</th>\n",
       "      <td>8756</td>\n",
       "      <td>-1.45</td>\n",
       "    </tr>\n",
       "    <tr>\n",
       "      <th>2017-12-31 21:00:00</th>\n",
       "      <td>8757</td>\n",
       "      <td>-1.50</td>\n",
       "    </tr>\n",
       "    <tr>\n",
       "      <th>2017-12-31 22:00:00</th>\n",
       "      <td>8758</td>\n",
       "      <td>-1.50</td>\n",
       "    </tr>\n",
       "    <tr>\n",
       "      <th>2017-12-31 23:00:00</th>\n",
       "      <td>8759</td>\n",
       "      <td>-1.55</td>\n",
       "    </tr>\n",
       "    <tr>\n",
       "      <th>2018-01-01 00:00:00</th>\n",
       "      <td>8760</td>\n",
       "      <td>-1.60</td>\n",
       "    </tr>\n",
       "  </tbody>\n",
       "</table>\n",
       "<p>8761 rows × 2 columns</p>\n",
       "</div>"
      ],
      "text/plain": [
       "                     hourofyear  air_temp\n",
       "timestamp                                \n",
       "2017-01-01 00:00:00           0     -1.60\n",
       "2017-01-01 01:00:00           1      3.65\n",
       "2017-01-01 02:00:00           2      8.75\n",
       "2017-01-01 03:00:00           3      8.45\n",
       "2017-01-01 04:00:00           4      8.25\n",
       "...                         ...       ...\n",
       "2017-12-31 20:00:00        8756     -1.45\n",
       "2017-12-31 21:00:00        8757     -1.50\n",
       "2017-12-31 22:00:00        8758     -1.50\n",
       "2017-12-31 23:00:00        8759     -1.55\n",
       "2018-01-01 00:00:00        8760     -1.60\n",
       "\n",
       "[8761 rows x 2 columns]"
      ]
     },
     "execution_count": 120,
     "metadata": {},
     "output_type": "execute_result"
    }
   ],
   "source": [
    "dataset = AVAILABLE_DATASETS[dataset_to_work]\n",
    "dataset"
   ]
  },
  {
   "cell_type": "markdown",
   "metadata": {
    "pycharm": {
     "name": "#%% md\n"
    }
   },
   "source": [
    "# Definition of the tentative values of Tamb_avg, DT_year, d_shift_min and d_shift_max"
   ]
  },
  {
   "cell_type": "code",
   "execution_count": 121,
   "metadata": {
    "pycharm": {
     "name": "#%%\n"
    }
   },
   "outputs": [
    {
     "name": "stdout",
     "output_type": "stream",
     "text": [
      "* T_hourly_avg=                     air_temp  dayofyear  month  hourofyear\n",
      "timestamp                                                  \n",
      "2017-01-01 00:00:00     -1.60          1      1           1\n",
      "2017-01-01 01:00:00      3.65          1      1           2\n",
      "2017-01-01 02:00:00      8.75          1      1           3\n",
      "2017-01-01 03:00:00      8.45          1      1           4\n",
      "2017-01-01 04:00:00      8.25          1      1           5\n",
      "...                       ...        ...    ...         ...\n",
      "2017-12-31 20:00:00     -1.45        365     12        8757\n",
      "2017-12-31 21:00:00     -1.50        365     12        8758\n",
      "2017-12-31 22:00:00     -1.50        365     12        8759\n",
      "2017-12-31 23:00:00     -1.55        365     12        8760\n",
      "2018-01-01 00:00:00     -1.60          1      1           1\n",
      "\n",
      "[8761 rows x 4 columns]\n",
      "* T_daily_avg=            air_temp  dayofyear  month  hourofyear\n",
      "timestamp                                         \n",
      "2017-01-01  8.791666          1      1           1\n",
      "2017-01-02  5.258333          2      1          25\n",
      "2017-01-03  6.125000          3      1          49\n",
      "2017-01-04  2.412500          4      1          73\n",
      "2017-01-05  0.808333          5      1          97\n",
      "...              ...        ...    ...         ...\n",
      "2017-12-28 -2.779167        362     12        8665\n",
      "2017-12-29 -0.806250        363     12        8689\n",
      "2017-12-30  1.150000        364     12        8713\n",
      "2017-12-31 -1.172917        365     12        8737\n",
      "2018-01-01 -1.600000          1      1           1\n",
      "\n",
      "[366 rows x 4 columns]\n",
      "* T_ave_h=9.922457695007324\n",
      "* DT_y=16.231709480285645\n",
      "* d_shift_min=15\n",
      "* T_daily_avg.air_temp.min()=-10.170833587646484\n",
      "* d_shift_max=231\n",
      "* T_daily_avg.air_temp.max()=26.15416717529297\n",
      "* t=timestamp\n",
      "2017-01-01      1\n",
      "2017-01-02      2\n",
      "2017-01-03      3\n",
      "2017-01-04      4\n",
      "2017-01-05      5\n",
      "             ... \n",
      "2017-12-28    362\n",
      "2017-12-29    363\n",
      "2017-12-30    364\n",
      "2017-12-31    365\n",
      "2018-01-01      1\n",
      "Freq: D, Name: dayofyear, Length: 366, dtype: int64\n",
      "* num_hours=8761\n",
      "* h=0          1\n",
      "1          2\n",
      "2          3\n",
      "3          4\n",
      "4          5\n",
      "        ... \n",
      "8756    8757\n",
      "8757    8758\n",
      "8758    8759\n",
      "8759    8760\n",
      "8760    8761\n",
      "Length: 8761, dtype: int64\n"
     ]
    }
   ],
   "source": [
    "#Este codigo asume que el dataset tiene un index de tiempo.\n",
    "T_hourly_avg = dataset['air_temp'].resample('H').mean().to_frame() # DataFrame de valores promedios en escala de tiempo horaria\n",
    "T_hourly_avg[\"dayofyear\"] = T_hourly_avg.index.dayofyear\n",
    "T_hourly_avg[\"month\"] = T_hourly_avg.index.month\n",
    "T_hourly_avg[\"hourofyear\"] = (T_hourly_avg.index.dayofyear - 1) * 24 + (T_hourly_avg.index.hour + 1)\n",
    "\n",
    "T_daily_avg = dataset[\"air_temp\"].resample('D').mean().to_frame() # DataFrame de valores promedios en escala de tiempo diaria\n",
    "T_daily_avg[\"dayofyear\"] = T_daily_avg.index.dayofyear\n",
    "T_daily_avg[\"month\"] = T_daily_avg.index.month\n",
    "T_daily_avg[\"hourofyear\"] = (T_daily_avg.index.dayofyear - 1) * 24 + (T_daily_avg.index.hour + 1)\n",
    "\n",
    "T_ave_h = T_daily_avg.air_temp.mean() # Average dataset temperature on a daily basis\n",
    "T_max = T_daily_avg.air_temp.max() # Max dataset temperature on a daily basis\n",
    "DT_y = T_max - T_ave_h # Temperature swing Tmax - Tmean\n",
    "\n",
    "d_shift_min = T_daily_avg.air_temp.idxmin(axis=0).dayofyear #Day of the min T\n",
    "d_shift_max = T_daily_avg.air_temp.idxmax(axis=0).dayofyear #Day of the max T\n",
    "\n",
    "t = T_daily_avg.dayofyear\n",
    "\n",
    "num_hours = T_hourly_avg.shape[0] # Number of hours in a year =8737 hrs\n",
    "h = pd.Series(range(1, num_hours + 1)) # A range equivalent to the hours of the year from 1 to 8761\n",
    "\n",
    "print(f\"* {T_hourly_avg=}\\n\"\n",
    "      f\"* {T_daily_avg=}\\n\"\n",
    "      f\"* {T_ave_h=}\\n\"\n",
    "      f\"* {DT_y=}\\n\"\n",
    "      f\"* {d_shift_min=}\\n\"\n",
    "      f\"* {T_daily_avg.air_temp.min()=}\\n\"\n",
    "      f\"* {d_shift_max=}\\n\"\n",
    "      f\"* {T_daily_avg.air_temp.max()=}\\n\"\n",
    "      f\"* {t=}\\n\"\n",
    "      f\"* {num_hours=}\\n\"\n",
    "      f\"* {h=}\")"
   ]
  },
  {
   "cell_type": "code",
   "execution_count": 122,
   "metadata": {},
   "outputs": [],
   "source": [
    "# Verify integrity of the data\n",
    "hours_of_year = T_hourly_avg.hourofyear # (T_hourly_avg.index.dayofyear - 1) * 24 + (T_hourly_avg.index.hour + 1)\n",
    "hours_not_in_data = set(range(1, num_hours + 1)) - set(hours_of_year)\n",
    "\n",
    "days_of_year = T_hourly_avg.dayofyear\n",
    "days_not_in_data = set(range(1, 365 + 1)) - set(days_of_year)\n",
    "\n",
    "months_of_year = T_hourly_avg.month\n",
    "months_not_in_data = set(range(1, 12 + 1)) - set(months_of_year)\n",
    "\n",
    "#assert len(hours_not_in_data) == 0, f\"ALERT - The dataset does not contain the following hours: {hours_not_in_data}\"\n",
    "#assert len(days_not_in_data) == 0, f\"ALERT - The dataset does not contain the following days: {days_not_in_data}\"\n",
    "#assert len(months_not_in_data) == 0, f\"ALERT - The dataset does not contain the following months: {months_not_in_data}\""
   ]
  },
  {
   "cell_type": "markdown",
   "metadata": {
    "pycharm": {
     "name": "#%% md\n"
    }
   },
   "source": [
    "# This code finds the optimal curve that better fits the raw data through the minimum square method \n",
    "\n",
    "For more info visit the [scipy.optimize.curve_fit docs](https://docs.scipy.org/doc/scipy/reference/generated/scipy.optimize.curve_fit.html#scipy.optimize.curve_fit)"
   ]
  },
  {
   "cell_type": "code",
   "execution_count": 123,
   "metadata": {},
   "outputs": [
    {
     "name": "stdout",
     "output_type": "stream",
     "text": [
      "* params=array([   9.95271088,    9.29062417, 5545.16345606])\n",
      "* params_covariance=array([[2.47589408e-03, 1.11785787e-13, 6.04464293e-15],\n",
      "       [1.11785787e-13, 4.95178818e-03, 2.20202277e-08],\n",
      "       [6.04464293e-15, 2.20202277e-08, 5.73684256e-05]])\n"
     ]
    }
   ],
   "source": [
    "def func(x, disp, amp, phi):\n",
    "    t0 = len(h) # hourly resolution if x is in hours\n",
    "    omega = 2 * pi / t0\n",
    "    return disp + amp * np.cos(x * omega - phi) \n",
    "\n",
    "x_data = pd.Series(range(0,len(T_hourly_avg)))\n",
    "y_data = T_hourly_avg.air_temp\n",
    "params, params_covariance = optimize.curve_fit(func, x_data, y_data, p0=[T_ave_h, DT_y, d_shift_max * 24])\n",
    "print(f\"* {params=}\\n\"\n",
    "      f\"* {params_covariance=}\")"
   ]
  },
  {
   "cell_type": "code",
   "execution_count": 124,
   "metadata": {
    "pycharm": {
     "name": "#%%\n"
    }
   },
   "outputs": [
    {
     "name": "stdout",
     "output_type": "stream",
     "text": [
      "Fitted parameters:\n"
     ]
    },
    {
     "data": {
      "text/latex": [
       "$\\displaystyle dist=9.95, amp=9.29, \\phi=5545.16$"
      ],
      "text/plain": [
       "<IPython.core.display.Math object>"
      ]
     },
     "metadata": {},
     "output_type": "display_data"
    },
    {
     "name": "stdout",
     "output_type": "stream",
     "text": [
      "Original parameters:\n"
     ]
    },
    {
     "data": {
      "text/latex": [
       "$\\displaystyle dist=9.92, amp=16.23, \\phi=5544.00$"
      ],
      "text/plain": [
       "<IPython.core.display.Math object>"
      ]
     },
     "metadata": {},
     "output_type": "display_data"
    }
   ],
   "source": [
    "T_ave_fit = params[0]\n",
    "DT_y_fit = params[1]\n",
    "phi = params[2] #Corresponds to day 202\n",
    "\n",
    "#'displacement, amplitude, and phase of the signal\n",
    "print('Fitted parameters:')\n",
    "display(Math(f\"dist={T_ave_fit:.2f}, amp={DT_y_fit:.2f}, \\\\phi={phi:.2f}\"))\n",
    "\n",
    "print('Original parameters:')\n",
    "display(Math(f\"dist={T_ave_h:.2f}, amp={DT_y:.2f}, \\\\phi={d_shift_max*24:.2f}\"))"
   ]
  },
  {
   "cell_type": "markdown",
   "metadata": {
    "pycharm": {
     "name": "#%% md\n"
    }
   },
   "source": [
    "# The new ambient temperature curve uses the fitted parameters as input"
   ]
  },
  {
   "cell_type": "code",
   "execution_count": 125,
   "metadata": {},
   "outputs": [],
   "source": [
    "def fitting_curve(hourofyear, T_ave_fit, DT_y_fit, T, phi, pi):\n",
    "    omega = 2 * pi / T\n",
    "    return T_ave_fit + DT_y_fit * np.cos(hourofyear * omega - phi) "
   ]
  },
  {
   "cell_type": "code",
   "execution_count": 126,
   "metadata": {
    "pycharm": {
     "name": "#%%\n"
    }
   },
   "outputs": [
    {
     "name": "stdout",
     "output_type": "stream",
     "text": [
      "* T=8761\n",
      "* T_hourly_avg=                     air_temp  dayofyear  month  hourofyear  air_temp_fit\n",
      "timestamp                                                                \n",
      "2017-01-01 00:00:00     -1.60          1      1           1      0.954843\n",
      "2017-01-01 01:00:00      3.65          1      1           2      0.953185\n",
      "2017-01-01 02:00:00      8.75          1      1           3      0.951533\n",
      "2017-01-01 03:00:00      8.45          1      1           4      0.949885\n",
      "2017-01-01 04:00:00      8.25          1      1           5      0.948242\n",
      "...                       ...        ...    ...         ...           ...\n",
      "2017-12-31 20:00:00     -1.45        365     12        8757      0.963198\n",
      "2017-12-31 21:00:00     -1.50        365     12        8758      0.961517\n",
      "2017-12-31 22:00:00     -1.50        365     12        8759      0.959842\n",
      "2017-12-31 23:00:00     -1.55        365     12        8760      0.958171\n",
      "2018-01-01 00:00:00     -1.60          1      1           1      0.954843\n",
      "\n",
      "[8761 rows x 5 columns]\n",
      "* d_min (h): 2017-01-15 15:00:00\n",
      "* day_number: 15\n",
      "* d_max (h): 2017-07-17 03:00:00\n",
      "* day_number: 198\n"
     ]
    }
   ],
   "source": [
    "T = T_hourly_avg.hourofyear.shape[0]\n",
    "T_hourly_avg[\"air_temp_fit\"] = T_hourly_avg.hourofyear.apply(fitting_curve, args=(T_ave_fit, DT_y_fit, T, phi, pi))\n",
    "\n",
    "d_shift_min = T_hourly_avg.air_temp_fit.idxmin(axis=0)\n",
    "d_shift_max = T_hourly_avg.air_temp_fit.idxmax(axis=0)\n",
    "\n",
    "dd_min = T_hourly_avg[T_hourly_avg.index == d_shift_min].dayofyear.item() # d_shift_min / 24\n",
    "dd_max = T_hourly_avg[T_hourly_avg.index == d_shift_max].dayofyear.item() # d_shift_max / 24\n",
    "\n",
    "print(f'* {T=}\\n'\n",
    "      f'* {T_hourly_avg=}\\n'\n",
    "      f'* d_min (h): {d_shift_min}\\n'\n",
    "      f'* day_number: {dd_min}\\n'\n",
    "      f'* d_max (h): {d_shift_max}\\n'\n",
    "      f'* day_number: {dd_max}')"
   ]
  },
  {
   "cell_type": "markdown",
   "metadata": {
    "pycharm": {
     "name": "#%% md\n"
    }
   },
   "source": [
    "## Ground temperature as a function of the ambient temperature fitting curve\n",
    "\n",
    "See for Banks [Measurements of Ground Temperature at Various Depths](https://www.researchgate.net/publication/30500372_Measurements_of_Ground_Temperature_at_Various_Depths?enrichId=rgreq-e2031a024b742c0018bb428dca3100f5-XXX&enrichSource=Y292ZXJQYWdlOzMwNTAwMzcyO0FTOjEwMTI0NTIzNDcxMjU4M0AxNDAxMTUwMTUzNjYy&el=1_x_2&_esc=publicationCoverPdf) and for Kusuda [Earth Temperatures and Thermal Diffusivity at Selected Stations in the United States](https://nvlpubs.nist.gov/nistpubs/Legacy/RPT/nbsreport8972.pdf)"
   ]
  },
  {
   "cell_type": "code",
   "execution_count": 127,
   "metadata": {
    "pycharm": {
     "name": "#%%\n"
    }
   },
   "outputs": [
    {
     "name": "stdout",
     "output_type": "stream",
     "text": [
      "* zz=1\n",
      "* alpha=0.06048\n",
      "* alpha_sec=7e-07\n",
      "* t_sec=31536000\n",
      "* t_0=366\n",
      "* Tg_und=9.952710876454358\n",
      "* DT_y=9.290624167507152\n",
      "* dd_min=15\n",
      "* dd_max=198\n"
     ]
    }
   ],
   "source": [
    "# The purpose of having two equations is to show that they both work using the same input data\n",
    "zz = 1 # Depth [m]\n",
    "alpha = 0.06048 # Ground thermal diffusivity, Banks [m^2/day]\n",
    "alpha_sec = 7e-7 # Ground thermal diffusivity, Banks [m^2/s]\n",
    "t_sec = 365 * 24 * 3600 # Number of seconds in a year.\n",
    "\n",
    "t_0 = T_daily_avg.shape[0] # Number of days in a year =365 days\n",
    "\n",
    "Tg_und = T_ave_fit # Undisturbed ground temperature\n",
    "DT_y = abs(DT_y_fit)\n",
    "\n",
    "print(f\"* {zz=}\\n\"\n",
    "      f\"* {alpha=}\\n\"\n",
    "      f\"* {alpha_sec=}\\n\"\n",
    "      f\"* {t_sec=}\\n\"\n",
    "      f\"* {t_0=}\\n\"\n",
    "      f\"* {Tg_und=}\\n\"\n",
    "      f\"* {DT_y=}\\n\"\n",
    "      f\"* {dd_min=}\\n\"\n",
    "      f\"* {dd_max=}\")"
   ]
  },
  {
   "cell_type": "code",
   "execution_count": 128,
   "metadata": {},
   "outputs": [],
   "source": [
    "def ground_temperature_hour(t: int):\n",
    "    #t is time in hours, but the calculation is done is seconds\n",
    "    T_banks= Tg_und+DT_y*exp(-zz*sqrt(pi/(alpha_sec*t_sec)))*cos(2*pi/t_sec*(t-dd_max*24)*3600-zz*sqrt(pi/(alpha_sec*t_sec))) #Banks + t_shift ->Marco's\n",
    "    T_kusuda = Tg_und-DT_y*exp(-zz*sqrt(pi/(alpha_sec*t_sec)))*cos(2*pi/t_sec*((t-dd_min*24)*3600-zz/2*sqrt(t_sec/(pi*alpha_sec)))) #Kusuda\n",
    "    \n",
    "    return  (pd.Series({'T_banks': T_banks,'T_kusuda': T_kusuda}))"
   ]
  },
  {
   "cell_type": "code",
   "execution_count": 129,
   "metadata": {},
   "outputs": [
    {
     "data": {
      "text/html": [
       "<div>\n",
       "<style scoped>\n",
       "    .dataframe tbody tr th:only-of-type {\n",
       "        vertical-align: middle;\n",
       "    }\n",
       "\n",
       "    .dataframe tbody tr th {\n",
       "        vertical-align: top;\n",
       "    }\n",
       "\n",
       "    .dataframe thead th {\n",
       "        text-align: right;\n",
       "    }\n",
       "</style>\n",
       "<table border=\"1\" class=\"dataframe\">\n",
       "  <thead>\n",
       "    <tr style=\"text-align: right;\">\n",
       "      <th></th>\n",
       "      <th>air_temp</th>\n",
       "      <th>dayofyear</th>\n",
       "      <th>month</th>\n",
       "      <th>hourofyear</th>\n",
       "      <th>air_temp_fit</th>\n",
       "      <th>ground_temp</th>\n",
       "    </tr>\n",
       "    <tr>\n",
       "      <th>timestamp</th>\n",
       "      <th></th>\n",
       "      <th></th>\n",
       "      <th></th>\n",
       "      <th></th>\n",
       "      <th></th>\n",
       "      <th></th>\n",
       "    </tr>\n",
       "  </thead>\n",
       "  <tbody>\n",
       "    <tr>\n",
       "      <th>2017-01-01 00:00:00</th>\n",
       "      <td>-1.60</td>\n",
       "      <td>1</td>\n",
       "      <td>1</td>\n",
       "      <td>1</td>\n",
       "      <td>0.954843</td>\n",
       "      <td>4.855297</td>\n",
       "    </tr>\n",
       "    <tr>\n",
       "      <th>2017-01-01 01:00:00</th>\n",
       "      <td>3.65</td>\n",
       "      <td>1</td>\n",
       "      <td>1</td>\n",
       "      <td>2</td>\n",
       "      <td>0.953185</td>\n",
       "      <td>4.852557</td>\n",
       "    </tr>\n",
       "    <tr>\n",
       "      <th>2017-01-01 02:00:00</th>\n",
       "      <td>8.75</td>\n",
       "      <td>1</td>\n",
       "      <td>1</td>\n",
       "      <td>3</td>\n",
       "      <td>0.951533</td>\n",
       "      <td>4.849819</td>\n",
       "    </tr>\n",
       "    <tr>\n",
       "      <th>2017-01-01 03:00:00</th>\n",
       "      <td>8.45</td>\n",
       "      <td>1</td>\n",
       "      <td>1</td>\n",
       "      <td>4</td>\n",
       "      <td>0.949885</td>\n",
       "      <td>4.847085</td>\n",
       "    </tr>\n",
       "    <tr>\n",
       "      <th>2017-01-01 04:00:00</th>\n",
       "      <td>8.25</td>\n",
       "      <td>1</td>\n",
       "      <td>1</td>\n",
       "      <td>5</td>\n",
       "      <td>0.948242</td>\n",
       "      <td>4.844353</td>\n",
       "    </tr>\n",
       "    <tr>\n",
       "      <th>...</th>\n",
       "      <td>...</td>\n",
       "      <td>...</td>\n",
       "      <td>...</td>\n",
       "      <td>...</td>\n",
       "      <td>...</td>\n",
       "      <td>...</td>\n",
       "    </tr>\n",
       "    <tr>\n",
       "      <th>2017-12-31 20:00:00</th>\n",
       "      <td>-1.45</td>\n",
       "      <td>365</td>\n",
       "      <td>12</td>\n",
       "      <td>8757</td>\n",
       "      <td>0.963198</td>\n",
       "      <td>4.866283</td>\n",
       "    </tr>\n",
       "    <tr>\n",
       "      <th>2017-12-31 21:00:00</th>\n",
       "      <td>-1.50</td>\n",
       "      <td>365</td>\n",
       "      <td>12</td>\n",
       "      <td>8758</td>\n",
       "      <td>0.961517</td>\n",
       "      <td>4.863532</td>\n",
       "    </tr>\n",
       "    <tr>\n",
       "      <th>2017-12-31 22:00:00</th>\n",
       "      <td>-1.50</td>\n",
       "      <td>365</td>\n",
       "      <td>12</td>\n",
       "      <td>8759</td>\n",
       "      <td>0.959842</td>\n",
       "      <td>4.860784</td>\n",
       "    </tr>\n",
       "    <tr>\n",
       "      <th>2017-12-31 23:00:00</th>\n",
       "      <td>-1.55</td>\n",
       "      <td>365</td>\n",
       "      <td>12</td>\n",
       "      <td>8760</td>\n",
       "      <td>0.958171</td>\n",
       "      <td>4.858039</td>\n",
       "    </tr>\n",
       "    <tr>\n",
       "      <th>2018-01-01 00:00:00</th>\n",
       "      <td>-1.60</td>\n",
       "      <td>1</td>\n",
       "      <td>1</td>\n",
       "      <td>1</td>\n",
       "      <td>0.954843</td>\n",
       "      <td>4.855297</td>\n",
       "    </tr>\n",
       "  </tbody>\n",
       "</table>\n",
       "<p>8761 rows × 6 columns</p>\n",
       "</div>"
      ],
      "text/plain": [
       "                     air_temp  dayofyear  month  hourofyear  air_temp_fit  \\\n",
       "timestamp                                                                   \n",
       "2017-01-01 00:00:00     -1.60          1      1           1      0.954843   \n",
       "2017-01-01 01:00:00      3.65          1      1           2      0.953185   \n",
       "2017-01-01 02:00:00      8.75          1      1           3      0.951533   \n",
       "2017-01-01 03:00:00      8.45          1      1           4      0.949885   \n",
       "2017-01-01 04:00:00      8.25          1      1           5      0.948242   \n",
       "...                       ...        ...    ...         ...           ...   \n",
       "2017-12-31 20:00:00     -1.45        365     12        8757      0.963198   \n",
       "2017-12-31 21:00:00     -1.50        365     12        8758      0.961517   \n",
       "2017-12-31 22:00:00     -1.50        365     12        8759      0.959842   \n",
       "2017-12-31 23:00:00     -1.55        365     12        8760      0.958171   \n",
       "2018-01-01 00:00:00     -1.60          1      1           1      0.954843   \n",
       "\n",
       "                     ground_temp  \n",
       "timestamp                         \n",
       "2017-01-01 00:00:00     4.855297  \n",
       "2017-01-01 01:00:00     4.852557  \n",
       "2017-01-01 02:00:00     4.849819  \n",
       "2017-01-01 03:00:00     4.847085  \n",
       "2017-01-01 04:00:00     4.844353  \n",
       "...                          ...  \n",
       "2017-12-31 20:00:00     4.866283  \n",
       "2017-12-31 21:00:00     4.863532  \n",
       "2017-12-31 22:00:00     4.860784  \n",
       "2017-12-31 23:00:00     4.858039  \n",
       "2018-01-01 00:00:00     4.855297  \n",
       "\n",
       "[8761 rows x 6 columns]"
      ]
     },
     "execution_count": 129,
     "metadata": {},
     "output_type": "execute_result"
    }
   ],
   "source": [
    "tbanks_and_tkusuda = T_hourly_avg.hourofyear.apply(ground_temperature_hour)\n",
    "\n",
    "T_hourly_avg[\"ground_temp\"] = tbanks_and_tkusuda[\"T_banks\"]\n",
    "T_hourly_avg"
   ]
  },
  {
   "cell_type": "markdown",
   "metadata": {
    "pycharm": {
     "name": "#%% md\n"
    }
   },
   "source": [
    "## Aquifer temperature as a function of the ambient temperature fitting curve\n",
    "\n",
    "We use the same equations as for ground temp"
   ]
  },
  {
   "cell_type": "code",
   "execution_count": 130,
   "metadata": {},
   "outputs": [
    {
     "name": "stdout",
     "output_type": "stream",
     "text": [
      "* zz=30.0\n",
      "* alpha=0.06048\n",
      "* alpha_sec=7e-07\n",
      "* t_sec=31536000\n",
      "* t_0=366\n",
      "* Tg_und=9.952710876454358\n",
      "* DT_y=9.290624167507152\n",
      "* dd_min=15\n",
      "* dd_max=198\n"
     ]
    }
   ],
   "source": [
    "zz = depth_aquifer\n",
    "\n",
    "print(f\"* {zz=}\\n\"\n",
    "      f\"* {alpha=}\\n\"\n",
    "      f\"* {alpha_sec=}\\n\"\n",
    "      f\"* {t_sec=}\\n\"\n",
    "      f\"* {t_0=}\\n\"\n",
    "      f\"* {Tg_und=}\\n\"\n",
    "      f\"* {DT_y=}\\n\"\n",
    "      f\"* {dd_min=}\\n\"\n",
    "      f\"* {dd_max=}\")"
   ]
  },
  {
   "cell_type": "code",
   "execution_count": 131,
   "metadata": {},
   "outputs": [
    {
     "data": {
      "text/html": [
       "<div>\n",
       "<style scoped>\n",
       "    .dataframe tbody tr th:only-of-type {\n",
       "        vertical-align: middle;\n",
       "    }\n",
       "\n",
       "    .dataframe tbody tr th {\n",
       "        vertical-align: top;\n",
       "    }\n",
       "\n",
       "    .dataframe thead th {\n",
       "        text-align: right;\n",
       "    }\n",
       "</style>\n",
       "<table border=\"1\" class=\"dataframe\">\n",
       "  <thead>\n",
       "    <tr style=\"text-align: right;\">\n",
       "      <th></th>\n",
       "      <th>air_temp</th>\n",
       "      <th>dayofyear</th>\n",
       "      <th>month</th>\n",
       "      <th>hourofyear</th>\n",
       "      <th>air_temp_fit</th>\n",
       "      <th>ground_temp</th>\n",
       "      <th>aquifer_temp</th>\n",
       "    </tr>\n",
       "    <tr>\n",
       "      <th>timestamp</th>\n",
       "      <th></th>\n",
       "      <th></th>\n",
       "      <th></th>\n",
       "      <th></th>\n",
       "      <th></th>\n",
       "      <th></th>\n",
       "      <th></th>\n",
       "    </tr>\n",
       "  </thead>\n",
       "  <tbody>\n",
       "    <tr>\n",
       "      <th>2017-01-01 00:00:00</th>\n",
       "      <td>-1.60</td>\n",
       "      <td>1</td>\n",
       "      <td>1</td>\n",
       "      <td>1</td>\n",
       "      <td>0.954843</td>\n",
       "      <td>4.855297</td>\n",
       "      <td>9.952648</td>\n",
       "    </tr>\n",
       "    <tr>\n",
       "      <th>2017-01-01 01:00:00</th>\n",
       "      <td>3.65</td>\n",
       "      <td>1</td>\n",
       "      <td>1</td>\n",
       "      <td>2</td>\n",
       "      <td>0.953185</td>\n",
       "      <td>4.852557</td>\n",
       "      <td>9.952648</td>\n",
       "    </tr>\n",
       "    <tr>\n",
       "      <th>2017-01-01 02:00:00</th>\n",
       "      <td>8.75</td>\n",
       "      <td>1</td>\n",
       "      <td>1</td>\n",
       "      <td>3</td>\n",
       "      <td>0.951533</td>\n",
       "      <td>4.849819</td>\n",
       "      <td>9.952648</td>\n",
       "    </tr>\n",
       "    <tr>\n",
       "      <th>2017-01-01 03:00:00</th>\n",
       "      <td>8.45</td>\n",
       "      <td>1</td>\n",
       "      <td>1</td>\n",
       "      <td>4</td>\n",
       "      <td>0.949885</td>\n",
       "      <td>4.847085</td>\n",
       "      <td>9.952648</td>\n",
       "    </tr>\n",
       "    <tr>\n",
       "      <th>2017-01-01 04:00:00</th>\n",
       "      <td>8.25</td>\n",
       "      <td>1</td>\n",
       "      <td>1</td>\n",
       "      <td>5</td>\n",
       "      <td>0.948242</td>\n",
       "      <td>4.844353</td>\n",
       "      <td>9.952648</td>\n",
       "    </tr>\n",
       "    <tr>\n",
       "      <th>...</th>\n",
       "      <td>...</td>\n",
       "      <td>...</td>\n",
       "      <td>...</td>\n",
       "      <td>...</td>\n",
       "      <td>...</td>\n",
       "      <td>...</td>\n",
       "      <td>...</td>\n",
       "    </tr>\n",
       "    <tr>\n",
       "      <th>2017-12-31 20:00:00</th>\n",
       "      <td>-1.45</td>\n",
       "      <td>365</td>\n",
       "      <td>12</td>\n",
       "      <td>8757</td>\n",
       "      <td>0.963198</td>\n",
       "      <td>4.866283</td>\n",
       "      <td>9.952648</td>\n",
       "    </tr>\n",
       "    <tr>\n",
       "      <th>2017-12-31 21:00:00</th>\n",
       "      <td>-1.50</td>\n",
       "      <td>365</td>\n",
       "      <td>12</td>\n",
       "      <td>8758</td>\n",
       "      <td>0.961517</td>\n",
       "      <td>4.863532</td>\n",
       "      <td>9.952648</td>\n",
       "    </tr>\n",
       "    <tr>\n",
       "      <th>2017-12-31 22:00:00</th>\n",
       "      <td>-1.50</td>\n",
       "      <td>365</td>\n",
       "      <td>12</td>\n",
       "      <td>8759</td>\n",
       "      <td>0.959842</td>\n",
       "      <td>4.860784</td>\n",
       "      <td>9.952648</td>\n",
       "    </tr>\n",
       "    <tr>\n",
       "      <th>2017-12-31 23:00:00</th>\n",
       "      <td>-1.55</td>\n",
       "      <td>365</td>\n",
       "      <td>12</td>\n",
       "      <td>8760</td>\n",
       "      <td>0.958171</td>\n",
       "      <td>4.858039</td>\n",
       "      <td>9.952648</td>\n",
       "    </tr>\n",
       "    <tr>\n",
       "      <th>2018-01-01 00:00:00</th>\n",
       "      <td>-1.60</td>\n",
       "      <td>1</td>\n",
       "      <td>1</td>\n",
       "      <td>1</td>\n",
       "      <td>0.954843</td>\n",
       "      <td>4.855297</td>\n",
       "      <td>9.952648</td>\n",
       "    </tr>\n",
       "  </tbody>\n",
       "</table>\n",
       "<p>8761 rows × 7 columns</p>\n",
       "</div>"
      ],
      "text/plain": [
       "                     air_temp  dayofyear  month  hourofyear  air_temp_fit  \\\n",
       "timestamp                                                                   \n",
       "2017-01-01 00:00:00     -1.60          1      1           1      0.954843   \n",
       "2017-01-01 01:00:00      3.65          1      1           2      0.953185   \n",
       "2017-01-01 02:00:00      8.75          1      1           3      0.951533   \n",
       "2017-01-01 03:00:00      8.45          1      1           4      0.949885   \n",
       "2017-01-01 04:00:00      8.25          1      1           5      0.948242   \n",
       "...                       ...        ...    ...         ...           ...   \n",
       "2017-12-31 20:00:00     -1.45        365     12        8757      0.963198   \n",
       "2017-12-31 21:00:00     -1.50        365     12        8758      0.961517   \n",
       "2017-12-31 22:00:00     -1.50        365     12        8759      0.959842   \n",
       "2017-12-31 23:00:00     -1.55        365     12        8760      0.958171   \n",
       "2018-01-01 00:00:00     -1.60          1      1           1      0.954843   \n",
       "\n",
       "                     ground_temp  aquifer_temp  \n",
       "timestamp                                       \n",
       "2017-01-01 00:00:00     4.855297      9.952648  \n",
       "2017-01-01 01:00:00     4.852557      9.952648  \n",
       "2017-01-01 02:00:00     4.849819      9.952648  \n",
       "2017-01-01 03:00:00     4.847085      9.952648  \n",
       "2017-01-01 04:00:00     4.844353      9.952648  \n",
       "...                          ...           ...  \n",
       "2017-12-31 20:00:00     4.866283      9.952648  \n",
       "2017-12-31 21:00:00     4.863532      9.952648  \n",
       "2017-12-31 22:00:00     4.860784      9.952648  \n",
       "2017-12-31 23:00:00     4.858039      9.952648  \n",
       "2018-01-01 00:00:00     4.855297      9.952648  \n",
       "\n",
       "[8761 rows x 7 columns]"
      ]
     },
     "execution_count": 131,
     "metadata": {},
     "output_type": "execute_result"
    }
   ],
   "source": [
    "tbanks_and_tkusuda = T_hourly_avg.hourofyear.apply(ground_temperature_hour)\n",
    "\n",
    "T_hourly_avg[\"aquifer_temp\"] = tbanks_and_tkusuda[\"T_banks\"]\n",
    "T_hourly_avg"
   ]
  },
  {
   "cell_type": "markdown",
   "metadata": {
    "pycharm": {
     "name": "#%% md\n"
    }
   },
   "source": [
    "## Save CSV version of the dataset"
   ]
  },
  {
   "cell_type": "code",
   "execution_count": 132,
   "metadata": {
    "collapsed": false,
    "jupyter": {
     "outputs_hidden": false
    },
    "pycharm": {
     "name": "#%%\n"
    }
   },
   "outputs": [],
   "source": [
    "AVAILABLE_DATASET_PATHS = {OspitalettoDataset.OSPITALETTO: ospitaletto2019.processed_dataset_path,\n",
    "                           NOAA2010Dataset.MIAMI_FL: noaa2010Dataset.processed_miami_fl_dataset_path, \n",
    "                           NOAA2010Dataset.FRESNO_CA: noaa2010Dataset.processed_fresno_ca_dataset_path, \n",
    "                           NOAA2010Dataset.OLYMPIA_WA: noaa2010Dataset.processed_olympia_wa_dataset_path,\n",
    "                           NOAA2010Dataset.ROCHESTER_NY: noaa2010Dataset.processed_rochester_ny_dataset_path,\n",
    "                           InsPireDataset.LONDON_UK: insPireDataset.processed_london_uk_dataset_path,\n",
    "                           InsPireDataset.MADRID_SPA: insPireDataset.processed_madrid_spa_dataset_path,\n",
    "                           InsPireDataset.ROME_IT: insPireDataset.processed_rome_it_dataset_path,\n",
    "                           InsPireDataset.STUTTGART_GER: insPireDataset.processed_stuttgart_ger_dataset_path,}\n",
    "\n",
    "T_hourly_avg.to_csv(path_or_buf=AVAILABLE_DATASET_PATHS[dataset_to_work])"
   ]
  },
  {
   "cell_type": "code",
   "execution_count": 133,
   "metadata": {},
   "outputs": [],
   "source": [
    "with open(simulation_values_path, \"w\") as f:\n",
    "    json.dump(simulation_values, f, sort_keys=True, indent=2)"
   ]
  }
 ],
 "metadata": {
  "kernelspec": {
   "display_name": "Python 3",
   "language": "python",
   "name": "python3"
  },
  "language_info": {
   "codemirror_mode": {
    "name": "ipython",
    "version": 3
   },
   "file_extension": ".py",
   "mimetype": "text/x-python",
   "name": "python",
   "nbconvert_exporter": "python",
   "pygments_lexer": "ipython3",
   "version": "3.8.1"
  }
 },
 "nbformat": 4,
 "nbformat_minor": 4
}
