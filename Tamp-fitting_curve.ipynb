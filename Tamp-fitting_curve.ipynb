{
 "cells": [
  {
   "cell_type": "code",
   "execution_count": 120,
   "metadata": {},
   "outputs": [],
   "source": [
    "import pandas as pd\n",
    "import matplotlib.pyplot as plt\n",
    "import seaborn as sns\n",
    "import numpy as np\n",
    "import os\n",
    "\n",
    "from IPython.display import display, Math\n",
    "from scipy import optimize\n",
    "from math import exp, cos, sqrt, pi, sin, sqrt\n",
    "\n",
    "from src.OspitalettoDataset import OspitalettoDataset\n",
    "from src.NOAA2010Dataset import NOAA2010Dataset\n",
    "\n",
    "mypalette = sns.color_palette(['#51ffda']) # https://www.hsluv.org/\n",
    "sns.set_palette(mypalette)"
   ]
  },
  {
   "cell_type": "markdown",
   "metadata": {},
   "source": [
    "## Constants to be used in the notebook"
   ]
  },
  {
   "cell_type": "code",
   "execution_count": 121,
   "metadata": {},
   "outputs": [
    {
     "name": "stdin",
     "output_type": "stream",
     "text": [
      "Aquifer temperature depth:  30\n"
     ]
    }
   ],
   "source": [
    "# The depth of the aquifer in meters. Values are around 30.\n",
    "depth_aquifer = float(input(\"Aquifer temperature depth: \"))"
   ]
  },
  {
   "cell_type": "markdown",
   "metadata": {},
   "source": [
    "## Datasets reading"
   ]
  },
  {
   "cell_type": "code",
   "execution_count": 122,
   "metadata": {},
   "outputs": [
    {
     "data": {
      "text/plain": [
       "dict_keys(['ospitaletto', 'miami_florida', 'fresno_california', 'olympia_washington', 'rochester_newyork'])"
      ]
     },
     "execution_count": 122,
     "metadata": {},
     "output_type": "execute_result"
    }
   ],
   "source": [
    "ospitaletto2019 = OspitalettoDataset()\n",
    "noaa2010Dataset = NOAA2010Dataset()\n",
    "\n",
    "AVAILABLE_DATASETS = dict()\n",
    "AVAILABLE_DATASETS.update(ospitaletto2019.load_all_data())\n",
    "AVAILABLE_DATASETS.update(noaa2010Dataset.load_data())\n",
    "AVAILABLE_DATASETS.keys()"
   ]
  },
  {
   "cell_type": "code",
   "execution_count": 182,
   "metadata": {},
   "outputs": [
    {
     "data": {
      "text/plain": [
       "'rochester_newyork'"
      ]
     },
     "execution_count": 182,
     "metadata": {},
     "output_type": "execute_result"
    }
   ],
   "source": [
    "dataset_to_work = \"rochester_newyork\"\n",
    "dataset_to_work"
   ]
  },
  {
   "cell_type": "code",
   "execution_count": 183,
   "metadata": {},
   "outputs": [
    {
     "data": {
      "text/html": [
       "<div>\n",
       "<style scoped>\n",
       "    .dataframe tbody tr th:only-of-type {\n",
       "        vertical-align: middle;\n",
       "    }\n",
       "\n",
       "    .dataframe tbody tr th {\n",
       "        vertical-align: top;\n",
       "    }\n",
       "\n",
       "    .dataframe thead th {\n",
       "        text-align: right;\n",
       "    }\n",
       "</style>\n",
       "<table border=\"1\" class=\"dataframe\">\n",
       "  <thead>\n",
       "    <tr style=\"text-align: right;\">\n",
       "      <th></th>\n",
       "      <th>station_id</th>\n",
       "      <th>station_name</th>\n",
       "      <th>air_temp</th>\n",
       "    </tr>\n",
       "    <tr>\n",
       "      <th>timestamp</th>\n",
       "      <th></th>\n",
       "      <th></th>\n",
       "      <th></th>\n",
       "    </tr>\n",
       "  </thead>\n",
       "  <tbody>\n",
       "    <tr>\n",
       "      <th>2010-01-01 01:00:00</th>\n",
       "      <td>USW00014768</td>\n",
       "      <td>ROCHESTER GREATER INTERNATIONAL, NY US</td>\n",
       "      <td>-2.9</td>\n",
       "    </tr>\n",
       "    <tr>\n",
       "      <th>2010-01-01 02:00:00</th>\n",
       "      <td>USW00014768</td>\n",
       "      <td>ROCHESTER GREATER INTERNATIONAL, NY US</td>\n",
       "      <td>-3.1</td>\n",
       "    </tr>\n",
       "    <tr>\n",
       "      <th>2010-01-01 03:00:00</th>\n",
       "      <td>USW00014768</td>\n",
       "      <td>ROCHESTER GREATER INTERNATIONAL, NY US</td>\n",
       "      <td>-3.2</td>\n",
       "    </tr>\n",
       "    <tr>\n",
       "      <th>2010-01-01 04:00:00</th>\n",
       "      <td>USW00014768</td>\n",
       "      <td>ROCHESTER GREATER INTERNATIONAL, NY US</td>\n",
       "      <td>-3.3</td>\n",
       "    </tr>\n",
       "    <tr>\n",
       "      <th>2010-01-01 05:00:00</th>\n",
       "      <td>USW00014768</td>\n",
       "      <td>ROCHESTER GREATER INTERNATIONAL, NY US</td>\n",
       "      <td>-3.3</td>\n",
       "    </tr>\n",
       "    <tr>\n",
       "      <th>...</th>\n",
       "      <td>...</td>\n",
       "      <td>...</td>\n",
       "      <td>...</td>\n",
       "    </tr>\n",
       "    <tr>\n",
       "      <th>2010-12-31 19:00:00</th>\n",
       "      <td>USW00014768</td>\n",
       "      <td>ROCHESTER GREATER INTERNATIONAL, NY US</td>\n",
       "      <td>-1.9</td>\n",
       "    </tr>\n",
       "    <tr>\n",
       "      <th>2010-12-31 20:00:00</th>\n",
       "      <td>USW00014768</td>\n",
       "      <td>ROCHESTER GREATER INTERNATIONAL, NY US</td>\n",
       "      <td>-2.2</td>\n",
       "    </tr>\n",
       "    <tr>\n",
       "      <th>2010-12-31 21:00:00</th>\n",
       "      <td>USW00014768</td>\n",
       "      <td>ROCHESTER GREATER INTERNATIONAL, NY US</td>\n",
       "      <td>-2.3</td>\n",
       "    </tr>\n",
       "    <tr>\n",
       "      <th>2010-12-31 22:00:00</th>\n",
       "      <td>USW00014768</td>\n",
       "      <td>ROCHESTER GREATER INTERNATIONAL, NY US</td>\n",
       "      <td>-2.6</td>\n",
       "    </tr>\n",
       "    <tr>\n",
       "      <th>2010-12-31 23:00:00</th>\n",
       "      <td>USW00014768</td>\n",
       "      <td>ROCHESTER GREATER INTERNATIONAL, NY US</td>\n",
       "      <td>-2.7</td>\n",
       "    </tr>\n",
       "  </tbody>\n",
       "</table>\n",
       "<p>8759 rows × 3 columns</p>\n",
       "</div>"
      ],
      "text/plain": [
       "                      station_id                            station_name  \\\n",
       "timestamp                                                                  \n",
       "2010-01-01 01:00:00  USW00014768  ROCHESTER GREATER INTERNATIONAL, NY US   \n",
       "2010-01-01 02:00:00  USW00014768  ROCHESTER GREATER INTERNATIONAL, NY US   \n",
       "2010-01-01 03:00:00  USW00014768  ROCHESTER GREATER INTERNATIONAL, NY US   \n",
       "2010-01-01 04:00:00  USW00014768  ROCHESTER GREATER INTERNATIONAL, NY US   \n",
       "2010-01-01 05:00:00  USW00014768  ROCHESTER GREATER INTERNATIONAL, NY US   \n",
       "...                          ...                                     ...   \n",
       "2010-12-31 19:00:00  USW00014768  ROCHESTER GREATER INTERNATIONAL, NY US   \n",
       "2010-12-31 20:00:00  USW00014768  ROCHESTER GREATER INTERNATIONAL, NY US   \n",
       "2010-12-31 21:00:00  USW00014768  ROCHESTER GREATER INTERNATIONAL, NY US   \n",
       "2010-12-31 22:00:00  USW00014768  ROCHESTER GREATER INTERNATIONAL, NY US   \n",
       "2010-12-31 23:00:00  USW00014768  ROCHESTER GREATER INTERNATIONAL, NY US   \n",
       "\n",
       "                     air_temp  \n",
       "timestamp                      \n",
       "2010-01-01 01:00:00      -2.9  \n",
       "2010-01-01 02:00:00      -3.1  \n",
       "2010-01-01 03:00:00      -3.2  \n",
       "2010-01-01 04:00:00      -3.3  \n",
       "2010-01-01 05:00:00      -3.3  \n",
       "...                       ...  \n",
       "2010-12-31 19:00:00      -1.9  \n",
       "2010-12-31 20:00:00      -2.2  \n",
       "2010-12-31 21:00:00      -2.3  \n",
       "2010-12-31 22:00:00      -2.6  \n",
       "2010-12-31 23:00:00      -2.7  \n",
       "\n",
       "[8759 rows x 3 columns]"
      ]
     },
     "execution_count": 183,
     "metadata": {},
     "output_type": "execute_result"
    }
   ],
   "source": [
    "dataset = AVAILABLE_DATASETS[dataset_to_work]\n",
    "dataset"
   ]
  },
  {
   "cell_type": "markdown",
   "metadata": {
    "pycharm": {
     "name": "#%% md\n"
    }
   },
   "source": [
    "# Definition of the tentative values of Tamb_avg, DT_year, d_shift_min and d_shift_max"
   ]
  },
  {
   "cell_type": "code",
   "execution_count": 184,
   "metadata": {
    "pycharm": {
     "name": "#%%\n"
    }
   },
   "outputs": [
    {
     "name": "stdout",
     "output_type": "stream",
     "text": [
      "* T_hourly_avg=                     air_temp  dayofyear  month  hourofyear\n",
      "timestamp                                                  \n",
      "2010-01-01 01:00:00      -2.9          1      1           2\n",
      "2010-01-01 02:00:00      -3.1          1      1           3\n",
      "2010-01-01 03:00:00      -3.2          1      1           4\n",
      "2010-01-01 04:00:00      -3.3          1      1           5\n",
      "2010-01-01 05:00:00      -3.3          1      1           6\n",
      "...                       ...        ...    ...         ...\n",
      "2010-12-31 19:00:00      -1.9        365     12        8756\n",
      "2010-12-31 20:00:00      -2.2        365     12        8757\n",
      "2010-12-31 21:00:00      -2.3        365     12        8758\n",
      "2010-12-31 22:00:00      -2.6        365     12        8759\n",
      "2010-12-31 23:00:00      -2.7        365     12        8760\n",
      "\n",
      "[8759 rows x 4 columns]\n",
      "* T_daily_avg=            air_temp  dayofyear  month  hourofyear\n",
      "timestamp                                         \n",
      "2010-01-01 -2.291304          1      1           1\n",
      "2010-01-02 -2.404167          2      1          25\n",
      "2010-01-03 -2.504167          3      1          49\n",
      "2010-01-04 -2.575000          4      1          73\n",
      "2010-01-05 -2.691667          5      1          97\n",
      "...              ...        ...    ...         ...\n",
      "2010-12-27 -1.891667        361     12        8641\n",
      "2010-12-28 -1.900000        362     12        8665\n",
      "2010-12-29 -1.945833        363     12        8689\n",
      "2010-12-30 -2.033333        364     12        8713\n",
      "2010-12-31 -2.200000        365     12        8737\n",
      "\n",
      "[365 rows x 4 columns]\n",
      "* T_monthly_avg=             air_temp  dayofyear  month  hourofyear\n",
      "timestamp                                          \n",
      "2010-01-31  -3.708614         31      1         721\n",
      "2010-02-28  -2.784822         59      2        1393\n",
      "2010-03-31   1.245430         90      3        2137\n",
      "2010-04-30   8.079306        120      4        2857\n",
      "2010-05-31  14.069221        151      5        3601\n",
      "2010-06-30  19.285973        181      6        4321\n",
      "2010-07-31  21.676882        212      7        5065\n",
      "2010-08-31  20.613173        243      8        5809\n",
      "2010-09-30  16.574028        273      9        6529\n",
      "2010-10-31  10.346774        304     10        7273\n",
      "2010-11-30   4.812639        334     11        7993\n",
      "2010-12-31  -0.746909        365     12        8737\n",
      "* T_ave_h=9.186345100402832\n",
      "* DT_y=12.771988868713379\n",
      "* d_shift_min=22\n",
      "* T_daily_avg.air_temp.min()=-4.479166507720947\n",
      "* d_shift_max=201\n",
      "* T_daily_avg.air_temp.max()=21.95833396911621\n",
      "* t=timestamp\n",
      "2010-01-01      1\n",
      "2010-01-02      2\n",
      "2010-01-03      3\n",
      "2010-01-04      4\n",
      "2010-01-05      5\n",
      "             ... \n",
      "2010-12-27    361\n",
      "2010-12-28    362\n",
      "2010-12-29    363\n",
      "2010-12-30    364\n",
      "2010-12-31    365\n",
      "Freq: D, Name: dayofyear, Length: 365, dtype: int64\n",
      "* num_hours=8759\n",
      "* h=0          1\n",
      "1          2\n",
      "2          3\n",
      "3          4\n",
      "4          5\n",
      "        ... \n",
      "8754    8755\n",
      "8755    8756\n",
      "8756    8757\n",
      "8757    8758\n",
      "8758    8759\n",
      "Length: 8759, dtype: int64\n"
     ]
    }
   ],
   "source": [
    "#Este codigo asume que el dataset tiene un index de tiempo.\n",
    "T_hourly_avg = dataset['air_temp'].resample('H').mean().to_frame() # DataFrame de valores promedios en escala de tiempo horaria\n",
    "T_hourly_avg[\"dayofyear\"] = T_hourly_avg.index.dayofyear\n",
    "T_hourly_avg[\"month\"] = T_hourly_avg.index.month\n",
    "T_hourly_avg[\"hourofyear\"] = (T_hourly_avg.index.dayofyear - 1) * 24 + (T_hourly_avg.index.hour + 1)\n",
    "\n",
    "T_daily_avg = dataset[\"air_temp\"].resample('D').mean().to_frame() # DataFrame de valores promedios en escala de tiempo diaria\n",
    "T_daily_avg[\"dayofyear\"] = T_daily_avg.index.dayofyear\n",
    "T_daily_avg[\"month\"] = T_daily_avg.index.month\n",
    "T_daily_avg[\"hourofyear\"] = (T_daily_avg.index.dayofyear - 1) * 24 + (T_daily_avg.index.hour + 1)\n",
    "\n",
    "T_monthly_avg = dataset[\"air_temp\"].resample('M').mean().to_frame() # DataFrame de valores promedios en escala de tiempo mensual\n",
    "T_monthly_avg[\"dayofyear\"] = T_monthly_avg.index.dayofyear\n",
    "T_monthly_avg[\"month\"] = T_monthly_avg.index.month\n",
    "T_monthly_avg[\"hourofyear\"] = (T_monthly_avg.index.dayofyear - 1) * 24 + (T_monthly_avg.index.hour + 1)\n",
    "\n",
    "T_ave_h = T_daily_avg.air_temp.mean() # Average dataset temperature on a daily basis\n",
    "T_max = T_daily_avg.air_temp.max() # Max dataset temperature on a daily basis\n",
    "DT_y = T_max - T_ave_h # Temperature swing Tmax - Tmean\n",
    "\n",
    "d_shift_min = T_daily_avg.air_temp.idxmin(axis=0).dayofyear #Day of the min T\n",
    "d_shift_max = T_daily_avg.air_temp.idxmax(axis=0).dayofyear #Day of the max T\n",
    "\n",
    "t = T_daily_avg.dayofyear\n",
    "\n",
    "num_hours = T_hourly_avg.shape[0] # Number of hours in a year =8737 hrs\n",
    "h = pd.Series(range(1, num_hours + 1)) # A range equivalent to the hours of the year from 1 to 8761\n",
    "\n",
    "print(f\"* {T_hourly_avg=}\\n\"\n",
    "      f\"* {T_daily_avg=}\\n\"\n",
    "      f\"* {T_monthly_avg=}\\n\"\n",
    "      f\"* {T_ave_h=}\\n\"\n",
    "      f\"* {DT_y=}\\n\"\n",
    "      f\"* {d_shift_min=}\\n\"\n",
    "      f\"* {T_daily_avg.air_temp.min()=}\\n\"\n",
    "      f\"* {d_shift_max=}\\n\"\n",
    "      f\"* {T_daily_avg.air_temp.max()=}\\n\"\n",
    "      f\"* {t=}\\n\"\n",
    "      f\"* {num_hours=}\\n\"\n",
    "      f\"* {h=}\")"
   ]
  },
  {
   "cell_type": "code",
   "execution_count": 185,
   "metadata": {},
   "outputs": [
    {
     "ename": "AssertionError",
     "evalue": "ALERT - The dataset does not contain the following hours: {1}",
     "output_type": "error",
     "traceback": [
      "\u001b[0;31m---------------------------------------------------------------------------\u001b[0m",
      "\u001b[0;31mAssertionError\u001b[0m                            Traceback (most recent call last)",
      "\u001b[0;32m<ipython-input-185-529b152b8bf8>\u001b[0m in \u001b[0;36m<module>\u001b[0;34m\u001b[0m\n\u001b[1;32m      9\u001b[0m \u001b[0mmonths_not_in_data\u001b[0m \u001b[0;34m=\u001b[0m \u001b[0mset\u001b[0m\u001b[0;34m(\u001b[0m\u001b[0mrange\u001b[0m\u001b[0;34m(\u001b[0m\u001b[0;36m1\u001b[0m\u001b[0;34m,\u001b[0m \u001b[0;36m12\u001b[0m \u001b[0;34m+\u001b[0m \u001b[0;36m1\u001b[0m\u001b[0;34m)\u001b[0m\u001b[0;34m)\u001b[0m \u001b[0;34m-\u001b[0m \u001b[0mset\u001b[0m\u001b[0;34m(\u001b[0m\u001b[0mmonths_of_year\u001b[0m\u001b[0;34m)\u001b[0m\u001b[0;34m\u001b[0m\u001b[0;34m\u001b[0m\u001b[0m\n\u001b[1;32m     10\u001b[0m \u001b[0;34m\u001b[0m\u001b[0m\n\u001b[0;32m---> 11\u001b[0;31m \u001b[0;32massert\u001b[0m \u001b[0mlen\u001b[0m\u001b[0;34m(\u001b[0m\u001b[0mhours_not_in_data\u001b[0m\u001b[0;34m)\u001b[0m \u001b[0;34m==\u001b[0m \u001b[0;36m0\u001b[0m\u001b[0;34m,\u001b[0m \u001b[0;34mf\"ALERT - The dataset does not contain the following hours: {hours_not_in_data}\"\u001b[0m\u001b[0;34m\u001b[0m\u001b[0;34m\u001b[0m\u001b[0m\n\u001b[0m\u001b[1;32m     12\u001b[0m \u001b[0;32massert\u001b[0m \u001b[0mlen\u001b[0m\u001b[0;34m(\u001b[0m\u001b[0mdays_not_in_data\u001b[0m\u001b[0;34m)\u001b[0m \u001b[0;34m==\u001b[0m \u001b[0;36m0\u001b[0m\u001b[0;34m,\u001b[0m \u001b[0;34mf\"ALERT - The dataset does not contain the following days: {days_not_in_data}\"\u001b[0m\u001b[0;34m\u001b[0m\u001b[0;34m\u001b[0m\u001b[0m\n\u001b[1;32m     13\u001b[0m \u001b[0;32massert\u001b[0m \u001b[0mlen\u001b[0m\u001b[0;34m(\u001b[0m\u001b[0mmonths_not_in_data\u001b[0m\u001b[0;34m)\u001b[0m \u001b[0;34m==\u001b[0m \u001b[0;36m0\u001b[0m\u001b[0;34m,\u001b[0m \u001b[0;34mf\"ALERT - The dataset does not contain the following months: {months_not_in_data}\"\u001b[0m\u001b[0;34m\u001b[0m\u001b[0;34m\u001b[0m\u001b[0m\n",
      "\u001b[0;31mAssertionError\u001b[0m: ALERT - The dataset does not contain the following hours: {1}"
     ]
    }
   ],
   "source": [
    "# Verify integrity of the data\n",
    "hours_of_year = T_hourly_avg.hourofyear # (T_hourly_avg.index.dayofyear - 1) * 24 + (T_hourly_avg.index.hour + 1)\n",
    "hours_not_in_data = set(range(1, num_hours + 1)) - set(hours_of_year)\n",
    "\n",
    "days_of_year = T_hourly_avg.dayofyear\n",
    "days_not_in_data = set(range(1, 365 + 1)) - set(days_of_year)\n",
    "\n",
    "months_of_year = T_hourly_avg.month\n",
    "months_not_in_data = set(range(1, 12 + 1)) - set(months_of_year)\n",
    "\n",
    "assert len(hours_not_in_data) == 0, f\"ALERT - The dataset does not contain the following hours: {hours_not_in_data}\"\n",
    "assert len(days_not_in_data) == 0, f\"ALERT - The dataset does not contain the following days: {days_not_in_data}\"\n",
    "assert len(months_not_in_data) == 0, f\"ALERT - The dataset does not contain the following months: {months_not_in_data}\""
   ]
  },
  {
   "cell_type": "markdown",
   "metadata": {
    "pycharm": {
     "name": "#%% md\n"
    }
   },
   "source": [
    "# This code finds the optimal curve that better fits the raw data through the minimum square method \n",
    "\n",
    "For more info visit the [scipy.optimize.curve_fit docs](https://docs.scipy.org/doc/scipy/reference/generated/scipy.optimize.curve_fit.html#scipy.optimize.curve_fit)"
   ]
  },
  {
   "cell_type": "code",
   "execution_count": 186,
   "metadata": {},
   "outputs": [
    {
     "name": "stdout",
     "output_type": "stream",
     "text": [
      "* params=array([   9.18765842,   12.77655797, 4822.71071655])\n",
      "* params_covariance=array([[6.92078579e-04, 1.87375366e-13, 2.54759363e-15],\n",
      "       [1.87375366e-13, 1.38415716e-03, 3.89272878e-09],\n",
      "       [2.54759363e-15, 3.89272878e-09, 8.47925900e-06]])\n"
     ]
    }
   ],
   "source": [
    "def func(x, disp, amp, phi):\n",
    "    t0 = len(h) # hourly resolution if x is in hours\n",
    "    omega = 2 * pi / t0\n",
    "    return disp + amp * np.cos(x * omega - phi) \n",
    "\n",
    "x_data = pd.Series(range(0,len(T_hourly_avg)))\n",
    "y_data = T_hourly_avg.air_temp\n",
    "params, params_covariance = optimize.curve_fit(func, x_data, y_data, p0=[T_ave_h, DT_y, d_shift_max * 24])\n",
    "print(f\"* {params=}\\n\"\n",
    "      f\"* {params_covariance=}\")"
   ]
  },
  {
   "cell_type": "code",
   "execution_count": 187,
   "metadata": {
    "pycharm": {
     "name": "#%%\n"
    }
   },
   "outputs": [
    {
     "name": "stdout",
     "output_type": "stream",
     "text": [
      "Fitted parameters:\n"
     ]
    },
    {
     "data": {
      "text/latex": [
       "$\\displaystyle dist=9.19, amp=12.78, \\phi=4822.71$"
      ],
      "text/plain": [
       "<IPython.core.display.Math object>"
      ]
     },
     "metadata": {},
     "output_type": "display_data"
    },
    {
     "name": "stdout",
     "output_type": "stream",
     "text": [
      "Original parameters:\n"
     ]
    },
    {
     "data": {
      "text/latex": [
       "$\\displaystyle dist=9.19, amp=12.77, \\phi=4824.00$"
      ],
      "text/plain": [
       "<IPython.core.display.Math object>"
      ]
     },
     "metadata": {},
     "output_type": "display_data"
    }
   ],
   "source": [
    "T_ave_fit = params[0]\n",
    "DT_y_fit = params[1]\n",
    "phi = params[2] #Corresponds to day 202\n",
    "\n",
    "#'displacement, amplitude, and phase of the signal\n",
    "print('Fitted parameters:')\n",
    "display(Math(f\"dist={T_ave_fit:.2f}, amp={DT_y_fit:.2f}, \\\\phi={phi:.2f}\"))\n",
    "\n",
    "print('Original parameters:')\n",
    "display(Math(f\"dist={T_ave_h:.2f}, amp={DT_y:.2f}, \\\\phi={d_shift_max*24:.2f}\"))"
   ]
  },
  {
   "cell_type": "markdown",
   "metadata": {
    "pycharm": {
     "name": "#%% md\n"
    }
   },
   "source": [
    "# The new ambient temperature curve uses the fitted parameters as input"
   ]
  },
  {
   "cell_type": "code",
   "execution_count": 188,
   "metadata": {},
   "outputs": [],
   "source": [
    "def fitting_curve(hourofyear, T_ave_fit, DT_y_fit, T, phi, pi):\n",
    "    omega = 2 * pi / T\n",
    "    return T_ave_fit + DT_y_fit * np.cos(hourofyear * omega - phi) "
   ]
  },
  {
   "cell_type": "code",
   "execution_count": 189,
   "metadata": {
    "pycharm": {
     "name": "#%%\n"
    }
   },
   "outputs": [
    {
     "name": "stdout",
     "output_type": "stream",
     "text": [
      "* T=8759\n",
      "* T_hourly_avg=                     air_temp  dayofyear  month  hourofyear  air_temp_fit\n",
      "timestamp                                                                \n",
      "2010-01-01 01:00:00      -2.9          1      1           2     -2.749240\n",
      "2010-01-01 02:00:00      -3.1          1      1           3     -2.752504\n",
      "2010-01-01 03:00:00      -3.2          1      1           4     -2.755763\n",
      "2010-01-01 04:00:00      -3.3          1      1           5     -2.759015\n",
      "2010-01-01 05:00:00      -3.3          1      1           6     -2.762261\n",
      "...                       ...        ...    ...         ...           ...\n",
      "2010-12-31 19:00:00      -1.9        365     12        8756     -2.732825\n",
      "2010-12-31 20:00:00      -2.2        365     12        8757     -2.736120\n",
      "2010-12-31 21:00:00      -2.3        365     12        8758     -2.739409\n",
      "2010-12-31 22:00:00      -2.6        365     12        8759     -2.742692\n",
      "2010-12-31 23:00:00      -2.7        365     12        8760     -2.745969\n",
      "\n",
      "[8759 rows x 5 columns]\n",
      "* d_min (h): 2010-01-22 05:00:00\n",
      "* day_number: 22\n",
      "* d_max (h): 2010-07-23 17:00:00\n",
      "* day_number: 204\n"
     ]
    }
   ],
   "source": [
    "T = T_hourly_avg.hourofyear.shape[0]\n",
    "T_hourly_avg[\"air_temp_fit\"] = T_hourly_avg.hourofyear.apply(fitting_curve, args=(T_ave_fit, DT_y_fit, T, phi, pi))\n",
    "\n",
    "d_shift_min = T_hourly_avg.air_temp_fit.idxmin(axis=0)\n",
    "d_shift_max = T_hourly_avg.air_temp_fit.idxmax(axis=0)\n",
    "\n",
    "dd_min = T_hourly_avg[T_hourly_avg.index == d_shift_min].dayofyear.item() # d_shift_min / 24\n",
    "dd_max = T_hourly_avg[T_hourly_avg.index == d_shift_max].dayofyear.item() # d_shift_max / 24\n",
    "\n",
    "print(f'* {T=}\\n'\n",
    "      f'* {T_hourly_avg=}\\n'\n",
    "      f'* d_min (h): {d_shift_min}\\n'\n",
    "      f'* day_number: {dd_min}\\n'\n",
    "      f'* d_max (h): {d_shift_max}\\n'\n",
    "      f'* day_number: {dd_max}')"
   ]
  },
  {
   "cell_type": "markdown",
   "metadata": {
    "pycharm": {
     "name": "#%% md\n"
    }
   },
   "source": [
    "## Ground temperature as a function of the ambient temperature fitting curve\n",
    "\n",
    "See for Banks [Measurements of Ground Temperature at Various Depths](https://www.researchgate.net/publication/30500372_Measurements_of_Ground_Temperature_at_Various_Depths?enrichId=rgreq-e2031a024b742c0018bb428dca3100f5-XXX&enrichSource=Y292ZXJQYWdlOzMwNTAwMzcyO0FTOjEwMTI0NTIzNDcxMjU4M0AxNDAxMTUwMTUzNjYy&el=1_x_2&_esc=publicationCoverPdf) and for Kusuda [Earth Temperatures and Thermal Diffusivity at Selected Stations in the United States](https://nvlpubs.nist.gov/nistpubs/Legacy/RPT/nbsreport8972.pdf)"
   ]
  },
  {
   "cell_type": "code",
   "execution_count": 190,
   "metadata": {
    "pycharm": {
     "name": "#%%\n"
    }
   },
   "outputs": [
    {
     "name": "stdout",
     "output_type": "stream",
     "text": [
      "* zz=1\n",
      "* alpha=0.06048\n",
      "* alpha_sec=7e-07\n",
      "* t_sec=31536000\n",
      "* t_0=365\n",
      "* Tg_und=9.187658415231072\n",
      "* DT_y=12.776557965468042\n",
      "* dd_min=22\n",
      "* dd_max=204\n"
     ]
    }
   ],
   "source": [
    "# The purpose of having two equations is to show that they both work using the same input data\n",
    "zz = 1 # Depth [m]\n",
    "alpha = 0.06048 # Ground thermal diffusivity, Banks [m^2/day]\n",
    "alpha_sec = 7e-7 # Ground thermal diffusivity, Banks [m^2/s]\n",
    "t_sec = 365 * 24 * 3600 # Number of seconds in a year.\n",
    "\n",
    "t_0 = T_daily_avg.shape[0] # Number of days in a year =365 days\n",
    "\n",
    "Tg_und = T_ave_fit # Undisturbed ground temperature\n",
    "DT_y = abs(DT_y_fit)\n",
    "\n",
    "print(f\"* {zz=}\\n\"\n",
    "      f\"* {alpha=}\\n\"\n",
    "      f\"* {alpha_sec=}\\n\"\n",
    "      f\"* {t_sec=}\\n\"\n",
    "      f\"* {t_0=}\\n\"\n",
    "      f\"* {Tg_und=}\\n\"\n",
    "      f\"* {DT_y=}\\n\"\n",
    "      f\"* {dd_min=}\\n\"\n",
    "      f\"* {dd_max=}\")"
   ]
  },
  {
   "cell_type": "code",
   "execution_count": 191,
   "metadata": {},
   "outputs": [],
   "source": [
    "def ground_temperature_hour(t: int):\n",
    "    #t is time in hours, but the calculation is done is seconds\n",
    "    T_banks= Tg_und+DT_y*exp(-zz*sqrt(pi/(alpha_sec*t_sec)))*cos(2*pi/t_sec*(t-dd_max*24)*3600-zz*sqrt(pi/(alpha_sec*t_sec))) #Banks + t_shift ->Marco's\n",
    "    \n",
    "    T_kusuda = Tg_und-DT_y*exp(-zz*sqrt(pi/(alpha_sec*t_sec)))*cos(2*pi/t_sec*((t-dd_min*24)*3600-zz/2*sqrt(t_sec/(pi*alpha_sec)))) #Kusuda\n",
    "    return  (pd.Series({'T_banks': T_banks,'T_kusuda': T_kusuda}))\n",
    "\n",
    "def ground_temperature_day(t: int):\n",
    "    # t corresponds to the number of day from 1 to 365\n",
    "    T_banks = Tg_und + DT_y * exp(-zz * sqrt(pi / (alpha * t_0))) * cos(2 * pi / t_0 * (t - dd_max) - zz * sqrt(pi / (alpha * t_0))) #Banks + t_shift \n",
    "    T_kusuda = Tg_und - DT_y * exp(-zz * sqrt(pi / (alpha * t_0))) * cos(2 * pi / t_0 * (t - dd_min - zz / 2 * sqrt(t_0 / (pi * alpha)))) #Kusuda\n",
    "    return  (pd.Series({'T_banks': T_banks,'T_kusuda': T_kusuda}))\n",
    "\n",
    "def ground_temperature_month(month: int):\n",
    "    #t corresponds to the number of month from 1 to 12\n",
    "    T_banks= Tg_und+DT_y*exp(-zz*sqrt(pi/(alpha*t_0)))*cos(2*pi/t_0*(15+(month-1)*30-dd_max)-zz*sqrt(pi/(alpha*t_0))) #Banks + t_shift \n",
    "    \n",
    "    T_kusuda = Tg_und-DT_y*exp(-zz*sqrt(pi/(alpha*t_0)))*cos(2*pi/t_0*(15+(month-1)*30-dd_min-zz/2*sqrt(t_0/(pi*alpha)))) #Kusuda ->Selva's\n",
    "    return  (pd.Series({'T_banks': T_banks,'T_kusuda': T_kusuda}))"
   ]
  },
  {
   "cell_type": "code",
   "execution_count": 192,
   "metadata": {},
   "outputs": [
    {
     "data": {
      "text/html": [
       "<div>\n",
       "<style scoped>\n",
       "    .dataframe tbody tr th:only-of-type {\n",
       "        vertical-align: middle;\n",
       "    }\n",
       "\n",
       "    .dataframe tbody tr th {\n",
       "        vertical-align: top;\n",
       "    }\n",
       "\n",
       "    .dataframe thead th {\n",
       "        text-align: right;\n",
       "    }\n",
       "</style>\n",
       "<table border=\"1\" class=\"dataframe\">\n",
       "  <thead>\n",
       "    <tr style=\"text-align: right;\">\n",
       "      <th></th>\n",
       "      <th>air_temp</th>\n",
       "      <th>dayofyear</th>\n",
       "      <th>month</th>\n",
       "      <th>hourofyear</th>\n",
       "      <th>air_temp_fit</th>\n",
       "      <th>ground_temp</th>\n",
       "    </tr>\n",
       "    <tr>\n",
       "      <th>timestamp</th>\n",
       "      <th></th>\n",
       "      <th></th>\n",
       "      <th></th>\n",
       "      <th></th>\n",
       "      <th></th>\n",
       "      <th></th>\n",
       "    </tr>\n",
       "  </thead>\n",
       "  <tbody>\n",
       "    <tr>\n",
       "      <th>2010-01-01 01:00:00</th>\n",
       "      <td>-2.9</td>\n",
       "      <td>1</td>\n",
       "      <td>1</td>\n",
       "      <td>2</td>\n",
       "      <td>-2.749240</td>\n",
       "      <td>2.752620</td>\n",
       "    </tr>\n",
       "    <tr>\n",
       "      <th>2010-01-01 02:00:00</th>\n",
       "      <td>-3.1</td>\n",
       "      <td>1</td>\n",
       "      <td>1</td>\n",
       "      <td>3</td>\n",
       "      <td>-2.752504</td>\n",
       "      <td>2.748357</td>\n",
       "    </tr>\n",
       "    <tr>\n",
       "      <th>2010-01-01 03:00:00</th>\n",
       "      <td>-3.2</td>\n",
       "      <td>1</td>\n",
       "      <td>1</td>\n",
       "      <td>4</td>\n",
       "      <td>-2.755763</td>\n",
       "      <td>2.744097</td>\n",
       "    </tr>\n",
       "    <tr>\n",
       "      <th>2010-01-01 04:00:00</th>\n",
       "      <td>-3.3</td>\n",
       "      <td>1</td>\n",
       "      <td>1</td>\n",
       "      <td>5</td>\n",
       "      <td>-2.759015</td>\n",
       "      <td>2.739840</td>\n",
       "    </tr>\n",
       "    <tr>\n",
       "      <th>2010-01-01 05:00:00</th>\n",
       "      <td>-3.3</td>\n",
       "      <td>1</td>\n",
       "      <td>1</td>\n",
       "      <td>6</td>\n",
       "      <td>-2.762261</td>\n",
       "      <td>2.735587</td>\n",
       "    </tr>\n",
       "    <tr>\n",
       "      <th>...</th>\n",
       "      <td>...</td>\n",
       "      <td>...</td>\n",
       "      <td>...</td>\n",
       "      <td>...</td>\n",
       "      <td>...</td>\n",
       "      <td>...</td>\n",
       "    </tr>\n",
       "    <tr>\n",
       "      <th>2010-12-31 19:00:00</th>\n",
       "      <td>-1.9</td>\n",
       "      <td>365</td>\n",
       "      <td>12</td>\n",
       "      <td>8756</td>\n",
       "      <td>-2.732825</td>\n",
       "      <td>2.778268</td>\n",
       "    </tr>\n",
       "    <tr>\n",
       "      <th>2010-12-31 20:00:00</th>\n",
       "      <td>-2.2</td>\n",
       "      <td>365</td>\n",
       "      <td>12</td>\n",
       "      <td>8757</td>\n",
       "      <td>-2.736120</td>\n",
       "      <td>2.773985</td>\n",
       "    </tr>\n",
       "    <tr>\n",
       "      <th>2010-12-31 21:00:00</th>\n",
       "      <td>-2.3</td>\n",
       "      <td>365</td>\n",
       "      <td>12</td>\n",
       "      <td>8758</td>\n",
       "      <td>-2.739409</td>\n",
       "      <td>2.769705</td>\n",
       "    </tr>\n",
       "    <tr>\n",
       "      <th>2010-12-31 22:00:00</th>\n",
       "      <td>-2.6</td>\n",
       "      <td>365</td>\n",
       "      <td>12</td>\n",
       "      <td>8759</td>\n",
       "      <td>-2.742692</td>\n",
       "      <td>2.765429</td>\n",
       "    </tr>\n",
       "    <tr>\n",
       "      <th>2010-12-31 23:00:00</th>\n",
       "      <td>-2.7</td>\n",
       "      <td>365</td>\n",
       "      <td>12</td>\n",
       "      <td>8760</td>\n",
       "      <td>-2.745969</td>\n",
       "      <td>2.761156</td>\n",
       "    </tr>\n",
       "  </tbody>\n",
       "</table>\n",
       "<p>8759 rows × 6 columns</p>\n",
       "</div>"
      ],
      "text/plain": [
       "                     air_temp  dayofyear  month  hourofyear  air_temp_fit  \\\n",
       "timestamp                                                                   \n",
       "2010-01-01 01:00:00      -2.9          1      1           2     -2.749240   \n",
       "2010-01-01 02:00:00      -3.1          1      1           3     -2.752504   \n",
       "2010-01-01 03:00:00      -3.2          1      1           4     -2.755763   \n",
       "2010-01-01 04:00:00      -3.3          1      1           5     -2.759015   \n",
       "2010-01-01 05:00:00      -3.3          1      1           6     -2.762261   \n",
       "...                       ...        ...    ...         ...           ...   \n",
       "2010-12-31 19:00:00      -1.9        365     12        8756     -2.732825   \n",
       "2010-12-31 20:00:00      -2.2        365     12        8757     -2.736120   \n",
       "2010-12-31 21:00:00      -2.3        365     12        8758     -2.739409   \n",
       "2010-12-31 22:00:00      -2.6        365     12        8759     -2.742692   \n",
       "2010-12-31 23:00:00      -2.7        365     12        8760     -2.745969   \n",
       "\n",
       "                     ground_temp  \n",
       "timestamp                         \n",
       "2010-01-01 01:00:00     2.752620  \n",
       "2010-01-01 02:00:00     2.748357  \n",
       "2010-01-01 03:00:00     2.744097  \n",
       "2010-01-01 04:00:00     2.739840  \n",
       "2010-01-01 05:00:00     2.735587  \n",
       "...                          ...  \n",
       "2010-12-31 19:00:00     2.778268  \n",
       "2010-12-31 20:00:00     2.773985  \n",
       "2010-12-31 21:00:00     2.769705  \n",
       "2010-12-31 22:00:00     2.765429  \n",
       "2010-12-31 23:00:00     2.761156  \n",
       "\n",
       "[8759 rows x 6 columns]"
      ]
     },
     "execution_count": 192,
     "metadata": {},
     "output_type": "execute_result"
    }
   ],
   "source": [
    "tbanks_and_tkusuda = T_hourly_avg.hourofyear.apply(ground_temperature_hour) # T_daily_avg.hourofyear.apply(ground_temperature_hour)\n",
    "\n",
    "T_hourly_avg[\"ground_temp\"] = tbanks_and_tkusuda[\"T_banks\"]\n",
    "# T_hourly_avg[[\"air_temp\", \"ground_temp\"]].plot(colormap='cool', figsize=(12,6))\n",
    "\n",
    "T_hourly_avg"
   ]
  },
  {
   "cell_type": "markdown",
   "metadata": {
    "pycharm": {
     "name": "#%% md\n"
    }
   },
   "source": [
    "## Aquifer temperature as a function of the ambient temperature fitting curve\n",
    "\n",
    "We use the same equations as for ground temp"
   ]
  },
  {
   "cell_type": "code",
   "execution_count": 193,
   "metadata": {},
   "outputs": [
    {
     "name": "stdout",
     "output_type": "stream",
     "text": [
      "* zz=30.0\n",
      "* alpha=0.06048\n",
      "* alpha_sec=7e-07\n",
      "* t_sec=31536000\n",
      "* t_0=365\n",
      "* Tg_und=9.187658415231072\n",
      "* DT_y=12.776557965468042\n",
      "* dd_min=22\n",
      "* dd_max=204\n"
     ]
    }
   ],
   "source": [
    "zz = depth_aquifer\n",
    "\n",
    "print(f\"* {zz=}\\n\"\n",
    "      f\"* {alpha=}\\n\"\n",
    "      f\"* {alpha_sec=}\\n\"\n",
    "      f\"* {t_sec=}\\n\"\n",
    "      f\"* {t_0=}\\n\"\n",
    "      f\"* {Tg_und=}\\n\"\n",
    "      f\"* {DT_y=}\\n\"\n",
    "      f\"* {dd_min=}\\n\"\n",
    "      f\"* {dd_max=}\")"
   ]
  },
  {
   "cell_type": "code",
   "execution_count": 194,
   "metadata": {},
   "outputs": [
    {
     "data": {
      "text/html": [
       "<div>\n",
       "<style scoped>\n",
       "    .dataframe tbody tr th:only-of-type {\n",
       "        vertical-align: middle;\n",
       "    }\n",
       "\n",
       "    .dataframe tbody tr th {\n",
       "        vertical-align: top;\n",
       "    }\n",
       "\n",
       "    .dataframe thead th {\n",
       "        text-align: right;\n",
       "    }\n",
       "</style>\n",
       "<table border=\"1\" class=\"dataframe\">\n",
       "  <thead>\n",
       "    <tr style=\"text-align: right;\">\n",
       "      <th></th>\n",
       "      <th>air_temp</th>\n",
       "      <th>dayofyear</th>\n",
       "      <th>month</th>\n",
       "      <th>hourofyear</th>\n",
       "      <th>air_temp_fit</th>\n",
       "      <th>ground_temp</th>\n",
       "      <th>aquifer_temp</th>\n",
       "    </tr>\n",
       "    <tr>\n",
       "      <th>timestamp</th>\n",
       "      <th></th>\n",
       "      <th></th>\n",
       "      <th></th>\n",
       "      <th></th>\n",
       "      <th></th>\n",
       "      <th></th>\n",
       "      <th></th>\n",
       "    </tr>\n",
       "  </thead>\n",
       "  <tbody>\n",
       "    <tr>\n",
       "      <th>2010-01-01 01:00:00</th>\n",
       "      <td>-2.9</td>\n",
       "      <td>1</td>\n",
       "      <td>1</td>\n",
       "      <td>2</td>\n",
       "      <td>-2.749240</td>\n",
       "      <td>2.752620</td>\n",
       "      <td>9.187559</td>\n",
       "    </tr>\n",
       "    <tr>\n",
       "      <th>2010-01-01 02:00:00</th>\n",
       "      <td>-3.1</td>\n",
       "      <td>1</td>\n",
       "      <td>1</td>\n",
       "      <td>3</td>\n",
       "      <td>-2.752504</td>\n",
       "      <td>2.748357</td>\n",
       "      <td>9.187560</td>\n",
       "    </tr>\n",
       "    <tr>\n",
       "      <th>2010-01-01 03:00:00</th>\n",
       "      <td>-3.2</td>\n",
       "      <td>1</td>\n",
       "      <td>1</td>\n",
       "      <td>4</td>\n",
       "      <td>-2.755763</td>\n",
       "      <td>2.744097</td>\n",
       "      <td>9.187560</td>\n",
       "    </tr>\n",
       "    <tr>\n",
       "      <th>2010-01-01 04:00:00</th>\n",
       "      <td>-3.3</td>\n",
       "      <td>1</td>\n",
       "      <td>1</td>\n",
       "      <td>5</td>\n",
       "      <td>-2.759015</td>\n",
       "      <td>2.739840</td>\n",
       "      <td>9.187560</td>\n",
       "    </tr>\n",
       "    <tr>\n",
       "      <th>2010-01-01 05:00:00</th>\n",
       "      <td>-3.3</td>\n",
       "      <td>1</td>\n",
       "      <td>1</td>\n",
       "      <td>6</td>\n",
       "      <td>-2.762261</td>\n",
       "      <td>2.735587</td>\n",
       "      <td>9.187560</td>\n",
       "    </tr>\n",
       "    <tr>\n",
       "      <th>...</th>\n",
       "      <td>...</td>\n",
       "      <td>...</td>\n",
       "      <td>...</td>\n",
       "      <td>...</td>\n",
       "      <td>...</td>\n",
       "      <td>...</td>\n",
       "      <td>...</td>\n",
       "    </tr>\n",
       "    <tr>\n",
       "      <th>2010-12-31 19:00:00</th>\n",
       "      <td>-1.9</td>\n",
       "      <td>365</td>\n",
       "      <td>12</td>\n",
       "      <td>8756</td>\n",
       "      <td>-2.732825</td>\n",
       "      <td>2.778268</td>\n",
       "      <td>9.187559</td>\n",
       "    </tr>\n",
       "    <tr>\n",
       "      <th>2010-12-31 20:00:00</th>\n",
       "      <td>-2.2</td>\n",
       "      <td>365</td>\n",
       "      <td>12</td>\n",
       "      <td>8757</td>\n",
       "      <td>-2.736120</td>\n",
       "      <td>2.773985</td>\n",
       "      <td>9.187559</td>\n",
       "    </tr>\n",
       "    <tr>\n",
       "      <th>2010-12-31 21:00:00</th>\n",
       "      <td>-2.3</td>\n",
       "      <td>365</td>\n",
       "      <td>12</td>\n",
       "      <td>8758</td>\n",
       "      <td>-2.739409</td>\n",
       "      <td>2.769705</td>\n",
       "      <td>9.187559</td>\n",
       "    </tr>\n",
       "    <tr>\n",
       "      <th>2010-12-31 22:00:00</th>\n",
       "      <td>-2.6</td>\n",
       "      <td>365</td>\n",
       "      <td>12</td>\n",
       "      <td>8759</td>\n",
       "      <td>-2.742692</td>\n",
       "      <td>2.765429</td>\n",
       "      <td>9.187559</td>\n",
       "    </tr>\n",
       "    <tr>\n",
       "      <th>2010-12-31 23:00:00</th>\n",
       "      <td>-2.7</td>\n",
       "      <td>365</td>\n",
       "      <td>12</td>\n",
       "      <td>8760</td>\n",
       "      <td>-2.745969</td>\n",
       "      <td>2.761156</td>\n",
       "      <td>9.187559</td>\n",
       "    </tr>\n",
       "  </tbody>\n",
       "</table>\n",
       "<p>8759 rows × 7 columns</p>\n",
       "</div>"
      ],
      "text/plain": [
       "                     air_temp  dayofyear  month  hourofyear  air_temp_fit  \\\n",
       "timestamp                                                                   \n",
       "2010-01-01 01:00:00      -2.9          1      1           2     -2.749240   \n",
       "2010-01-01 02:00:00      -3.1          1      1           3     -2.752504   \n",
       "2010-01-01 03:00:00      -3.2          1      1           4     -2.755763   \n",
       "2010-01-01 04:00:00      -3.3          1      1           5     -2.759015   \n",
       "2010-01-01 05:00:00      -3.3          1      1           6     -2.762261   \n",
       "...                       ...        ...    ...         ...           ...   \n",
       "2010-12-31 19:00:00      -1.9        365     12        8756     -2.732825   \n",
       "2010-12-31 20:00:00      -2.2        365     12        8757     -2.736120   \n",
       "2010-12-31 21:00:00      -2.3        365     12        8758     -2.739409   \n",
       "2010-12-31 22:00:00      -2.6        365     12        8759     -2.742692   \n",
       "2010-12-31 23:00:00      -2.7        365     12        8760     -2.745969   \n",
       "\n",
       "                     ground_temp  aquifer_temp  \n",
       "timestamp                                       \n",
       "2010-01-01 01:00:00     2.752620      9.187559  \n",
       "2010-01-01 02:00:00     2.748357      9.187560  \n",
       "2010-01-01 03:00:00     2.744097      9.187560  \n",
       "2010-01-01 04:00:00     2.739840      9.187560  \n",
       "2010-01-01 05:00:00     2.735587      9.187560  \n",
       "...                          ...           ...  \n",
       "2010-12-31 19:00:00     2.778268      9.187559  \n",
       "2010-12-31 20:00:00     2.773985      9.187559  \n",
       "2010-12-31 21:00:00     2.769705      9.187559  \n",
       "2010-12-31 22:00:00     2.765429      9.187559  \n",
       "2010-12-31 23:00:00     2.761156      9.187559  \n",
       "\n",
       "[8759 rows x 7 columns]"
      ]
     },
     "execution_count": 194,
     "metadata": {},
     "output_type": "execute_result"
    }
   ],
   "source": [
    "tbanks_and_tkusuda = T_hourly_avg.hourofyear.apply(ground_temperature_hour) # T_daily_avg.hourofyear.apply(ground_temperature_hour)\n",
    "\n",
    "T_hourly_avg[\"aquifer_temp\"] = tbanks_and_tkusuda[\"T_banks\"]\n",
    "# T_hourly_avg[[\"air_temp\", \"aquifer_temp\"]].plot(colormap='cool', figsize=(12,6))\n",
    "\n",
    "T_hourly_avg"
   ]
  },
  {
   "cell_type": "markdown",
   "metadata": {
    "pycharm": {
     "name": "#%% md\n"
    }
   },
   "source": [
    "## Save CSV version of the dataset"
   ]
  },
  {
   "cell_type": "code",
   "execution_count": 195,
   "metadata": {
    "collapsed": false,
    "jupyter": {
     "outputs_hidden": false
    },
    "pycharm": {
     "name": "#%%\n"
    }
   },
   "outputs": [],
   "source": [
    "AVAILABLE_DATASET_PATHS = {\"ospitaletto\": ospitaletto2019.processed_dataset_path,\n",
    "                           \"miami_florida\": noaa2010Dataset.processed_miami_fl_dataset_path, \n",
    "                           \"fresno_california\": noaa2010Dataset.processed_fresno_ca_dataset_path, \n",
    "                           \"olympia_washington\": noaa2010Dataset.processed_olympia_wa_dataset_path,\n",
    "                           \"rochester_newyork\": noaa2010Dataset.processed_rochester_ny_dataset_path}\n",
    "\n",
    "T_hourly_avg.to_csv(path_or_buf=AVAILABLE_DATASET_PATHS[dataset_to_work])"
   ]
  },
  {
   "cell_type": "code",
   "execution_count": null,
   "metadata": {},
   "outputs": [],
   "source": []
  }
 ],
 "metadata": {
  "kernelspec": {
   "display_name": "Python 3",
   "language": "python",
   "name": "python3"
  },
  "language_info": {
   "codemirror_mode": {
    "name": "ipython",
    "version": 3
   },
   "file_extension": ".py",
   "mimetype": "text/x-python",
   "name": "python",
   "nbconvert_exporter": "python",
   "pygments_lexer": "ipython3",
   "version": "3.8.1"
  }
 },
 "nbformat": 4,
 "nbformat_minor": 4
}
