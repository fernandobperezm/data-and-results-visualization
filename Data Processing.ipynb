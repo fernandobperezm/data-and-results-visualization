{
 "cells": [
  {
   "cell_type": "code",
   "execution_count": 1,
   "metadata": {},
   "outputs": [],
   "source": [
    "import json\n",
    "import numpy as np\n",
    "import pandas as pd\n",
    "import os\n",
    "\n",
    "from IPython.display import display, Math\n",
    "from scipy import optimize, stats\n",
    "from math import exp, cos, sqrt, pi, sin, sqrt, e\n",
    "\n",
    "from src.OspitalettoDataset import OspitalettoDataset\n",
    "from src.NOAA2010Dataset import NOAA2010Dataset\n",
    "from src.InsPireDataset import InsPireDataset"
   ]
  },
  {
   "cell_type": "markdown",
   "metadata": {},
   "source": [
    "## Constants to be used across the notebook"
   ]
  },
  {
   "cell_type": "code",
   "execution_count": 2,
   "metadata": {},
   "outputs": [
    {
     "data": {
      "text/plain": [
       "{'Cool_demand': 30000,\n",
       " 'Cool_year': 30000,\n",
       " 'DT_evap': 10.0,\n",
       " 'Heat_demand': 60000,\n",
       " 'Heat_year': 60000,\n",
       " 'Interest_Rate': 0.1,\n",
       " 'T_base_cool_degree': 18,\n",
       " 'T_base_heat_degree': 15,\n",
       " 'Tdhw': 55.0,\n",
       " 'Tmax_i': 60.0,\n",
       " 'Tmin_i': 45.0,\n",
       " 'Ts1': 23.0,\n",
       " 'Ts2': 23.0,\n",
       " 'cap_ground': 5,\n",
       " 'cap_source1': 3,\n",
       " 'cap_source2': 2,\n",
       " 'depth_aquifer': 30.0,\n",
       " 'n_buildings_MFH': 1600.0,\n",
       " 'n_buildings_SFH': 0.0,\n",
       " 's1_schedule': [[0, 0, 1, 1, 1, 1, 0],\n",
       "  [0, 0, 1, 1, 1, 1, 0],\n",
       "  [0, 0, 1, 1, 1, 1, 0],\n",
       "  [0, 0, 1, 1, 1, 1, 0],\n",
       "  [0, 0, 1, 1, 1, 1, 0],\n",
       "  [0, 0, 1, 1, 1, 1, 0],\n",
       "  [0, 0, 1, 1, 1, 1, 0],\n",
       "  [0, 1, 1, 1, 1, 1, 0],\n",
       "  [0, 1, 1, 1, 1, 1, 0],\n",
       "  [0, 1, 1, 1, 1, 1, 0],\n",
       "  [0, 1, 1, 1, 1, 1, 0],\n",
       "  [0, 1, 1, 1, 1, 1, 0],\n",
       "  [0, 1, 1, 1, 1, 1, 0],\n",
       "  [0, 1, 1, 1, 1, 1, 0],\n",
       "  [0, 1, 1, 1, 1, 1, 0],\n",
       "  [0, 1, 1, 1, 1, 1, 0],\n",
       "  [0, 1, 1, 1, 1, 0, 0],\n",
       "  [0, 1, 1, 1, 1, 0, 0],\n",
       "  [0, 1, 1, 1, 1, 0, 0],\n",
       "  [0, 1, 1, 1, 1, 0, 0],\n",
       "  [0, 1, 1, 1, 1, 0, 0],\n",
       "  [0, 1, 1, 1, 1, 0, 0],\n",
       "  [0, 1, 1, 1, 1, 0, 0],\n",
       "  [0, 1, 1, 1, 1, 0, 0]],\n",
       " 's2_schedule': [[1, 1, 0, 0, 1, 1, 0],\n",
       "  [1, 1, 0, 0, 1, 1, 0],\n",
       "  [1, 1, 0, 0, 1, 1, 0],\n",
       "  [1, 1, 0, 0, 1, 1, 0],\n",
       "  [1, 1, 0, 0, 1, 1, 0],\n",
       "  [1, 1, 0, 0, 1, 1, 0],\n",
       "  [1, 1, 0, 0, 1, 1, 0],\n",
       "  [1, 1, 0, 1, 1, 1, 0],\n",
       "  [1, 1, 0, 1, 1, 1, 0],\n",
       "  [1, 1, 0, 1, 1, 1, 0],\n",
       "  [1, 1, 0, 1, 1, 1, 0],\n",
       "  [1, 1, 0, 1, 1, 1, 0],\n",
       "  [1, 1, 0, 1, 1, 1, 0],\n",
       "  [1, 1, 0, 1, 1, 1, 0],\n",
       "  [1, 1, 0, 1, 1, 1, 0],\n",
       "  [1, 1, 0, 1, 1, 1, 0],\n",
       "  [1, 0, 0, 1, 1, 1, 0],\n",
       "  [1, 0, 0, 1, 1, 0, 0],\n",
       "  [1, 0, 0, 1, 1, 0, 0],\n",
       "  [1, 0, 0, 1, 1, 0, 0],\n",
       "  [1, 0, 0, 1, 1, 0, 0],\n",
       "  [1, 0, 0, 1, 1, 0, 0],\n",
       "  [1, 0, 0, 1, 1, 0, 0],\n",
       "  [1, 0, 0, 1, 1, 0, 0]]}"
      ]
     },
     "execution_count": 2,
     "metadata": {},
     "output_type": "execute_result"
    }
   ],
   "source": [
    "simulation_values_path = os.path.join(\".\", \"data\", \"simulation_values.json\")    \n",
    "with open(simulation_values_path, \"r\") as f:\n",
    "    simulation_values = json.load(f)\n",
    "    \n",
    "simulation_values"
   ]
  },
  {
   "cell_type": "code",
   "execution_count": 3,
   "metadata": {},
   "outputs": [
    {
     "name": "stdin",
     "output_type": "stream",
     "text": [
      "Press 1 if you want to reload previous simulation values 1\n"
     ]
    },
    {
     "name": "stdout",
     "output_type": "stream",
     "text": [
      "* Tmin_i=45.0\n",
      "* Tmax_i=60.0\n",
      "* CD_year=30000\n",
      "* HD_year=60000\n",
      "* Tdhw=55.0\n",
      "* Ts1=23.0\n",
      "* Ts2=23.0\n",
      "* DT_evap=10.0\n",
      "* n_buildings_SFH=0.0\n",
      "* n_buildings_MFH=1600.0\n",
      "* cap_source1=3\n",
      "* cap_source2=2\n",
      "* cap_ground=5\n",
      "* depth_aquifer=30.0\n",
      "* T_base_heat_degree=15\n",
      "* T_base_cool_degree=18\n",
      "* Interest_Rate=0.1\n",
      "\n"
     ]
    }
   ],
   "source": [
    "load_or_write_new = int(input(\"Press 1 if you want to reload previous simulation values\"))\n",
    "\n",
    "if load_or_write_new == 1:    \n",
    "    Tmin_i = simulation_values[\"Tmin_i\"]\n",
    "    Tmax_i = simulation_values[\"Tmax_i\"]\n",
    "\n",
    "    Tdhw = simulation_values[\"Tdhw\"]\n",
    "\n",
    "    Ts1 = simulation_values[\"Ts1\"]\n",
    "    Ts2 = simulation_values[\"Ts2\"]\n",
    "\n",
    "    DT_evap = simulation_values[\"DT_evap\"]\n",
    "    \n",
    "    n_buildings_SFH = simulation_values[\"n_buildings_SFH\"]\n",
    "    n_buildings_MFH = simulation_values[\"n_buildings_MFH\"]\n",
    "    \n",
    "    cap_source1= simulation_values['cap_source1']\n",
    "    cap_source2= simulation_values['cap_source2']\n",
    "    cap_ground= simulation_values['cap_ground']\n",
    "\n",
    "    depth_aquifer = simulation_values[\"depth_aquifer\"]\n",
    "    \n",
    "    T_base_heat_degree = simulation_values[\"T_base_heat_degree\"]\n",
    "    \n",
    "    T_base_cool_degree = simulation_values[\"T_base_cool_degree\"]\n",
    "    \n",
    "    CD_year=simulation_values[\"Cool_year\"]\n",
    "    HD_year=simulation_values[\"Heat_year\"]\n",
    "    \n",
    "    Interest_Rate=simulation_values[\"Interest_Rate\"]\n",
    "    \n",
    "else:\n",
    "    # Min and Max temperatures to be received by the user.\n",
    "    # Values [40,...,60]\n",
    "    Tmin_i = float(input(\"Enter min setpoint temperature: \"))\n",
    "    Tmax_i = float(input(\"Enter max setpoint temperature: \"))\n",
    "\n",
    "    # Domestic hot water temperature.\n",
    "    # Values [45,...,55]\n",
    "    Tdhw = float(input(\"Enter domestic hot water temperature: \"))\n",
    "\n",
    "    # Our model supposes that the system has two different sources of heat.\n",
    "    # Values [20,...,30]\n",
    "    Ts1 = float(input(\"Temperature of source 1: \"))\n",
    "    Ts2 = float(input(\"Temperature of source 2: \"))\n",
    "\n",
    "    # difference in temperature between the supply (system->heat->house) and return (house -> heat -> system) pipes\n",
    "    # Values [1,...,10]\n",
    "    DT_evap = float(input(\"Temperature difference among the supply and return pipes: \"))\n",
    "    \n",
    "    # For the data visualization course, we will select 0 SFH & 1600 MFH buildings, which will cover an area of 1 km2\n",
    "    n_buildings_SFH =float(input(\"Enter the number of SFH buildings: #\"))\n",
    "    n_buildings_MFH = float(input(\"Enter the number of MFH buildings:#\"))\n",
    "    \n",
    "    cap_source1 = int(input(\"Enter the thermal capacity of source 1 in MW:\"))\n",
    "    cap_source2 = int(input(\"Enter the thermal capacity of source 2 in MW:\"))\n",
    "    cap_ground = int(input(\"Enter the thermal capacity of the ground in MW:\"))\n",
    "\n",
    "    # The depth of the aquifer in meters. Values are around 30.\n",
    "    depth_aquifer = float(input(\"Aquifer temperature depth: \"))\n",
    "    \n",
    "    T_base_heat_degree = int(input(\"Heat Degree Days base temperature: \"))\n",
    "    \n",
    "    T_base_cool_degree = int(input(\"Cool Degree Days base temperature: \"))\n",
    "    \n",
    "    CD_year=int(input(\"Cooling demand/year: \")) #Of the scenario\n",
    "    HD_year=int(input(\"Cooling demand/year: \")) #Of the scenario\n",
    "    \n",
    "    Interest_Rate=int(input(\"Insert the interest rate of the project: \")) #Of the scenario\n",
    "    \n",
    "print(f\"* {Tmin_i=}\\n\"\n",
    "      f\"* {Tmax_i=}\\n\"\n",
    "      f\"* {CD_year=}\\n\"\n",
    "      f\"* {HD_year=}\\n\"\n",
    "      f\"* {Tdhw=}\\n\"\n",
    "      f\"* {Ts1=}\\n\"\n",
    "      f\"* {Ts2=}\\n\"\n",
    "      f\"* {DT_evap=}\\n\"\n",
    "      f\"* {n_buildings_SFH=}\\n\"\n",
    "      f\"* {n_buildings_MFH=}\\n\"\n",
    "      f\"* {cap_source1=}\\n\"\n",
    "      f\"* {cap_source2=}\\n\"\n",
    "      f\"* {cap_ground=}\\n\"\n",
    "      f\"* {depth_aquifer=}\\n\"\n",
    "      f\"* {T_base_heat_degree=}\\n\"\n",
    "      f\"* {T_base_cool_degree=}\\n\"\n",
    "      f\"* {Interest_Rate=}\\n\"\n",
    "     )"
   ]
  },
  {
   "cell_type": "markdown",
   "metadata": {
    "pycharm": {
     "name": "#%% md\n"
    }
   },
   "source": [
    "# Load Sources working hours\n",
    "\n",
    "The file must be a boolean matrix $W$ of $24 x 7$. The rows represent the hours in a day, and the columns represent the days in the week. For all $i \\in \\{0,...,23\\}$ and $j \\in \\{0,..., 6\\}$ we have that $w_{i,j} \\in \\{0, 1\\}$, where $w_{i,j} = 0$ means that the source doesn't produce energy at that hour $i$ on that day $j$. Similarly, $w_{i,j} = 1$ means that the source produces energy at that hour $i$ on that day $j$."
   ]
  },
  {
   "cell_type": "code",
   "execution_count": 4,
   "metadata": {},
   "outputs": [
    {
     "name": "stdout",
     "output_type": "stream",
     "text": [
      "* s1_schedule_path='./data/private/s1_source_fake_schedule.xlsx'\n",
      "* s1_schedule=array([[0, 0, 1, 1, 1, 1, 0],\n",
      "       [0, 0, 1, 1, 1, 1, 0],\n",
      "       [0, 0, 1, 1, 1, 1, 0],\n",
      "       [0, 0, 1, 1, 1, 1, 0],\n",
      "       [0, 0, 1, 1, 1, 1, 0],\n",
      "       [0, 0, 1, 1, 1, 1, 0],\n",
      "       [0, 0, 1, 1, 1, 1, 0],\n",
      "       [0, 1, 1, 1, 1, 1, 0],\n",
      "       [0, 1, 1, 1, 1, 1, 0],\n",
      "       [0, 1, 1, 1, 1, 1, 0],\n",
      "       [0, 1, 1, 1, 1, 1, 0],\n",
      "       [0, 1, 1, 1, 1, 1, 0],\n",
      "       [0, 1, 1, 1, 1, 1, 0],\n",
      "       [0, 1, 1, 1, 1, 1, 0],\n",
      "       [0, 1, 1, 1, 1, 1, 0],\n",
      "       [0, 1, 1, 1, 1, 1, 0],\n",
      "       [0, 1, 1, 1, 1, 0, 0],\n",
      "       [0, 1, 1, 1, 1, 0, 0],\n",
      "       [0, 1, 1, 1, 1, 0, 0],\n",
      "       [0, 1, 1, 1, 1, 0, 0],\n",
      "       [0, 1, 1, 1, 1, 0, 0],\n",
      "       [0, 1, 1, 1, 1, 0, 0],\n",
      "       [0, 1, 1, 1, 1, 0, 0],\n",
      "       [0, 1, 1, 1, 1, 0, 0]])\n",
      "* s1_schedule[6,1]=0\n",
      "* s1_schedule[7,1]=1\n",
      "\n"
     ]
    }
   ],
   "source": [
    "s1_schedule_path = os.path.join(\".\", \"data\", \"private\", \"s1_source_fake_schedule.xlsx\")\n",
    "if load_or_write_new == 1:\n",
    "    s1_schedule = np.array(simulation_values[\"s1_schedule\"])\n",
    "else:    \n",
    "    s1_schedule = pd.read_excel(s1_schedule_path, index_col=\"Time\").to_numpy()\n",
    "\n",
    "print(f\"* {s1_schedule_path=}\\n\"\n",
    "      f\"* {s1_schedule=}\\n\"\n",
    "      f\"* {s1_schedule[6,1]=}\\n\" # Tuesdays are closed at 6 (equal to 0)\n",
    "      f\"* {s1_schedule[7,1]=}\\n\") # but open are 7 (equal to 1)"
   ]
  },
  {
   "cell_type": "code",
   "execution_count": 5,
   "metadata": {},
   "outputs": [
    {
     "name": "stdout",
     "output_type": "stream",
     "text": [
      "* s2_schedule_path='./data/private/s2_source_fake_schedule.xlsx'\n",
      "* s2_schedule=array([[1, 1, 0, 0, 1, 1, 0],\n",
      "       [1, 1, 0, 0, 1, 1, 0],\n",
      "       [1, 1, 0, 0, 1, 1, 0],\n",
      "       [1, 1, 0, 0, 1, 1, 0],\n",
      "       [1, 1, 0, 0, 1, 1, 0],\n",
      "       [1, 1, 0, 0, 1, 1, 0],\n",
      "       [1, 1, 0, 0, 1, 1, 0],\n",
      "       [1, 1, 0, 1, 1, 1, 0],\n",
      "       [1, 1, 0, 1, 1, 1, 0],\n",
      "       [1, 1, 0, 1, 1, 1, 0],\n",
      "       [1, 1, 0, 1, 1, 1, 0],\n",
      "       [1, 1, 0, 1, 1, 1, 0],\n",
      "       [1, 1, 0, 1, 1, 1, 0],\n",
      "       [1, 1, 0, 1, 1, 1, 0],\n",
      "       [1, 1, 0, 1, 1, 1, 0],\n",
      "       [1, 1, 0, 1, 1, 1, 0],\n",
      "       [1, 0, 0, 1, 1, 1, 0],\n",
      "       [1, 0, 0, 1, 1, 0, 0],\n",
      "       [1, 0, 0, 1, 1, 0, 0],\n",
      "       [1, 0, 0, 1, 1, 0, 0],\n",
      "       [1, 0, 0, 1, 1, 0, 0],\n",
      "       [1, 0, 0, 1, 1, 0, 0],\n",
      "       [1, 0, 0, 1, 1, 0, 0],\n",
      "       [1, 0, 0, 1, 1, 0, 0]])\n",
      "* s2_schedule[15,1]=1\n",
      "* s2_schedule[16,1]=0\n",
      "\n"
     ]
    }
   ],
   "source": [
    "s2_schedule_path = os.path.join(\".\", \"data\", \"private\", \"s2_source_fake_schedule.xlsx\")\n",
    "if load_or_write_new == 1:\n",
    "    s2_schedule = np.array(simulation_values[\"s2_schedule\"])\n",
    "else: \n",
    "    s2_schedule = pd.read_excel(s2_schedule_path, index_col=\"Time\").to_numpy()\n",
    "\n",
    "print(f\"* {s2_schedule_path=}\\n\"\n",
    "      f\"* {s2_schedule=}\\n\"\n",
    "      f\"* {s2_schedule[15,1]=}\\n\" # Tuesdays are closed at 15 (equal to 0)\n",
    "      f\"* {s2_schedule[16,1]=}\\n\") # but open are 16 (equal to 1)"
   ]
  },
  {
   "cell_type": "markdown",
   "metadata": {},
   "source": [
    "## Take note of the values for the current simulation"
   ]
  },
  {
   "cell_type": "code",
   "execution_count": 6,
   "metadata": {},
   "outputs": [],
   "source": [
    "simulation_values[\"Tmin_i\"] = Tmin_i\n",
    "simulation_values[\"Tmax_i\"] = Tmax_i\n",
    "simulation_values[\"Tdhw\"] = Tdhw\n",
    "simulation_values[\"Ts1\"] = Ts1\n",
    "simulation_values[\"Ts2\"] = Ts2\n",
    "simulation_values[\"DT_evap\"] = DT_evap\n",
    "simulation_values[\"s1_schedule\"] = s1_schedule.tolist()\n",
    "simulation_values[\"s2_schedule\"] = s2_schedule.tolist()\n",
    "simulation_values[\"n_buildings_SFH\"] = n_buildings_SFH\n",
    "simulation_values[\"n_buildings_MFH\"] = n_buildings_MFH\n",
    "simulation_values['cap_source1']  = cap_source1\n",
    "simulation_values['cap_source2'] =  cap_source2\n",
    "simulation_values['cap_ground'] =  cap_ground\n",
    "simulation_values[\"depth_aquifer\"] = depth_aquifer\n",
    "simulation_values[\"T_base_heat_degree\"] = T_base_heat_degree\n",
    "simulation_values[\"T_base_cool_degree\"] = T_base_cool_degree\n",
    "simulation_values[\"Cool_demand\"] =CD_year\n",
    "simulation_values[\"Heat_demand\"] =HD_year\n",
    "\n",
    "#simulation_values"
   ]
  },
  {
   "cell_type": "markdown",
   "metadata": {},
   "source": [
    "## Read the dataset"
   ]
  },
  {
   "cell_type": "code",
   "execution_count": 7,
   "metadata": {},
   "outputs": [
    {
     "data": {
      "text/plain": [
       "dict_keys(['london_uk', 'madrid_spain', 'rome_italy', 'stuttgart_germany'])"
      ]
     },
     "execution_count": 7,
     "metadata": {},
     "output_type": "execute_result"
    }
   ],
   "source": [
    "noaa2010Dataset = NOAA2010Dataset()\n",
    "insPireDataset = InsPireDataset()\n",
    "\n",
    "\n",
    "AVAILABLE_DATASETS = dict()\n",
    "#AVAILABLE_DATASETS.update(noaa2010Dataset.load_data())\n",
    "AVAILABLE_DATASETS.update(insPireDataset.load_data())\n",
    "\n",
    "AVAILABLE_DATASETS.keys()"
   ]
  },
  {
   "cell_type": "code",
   "execution_count": 8,
   "metadata": {},
   "outputs": [
    {
     "data": {
      "text/plain": [
       "'rome_italy'"
      ]
     },
     "execution_count": 8,
     "metadata": {},
     "output_type": "execute_result"
    }
   ],
   "source": [
    "dataset_to_work = \"rome_italy\"\n",
    "dataset_to_work"
   ]
  },
  {
   "cell_type": "code",
   "execution_count": 9,
   "metadata": {
    "pycharm": {
     "name": "#%%\n"
    }
   },
   "outputs": [
    {
     "data": {
      "text/plain": [
       "Index(['hourofyear', 'air_temp', 'city_key', 'climate', 'DHW_cons', 'SH_cons',\n",
       "       'SFH_bldg_tot', 'MFH_bldg_tot', '%SH_y', '%DHW_y', 'Gas_price_ind',\n",
       "       'Gas_price_res', 'El_price_ind', 'El_price_res',\n",
       "       'DHW_hourly_consumption_ratio', 'SH_hourly_consumption_ratio',\n",
       "       'SC_hourly_consumption_ratio', 'season', 'date', 'month', 'dayofyear',\n",
       "       'dayofweek', 'hour'],\n",
       "      dtype='object')"
      ]
     },
     "execution_count": 9,
     "metadata": {},
     "output_type": "execute_result"
    }
   ],
   "source": [
    "dataset = AVAILABLE_DATASETS[dataset_to_work]\n",
    "dataset.columns"
   ]
  },
  {
   "cell_type": "markdown",
   "metadata": {},
   "source": [
    "## Definition of the dataset-related constants\n",
    "\n",
    "- `T_daily_a`: Average air temperature on a daily basis. \n",
    "- `DT_y`: Difference between the maximum daily temperature and the mean daily temperature.\n",
    "- `d_shift_min`: Day of the year with the min read temperature.\n",
    "- `d_shift_max`: Day of the year with the max read temperature."
   ]
  },
  {
   "cell_type": "code",
   "execution_count": 10,
   "metadata": {
    "pycharm": {
     "name": "#%%\n"
    }
   },
   "outputs": [],
   "source": [
    "# Create a daily dataset\n",
    "T_daily_avg = dataset[\"air_temp\"].resample('D').mean().to_frame()\n",
    "T_daily_avg[\"dayofyear\"] = T_daily_avg.index.dayofyear\n",
    "T_daily_avg[\"month\"] = T_daily_avg.index.month\n",
    "T_daily_avg[\"hourofyear\"] = (T_daily_avg.index.dayofyear - 1) * 24 + (T_daily_avg.index.hour + 1)\n",
    "\n",
    "T_ave_h = T_daily_avg.air_temp.mean()\n",
    "T_max = T_daily_avg.air_temp.max()\n",
    "DT_y = T_max - T_ave_h\n",
    "\n",
    "d_shift_min = T_daily_avg.air_temp.idxmin(axis=0).dayofyear #Day of the min Temperature\n",
    "d_shift_max = T_daily_avg.air_temp.idxmax(axis=0).dayofyear #Day of the max Temperature\n",
    "\n",
    "t = T_daily_avg.dayofyear\n",
    "\n",
    "num_hours = dataset.shape[0] # Number of hours in a year = 8737 hrs\n",
    "h = dataset.hourofyear # A range equivalent to the hours of the year from 1 to 8761\n",
    "\n",
    "#print(f\"* {dataset=}\\n\"\n",
    " #     f\"* {T_daily_avg=}\\n\"\n",
    "  #    f\"* {T_ave_h=}\\n\"\n",
    "   #   f\"* {DT_y=}\\n\"\n",
    "    #  f\"* {d_shift_min=}\\n\"\n",
    "    #  f\"* {T_daily_avg.air_temp.min()=}\\n\"\n",
    "    #  f\"* {d_shift_max=}\\n\"\n",
    "    #  f\"* {T_daily_avg.air_temp.max()=}\\n\"\n",
    "    #  f\"* {t=}\\n\"\n",
    "    #  f\"* {num_hours=}\\n\"\n",
    "    #  f\"* {h=}\")"
   ]
  },
  {
   "cell_type": "markdown",
   "metadata": {},
   "source": [
    "## Functional unit composition\n",
    "\n",
    "A functional unit of 1 km2 of land with a pre-determined heat demand and cooling demand is selected for analysis. This reference area has been already investigated in previous publications for the scenario assessment of low-temperature DH networks, as a typical high-density urban zone.\n"
   ]
  },
  {
   "cell_type": "markdown",
   "metadata": {},
   "source": [
    "### District heating system diagram\n",
    "\n",
    "District heating (DH) is an energy service based on moving heat from available heat sources to immediate customers through a piping network. Nowadays, the fundamental idea of DH is to use LOCAL sources that would otherwise be WASTED in order to satisfy customers'needs (Werner, 2013). \n",
    "\n",
    "\n",
    "Traditional DH systems operate typically at temperatures far from the ambient temperature (80°C or higher) giving rise to high thermal losses and the need of costly piping insulation. Examples of traditional DH sources are cogeneration plants, industrial waste heat and incinerators, where heat is a by-product of other industrial processes (Cozzini, 2018).\n",
    "\n",
    "New concepts in the DH sector propose lowering the operating temperatures further to a level equivalent to the ambient temperature, with an average of 20°C. Advantages of a system of this kind, are the reduction in thermal losses in the distribution system, the direct exploitation of available waste heat sources (refrigeration units in shopping malls, supermarkets, datacenters) and ground sources (aquifer wells), and the possibility of providing not only heating but also cooling through the use of reversible heat pumps on the buildings substations, as presented in the Figure.\n",
    "\n",
    "![DHC system](images/DHC_system.png)"
   ]
  },
  {
   "cell_type": "markdown",
   "metadata": {},
   "source": [
    "## 1. Data Processing for Space Heating Demand and Domestic Hot Water\n",
    "\n",
    "The methodology used in this project is a bottom-up approach for the calculation of the total heat demand for space heating (SH) and domestic hot water (DHW) utilization of a district located in 4 different climates across Europe, using data from the Inspire project. The data includes annual energy consumption for each building typology in kWh/m2-y, SFHs and MFHs correspond to reference buildings in each climatic zone built between 1945-1970, non-refurbished. In this particular case, the climatic zones and reference cities considered are:\n",
    "\n",
    "* Stuttgart, Germany for Continental climate\n",
    "* London, United Kingdom for Oceanic climate\n",
    "* Madrid, Spain for Southern-dry climate\n",
    "* Rome, Italy for Mediterranean climate\n",
    "\n",
    "\\begin{align*}\n",
    "HD = {SH}  + {DHW}\n",
    "\\end{align*}\n",
    "\n",
    "It's important to stress that this calculation is done on a year basis."
   ]
  },
  {
   "cell_type": "markdown",
   "metadata": {},
   "source": [
    "## 1.0 Data processing for space heating (SH) and domestic hot water (DHW)\n",
    "\n",
    "The total heat demand in a year is determined by the user of the model. This value corresponds to the demand of the city quarter selected to provide heat which constitutes the scenario."
   ]
  },
  {
   "cell_type": "code",
   "execution_count": 11,
   "metadata": {},
   "outputs": [],
   "source": [
    "#dataset[\"Heat_demand\"] = (n_buildings_SFH * 100 * dataset[\"SFH_bldg_tot\"]) + (n_buildings_MFH * 500 * dataset[\"MFH_bldg_tot\"])\n",
    "dataset[\"Heat_demand\"] = HD_year\n",
    "dataset[\"SH_demand\"] = HD_year * dataset[\"%SH_y\"]\n",
    "dataset[\"DHW_demand\"] = dataset[\"Heat_demand\"] * dataset[\"%DHW_y\"] # Equivalently, we can change dataset[\"%DHW_y\"] with (1 - dataset[\"%SH_y\"])\n"
   ]
  },
  {
   "cell_type": "markdown",
   "metadata": {},
   "source": [
    "## 1.1 Space Heating demand (H)\n",
    "\n",
    "In order to analyse the performance of this particular DH system, it is fundamental not only the spatial distribution of the heat demand, but also the distribution over time. For this purpose, the space heating hourly profile for each location is retrieved with a time dependency according to the heating degree method, known as the \"Integration method\".\n",
    "\n",
    "This method accounts the amount (in degrees) and for how long (in hours) thermal heat is required to keep the indoor building temperature at a comfortable level, which will vary depending on different climates according to the average daily outdoor temperature ($T_{amb}$). The base temperature $T_{base}$ selected was set to 15 °C, however, this value can be modified by the user of the tool. The calulation is performed on a daily basis:\n",
    "\n",
    "\n",
    "\\begin{equation}\n",
    "HDD_{i}= T_{base}-T_{amb,i} \n",
    "\\end{equation}\n",
    "\n",
    "\n",
    "$T_{amb,i} $= Average outdoor temperature in day $i$ ($i=1,...,365$).\n",
    "\n",
    "Thus, the heating distribution along the year can be estimated as:\n",
    "\n",
    "\\begin{equation}\n",
    "E_{th,j}= E_{th,sh}\\times \\frac{HDD_{i}}{\\sum_{i=1}^{365} HDD_{i}} \\times p{j}\n",
    "\\end{equation}\n",
    "\n",
    "Where $E_{th,sh}$ is the annual thermal energy for space heating, $HDD_{i}$ are the heating degrees in a day ${i}$, and $p_{j}$ is a user-determined hourly profile (${i=1,...,24}$)\n",
    "More info on calculation method: https://www.degreedays.net/introduction"
   ]
  },
  {
   "cell_type": "code",
   "execution_count": 12,
   "metadata": {},
   "outputs": [],
   "source": [
    "def heating_degree(T_amb):\n",
    "    return max(0, T_base_heat_degree - T_amb)"
   ]
  },
  {
   "cell_type": "code",
   "execution_count": 13,
   "metadata": {},
   "outputs": [],
   "source": [
    "def cooling_degree(T_amb):\n",
    "    return max(0, T_amb-T_base_cool_degree)"
   ]
  },
  {
   "cell_type": "code",
   "execution_count": 14,
   "metadata": {},
   "outputs": [],
   "source": [
    "heating_degree_days = T_daily_avg.air_temp.apply(heating_degree)\n",
    "cooling_degree_days = T_daily_avg.air_temp.apply(cooling_degree)\n",
    "#dataset[\"space_heating_dist\"] = dataset.heating_degree_days / max(sum(dataset.heating_degree_days), 1)\n",
    "#dataset[\"SH_dist\"] = dataset[\"SH_demand\"] * dataset[\"space_heating_dist\"] \n",
    "#Space heating distribution according to heating degree hours+SH profile\n",
    "\n",
    "T_daily_avg[\"heat_degree_days\"]= heating_degree_days/ sum(heating_degree_days)\n",
    "T_daily_avg[\"cooling_degree_days\"]= cooling_degree_days/ sum(cooling_degree_days)\n",
    "T_daily_avg = T_daily_avg.resample('H').ffill()\n"
   ]
  },
  {
   "cell_type": "code",
   "execution_count": 16,
   "metadata": {
    "pycharm": {
     "name": "#%%\n"
    }
   },
   "outputs": [
    {
     "data": {
      "text/plain": [
       "Text(0, 0.5, 'Thermal SH demand[MW]')"
      ]
     },
     "execution_count": 16,
     "metadata": {},
     "output_type": "execute_result"
    },
    {
     "data": {
      "image/png": "[encoded data removed]",
      "text/plain": [
       "<Figure size 864x432 with 1 Axes>"
      ]
     },
     "metadata": {
      "needs_background": "light"
     },
     "output_type": "display_data"
    }
   ],
   "source": [
    "#dataset[\"heating_degree_days\"] = dataset.air_temp.apply(heating_degree)\n",
    "#dataset[\"space_heating_dist\"] = dataset.heating_degree_days / max(sum(dataset.heating_degree_days), 1) \n",
    "\n",
    "dataset[\"norm_SH_profile\"] = dataset.SH_hourly_consumption_ratio\n",
    "dataset[\"SH_dist\"] = dataset.SH_demand  * dataset.norm_SH_profile * T_daily_avg.heat_degree_days\n",
    "#Space heating distribution according to heating degree hours+SH profile\n",
    "\n",
    "ax=dataset.SH_dist.plot(figsize=(12,6))\n",
    "ax.set_ylabel('Thermal SH demand[MW]')\n"
   ]
  },
  {
   "cell_type": "markdown",
   "metadata": {},
   "source": [
    "## 1.2 Domestic Hot Water Consumption (H)"
   ]
  },
  {
   "cell_type": "markdown",
   "metadata": {},
   "source": [
    "Domestic hot water consumption is not weather influenced, and its variation is almost constant over the year. The hourly demand for hot water is estimated by the percentage of the total heat demand ($ HD_y $) is hot water $ DHW_y $. This data is also obtained from the INSPIRE database for different climatic zones. \n",
    "\n",
    "The total domestic hot water demand is evenly distributed over each day of the year, and then its hourly distribution is obtained by multiplying the daily needs by an hourly random profile. \n",
    "\n",
    "\\begin{align*}\n",
    "DHW_{d} = \\frac{HD_{y}*DHW_{\\%y}}{d}\n",
    "\\end{align*}\n",
    "\n",
    "The DHW consumption is calculated in an hourly fashion."
   ]
  },
  {
   "cell_type": "code",
   "execution_count": 17,
   "metadata": {},
   "outputs": [
    {
     "data": {
      "text/plain": [
       "(48624.64197413002, 10800.115355039881)"
      ]
     },
     "execution_count": 17,
     "metadata": {},
     "output_type": "execute_result"
    }
   ],
   "source": [
    "dataset[\"DHW_dist\"] = dataset[\"DHW_demand\"] * dataset[\"DHW_hourly_consumption_ratio\"] / 365\n",
    "dataset.SH_dist.sum(), dataset.DHW_dist.sum()"
   ]
  },
  {
   "cell_type": "markdown",
   "metadata": {},
   "source": [
    "## 1.3 Space cooling "
   ]
  },
  {
   "cell_type": "code",
   "execution_count": 18,
   "metadata": {},
   "outputs": [
    {
     "data": {
      "text/plain": [
       "Text(0, 0.5, 'MW')"
      ]
     },
     "execution_count": 18,
     "metadata": {},
     "output_type": "execute_result"
    },
    {
     "data": {
      "image/png": "[encoded data removed]",
      "text/plain": [
       "<Figure size 864x432 with 1 Axes>"
      ]
     },
     "metadata": {
      "needs_background": "light"
     },
     "output_type": "display_data"
    }
   ],
   "source": [
    "dataset[\"Cool_demand\"] = CD_year\n",
    "#dataset[\"cooling_degree_days\"] = T_daily_avg.air_temp.apply(cooling_degree)\n",
    "#dataset[\"space_cooling_dist\"] = dataset.cooling_degree_days / sum(dataset.cooling_degree_days)\n",
    "\n",
    "dataset[\"norm_SC_profile\"] = dataset.SC_hourly_consumption_ratio\n",
    "dataset[\"SC_consumption\"] = dataset.Cool_demand *  dataset.norm_SC_profile *T_daily_avg.cooling_degree_days #Applying a smoothing factor\n",
    "                                                                                  #that considers users'behavior. **In this case assumed equal to the DHW profile**\n",
    "ax=dataset['2017-06-24':'2017-07-26'][\"SC_consumption\"].plot(figsize=(12,6))\n",
    "ax.set_ylabel(\"MW\")"
   ]
  },
  {
   "cell_type": "markdown",
   "metadata": {},
   "source": [
    "## 1.4 Thermal Load Profile (H) \n",
    "\n",
    "Thus, the aggregated heat demand corresponds to the sum of the thermal heat requirements for SH and DHW, according to the equation:\n",
    "\n",
    "\\begin{align*}\n",
    "HD_{TOT, h} = HD_{SH, h} + HD_{DHW, h}\n",
    "\\end{align*}"
   ]
  },
  {
   "cell_type": "code",
   "execution_count": 21,
   "metadata": {},
   "outputs": [
    {
     "data": {
      "text/plain": [
       "Text(0, 0.5, 'MW')"
      ]
     },
     "execution_count": 21,
     "metadata": {},
     "output_type": "execute_result"
    },
    {
     "data": {
      "image/png": "[encoded data removed]",
      "text/plain": [
       "<Figure size 864x432 with 1 Axes>"
      ]
     },
     "metadata": {
      "needs_background": "light"
     },
     "output_type": "display_data"
    }
   ],
   "source": [
    "dataset[\"Thermal_consumption\"] = dataset[\"DHW_dist\"] + dataset[\"SH_dist\"]\n",
    "\n",
    "ax=dataset['Thermal_consumption'].plot(figsize=(12,6))\n",
    "ax.set_ylabel(\"MW\")"
   ]
  },
  {
   "cell_type": "markdown",
   "metadata": {},
   "source": [
    "### 3.4.1 Adjusting the total consumption by air temperature"
   ]
  },
  {
   "cell_type": "code",
   "execution_count": null,
   "metadata": {},
   "outputs": [],
   "source": [
    "dataset[\"Total_consumption_fit\"] = np.nan\n",
    "\n",
    "records_with_heat_degree_days = dataset[dataset.air_temp <= T_base_heat_degree]\n",
    "if records_with_heat_degree_days.shape[0] == 0:\n",
    "    print(f\"Key {dataset_to_work} has no degree days.\")\n",
    "else:\n",
    "    slope, intercept, r_value, p_value, std_err = stats.linregress(records_with_heat_degree_days.air_temp, records_with_heat_degree_days.Thermal_consumption)\n",
    "    dataset[\"Total_consumption_fit\"] = slope * records_with_heat_degree_days.air_temp + intercept\n"
   ]
  },
  {
   "cell_type": "markdown",
   "metadata": {},
   "source": [
    "## 2.0 Temperature levels required on the buildings: Climate Curve (H)\n",
    "\n",
    "Temperature levels required for SH and DHW. The space Heating is calculated using a climatic curve. The Hot Water temperature is constant across the year."
   ]
  },
  {
   "cell_type": "code",
   "execution_count": 22,
   "metadata": {},
   "outputs": [],
   "source": [
    "def climatic_curve(Tamb_h):\n",
    "    Tmin_o = 2.38 #minimum outdoor T threshold in which the space heating system turns on\n",
    "    Tmax_o = 7.25 #maximum outdoor T threshold in which the space heating system turns off\n",
    "\n",
    "    if Tamb_h <= Tmin_o:   \n",
    "        Tsh = Tmax_i\n",
    "    elif Tamb_h >= Tmax_o:\n",
    "        Tsh = Tmin_i\n",
    "    else:\n",
    "        m = (Tmax_i-Tmin_i)/(Tmin_o-Tmax_o)\n",
    "        b = -m*Tmin_o+Tmax_i\n",
    "        Tsh = m*Tamb_h+b\n",
    "    return Tsh"
   ]
  },
  {
   "cell_type": "code",
   "execution_count": 23,
   "metadata": {},
   "outputs": [],
   "source": [
    "dataset['space_heating_temp'] = dataset.air_temp.apply(climatic_curve)\n",
    "dataset[\"hot_water_temp\"] = Tdhw"
   ]
  },
  {
   "cell_type": "markdown",
   "metadata": {},
   "source": [
    "## 2.1 Average Users Temperature Level (H)\n",
    "\n",
    "This corresponds to the average temperature level that the buildings require from the network. The temperature is based on the indoor temperature setpoints which vary seasonally."
   ]
  },
  {
   "cell_type": "code",
   "execution_count": 24,
   "metadata": {},
   "outputs": [],
   "source": [
    "sh_consumption_ratio = dataset[\"SH_dist\"] / dataset[\"Thermal_consumption\"]\n",
    "dhw_consumption_ratio = dataset[\"DHW_dist\"] / dataset[\"Thermal_consumption\"]\n",
    "\n",
    "dataset[\"user_temp\"] = (sh_consumption_ratio * dataset.space_heating_temp \n",
    "                        + dhw_consumption_ratio * dataset.hot_water_temp)\n"
   ]
  },
  {
   "cell_type": "markdown",
   "metadata": {},
   "source": [
    "## 3. Ambient temperature and Fitting Curve (H)\n",
    "\n",
    "For more info visit the [scipy.optimize.curve_fit docs](https://docs.scipy.org/doc/scipy/reference/generated/scipy.optimize.curve_fit.html#scipy.optimize.curve_fit)"
   ]
  },
  {
   "cell_type": "code",
   "execution_count": 25,
   "metadata": {
    "pycharm": {
     "name": "#%%\n"
    }
   },
   "outputs": [
    {
     "name": "stdout",
     "output_type": "stream",
     "text": [
      "* params=array([  15.32889133,  -11.2526935 , 4945.2078276 ])\n",
      "* params_covariance=array([[ 2.72603875e-03,  2.30749750e-13,  1.12126691e-17],\n",
      "       [ 2.30749750e-13,  5.45207748e-03, -1.78520063e-08],\n",
      "       [ 1.12126691e-17, -1.78520063e-08,  4.30586637e-05]])\n"
     ]
    }
   ],
   "source": [
    "def func(x, disp, amp, phi):\n",
    "    t0 = len(h) # hourly resolution if x is in hours\n",
    "    omega = 2 * pi / t0\n",
    "    return disp + amp * np.cos(x * omega - phi)\n",
    "\n",
    "x_data = pd.Series(range(0,len(dataset)))\n",
    "y_data = dataset.air_temp\n",
    "params, params_covariance = optimize.curve_fit(func, x_data, y_data, p0=[T_ave_h, DT_y, d_shift_max * 24])\n",
    "print(f\"* {params=}\\n\"\n",
    "      f\"* {params_covariance=}\")"
   ]
  },
  {
   "cell_type": "code",
   "execution_count": 26,
   "metadata": {
    "pycharm": {
     "name": "#%%\n"
    }
   },
   "outputs": [
    {
     "name": "stdout",
     "output_type": "stream",
     "text": [
      "Fitted parameters:\n"
     ]
    },
    {
     "data": {
      "text/latex": [
       "$\\displaystyle dist=15.33, amp=-11.25, \\phi=4945.21$"
      ],
      "text/plain": [
       "<IPython.core.display.Math object>"
      ]
     },
     "metadata": {},
     "output_type": "display_data"
    },
    {
     "name": "stdout",
     "output_type": "stream",
     "text": [
      "Original parameters:\n"
     ]
    },
    {
     "data": {
      "text/latex": [
       "$\\displaystyle dist=15.29, amp=16.89, \\phi=4944.00$"
      ],
      "text/plain": [
       "<IPython.core.display.Math object>"
      ]
     },
     "metadata": {},
     "output_type": "display_data"
    }
   ],
   "source": [
    "T_ave_fit = params[0]\n",
    "DT_y_fit = params[1]\n",
    "phi = params[2] #Corresponds to day 202\n",
    "\n",
    "#'displacement, amplitude, and phase of the signal\n",
    "print('Fitted parameters:')\n",
    "display(Math(f\"dist={T_ave_fit:.2f}, amp={DT_y_fit:.2f}, \\\\phi={phi:.2f}\"))\n",
    "\n",
    "print('Original parameters:')\n",
    "display(Math(f\"dist={T_ave_h:.2f}, amp={DT_y:.2f}, \\\\phi={d_shift_max*24:.2f}\"))"
   ]
  },
  {
   "cell_type": "markdown",
   "metadata": {},
   "source": [
    "## 3.1 Calculate the fitting curve\n",
    "\n",
    "Using the fitted parameters we can calculate the fitted air temperature"
   ]
  },
  {
   "cell_type": "code",
   "execution_count": 27,
   "metadata": {
    "pycharm": {
     "name": "#%%\n"
    }
   },
   "outputs": [],
   "source": [
    "def fitting_curve(hourofyear, T_ave_fit, DT_y_fit, T, phi, pi):\n",
    "    omega = 2 * pi / T\n",
    "    return T_ave_fit + DT_y_fit * np.cos(hourofyear * omega - phi)"
   ]
  },
  {
   "cell_type": "code",
   "execution_count": 28,
   "metadata": {
    "pycharm": {
     "name": "#%%\n"
    }
   },
   "outputs": [
    {
     "name": "stdout",
     "output_type": "stream",
     "text": [
      "* T=8761\n",
      "* dataset[[\"air_temp_fit\"]]=                     air_temp_fit\n",
      "timestamp                        \n",
      "2017-01-01 00:00:00      4.721389\n",
      "2017-01-01 01:00:00      4.718699\n",
      "2017-01-01 02:00:00      4.716014\n",
      "2017-01-01 03:00:00      4.713334\n",
      "2017-01-01 04:00:00      4.710660\n",
      "...                           ...\n",
      "2017-12-31 20:00:00      4.734924\n",
      "2017-12-31 21:00:00      4.732207\n",
      "2017-12-31 22:00:00      4.729494\n",
      "2017-12-31 23:00:00      4.726787\n",
      "2018-01-01 00:00:00      4.721389\n",
      "\n",
      "[8761 rows x 1 columns]\n",
      "* d_min (h): 2017-01-20 18:00:00\n",
      "* day_number: 20\n",
      "* d_max (h): 2017-07-22 07:00:00\n",
      "* day_number: 203\n"
     ]
    }
   ],
   "source": [
    "T = dataset.hourofyear.shape[0]\n",
    "dataset[\"air_temp_fit\"] = dataset.hourofyear.apply(fitting_curve, args=(T_ave_fit, DT_y_fit, T, phi, pi))\n",
    "\n",
    "d_shift_min = dataset.air_temp_fit.idxmin(axis=0)\n",
    "d_shift_max = dataset.air_temp_fit.idxmax(axis=0)\n",
    "\n",
    "dd_min = dataset[dataset.index == d_shift_min].dayofyear.item() # d_shift_min / 24\n",
    "dd_max = dataset[dataset.index == d_shift_max].dayofyear.item() # d_shift_max / 24\n",
    "\n",
    "print(f'* {T=}\\n'\n",
    "      f'* {dataset[[\"air_temp_fit\"]]=}\\n'\n",
    "      f'* d_min (h): {d_shift_min}\\n'\n",
    "      f'* day_number: {dd_min}\\n'\n",
    "      f'* d_max (h): {d_shift_max}\\n'\n",
    "      f'* day_number: {dd_max}')"
   ]
  },
  {
   "cell_type": "markdown",
   "metadata": {},
   "source": [
    "## 3.2 Ground temperature\n",
    "\n",
    "The ground temperature is calculated as a function of the ambient temperature fitting curve using the Kusuda equation, ref: \n",
    "- [Measurements of Ground Temperature at Various Depths](https://www.researchgate.net/publication/30500372_Measurements_of_Ground_Temperature_at_Various_Depths?enrichId=rgreq-e2031a024b742c0018bb428dca3100f5-XXX&enrichSource=Y292ZXJQYWdlOzMwNTAwMzcyO0FTOjEwMTI0NTIzNDcxMjU4M0AxNDAxMTUwMTUzNjYy&el=1_x_2&_esc=publicationCoverPdf)\n",
    "- [Earth Temperatures and Thermal Diffusivity at Selected Stations in the United States](https://nvlpubs.nist.gov/nistpubs/Legacy/RPT/nbsreport8972.pdf)"
   ]
  },
  {
   "cell_type": "code",
   "execution_count": 29,
   "metadata": {
    "pycharm": {
     "name": "#%%\n"
    }
   },
   "outputs": [
    {
     "name": "stdout",
     "output_type": "stream",
     "text": [
      "* zz=1\n",
      "* alpha=0.06048\n",
      "* alpha_sec=7e-07\n",
      "* t_sec=31536000\n",
      "* t_0=8761\n",
      "* Tg_und=15.328891328236297\n",
      "* DT_y=11.252693496954526\n",
      "* dd_min=20\n",
      "* dd_max=203\n"
     ]
    }
   ],
   "source": [
    "zz = 1 # Depth [m]\n",
    "alpha = 0.06048 # Ground thermal diffusivity, Banks [m^2/day]\n",
    "alpha_sec = 7e-7 # Ground thermal diffusivity, Banks [m^2/s]\n",
    "t_sec = 365 * 24 * 3600 # Number of seconds in a year.\n",
    "\n",
    "t_0 = T_daily_avg.shape[0] # Number of days in a year =365 days\n",
    "\n",
    "Tg_und = T_ave_fit # Undisturbed ground temperature\n",
    "DT_y = abs(DT_y_fit)\n",
    "\n",
    "print(f\"* {zz=}\\n\"\n",
    "      f\"* {alpha=}\\n\"\n",
    "      f\"* {alpha_sec=}\\n\"\n",
    "      f\"* {t_sec=}\\n\"\n",
    "      f\"* {t_0=}\\n\"\n",
    "      f\"* {Tg_und=}\\n\"\n",
    "      f\"* {DT_y=}\\n\"\n",
    "      f\"* {dd_min=}\\n\"\n",
    "      f\"* {dd_max=}\")"
   ]
  },
  {
   "cell_type": "code",
   "execution_count": 30,
   "metadata": {
    "pycharm": {
     "name": "#%%\n"
    }
   },
   "outputs": [],
   "source": [
    "def ground_temperature_hour(t: int):\n",
    "    #t is time in hours, but the calculation is done is seconds\n",
    "    kusuda = Tg_und - DT_y*exp(-zz*sqrt(pi/(alpha_sec*t_sec))) *cos(2*pi/t_sec*((t-dd_min*24)*3600-zz/2*sqrt(t_sec/(pi*alpha_sec)))) #Kusuda\n",
    "    return pd.Series({'T_kusuda': kusuda})"
   ]
  },
  {
   "cell_type": "code",
   "execution_count": 31,
   "metadata": {
    "pycharm": {
     "name": "#%%\n"
    }
   },
   "outputs": [],
   "source": [
    "dataset[\"ground_temp\"] = dataset.hourofyear.apply(ground_temperature_hour)\n"
   ]
  },
  {
   "cell_type": "markdown",
   "metadata": {},
   "source": [
    "## 3.3 Aquifer Well Temperature (Y)\n",
    "\n",
    "We use the same equation (Kusuda) to calculate the temperature of an aquifer well located `depth_aquifer` meters depth."
   ]
  },
  {
   "cell_type": "code",
   "execution_count": 32,
   "metadata": {
    "pycharm": {
     "name": "#%%\n"
    }
   },
   "outputs": [
    {
     "name": "stdout",
     "output_type": "stream",
     "text": [
      "* zz=30.0\n",
      "* alpha=0.06048\n",
      "* alpha_sec=7e-07\n",
      "* t_sec=31536000\n",
      "* t_0=8761\n",
      "* Tg_und=15.328891328236297\n",
      "* DT_y=11.252693496954526\n",
      "* dd_min=20\n",
      "* dd_max=203\n"
     ]
    }
   ],
   "source": [
    "zz = depth_aquifer\n",
    "\n",
    "print(f\"* {zz=}\\n\"\n",
    "      f\"* {alpha=}\\n\"\n",
    "      f\"* {alpha_sec=}\\n\"\n",
    "      f\"* {t_sec=}\\n\"\n",
    "      f\"* {t_0=}\\n\"\n",
    "      f\"* {Tg_und=}\\n\"\n",
    "      f\"* {DT_y=}\\n\"\n",
    "      f\"* {dd_min=}\\n\"\n",
    "      f\"* {dd_max=}\")"
   ]
  },
  {
   "cell_type": "code",
   "execution_count": 33,
   "metadata": {
    "pycharm": {
     "name": "#%%\n"
    }
   },
   "outputs": [],
   "source": [
    "dataset[\"aquifer_temp\"] = dataset.hourofyear.apply(ground_temperature_hour)"
   ]
  },
  {
   "cell_type": "markdown",
   "metadata": {},
   "source": [
    "## 4. Network temperature (H)"
   ]
  },
  {
   "cell_type": "markdown",
   "metadata": {},
   "source": [
    "### 4.1 Calculate Sources Temperature based on Working Hours"
   ]
  },
  {
   "cell_type": "code",
   "execution_count": 34,
   "metadata": {},
   "outputs": [],
   "source": [
    "dayofweeks = dataset.index.dayofweek\n",
    "hours = dataset.index.hour"
   ]
  },
  {
   "cell_type": "code",
   "execution_count": 35,
   "metadata": {},
   "outputs": [],
   "source": [
    "dataset[\"source1_temp\"] = Ts1 * s1_schedule[hours, dayofweeks]\n",
    "dataset[\"source2_temp\"] = Ts2 * s2_schedule[hours, dayofweeks]\n"
   ]
  },
  {
   "cell_type": "markdown",
   "metadata": {},
   "source": [
    "### 4.2 Calculate Network Temperature according to sources availability"
   ]
  },
  {
   "cell_type": "code",
   "execution_count": 36,
   "metadata": {
    "pycharm": {
     "name": "#%%\n"
    }
   },
   "outputs": [],
   "source": [
    "def calculate_tnet(temp_s1, temp_s2, temp_aq):\n",
    "    if temp_s1 == 0.0 and temp_s2 == 0.0:\n",
    "        return temp_aq\n",
    "    elif temp_s1 == 0.0:\n",
    "        return temp_s2\n",
    "    elif temp_s2 == 0.0:\n",
    "        return temp_s1\n",
    "    else:\n",
    "        return np.min([temp_s1, temp_s2])"
   ]
  },
  {
   "cell_type": "code",
   "execution_count": 37,
   "metadata": {
    "pycharm": {
     "name": "#%%\n"
    }
   },
   "outputs": [],
   "source": [
    "dataset[\"net_temp\"] = dataset.apply(lambda fila: calculate_tnet(fila.source1_temp, fila.source2_temp, fila.aquifer_temp), axis=1)"
   ]
  },
  {
   "cell_type": "code",
   "execution_count": 38,
   "metadata": {},
   "outputs": [
    {
     "data": {
      "text/plain": [
       "Text(0, 0.5, '°C')"
      ]
     },
     "execution_count": 38,
     "metadata": {},
     "output_type": "execute_result"
    },
    {
     "data": {
      "image/png": "[encoded data removed]",
      "text/plain": [
       "<Figure size 1440x432 with 1 Axes>"
      ]
     },
     "metadata": {
      "needs_background": "light"
     },
     "output_type": "display_data"
    }
   ],
   "source": [
    "ax=dataset.net_temp.plot(figsize=(20,6), title='Network temperature')\n",
    "ax.set_ylabel(\"°C\")"
   ]
  },
  {
   "cell_type": "markdown",
   "metadata": {},
   "source": [
    "## 5. System performance\n",
    "### 5.1 Coefficient of performance (COP)\n",
    "\n",
    "Heat pumps located at the users' substations are responsible for lifting the network temperature to a desired level for SH and DHW consumptions. The performance of the overall system in heating mode is assessed according to the following coefficient of performance (COP) function:\n",
    "\n",
    "\\begin{equation}\n",
    "COP\\ = \\eta_{m} COP_{C} +1 - \\eta_{m}\n",
    "\\end{equation}\n",
    "\n",
    "\\begin{equation}\n",
    "COP_{C}= \\frac{T_{c}}{T{_c} - T_{e}} \n",
    "\\end{equation}\n",
    "\n",
    "\\begin{equation}\n",
    "T_{c}= T_{c,o} +  \\Delta T_{HEX} \n",
    "\\end{equation}\n",
    "\n",
    "\n",
    "\\begin{equation}\n",
    "T_{e}= T_{net} -  \\Delta T_{evap} -  \\Delta T_{HEX} \n",
    "\\end{equation}\n",
    "\n",
    "Where $COP_{C}$ corresponds to the Carnot COP which is a function of the condenser ($ T_{c}$) and evaporator ($T_{e}$) refrigerant temperatures respectively. These variables are estimated as the external fluid outlet temperatures, adjusted by a temperature drop ($\\Delta T_{HEX}$) at the heat pump condenser and evaporator.  "
   ]
  },
  {
   "cell_type": "code",
   "execution_count": 39,
   "metadata": {},
   "outputs": [],
   "source": [
    "DT_hx = 2.5\n",
    "n_HP = 0.53\n",
    "\n",
    "Tc_heat = dataset.user_temp + DT_hx #Heating temperature level required on the building side\n",
    "Te_heat = dataset.net_temp - DT_evap - DT_hx \n",
    "\n",
    "dataset['COP'] = 1 - n_HP + n_HP * (Tc_heat+ 273.15) / (Tc_heat- Te_heat)\n"
   ]
  },
  {
   "cell_type": "markdown",
   "metadata": {},
   "source": [
    "### 5.2. COP cooling (EER) and heat rejected to the network in cooling mode"
   ]
  },
  {
   "cell_type": "markdown",
   "metadata": {},
   "source": [
    "The HPs performance in cooling mode, measured through the Energy Efficiency Ratio (EER), is estimated as follows:\n",
    "\n",
    "\\begin{equation}\n",
    "EER\\ = COP_{c} -1 \n",
    "\\end{equation}\n",
    "\n",
    "\n",
    "\\begin{equation}\n",
    "T_{c}= T_{net} +  \\Delta T_{c} + \\Delta T_{HEX} \n",
    "\\end{equation}\n",
    "\n",
    "\\begin{equation}\n",
    "T_{e}=  T_{e,o} -  \\Delta T_{HEX}\n",
    "\\end{equation}\n",
    "\n",
    "\n",
    "where $T_{e}$ and $T_{c}$ corresponds to the evaporator and condenser refrigerant temperatures, $T_{net}$ is the network temperature, $\\Delta T_{c}$  is the temperature drop along the HP condenser, and $\\Delta T_{HEX}$ is the temperature difference between the hot and cold side of the heat exchangers.\n",
    "\n",
    " "
   ]
  },
  {
   "cell_type": "code",
   "execution_count": 40,
   "metadata": {},
   "outputs": [],
   "source": [
    "Te_o_cool=10 #Cooling temperature level required on the building side\n",
    "DT_cond = 10 #Temperature drop on the HP condenser \n",
    "Te_cool = Te_o_cool- DT_hx\n",
    "Tc_cool = dataset.net_temp + DT_cond + DT_hx\n",
    "\n",
    "dataset['EER_cool'] =  (1- n_HP + n_HP* (Tc_cool+ 273.15) / (Tc_cool - Te_cool))-1"
   ]
  },
  {
   "cell_type": "markdown",
   "metadata": {},
   "source": [
    "## 6. Heat losses"
   ]
  },
  {
   "cell_type": "code",
   "execution_count": 41,
   "metadata": {},
   "outputs": [],
   "source": [
    "def heat_losses(T_net,T_gr, DT_evap):\n",
    "    U = 0.000848  #Average heat loss of pre-insulated pipes along a network of 2km [MW/ K] \n",
    "    T_ret = T_net - DT_evap\n",
    "    HL_s = (T_net - T_gr) * U  # Heat losses supply pipe [MW]\n",
    "    HL_r = (T_ret - T_gr) * U  # Heat losses return pipe [MW]\n",
    "    \n",
    "    return pd.Series([HL_s, HL_r, HL_s + HL_r] , index=['E_loss_s','E_loss_r','E_loss_tot'])\n"
   ]
  },
  {
   "cell_type": "code",
   "execution_count": 42,
   "metadata": {},
   "outputs": [
    {
     "data": {
      "text/plain": [
       "Text(0, 0.5, 'Thermal power [MW]')"
      ]
     },
     "execution_count": 42,
     "metadata": {},
     "output_type": "execute_result"
    },
    {
     "data": {
      "image/png": "[encoded data removed]",
      "text/plain": [
       "<Figure size 1440x432 with 1 Axes>"
      ]
     },
     "metadata": {
      "needs_background": "light"
     },
     "output_type": "display_data"
    }
   ],
   "source": [
    "dataset[['E_loss_s', 'E_loss_r', 'E_loss_tot']] = dataset.apply(lambda fila: heat_losses(fila[\"net_temp\"], fila[\"ground_temp\"], DT_evap), axis=1, result_type='expand')\n",
    "ax=dataset.E_loss_tot.plot(figsize=(20,6))\n",
    "ax.set_ylabel('Thermal power [MW]')"
   ]
  },
  {
   "cell_type": "markdown",
   "metadata": {},
   "source": [
    "## 7. HP Electric consumption in heating and cooling mode"
   ]
  },
  {
   "cell_type": "markdown",
   "metadata": {},
   "source": [
    "The hourly electricity consumption of a group of HPs operating in heating and cooling modes is estimated as a function of the total heating and cooling demand and the coefficient of performance of the systems substations in heating ($COP$) and cooling ($EER$) modes:\n",
    "\n",
    "\\begin{align*}\n",
    "E_{el,h} = \\frac{E_{th,h}}{COP}\n",
    "\\end{align*}\n",
    "\n",
    "\\begin{align*}\n",
    "E_{el,c} = \\frac{E_{th,c}}{EER}\n",
    "\\end{align*}"
   ]
  },
  {
   "cell_type": "code",
   "execution_count": 47,
   "metadata": {},
   "outputs": [
    {
     "data": {
      "text/plain": [
       "1535323.0592494085"
      ]
     },
     "execution_count": 47,
     "metadata": {},
     "output_type": "execute_result"
    }
   ],
   "source": [
    "dataset['E_el_h'] = dataset['Thermal_consumption'] / dataset['COP']  #Electric consumption in heating mode\n",
    "dataset['E_el_c'] =  dataset['SC_consumption'] /dataset['EER_cool'] #Electric consumption in cooling mode\n",
    "dataset['E_el_total'] = dataset.E_el_h + dataset.E_el_c #Total electric consumption of reversible heat pumps in heating and cooling modes\n",
    "\n",
    "dataset['HP_el_cost'] = dataset.E_el_total * dataset.El_price_ind *1000 #Electricity cost of reversible HPs each hour [€]\n",
    "\n",
    "HP_el_cost_year= dataset.HP_el_cost.sum() #Annual electricity cost of reversible heat pumps [€/year]\n",
    "\n",
    "#dataset['HP_el CO2'] = dataset.E_el_total\n",
    "dataset[['Thermal_consumption','SC_consumption','COP','EER_cool','E_el_h','E_el_c','E_el_total','El_price_ind','HP_el_cost']]\n",
    "\n"
   ]
  },
  {
   "cell_type": "markdown",
   "metadata": {},
   "source": [
    "## 8.  Network balance\n",
    "\n",
    "The simultaneous presence of heating and cooling consumers determines the sizing of the central plant. The net load of the distribution network is estimated as:\n",
    "\n",
    "\\begin{equation}\n",
    "Q_{NT-DHC}\\ = Q_{evap}+ Q_{loss}-Q_{cond} \n",
    "\\end{equation}\n",
    "\n",
    "\\begin{equation}\n",
    "Q_{evap}= E_{th,h}*\\left( 1-\\frac{1}{COP}\\right)\n",
    "\\end{equation}\n",
    "\n",
    "\\begin{equation}\n",
    "Q_{cond}= E_{th,c}*\\left(1+\\frac{1}{EER}\\right)\n",
    "\\end{equation}\n",
    "\n",
    "\\begin{equation}\n",
    "Q_{loss}= E_{loss_tot}\n",
    "\\end{equation}\n",
    "\n",
    "\\begin{equation}\n",
    "Q_{WH}= \\sum_{i=1}^{n} E_{WH_{i}}\n",
    "\\end{equation}\n",
    "\n",
    "### 8.1 Heating mode\n",
    "Thus, when $Q_{NT-DHC}>0$ the network is in heating mode, while $Q_{NT-DHC}<0$ means that the cooling mode is active. The available waste heat plants $Q_{WH}$ and the ground $Q_{GS}$ provide heat when the heating mode is active until their maximum capacity is reached. An auxiliary central heating plant turns on when the available sources are not enough to cover the entire heat demand."
   ]
  },
  {
   "cell_type": "code",
   "execution_count": null,
   "metadata": {},
   "outputs": [],
   "source": [
    "dataset['Q_evap'] = dataset.Thermal_consumption * (1-1/dataset.COP)\n",
    "dataset['Q_cond'] = dataset.SC_consumption * (1+1/dataset.EER_cool)\n",
    "dataset['Q_net'] = dataset.Q_evap + dataset.E_loss_tot -dataset.Q_cond\n",
    "dataset.Thermal_consumption.plot(figsize=(20,6), legend=True)\n",
    "dataset.SC_consumption.plot(figsize=(20,6), legend=True)\n",
    "ax=dataset.Q_net.plot(figsize=(20,6), title=('Net load distribution network'), legend=True)\n",
    "ax.set_ylabel('Thermal power [MW]')"
   ]
  },
  {
   "cell_type": "markdown",
   "metadata": {},
   "source": [
    "## 9. Thermal Energy from Sources\n",
    "\n",
    "### 9.1 Heating mode"
   ]
  },
  {
   "cell_type": "markdown",
   "metadata": {},
   "source": [
    "District heating systems have an opportunity to use heat supply from several sources at the same time. In order for this to happen, it is necessary a control system that allows many thermal plants to deliver heat at the same distribution system. In this case, the base load can be supplied by up to two sources of waste heat, with a maximum capacity and temperature levels determined by the user of this tool. A third source consisting in aquifer wells is assumed to provide heat from a depth of 30 m when the base load plants are not operating, as well as in peak load conditions. \n",
    "\n"
   ]
  },
  {
   "cell_type": "code",
   "execution_count": null,
   "metadata": {},
   "outputs": [],
   "source": [
    "dataset[\"source1_cap\"] = cap_source1  * s1_schedule[hours, dayofweeks] # values in MW to match the thermal demand calculations\n",
    "dataset[\"source2_cap\"] = cap_source2  *  s2_schedule[hours, dayofweeks] # values in MW to match the thermal demand calculations\n",
    "dataset[\"ground_source_cap\"] = cap_ground"
   ]
  },
  {
   "cell_type": "code",
   "execution_count": null,
   "metadata": {},
   "outputs": [],
   "source": [
    "def calculate_heatsupply(source1_cap, source2_cap, ground_source_cap,source1_temp, source2_temp,Q_net):\n",
    "    heat_source1 = 0.0\n",
    "    heat_source2= 0.0\n",
    "    heat_aquifer = 0.0\n",
    "    heat_aux_heater = 0.0\n",
    "    cool_aux = 0.0\n",
    "    if Q_net>0:\n",
    "        if source1_cap == 0.0 and source2_cap == 0.0: #If both WH plants are off, the network is supplied by the ground\n",
    "            if Q_net<= ground_source_cap:\n",
    "                heat_aquifer = Q_net    \n",
    "            else:\n",
    "                heat_aquifer = ground_source_cap\n",
    "                heat_aux_heater = Q_net-heat_aquifer \n",
    "        elif source1_cap == 0.0:                    #If source 1 is not available and source 2 is on, it provides heat until its max cap is reached\n",
    "            if Q_net <=  source2_cap:\n",
    "                heat_source2 = Q_net\n",
    "            elif Q_net <= source2_cap + ground_source_cap:\n",
    "                heat_source2 = source2_cap\n",
    "                heat_aquifer = Q_net - heat_source2 #The remaining energy comes from the ground when the max capacity of source 2 is reached\n",
    "            else:\n",
    "                heat_source2 = source2_cap\n",
    "                heat_aquifer = ground_source_cap\n",
    "                heat_aux_heater = Q_net - (heat_source2 + heat_aquifer)   \n",
    "        elif source2_cap == 0.0:                    #If source 1 is not available and source 2 is on, it provides heat until its max cap is reached\n",
    "            if Q_net <=  source1_cap:\n",
    "                heat_source1 = Q_net\n",
    "            elif Q_net <= source1_cap + ground_source_cap:\n",
    "                heat_source1 = source1_cap\n",
    "                heat_aquifer = Q_net - heat_source1 #The remaining energy comes from the ground when the max capacity of source 2 is reached\n",
    "            else:\n",
    "                heat_source1 = source1_cap\n",
    "                heat_aquifer = ground_source_cap\n",
    "                heat_aux_heater = Q_net - (heat_source1 + heat_aquifer)    \n",
    "        else:                            #Si ambas plantas funcionan, opera la de mayor temperatura hasta su max capacidad, si no es suficiente, se activa la segunda planta\n",
    "            if source1_temp > source2_temp:\n",
    "                if Q_net <=  source1_cap: #Prioriza la planta con mayor T (source 1)\n",
    "                    heat_source1 = Q_net\n",
    "                elif Q_net <= source1_cap + source2_cap:\n",
    "                    heat_source1 = source1_cap\n",
    "                    heat_source2 = Q_net - source1_cap\n",
    "                elif Q_net <= source1_cap + source2_cap + ground_source_cap:\n",
    "                    heat_source1 = source1_cap\n",
    "                    heat_source2 = source2_cap\n",
    "                    heat_aquifer = Q_net- (heat_source1 + heat_source2)\n",
    "                else:\n",
    "                    heat_source1 = source1_cap\n",
    "                    heat_source2 = source2_cap\n",
    "                    heat_aquifer = ground_source_cap\n",
    "                    heat_aux_heater = Q_net- (heat_source1 + heat_source2 +heat_aquifer)\n",
    "            else: \n",
    "                if Q_net <=  source2_cap: #Prioriza la planta con mayor T (source 2)\n",
    "                    heat_source2 = Q_net\n",
    "                elif Q_net <= source1_cap + source2_cap:\n",
    "                    heat_source2 = source2_cap\n",
    "                    heat_source1 = Q_net - source2_cap\n",
    "                elif Q_net <= source1_cap + source2_cap + ground_source_cap:\n",
    "                    heat_source2 = source2_cap\n",
    "                    heat_source1 = source1_cap\n",
    "                    heat_aquifer = Q_net- (heat_source1 + heat_source2)\n",
    "                else:\n",
    "                    heat_source1 = source1_cap\n",
    "                    heat_source2 = source2_cap\n",
    "                    heat_aquifer = ground_source_cap\n",
    "                    heat_aux_heater = Q_net- (heat_source1 + heat_source2 +heat_aquifer)\n",
    "\n",
    "    else:\n",
    "        if -Q_net <= ground_source_cap:\n",
    "            heat_aquifer = Q_net\n",
    "        else:\n",
    "            heat_aquifer = -ground_source_cap\n",
    "            cool_aux = -Q_net-ground_source_cap #The cooling auxiliary system provides rejects the excess energy that the ground can't hold\n",
    "            \n",
    "    return pd.Series([heat_source1, heat_source2, heat_aquifer, heat_aux_heater, cool_aux] , index=['heat_source1','heat_source2','heat_aquifer', 'heat_aux_heater', 'cool_aux']) \n",
    "        "
   ]
  },
  {
   "cell_type": "code",
   "execution_count": null,
   "metadata": {},
   "outputs": [],
   "source": [
    "dataset[[\"heat_source1\", \"heat_source2\", 'heat_aquifer','heat_aux_heater', 'cool_aux']] = dataset.apply(lambda fila: calculate_heatsupply(fila.source1_cap,fila.source2_cap,fila.ground_source_cap, fila.source1_temp, fila.source2_temp, fila.Q_net), axis=1 , result_type='expand')\n",
    "dataset.columns"
   ]
  },
  {
   "cell_type": "code",
   "execution_count": null,
   "metadata": {},
   "outputs": [],
   "source": [
    "ax=dataset.Q_net.plot(figsize=(20,6), title=('Net load distribution network'), legend=True)\n",
    "#dataset.heat_source1.plot(figsize=(20,6), legend=True)\n",
    "#dataset.heat_source2.plot(figsize=(20,6), legend=True)\n",
    "dataset.heat_aquifer.plot(figsize=(20,6), legend=True)\n",
    "#dataset.heat_aux_heater.plot(figsize=(20,6), legend=True)\n",
    "dataset.cool_aux.plot(figsize=(20,6), legend=True)\n",
    "ax.set_ylabel('Thermal power [MW]')"
   ]
  },
  {
   "cell_type": "code",
   "execution_count": null,
   "metadata": {},
   "outputs": [],
   "source": [
    "ax=dataset['2017-01-24':'2017-02-26'][['air_temp','net_temp','COP']].plot(figsize=(20,6))\n",
    "ax.set_ylabel(\"°C\")\n",
    "ax.legend([\"Ambient T°\", \"Network T°\",\"COP\"], loc='lower right');\n",
    "\n",
    "\n",
    "ax=dataset['2017-01-24':'2017-02-27'][['heat_aux_heater','heat_aquifer']].plot(figsize=(20,6), color=['#b30000','#ffa500'])\n",
    "ax.set_ylabel(\"Power [MW]\")\n",
    "ax.legend([\"Auxiliary heater\",\"Ground source\"]);"
   ]
  },
  {
   "cell_type": "markdown",
   "metadata": {},
   "source": [
    "### 9.2 Cooling mode\n",
    "\n",
    "The central cooling system consists of a water/water central chiller and a cooling tower. If the ambient temperature is sufficiently low compared to the network supply temperature, heat is removed from the network through the cooling tower only. If the ambient temperature is too high, heat is removed from the network at the evaporator of the central chiller, boosted to a sufficiently high temperature and so rejected to the environment through the cooling tower [D3.2 Flexynets]. The energy dissipated by the chiller and its electric consumption is given by:\n",
    "\n",
    "\\begin{equation}\n",
    "Q_{chiller}= \\lvert Q_{NT-DHC}-Q_{GS} \\rvert  (*)\n",
    "\\end{equation}\n",
    "\n",
    "\\begin{equation}\n",
    "E_{el,chiller}= \\frac{Q_{chiller}}{EER}\n",
    "\\end{equation}\n",
    "\n",
    "The central chiller turns on and transfers the required amount of heat from the distribution network to a second water loop. The heat is hence removed from the water loop through\n",
    "the cooling tower. The total cooling energy rejected by the tower is:\n",
    "\n",
    "\\begin{equation}\n",
    "Q_{cool,tower}= Q_{chiller} + E_{el,chiller}\n",
    "\\end{equation}\n",
    "\n",
    "(*)The absolute value formula is because $Q_{NT-DHC}$ has a negative sign in cooling mode. The chiller EER will be (for now) considered equal to the EER of the HPs in cooling mode\n",
    "\n",
    "The cooling tower operates alone (without the central chiller), when the ambient temperature is sufficiently low compared to the network supply temperature. More specifically, the condition for this operation mode is given by:\n",
    "\n",
    "\\begin{equation}\n",
    "T_{amb} +5 <= T{net,s}\n",
    "\\end{equation}\n",
    "\n",
    "Then,\n",
    "\\begin{equation}\n",
    "Q_{cool,tower}= \\lvert Q_{NT-DHC}-Q_{GS} \\rvert\n",
    "\\end{equation}"
   ]
  },
  {
   "cell_type": "code",
   "execution_count": null,
   "metadata": {},
   "outputs": [],
   "source": [
    "##Electricity consumed by the chiller when ambient temperature is above network temperature\n",
    "def calculate_chiller_el(air_temp, net_temp, cool_aux, EER_cool):\n",
    "    if air_temp +5 >= net_temp:\n",
    "        E_el_chiller = cool_aux / EER_cool\n",
    "    else:\n",
    "        E_el_chiller = 0\n",
    "        \n",
    "    return pd.Series({'E_el_chiller': E_el_chiller})"
   ]
  },
  {
   "cell_type": "code",
   "execution_count": null,
   "metadata": {},
   "outputs": [],
   "source": [
    "dataset[['E_el_chiller']] = dataset.apply(lambda fila: calculate_chiller_el(fila.air_temp,fila.net_temp,fila.cool_aux, fila.EER_cool), axis=1 , result_type='expand')\n"
   ]
  },
  {
   "cell_type": "code",
   "execution_count": null,
   "metadata": {},
   "outputs": [],
   "source": [
    "def calculate_cooltower(air_temp, net_temp, cool_aux,E_el_chiller):\n",
    "    if air_temp +5 <= net_temp:\n",
    "        Q_cool_tower = cool_aux #The cooling tower operates alone (without central chiller)\n",
    "    else:\n",
    "        Q_cool_tower = cool_aux + E_el_chiller\n",
    "        \n",
    "    return pd.Series({'Q_cool_tower': Q_cool_tower})"
   ]
  },
  {
   "cell_type": "code",
   "execution_count": null,
   "metadata": {},
   "outputs": [],
   "source": [
    "dataset[['Q_cool_tower']] = dataset.apply(lambda fila: calculate_cooltower(fila.air_temp,fila.net_temp,fila.cool_aux, fila.E_el_chiller), axis=1 , result_type='expand')\n",
    "dataset.columns"
   ]
  },
  {
   "cell_type": "code",
   "execution_count": null,
   "metadata": {},
   "outputs": [],
   "source": [
    "ax=dataset['2017-06-24':'2017-07-26'][['air_temp','net_temp']].plot(figsize=(20,6))\n",
    "ax.set_ylabel(\"°C\")\n",
    "ax.legend([\"Ambient T°\", \"Network T°\"]);\n",
    "\n",
    "ax=dataset['2017-06-24':'2017-07-27'][['E_el_chiller','Q_cool_tower', 'heat_aquifer']].plot(figsize=(20,6))\n",
    "ax.set_ylabel(\"Power [MW]\")\n",
    "ax.legend([\"Chiller, el\",\"Cooling tower, th\",\"Ground\"]);"
   ]
  },
  {
   "cell_type": "code",
   "execution_count": null,
   "metadata": {},
   "outputs": [],
   "source": [
    "# Safety factors for oversizing. Source: Flexynets tool\n",
    "SF_cent_heater =1.0\n",
    "SF_chiller_el=1.2\n",
    "SF_cool_tower =1.2\n",
    "DF_hps=0.59 #Diversity factor?\n",
    "SF_hps=1.2\n",
    "\n",
    "aux_heat_cap = round(dataset.heat_aux_heater.max() *SF_cent_heater) #Capacity auxiliary heating system\n",
    "aux_ctower_cap = round(dataset.Q_cool_tower.max() * SF_cool_tower) #Capacity cooling tower\n",
    "aux_chiller_cap = round(dataset.E_el_chiller.max() *SF_chiller_el) #Capacity chiller\n",
    "max_hps_el = round(dataset.E_el.max())\n",
    "rev_hps_cap = round(dataset.E_el.max() / DF_hps * SF_hps) #Reversible heat pumps capacity (to provide H&C)\n",
    "\n",
    "heat_peak= round(dataset.Thermal_consumption.max())\n",
    "network_peak = round(dataset.Q_net.max())\n",
    "\n",
    "print(f\"* {cap_source1 =}\\n\"\n",
    "      f\"* {cap_source2 =}\\n\"\n",
    "      f\"* {cap_ground =}\\n\"\n",
    "      f\"* {heat_peak =}\\n\"\n",
    "      f\"* {network_peak =}\\n\"\n",
    "      f\"* {aux_chiller_cap =}\\n\"\n",
    "      f\"* {aux_ctower_cap =}\\n\"\n",
    "      f\"* {max_hps_el =}\\n\"\n",
    "      f\"* {rev_hps_cap =}\\n\"\n",
    "      f\"* {aux_heat_cap =}\\n\"\n",
    "     )\n",
    "\n",
    "data_cap_list = [aux_heat_cap,cap_source1+cap_source2, cap_ground,  aux_chiller_cap,aux_ctower_cap,]\n",
    "\n",
    "data_cap =pd.DataFrame({'Capacity_list': data_cap_list})\n",
    "data_cap = data_cap.astype(int)\n",
    "data_cap['Capacity_list']"
   ]
  },
  {
   "cell_type": "markdown",
   "metadata": {},
   "source": [
    "## 4. Sizing system components\n",
    "\n",
    "The peak power that each auxiliary plant/machine has to provide to the system determines its size and therefore its investment costs. In a NT-DHC network, the auxiliary  components for heating and cooling correspond to:\n",
    "\n",
    "* Auxiliary heater: a centralized plant that can be selected by the user of the model. It will be considered by default a gas boiler. This choice can be modified from a list of options available:\n",
    "\n",
    "\n",
    "**Table 1.** Technologies included in this dataset. Source: Hotmaps tool\n",
    "<table>\n",
    "  <tr>\n",
    "    <td>Technology</td>\n",
    "    <td>CHP</td>\n",
    "    <td>Energy Carrier</td>\n",
    "  </tr>\n",
    "<tr>\n",
    "    <td>Internal combustion engine</td>\n",
    "    <td>\tYes</td>\n",
    "    <td>\tNatural gas\n",
    "<tr>\n",
    "    <td>Internal combustion engine</td>\n",
    "    <td>\tYes</td>\n",
    "    <td>\tLiquid biofuels</td>\n",
    "  </tr>\n",
    "<tr>\n",
    "    <td>Internal combustion engine</td>\n",
    "    <td>\tYes</td>\n",
    "    <td>\tLight fuel oil</td>\n",
    "  </tr>\n",
    "<tr>\n",
    "    <td>Gas turbine</td>\n",
    "    <td>\tYes</td>\n",
    "    <td>\tNatural gas, process gases</td>\n",
    "  </tr>\n",
    "<tr>\n",
    "    <td>Steam turbine</td>\n",
    "    <td>\tYes</td>\n",
    "    <td>\tLight fuel oil</td>\n",
    "  </tr>\n",
    "<tr>\n",
    "    <td>Steam turbine</td>\n",
    "    <td>\tYes</td>\n",
    "    <td>\tBiomass</td>\n",
    "  </tr>\n",
    "<tr>\n",
    "    <td>Steam turbine</td>\n",
    "    <td>\tYes</td>\n",
    "    <td>\tNatural gas</td>\n",
    "  </tr>\n",
    "<tr>\n",
    "    <td>Steam turbine</td>\n",
    "    <td>\tYes</td>\n",
    "    <td>\tHard coal</td>\n",
    "  </tr>\n",
    "<tr>\n",
    "    <td>Steam turbine</td>\n",
    "    <td>\tYes</td>\n",
    "    <td>\tWaste</td>\n",
    "  </tr>\n",
    "<tr>\n",
    "    <td>Combined cycle gas turbine</td>\n",
    "    <td>\tYes</td>\n",
    "    <td>\tNatural gas, process gases</td>\n",
    "  </tr>\n",
    "<tr>\n",
    "    <td>Fuel cell</td>\n",
    "    <td>\tYes</td>\n",
    "    <td>\tNatural gas</td>\n",
    "  </tr>\n",
    "<tr>\n",
    "    <td>Boiler</td>\n",
    "    <td>\tNo</td>\n",
    "    <td>\tNatural gas</td>\n",
    "  </tr>\n",
    "<tr>\n",
    "    <td>Boiler</td>\n",
    "    <td>\tNo</td>\n",
    "    <td>\tHard coal</td>\n",
    "  </tr>\n",
    "<tr>\n",
    "    <td>Boiler</td>\n",
    "    <td>\tNo</td>\n",
    "    <td>\tLight fuel oil</td>\n",
    "  </tr>\n",
    "<tr>\n",
    "    <td>Boiler</td>\n",
    "    <td>\tNo</td>\n",
    "    <td>\tBiomass</td>\n",
    "  </tr>\n",
    "<tr>\n",
    "    <td>Boiler</td>\n",
    "    <td>\tNo</td>\n",
    "    <td>\tOther</td>\n",
    "  </tr>\n",
    "<tr>\n",
    "    <td>Boiler</td>\n",
    "    <td>\tNo</td>\n",
    "    <td>\tWaste</td>\n",
    "  </tr>\n",
    "<tr>\n",
    "    <td>Boiler</td>\n",
    "    <td>\tNo</td>\n",
    "    <td>\tElectricity</td>\n",
    "  </tr>\n",
    "<tr>\n",
    "    <td>District heat</td>\n",
    "    <td>\tNo</td>\n",
    "    <td>\t-</td>\n",
    "  </tr>\n",
    "<tr>\n",
    "    <td>Heat pump sorption</td>\n",
    "    <td>\tNo</td>\n",
    "    <td>\tNatural gas, other</td>\n",
    "  </tr>\n",
    "<tr>\n",
    "    <td>Heat pump compression</td>\n",
    "    <td>\tNo</td>\n",
    "    <td>\tElectricity</td>\n",
    "  </tr>\n",
    "<tr>\n",
    "    <td>Solar district heat</td>\n",
    "    <td>\tNo</td>\n",
    "    <td>\t-</td>\n",
    "  </tr>\n",
    "<tr>\n",
    "    <td>Geothermal heat pump</td>\n",
    "    <td>\tNo</td>\n",
    "    <td>\tElectricity</td>\n",
    "  </tr>\n",
    "</table>\n",
    "\n",
    "\n",
    "* Auxiliary cooling system (centralized chiller and cooling tower).\n",
    "\n",
    "On the other hand, the size of waste heat plants (source 1 and source 2) as well as the ground source are determined initially by the user of the tool.  \n",
    "    \n",
    "    \n",
    "    \n"
   ]
  },
  {
   "attachments": {
    "image.png": {
     "image/png": "[encoded data removed]"
    }
   },
   "cell_type": "markdown",
   "metadata": {},
   "source": [
    "## 5. NT-DHC Costs\n",
    "### 5.1 Investment and fixed operating costs - technologies\n",
    "\n",
    "All the investment ($Inv_{tech,tot}$)  and fixed operating ($0M_{tech,tot}$) costs in heating and cooling technologies involved in the NT-DHC system are assessed as a function of their maximum peak capacity. This is calculated by multiplying the total capacity of each source by the annuity of each investment, and adding the peak capacity of the auxiliary systems and its specific annuity:\n",
    "\n",
    "\\begin{equation}\n",
    "\\label{eq:user-temperature}\n",
    "    Inv_{tech,tot} = (\\sum_i Cap_{source_i} \\times Inv_{source_i} + \\sum_j Cap_{aux_j} \\times Inv_{aux_j} + Inv_{HPs} \\times Cap_{HPs})\\times \\alpha_{k} \n",
    "\\end{equation}\n",
    "\n",
    "\\begin{equation}\n",
    "    OM_{tech,tot} = (\\sum_i Cap_{source_i} \\times Inv_{source_i} \\times OM_{source_i} + \\sum_j Cap_{aux_j} \\times Inv_{aux_j} \\times OM_{aux_j} + Cap_{HPs} \\times Inv_{HPs} \\times OM_{HPs} ) \n",
    "\\end{equation}\n",
    "\n",
    "$\\alpha_{k}$ corresponds to the annuity factor of each heat production technology k (waste heat sources, ground source, heat pumps, centralized heating systems, etc.). $OM_{tech}$ is expresed as a % of the investment.\n",
    "\n",
    "### Operating costs\n",
    "\n",
    "In the case of a device, component, piece of equipment or facility, it is the regular, usual and customary recurring costs of operating the equipment. This does not include the capital cost of constructing or purchasing the equipment .\n",
    "\n",
    "Operating costs are incurred by all equipment — unless the equipment has no cost to operate, requires no personnel or space and never wears out.\n",
    "\n",
    "Equipment operating costs may include:\n",
    "Salaries or Wages of personnel\n",
    "Advertising\n",
    "Raw materials\n",
    "License or equivalent fees (such as Corporation yearly registration fees) imposed by a government\n",
    "Real estate expenses, including\n",
    "Rent or Lease payments\n",
    "Office space rent\n",
    "furniture and equipment\n",
    "investment value of the funds used to purchase the land, if it is owned instead of rented or leased\n",
    "property taxes and equivalent assessments\n",
    "Operations taxes, such as fees assessed on transportation carriers for use of highways\n",
    "Fuel costs such as power for operations, fuel for production\n",
    "Public Utilities such as telephone service, Internet connectivity, etc.\n",
    "Maintenance of equipment\n",
    "Office supplies and consumables\n",
    "Insurance premium\n",
    "Depreciation of equipment and eventual replacement costs (unless the facility has no moving parts it probably will wear out eventually)\n",
    "Damage due to uninsured losses, accident, sabotage, negligence, terrorism and routine wear and tear.\n",
    "Taxes on production or operation (such as subsidence fees imposed on oil wells)\n",
    "Income taxes\n",
    "\n",
    "\n",
    "Source: Rituraj Shrivastava SP Gupta, Ajay Sharma, Satish Ahuja. Cost Accounting. FK Publications. pg. 316\n",
    "\n",
    "### Cost data base \n",
    "\n",
    "Data source for ($Inv_{tech,tot}$) and fixed operating ($0M_{tech,tot}$) costs: Hotmaps project.\n",
    "Simon Pezzutto, Stefano Zambotti, Silvia Croce, Pietro Zambelli, Giulia Garegnani, Chiara Scaramuzzino, Ramón Pascual Pascuas, Alyona Zubaryeva, Franziska Haas, Dagmar Exner (EURAC), Andreas Mueller (e-think), Michael Hartner (TUW), Tobias Fleiter, Anna-Lena Klingler, Matthias Kuehnbach, Pia Manz, Simon Marwitz, Matthias Rehfeldt, Jan Steinbach, Eftim Popovski (Fraunhofer ISI) Reviewed by Lukas Kranzl, Sara Fritz (TUW)\n",
    "Hotmaps Project, D2.3 WP2 Report – Open Data Set for the EU28, 2018 www.hotmaps-project.eu![image.png](attachment:image.png)"
   ]
  },
  {
   "cell_type": "code",
   "execution_count": null,
   "metadata": {},
   "outputs": [],
   "source": [
    "import numpy_financial as npf\n",
    "\n",
    "#Interest_Rate = 0.1\n",
    "#Years = 30\n",
    "Payments_Year = 1"
   ]
  },
  {
   "cell_type": "code",
   "execution_count": null,
   "metadata": {},
   "outputs": [],
   "source": [
    "def load_cost_data():\n",
    "    data = pd.read_csv(\"./data/data_SteamGenerationData_CAPEX.csv\", delimiter =';') #We create a DataFrame called data which contains CAPEX data\n",
    "    data= data[(data.Country =='Italy') & (data.year==2015) & (data.Capacity ==10000)] #This filter gets the data of Italy (2015), for technologies which capacity is 10000 kW\n",
    "    columnas = ['Waste_heat_LT','Ground_source_aq','Chiller','Cool_tower','SHP_Boiler_Natural_gas'] #We read the columns of interest\n",
    "    Waste_heat_LT = data['Waste_heat_LT']\n",
    "    Ground_source_aq = data['Ground_source_aq']\n",
    "    Chiller = data['Chiller']\n",
    "    Cool_tower = data['Cool_tower']\n",
    "    SHP_Boiler_Natural_gas = data['SHP_Boiler_Natural_gas']\n",
    "    \n",
    "    data_lifetime= pd.read_csv(\"./data/data_SteamGenerationData_OPEX.csv\", delimiter =';') #We create a DataFrame called data_lifetime which contains OPEX and lifetime data\n",
    "    data_lifetime = data_lifetime[data_lifetime.Technology_Name.isin(columnas)] #We select the data from the Technologies defined in the 'columnas' set\n",
    "    data_lifetime[['OM_Cost','Price_fuel','Price_heat','Thermal_eff','OPEX','lifetime']]= data_lifetime[['OM_Cost','Price_fuel','Price_heat','Thermal_eff','OPEX','lifetime']].astype(float)\n",
    "    data_lifetime['CAP'] = data_cap_list\n",
    "    \n",
    "    Cost_information_list =[]\n",
    "    CAPEX_list =[]\n",
    "    Technology_Name_list=[]\n",
    "    OPEX_list=[]\n",
    "    OM_Cost_list=[]\n",
    "    lifetime_list=[] \n",
    "    payment_list =[]\n",
    "    payment2_list =[]\n",
    "    total_fixed_costs=[]\n",
    "    CAP_list=[]\n",
    "    \n",
    "    for index, row in data_lifetime.iterrows():\n",
    "        Technology_Name= row.Technology_Name #Va a tomar el nombre de las tecnologias del archivo data_lifetime que corresponde a 'columnas'\n",
    "        CAPEX_source= data[Technology_Name].values[0] #Valor de CAPEX en archivo data, con el nombre de columas definido en 'columnas'=Technology_Name\n",
    "        OPEX_source= row.OPEX\n",
    "        OM_Cost= row.OM_Cost #Obtiene valores de OM_cost para cada tecnología\n",
    "        lifetime= row.lifetime\n",
    "        capacity_tech =row.CAP\n",
    "\n",
    "        payment = npf.pmt(Interest_Rate/Payments_Year, lifetime*Payments_Year, CAPEX_source*capacity_tech) #Annualized CAPEX of each technology\n",
    "        payment2 = npf.pmt(Interest_Rate/Payments_Year, lifetime*Payments_Year, CAPEX_source*OM_Cost*capacity_tech) #Annualized OM cost of each technology\n",
    "        total_costs= payment+ payment2\n",
    "        \n",
    "        #Cost_information_list.append(cost_information)\n",
    "        \n",
    "        CAPEX_list.append(CAPEX_source)\n",
    "        Technology_Name_list.append(Technology_Name)\n",
    "        OPEX_list.append(OPEX_source)\n",
    "        OM_Cost_list.append(OM_Cost)\n",
    "        lifetime_list.append(lifetime)\n",
    "        payment_list.append(payment)\n",
    "        payment2_list.append(payment2)\n",
    "        total_fixed_costs.append(total_costs)\n",
    "        CAP_list.append(capacity_tech)\n",
    "        \n",
    "    \n",
    "    total_costs_tech = pd.DataFrame({'Technology_Name': Technology_Name_list,'CAPEX':CAPEX_list,'OPEX': OPEX_list, 'OM_Cost': OM_Cost_list, \n",
    "                                     'lifetime': lifetime_list,'Capacity_tech': CAP_list,'Investment':payment_list,'Fixed_costs':payment2_list,'Total_capital_costs':total_fixed_costs})\n",
    "  \n",
    "    return total_costs_tech\n"
   ]
  },
  {
   "cell_type": "code",
   "execution_count": null,
   "metadata": {},
   "outputs": [],
   "source": [
    "costos = load_cost_data()\n",
    "costos"
   ]
  },
  {
   "cell_type": "code",
   "execution_count": null,
   "metadata": {},
   "outputs": [],
   "source": [
    "def calculate_total_fixed_costs(Cost_information_list):\n",
    "    suma=0\n",
    "    for cost_information in Cost_information_list:\n",
    "        suma= suma + cost_information.total_fixed_costs\n",
    "    \n",
    "    return suma"
   ]
  },
  {
   "cell_type": "markdown",
   "metadata": {},
   "source": [
    "### 5.2 Marginal costs of operation\n",
    "\n",
    "This correspond to the variable costs of operating technologies in a NT-DHC system. This includes all systems that use energy in form of electricity, gas, biomass to produce either heating or cooling. Among them we find the operation of the reversible heat pumps, a centralized auxiliary heating system, and only in case of need, a chiller and centralized cooling tower:  \n",
    "\n",
    "\\begin{equation}\n",
    "    OPEX_{tech,tot} =  E_{th,aux} \\times \\frac{p_{fuel,aux}}{\\eta_{aux}}+ E_{el,chill} \\times p_{el,ind} +E_{th,ctower} \\times p_{el,ind}+ E_{el,HP} \\times p_{el,ind} )  \n",
    "\\end{equation}"
   ]
  },
  {
   "cell_type": "code",
   "execution_count": null,
   "metadata": {},
   "outputs": [],
   "source": [
    "OPEX_s1=costos[costos.Technology_Name=='Waste_heat_LT'].OPEX\n",
    "OPEX_s1.values[0]"
   ]
  },
  {
   "cell_type": "code",
   "execution_count": null,
   "metadata": {},
   "outputs": [],
   "source": [
    "#Energy cost of waste heat sources can be specified on the Excel sheet in €/MWh\n",
    "#Energy used by auxiliary systems\n",
    "OPEX_source1= dataset.heat_source1.sum() * 10\n",
    "OPEX_source2= dataset.heat_source2.sum() * 10\n",
    "OPEX_aux_heater= dataset.heat_aux_heater.sum() * dataset.Gas_price_ind.max()\n",
    "OPEX_chiller = dataset.E_el_chiller.sum() *dataset.El_price_ind.max()\n",
    "OPEX_cool_tower= dataset.Q_cool_tower.sum()*0.02 *dataset.El_price_ind.max() #In the Flexynets tool, 2% of the total heat rejected by the tower\n",
    "OPEX_rev_hps= dataset.HP_el_cost.sum()\n",
    "\n",
    "\n",
    "OPEX_tech = OPEX_source1 + OPEX_source2  + OPEX_aux_heater + OPEX_chiller + OPEX_cool_tower + OPEX_rev_hps"
   ]
  },
  {
   "cell_type": "code",
   "execution_count": null,
   "metadata": {},
   "outputs": [],
   "source": [
    "OPEX_tech"
   ]
  },
  {
   "cell_type": "markdown",
   "metadata": {},
   "source": [
    "## 6. Network length according to heat density"
   ]
  },
  {
   "cell_type": "code",
   "execution_count": null,
   "metadata": {},
   "outputs": [],
   "source": [
    "building_data= pd.read_csv(\"./data/data_spatial.csv\", delimiter =';')\n",
    "A_b=building_data['building_area']*0.0001 #Total building area (m2) -> m2 to ha\n",
    "A_L= building_data['land_area']*0.0001 #Total land area (m2) -> m2 to ha\n",
    "\n",
    "plot_ratio= A_b/A_L\n",
    "net_width= 61.8 * np.power(plot_ratio, -0.15)\n",
    "net_length= A_L/net_width*10 #Values in km\n",
    "\n",
    "building_data[\"plot_ratio\"]=plot_ratio \n",
    "building_data[\"net_width\"]=net_width\n",
    "building_data[\"net_length\"]=net_length\n",
    "\n",
    "\n",
    "ax=building_data.net_length.plot(figsize=(20,6))\n",
    "ax.set_ylabel(\"Network length [km]\")\n",
    "ax.set_xlabel(\"Years\")\n"
   ]
  },
  {
   "cell_type": "markdown",
   "metadata": {},
   "source": [
    "### 6.1 Network length costs"
   ]
  },
  {
   "cell_type": "code",
   "execution_count": null,
   "metadata": {},
   "outputs": [],
   "source": [
    "network_ext_year = 15\n",
    "net_cost_meter = 400 #Values in € per m\n",
    "lifetime_net = 20\n",
    "\n",
    "network_length_year = net_length[network_ext_year] #Total network length at a certain year in km\n",
    "network_cost= net_cost_meter * network_length_year* 1000\n",
    "network_cost\n",
    "network_cost_annual = npf.pmt(Interest_Rate/Payments_Year, lifetime_net*Payments_Year, network_cost) #Annualized cost of extension\n"
   ]
  },
  {
   "cell_type": "code",
   "execution_count": null,
   "metadata": {},
   "outputs": [],
   "source": [
    "ax2=A_b.plot(figsize=(20,6))\n",
    "A_L.plot(figsize=(20,6))\n",
    "ax2.set_ylabel(\"Area [ha]\")\n",
    "ax2.set_xlabel(\"Years\")"
   ]
  },
  {
   "cell_type": "markdown",
   "metadata": {},
   "source": [
    "# 7. Individual solutions costs"
   ]
  },
  {
   "cell_type": "markdown",
   "metadata": {},
   "source": [
    "## 7.1 Heating\n",
    "\n",
    "The costs of individual heating correspond to the capital costs related to the investmainteinance of boilers/heaters. Moreover, the variable costs of the selected heating system will be considered as the total fuel consumption required to cover the entire demand."
   ]
  },
  {
   "cell_type": "code",
   "execution_count": null,
   "metadata": {},
   "outputs": [],
   "source": [
    "#OPEX_ind_heat = \n",
    "#OPEX_ind_cool ="
   ]
  },
  {
   "cell_type": "markdown",
   "metadata": {
    "pycharm": {
     "name": "#%% md\n"
    }
   },
   "source": [
    "## Save CSV version of the dataset and simulation values"
   ]
  },
  {
   "cell_type": "code",
   "execution_count": null,
   "metadata": {
    "pycharm": {
     "name": "#%%\n"
    }
   },
   "outputs": [],
   "source": [
    "AVAILABLE_DATASET_PATHS = {NOAA2010Dataset.MIAMI_FL: noaa2010Dataset.processed_miami_fl_dataset_path, \n",
    "                           NOAA2010Dataset.FRESNO_CA: noaa2010Dataset.processed_fresno_ca_dataset_path, \n",
    "                           NOAA2010Dataset.OLYMPIA_WA: noaa2010Dataset.processed_olympia_wa_dataset_path,\n",
    "                           NOAA2010Dataset.ROCHESTER_NY: noaa2010Dataset.processed_rochester_ny_dataset_path,\n",
    "                           InsPireDataset.LONDON_UK: insPireDataset.processed_london_uk_dataset_path,\n",
    "                           InsPireDataset.MADRID_SPA: insPireDataset.processed_madrid_spa_dataset_path,\n",
    "                           InsPireDataset.ROME_IT: insPireDataset.processed_rome_it_dataset_path,\n",
    "                           InsPireDataset.STUTTGART_GER: insPireDataset.processed_stuttgart_ger_dataset_path,}\n",
    "\n",
    "dataset.to_csv(path_or_buf=f\"{AVAILABLE_DATASET_PATHS[dataset_to_work]}.csv\")\n",
    "dataset.to_parquet(path=f\"{AVAILABLE_DATASET_PATHS[dataset_to_work]}.parquet\", engine=\"pyarrow\")"
   ]
  },
  {
   "cell_type": "code",
   "execution_count": null,
   "metadata": {},
   "outputs": [],
   "source": [
    "simulation_values_path = os.path.join(\".\", \"data\", \"simulation_values.json\")\n",
    "\n",
    "with open(simulation_values_path, \"w\") as f:\n",
    "    json.dump(simulation_values, f, sort_keys=True, indent=2)"
   ]
  }
 ],
 "metadata": {
  "kernelspec": {
   "display_name": "Python 3",
   "language": "python",
   "name": "python3"
  },
  "language_info": {
   "codemirror_mode": {
    "name": "ipython",
    "version": 3
   },
   "file_extension": ".py",
   "mimetype": "text/x-python",
   "name": "python",
   "nbconvert_exporter": "python",
   "pygments_lexer": "ipython3",
   "version": "3.8.1"
  }
 },
 "nbformat": 4,
 "nbformat_minor": 4
}
